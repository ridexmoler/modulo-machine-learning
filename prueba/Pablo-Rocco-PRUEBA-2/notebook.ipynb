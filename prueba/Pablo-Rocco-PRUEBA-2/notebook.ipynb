{
 "cells": [
  {
   "cell_type": "markdown",
   "metadata": {},
   "source": [
    "<img src='logo.png' style='display: block;height: 61px;float: left;padding: .75rem 1.25rem;'>"
   ]
  },
  {
   "cell_type": "markdown",
   "metadata": {},
   "source": [
    "# Desafío - Mecanismos de Votación\n",
    "* Para realizar este desafío debes haber revisado la lectura y videos correspondiente a la unidad.\n",
    "* Crea una carpeta de trabajo y guarda todos los archivos correspondientes (notebook y `csv`).\n",
    "* Una vez terminado el desafío, comprime la carpeta y sube el `.zip` a la seccióncorrespondiente."
   ]
  },
  {
   "cell_type": "markdown",
   "metadata": {},
   "source": [
    "## Descripción\n",
    "\n",
    "\n",
    "Para esta actividad desarrollaremos un ensamble heterogéneo que prediga la popularidad o inpopularidad de contenido en línea de un sitio web. El archivo csv tiene un total de 39797 registros, donde cada uno representa características del artículo publicado en el sitio web. Cada registro tiene un total de 61 atributos que miden características del texto, cantidad de imágenes, keywords, etc. Los artículos provienen de la publicación K. Fernandes, P. Vinagre and P. Cortez. A Proactive Intelligent Decision Support System for Predicting the Popularity of Online News. Proceedings of the 17th EPIA 2015 - Portuguese Conference on Artificial Intelligence, September, Coimbra, Portugal. Los artículos registrados son de la página web www.mashable.com.\n",
    "\n",
    "Más información sobre los atributos se puede encontrar en el archivo `OnlineNewsPopularity.name`."
   ]
  },
  {
   "cell_type": "markdown",
   "metadata": {},
   "source": [
    "## Ejercicio 1: Preprocesamiento"
   ]
  },
  {
   "cell_type": "markdown",
   "metadata": {},
   "source": [
    "* A continuación se le presenta un código que agrupa las variables por grupos. Cada uno de éstos hace referencia a alguna característica de los registros en la base de datos. Genere una análisis descriptivo de cada uno de los atributos. Puede utilizar la función grid_plot_batch que se encuentra en el archivo helpers.py ."
   ]
  },
  {
   "cell_type": "markdown",
   "metadata": {},
   "source": [
    "> Se utilizan librerías bases para el tratamiento de datos y algunos aspectos básicos de cálculo y gráficos."
   ]
  },
  {
   "cell_type": "code",
   "execution_count": 1,
   "metadata": {},
   "outputs": [],
   "source": [
    "# Se importa libreria para el manejo de bases de datos\n",
    "import pandas as pd\n",
    "# Se importa libreria para el manejo de operaciones de cálculo\n",
    "import numpy as np\n",
    "# Se importa libreria para el manejo de gráficos\n",
    "import matplotlib.pyplot as plt\n",
    "# Se importa libreria para manejo de funciones estadisticas y probabilidades\n",
    "import seaborn as sns\n",
    "# Librería para visualizar patrones de datos perdidos\n",
    "import missingno as msngo\n",
    "# Se importa libreria para el menejo de warning\n",
    "import warnings\n",
    "# Se importa libreria para el trabajo de expresiones reguilares\n",
    "import re"
   ]
  },
  {
   "cell_type": "markdown",
   "metadata": {},
   "source": [
    "> Definimos algunos aspectos de ambiente y valores por defecto de visualización."
   ]
  },
  {
   "cell_type": "code",
   "execution_count": 2,
   "metadata": {},
   "outputs": [],
   "source": [
    "# Por defecto, matplotlib crea una figura en una ventana separada.\n",
    "# podemos hacer que las figuras aparezcan en línea dentro del notebook; lo hacemos ejecutando:\n",
    "%matplotlib inline\n",
    "# Se ignoran los warning para evitar suciedad en la ejecución\n",
    "warnings.filterwarnings(action='ignore')\n",
    "# Se define el estilo de gráficos a usar\n",
    "plt.style.use('seaborn-pastel')\n",
    "# Se define el tamaño de los paños de los gráficos por defecto\n",
    "plt.rcParams['figure.figsize'] = (14, 8)\n",
    "# Dado que vamos a supervisar datos no limitaremos la cantidad de columnas a mostrar en el despliegue del dataframe\n",
    "pd.options.display.max_columns = None"
   ]
  },
  {
   "cell_type": "markdown",
   "metadata": {},
   "source": [
    "> Se utiliza <strong>librería propia</strong> que continen funciones auxiliares, necesarias para el desarrollo de desafíos."
   ]
  },
  {
   "cell_type": "code",
   "execution_count": 3,
   "metadata": {},
   "outputs": [],
   "source": [
    "# Se importa libreria con funciones auxiliares\n",
    "import ancilliary_funcs as afx"
   ]
  },
  {
   "cell_type": "markdown",
   "metadata": {},
   "source": [
    "> Se utiliza <strong>librería helpers.py</strong> que continen funciones auxiliares, necesarias para el desarrollo de desafíos."
   ]
  },
  {
   "cell_type": "code",
   "execution_count": 4,
   "metadata": {},
   "outputs": [],
   "source": [
    "import helpers as hlp"
   ]
  },
  {
   "cell_type": "markdown",
   "metadata": {},
   "source": [
    "> Cargamos la base de datos"
   ]
  },
  {
   "cell_type": "code",
   "execution_count": 5,
   "metadata": {},
   "outputs": [],
   "source": [
    "# Se carga la base de datos y se elimina la columna 'Unnamed: 0' que no aporta valor al análisis.\n",
    "df = pd.read_csv('OnlineNewsPopularity/OnlineNewsPopularity.csv')"
   ]
  },
  {
   "cell_type": "code",
   "execution_count": 6,
   "metadata": {
    "scrolled": true
   },
   "outputs": [
    {
     "name": "stdout",
     "output_type": "stream",
     "text": [
      "['url', ' timedelta', ' n_tokens_title', ' n_tokens_content', ' n_unique_tokens', ' n_non_stop_words', ' n_non_stop_unique_tokens', ' num_hrefs', ' num_self_hrefs', ' num_imgs', ' num_videos', ' average_token_length', ' num_keywords', ' data_channel_is_lifestyle', ' data_channel_is_entertainment', ' data_channel_is_bus', ' data_channel_is_socmed', ' data_channel_is_tech', ' data_channel_is_world', ' kw_min_min', ' kw_max_min', ' kw_avg_min', ' kw_min_max', ' kw_max_max', ' kw_avg_max', ' kw_min_avg', ' kw_max_avg', ' kw_avg_avg', ' self_reference_min_shares', ' self_reference_max_shares', ' self_reference_avg_sharess', ' weekday_is_monday', ' weekday_is_tuesday', ' weekday_is_wednesday', ' weekday_is_thursday', ' weekday_is_friday', ' weekday_is_saturday', ' weekday_is_sunday', ' is_weekend', ' LDA_00', ' LDA_01', ' LDA_02', ' LDA_03', ' LDA_04', ' global_subjectivity', ' global_sentiment_polarity', ' global_rate_positive_words', ' global_rate_negative_words', ' rate_positive_words', ' rate_negative_words', ' avg_positive_polarity', ' min_positive_polarity', ' max_positive_polarity', ' avg_negative_polarity', ' min_negative_polarity', ' max_negative_polarity', ' title_subjectivity', ' title_sentiment_polarity', ' abs_title_subjectivity', ' abs_title_sentiment_polarity', ' shares']\n"
     ]
    }
   ],
   "source": [
    "# Inspeccionamos los nombres de las columnas\n",
    "print([i for i in df.columns])"
   ]
  },
  {
   "cell_type": "code",
   "execution_count": 7,
   "metadata": {},
   "outputs": [],
   "source": [
    "# las etiquetas de las columnas presentan un espacio extra, con ésto lo podemos eliminar\n",
    "df.columns = [i.replace(' ', '') for i in df.columns]"
   ]
  },
  {
   "cell_type": "code",
   "execution_count": 8,
   "metadata": {},
   "outputs": [
    {
     "name": "stdout",
     "output_type": "stream",
     "text": [
      "['url', 'timedelta', 'n_tokens_title', 'n_tokens_content', 'n_unique_tokens', 'n_non_stop_words', 'n_non_stop_unique_tokens', 'num_hrefs', 'num_self_hrefs', 'num_imgs', 'num_videos', 'average_token_length', 'num_keywords', 'data_channel_is_lifestyle', 'data_channel_is_entertainment', 'data_channel_is_bus', 'data_channel_is_socmed', 'data_channel_is_tech', 'data_channel_is_world', 'kw_min_min', 'kw_max_min', 'kw_avg_min', 'kw_min_max', 'kw_max_max', 'kw_avg_max', 'kw_min_avg', 'kw_max_avg', 'kw_avg_avg', 'self_reference_min_shares', 'self_reference_max_shares', 'self_reference_avg_sharess', 'weekday_is_monday', 'weekday_is_tuesday', 'weekday_is_wednesday', 'weekday_is_thursday', 'weekday_is_friday', 'weekday_is_saturday', 'weekday_is_sunday', 'is_weekend', 'LDA_00', 'LDA_01', 'LDA_02', 'LDA_03', 'LDA_04', 'global_subjectivity', 'global_sentiment_polarity', 'global_rate_positive_words', 'global_rate_negative_words', 'rate_positive_words', 'rate_negative_words', 'avg_positive_polarity', 'min_positive_polarity', 'max_positive_polarity', 'avg_negative_polarity', 'min_negative_polarity', 'max_negative_polarity', 'title_subjectivity', 'title_sentiment_polarity', 'abs_title_subjectivity', 'abs_title_sentiment_polarity', 'shares']\n"
     ]
    }
   ],
   "source": [
    "print([i for i in df.columns])"
   ]
  },
  {
   "cell_type": "code",
   "execution_count": 9,
   "metadata": {},
   "outputs": [
    {
     "data": {
      "text/html": [
       "<div>\n",
       "<style scoped>\n",
       "    .dataframe tbody tr th:only-of-type {\n",
       "        vertical-align: middle;\n",
       "    }\n",
       "\n",
       "    .dataframe tbody tr th {\n",
       "        vertical-align: top;\n",
       "    }\n",
       "\n",
       "    .dataframe thead th {\n",
       "        text-align: right;\n",
       "    }\n",
       "</style>\n",
       "<table border=\"1\" class=\"dataframe\">\n",
       "  <thead>\n",
       "    <tr style=\"text-align: right;\">\n",
       "      <th></th>\n",
       "      <th>url</th>\n",
       "      <th>timedelta</th>\n",
       "      <th>n_tokens_title</th>\n",
       "      <th>n_tokens_content</th>\n",
       "      <th>n_unique_tokens</th>\n",
       "      <th>n_non_stop_words</th>\n",
       "      <th>n_non_stop_unique_tokens</th>\n",
       "      <th>num_hrefs</th>\n",
       "      <th>num_self_hrefs</th>\n",
       "      <th>num_imgs</th>\n",
       "      <th>num_videos</th>\n",
       "      <th>average_token_length</th>\n",
       "      <th>num_keywords</th>\n",
       "      <th>data_channel_is_lifestyle</th>\n",
       "      <th>data_channel_is_entertainment</th>\n",
       "      <th>data_channel_is_bus</th>\n",
       "      <th>data_channel_is_socmed</th>\n",
       "      <th>data_channel_is_tech</th>\n",
       "      <th>data_channel_is_world</th>\n",
       "      <th>kw_min_min</th>\n",
       "      <th>kw_max_min</th>\n",
       "      <th>kw_avg_min</th>\n",
       "      <th>kw_min_max</th>\n",
       "      <th>kw_max_max</th>\n",
       "      <th>kw_avg_max</th>\n",
       "      <th>kw_min_avg</th>\n",
       "      <th>kw_max_avg</th>\n",
       "      <th>kw_avg_avg</th>\n",
       "      <th>self_reference_min_shares</th>\n",
       "      <th>self_reference_max_shares</th>\n",
       "      <th>self_reference_avg_sharess</th>\n",
       "      <th>weekday_is_monday</th>\n",
       "      <th>weekday_is_tuesday</th>\n",
       "      <th>weekday_is_wednesday</th>\n",
       "      <th>weekday_is_thursday</th>\n",
       "      <th>weekday_is_friday</th>\n",
       "      <th>weekday_is_saturday</th>\n",
       "      <th>weekday_is_sunday</th>\n",
       "      <th>is_weekend</th>\n",
       "      <th>LDA_00</th>\n",
       "      <th>LDA_01</th>\n",
       "      <th>LDA_02</th>\n",
       "      <th>LDA_03</th>\n",
       "      <th>LDA_04</th>\n",
       "      <th>global_subjectivity</th>\n",
       "      <th>global_sentiment_polarity</th>\n",
       "      <th>global_rate_positive_words</th>\n",
       "      <th>global_rate_negative_words</th>\n",
       "      <th>rate_positive_words</th>\n",
       "      <th>rate_negative_words</th>\n",
       "      <th>avg_positive_polarity</th>\n",
       "      <th>min_positive_polarity</th>\n",
       "      <th>max_positive_polarity</th>\n",
       "      <th>avg_negative_polarity</th>\n",
       "      <th>min_negative_polarity</th>\n",
       "      <th>max_negative_polarity</th>\n",
       "      <th>title_subjectivity</th>\n",
       "      <th>title_sentiment_polarity</th>\n",
       "      <th>abs_title_subjectivity</th>\n",
       "      <th>abs_title_sentiment_polarity</th>\n",
       "      <th>shares</th>\n",
       "    </tr>\n",
       "  </thead>\n",
       "  <tbody>\n",
       "    <tr>\n",
       "      <th>30541</th>\n",
       "      <td>http://mashable.com/2014/08/08/sup-yahoo/</td>\n",
       "      <td>152.0</td>\n",
       "      <td>11.0</td>\n",
       "      <td>962.0</td>\n",
       "      <td>0.439331</td>\n",
       "      <td>1.0</td>\n",
       "      <td>0.675197</td>\n",
       "      <td>12.0</td>\n",
       "      <td>3.0</td>\n",
       "      <td>1.0</td>\n",
       "      <td>0.0</td>\n",
       "      <td>4.577963</td>\n",
       "      <td>6.0</td>\n",
       "      <td>0.0</td>\n",
       "      <td>0.0</td>\n",
       "      <td>1.0</td>\n",
       "      <td>0.0</td>\n",
       "      <td>0.0</td>\n",
       "      <td>0.0</td>\n",
       "      <td>-1.0</td>\n",
       "      <td>1400.0</td>\n",
       "      <td>468.333333</td>\n",
       "      <td>6000.0</td>\n",
       "      <td>843300.0</td>\n",
       "      <td>309366.666667</td>\n",
       "      <td>3224.586149</td>\n",
       "      <td>5339.635220</td>\n",
       "      <td>3916.787556</td>\n",
       "      <td>5400.0</td>\n",
       "      <td>5400.0</td>\n",
       "      <td>5400.0</td>\n",
       "      <td>0.0</td>\n",
       "      <td>0.0</td>\n",
       "      <td>0.0</td>\n",
       "      <td>0.0</td>\n",
       "      <td>0.0</td>\n",
       "      <td>1.0</td>\n",
       "      <td>0.0</td>\n",
       "      <td>1.0</td>\n",
       "      <td>0.866666</td>\n",
       "      <td>0.033334</td>\n",
       "      <td>0.033333</td>\n",
       "      <td>0.033333</td>\n",
       "      <td>0.033333</td>\n",
       "      <td>0.459335</td>\n",
       "      <td>0.140910</td>\n",
       "      <td>0.047817</td>\n",
       "      <td>0.018711</td>\n",
       "      <td>0.718750</td>\n",
       "      <td>0.281250</td>\n",
       "      <td>0.387778</td>\n",
       "      <td>0.05</td>\n",
       "      <td>1.0</td>\n",
       "      <td>-0.269444</td>\n",
       "      <td>-0.7</td>\n",
       "      <td>-0.050</td>\n",
       "      <td>0.025</td>\n",
       "      <td>0.15</td>\n",
       "      <td>0.475</td>\n",
       "      <td>0.15</td>\n",
       "      <td>3000</td>\n",
       "    </tr>\n",
       "    <tr>\n",
       "      <th>32077</th>\n",
       "      <td>http://mashable.com/2014/09/04/first-day-of-sc...</td>\n",
       "      <td>126.0</td>\n",
       "      <td>10.0</td>\n",
       "      <td>594.0</td>\n",
       "      <td>0.487179</td>\n",
       "      <td>1.0</td>\n",
       "      <td>0.669697</td>\n",
       "      <td>3.0</td>\n",
       "      <td>3.0</td>\n",
       "      <td>1.0</td>\n",
       "      <td>1.0</td>\n",
       "      <td>4.402357</td>\n",
       "      <td>5.0</td>\n",
       "      <td>0.0</td>\n",
       "      <td>0.0</td>\n",
       "      <td>0.0</td>\n",
       "      <td>0.0</td>\n",
       "      <td>1.0</td>\n",
       "      <td>0.0</td>\n",
       "      <td>-1.0</td>\n",
       "      <td>758.0</td>\n",
       "      <td>188.750000</td>\n",
       "      <td>0.0</td>\n",
       "      <td>843300.0</td>\n",
       "      <td>320700.000000</td>\n",
       "      <td>0.000000</td>\n",
       "      <td>3481.799712</td>\n",
       "      <td>2482.649498</td>\n",
       "      <td>1000.0</td>\n",
       "      <td>5800.0</td>\n",
       "      <td>2700.0</td>\n",
       "      <td>0.0</td>\n",
       "      <td>0.0</td>\n",
       "      <td>0.0</td>\n",
       "      <td>1.0</td>\n",
       "      <td>0.0</td>\n",
       "      <td>0.0</td>\n",
       "      <td>0.0</td>\n",
       "      <td>0.0</td>\n",
       "      <td>0.040002</td>\n",
       "      <td>0.440327</td>\n",
       "      <td>0.040003</td>\n",
       "      <td>0.040002</td>\n",
       "      <td>0.439666</td>\n",
       "      <td>0.497940</td>\n",
       "      <td>0.106019</td>\n",
       "      <td>0.040404</td>\n",
       "      <td>0.021886</td>\n",
       "      <td>0.648649</td>\n",
       "      <td>0.351351</td>\n",
       "      <td>0.364989</td>\n",
       "      <td>0.10</td>\n",
       "      <td>1.0</td>\n",
       "      <td>-0.291453</td>\n",
       "      <td>-0.6</td>\n",
       "      <td>-0.050</td>\n",
       "      <td>0.500</td>\n",
       "      <td>0.50</td>\n",
       "      <td>0.000</td>\n",
       "      <td>0.50</td>\n",
       "      <td>621</td>\n",
       "    </tr>\n",
       "    <tr>\n",
       "      <th>21146</th>\n",
       "      <td>http://mashable.com/2014/02/27/shanghai-bans-t...</td>\n",
       "      <td>315.0</td>\n",
       "      <td>9.0</td>\n",
       "      <td>324.0</td>\n",
       "      <td>0.621359</td>\n",
       "      <td>1.0</td>\n",
       "      <td>0.768116</td>\n",
       "      <td>14.0</td>\n",
       "      <td>0.0</td>\n",
       "      <td>1.0</td>\n",
       "      <td>0.0</td>\n",
       "      <td>4.864198</td>\n",
       "      <td>6.0</td>\n",
       "      <td>0.0</td>\n",
       "      <td>0.0</td>\n",
       "      <td>0.0</td>\n",
       "      <td>0.0</td>\n",
       "      <td>0.0</td>\n",
       "      <td>1.0</td>\n",
       "      <td>-1.0</td>\n",
       "      <td>1100.0</td>\n",
       "      <td>356.500000</td>\n",
       "      <td>6900.0</td>\n",
       "      <td>843300.0</td>\n",
       "      <td>202133.333333</td>\n",
       "      <td>2184.663069</td>\n",
       "      <td>5152.244898</td>\n",
       "      <td>3071.873620</td>\n",
       "      <td>0.0</td>\n",
       "      <td>0.0</td>\n",
       "      <td>0.0</td>\n",
       "      <td>0.0</td>\n",
       "      <td>0.0</td>\n",
       "      <td>0.0</td>\n",
       "      <td>1.0</td>\n",
       "      <td>0.0</td>\n",
       "      <td>0.0</td>\n",
       "      <td>0.0</td>\n",
       "      <td>0.0</td>\n",
       "      <td>0.033334</td>\n",
       "      <td>0.033334</td>\n",
       "      <td>0.683159</td>\n",
       "      <td>0.033485</td>\n",
       "      <td>0.216688</td>\n",
       "      <td>0.448099</td>\n",
       "      <td>0.044444</td>\n",
       "      <td>0.021605</td>\n",
       "      <td>0.021605</td>\n",
       "      <td>0.500000</td>\n",
       "      <td>0.500000</td>\n",
       "      <td>0.452381</td>\n",
       "      <td>0.10</td>\n",
       "      <td>1.0</td>\n",
       "      <td>-0.284127</td>\n",
       "      <td>-0.9</td>\n",
       "      <td>-0.050</td>\n",
       "      <td>0.050</td>\n",
       "      <td>0.00</td>\n",
       "      <td>0.450</td>\n",
       "      <td>0.00</td>\n",
       "      <td>1400</td>\n",
       "    </tr>\n",
       "    <tr>\n",
       "      <th>35170</th>\n",
       "      <td>http://mashable.com/2014/10/21/dyson-humidifier/</td>\n",
       "      <td>78.0</td>\n",
       "      <td>12.0</td>\n",
       "      <td>230.0</td>\n",
       "      <td>0.662281</td>\n",
       "      <td>1.0</td>\n",
       "      <td>0.800000</td>\n",
       "      <td>4.0</td>\n",
       "      <td>2.0</td>\n",
       "      <td>1.0</td>\n",
       "      <td>0.0</td>\n",
       "      <td>4.708696</td>\n",
       "      <td>3.0</td>\n",
       "      <td>0.0</td>\n",
       "      <td>0.0</td>\n",
       "      <td>1.0</td>\n",
       "      <td>0.0</td>\n",
       "      <td>0.0</td>\n",
       "      <td>0.0</td>\n",
       "      <td>-1.0</td>\n",
       "      <td>0.0</td>\n",
       "      <td>-1.000000</td>\n",
       "      <td>5400.0</td>\n",
       "      <td>843300.0</td>\n",
       "      <td>513033.333333</td>\n",
       "      <td>1926.269231</td>\n",
       "      <td>3443.120085</td>\n",
       "      <td>2851.111016</td>\n",
       "      <td>3200.0</td>\n",
       "      <td>3800.0</td>\n",
       "      <td>3500.0</td>\n",
       "      <td>0.0</td>\n",
       "      <td>0.0</td>\n",
       "      <td>1.0</td>\n",
       "      <td>0.0</td>\n",
       "      <td>0.0</td>\n",
       "      <td>0.0</td>\n",
       "      <td>0.0</td>\n",
       "      <td>0.0</td>\n",
       "      <td>0.731327</td>\n",
       "      <td>0.066669</td>\n",
       "      <td>0.066668</td>\n",
       "      <td>0.066667</td>\n",
       "      <td>0.068669</td>\n",
       "      <td>0.458775</td>\n",
       "      <td>0.057513</td>\n",
       "      <td>0.026087</td>\n",
       "      <td>0.013043</td>\n",
       "      <td>0.666667</td>\n",
       "      <td>0.333333</td>\n",
       "      <td>0.235606</td>\n",
       "      <td>0.10</td>\n",
       "      <td>0.5</td>\n",
       "      <td>-0.197222</td>\n",
       "      <td>-0.3</td>\n",
       "      <td>-0.125</td>\n",
       "      <td>0.000</td>\n",
       "      <td>0.00</td>\n",
       "      <td>0.500</td>\n",
       "      <td>0.00</td>\n",
       "      <td>1200</td>\n",
       "    </tr>\n",
       "    <tr>\n",
       "      <th>26253</th>\n",
       "      <td>http://mashable.com/2014/06/02/watch-wwdc-2014...</td>\n",
       "      <td>219.0</td>\n",
       "      <td>7.0</td>\n",
       "      <td>211.0</td>\n",
       "      <td>0.598086</td>\n",
       "      <td>1.0</td>\n",
       "      <td>0.739837</td>\n",
       "      <td>2.0</td>\n",
       "      <td>2.0</td>\n",
       "      <td>1.0</td>\n",
       "      <td>1.0</td>\n",
       "      <td>4.417062</td>\n",
       "      <td>6.0</td>\n",
       "      <td>0.0</td>\n",
       "      <td>1.0</td>\n",
       "      <td>0.0</td>\n",
       "      <td>0.0</td>\n",
       "      <td>0.0</td>\n",
       "      <td>0.0</td>\n",
       "      <td>-1.0</td>\n",
       "      <td>2000.0</td>\n",
       "      <td>749.333333</td>\n",
       "      <td>2000.0</td>\n",
       "      <td>843300.0</td>\n",
       "      <td>208933.333333</td>\n",
       "      <td>2000.000000</td>\n",
       "      <td>8345.272727</td>\n",
       "      <td>3626.781557</td>\n",
       "      <td>701.0</td>\n",
       "      <td>2000.0</td>\n",
       "      <td>1350.5</td>\n",
       "      <td>0.0</td>\n",
       "      <td>1.0</td>\n",
       "      <td>0.0</td>\n",
       "      <td>0.0</td>\n",
       "      <td>0.0</td>\n",
       "      <td>0.0</td>\n",
       "      <td>0.0</td>\n",
       "      <td>0.0</td>\n",
       "      <td>0.033335</td>\n",
       "      <td>0.283623</td>\n",
       "      <td>0.033335</td>\n",
       "      <td>0.616372</td>\n",
       "      <td>0.033334</td>\n",
       "      <td>0.373643</td>\n",
       "      <td>0.051989</td>\n",
       "      <td>0.056872</td>\n",
       "      <td>0.042654</td>\n",
       "      <td>0.571429</td>\n",
       "      <td>0.428571</td>\n",
       "      <td>0.303977</td>\n",
       "      <td>0.10</td>\n",
       "      <td>0.5</td>\n",
       "      <td>-0.266667</td>\n",
       "      <td>-0.4</td>\n",
       "      <td>-0.100</td>\n",
       "      <td>0.000</td>\n",
       "      <td>0.00</td>\n",
       "      <td>0.500</td>\n",
       "      <td>0.00</td>\n",
       "      <td>851</td>\n",
       "    </tr>\n",
       "  </tbody>\n",
       "</table>\n",
       "</div>"
      ],
      "text/plain": [
       "                                                     url  timedelta  \\\n",
       "30541          http://mashable.com/2014/08/08/sup-yahoo/      152.0   \n",
       "32077  http://mashable.com/2014/09/04/first-day-of-sc...      126.0   \n",
       "21146  http://mashable.com/2014/02/27/shanghai-bans-t...      315.0   \n",
       "35170   http://mashable.com/2014/10/21/dyson-humidifier/       78.0   \n",
       "26253  http://mashable.com/2014/06/02/watch-wwdc-2014...      219.0   \n",
       "\n",
       "       n_tokens_title  n_tokens_content  n_unique_tokens  n_non_stop_words  \\\n",
       "30541            11.0             962.0         0.439331               1.0   \n",
       "32077            10.0             594.0         0.487179               1.0   \n",
       "21146             9.0             324.0         0.621359               1.0   \n",
       "35170            12.0             230.0         0.662281               1.0   \n",
       "26253             7.0             211.0         0.598086               1.0   \n",
       "\n",
       "       n_non_stop_unique_tokens  num_hrefs  num_self_hrefs  num_imgs  \\\n",
       "30541                  0.675197       12.0             3.0       1.0   \n",
       "32077                  0.669697        3.0             3.0       1.0   \n",
       "21146                  0.768116       14.0             0.0       1.0   \n",
       "35170                  0.800000        4.0             2.0       1.0   \n",
       "26253                  0.739837        2.0             2.0       1.0   \n",
       "\n",
       "       num_videos  average_token_length  num_keywords  \\\n",
       "30541         0.0              4.577963           6.0   \n",
       "32077         1.0              4.402357           5.0   \n",
       "21146         0.0              4.864198           6.0   \n",
       "35170         0.0              4.708696           3.0   \n",
       "26253         1.0              4.417062           6.0   \n",
       "\n",
       "       data_channel_is_lifestyle  data_channel_is_entertainment  \\\n",
       "30541                        0.0                            0.0   \n",
       "32077                        0.0                            0.0   \n",
       "21146                        0.0                            0.0   \n",
       "35170                        0.0                            0.0   \n",
       "26253                        0.0                            1.0   \n",
       "\n",
       "       data_channel_is_bus  data_channel_is_socmed  data_channel_is_tech  \\\n",
       "30541                  1.0                     0.0                   0.0   \n",
       "32077                  0.0                     0.0                   1.0   \n",
       "21146                  0.0                     0.0                   0.0   \n",
       "35170                  1.0                     0.0                   0.0   \n",
       "26253                  0.0                     0.0                   0.0   \n",
       "\n",
       "       data_channel_is_world  kw_min_min  kw_max_min  kw_avg_min  kw_min_max  \\\n",
       "30541                    0.0        -1.0      1400.0  468.333333      6000.0   \n",
       "32077                    0.0        -1.0       758.0  188.750000         0.0   \n",
       "21146                    1.0        -1.0      1100.0  356.500000      6900.0   \n",
       "35170                    0.0        -1.0         0.0   -1.000000      5400.0   \n",
       "26253                    0.0        -1.0      2000.0  749.333333      2000.0   \n",
       "\n",
       "       kw_max_max     kw_avg_max   kw_min_avg   kw_max_avg   kw_avg_avg  \\\n",
       "30541    843300.0  309366.666667  3224.586149  5339.635220  3916.787556   \n",
       "32077    843300.0  320700.000000     0.000000  3481.799712  2482.649498   \n",
       "21146    843300.0  202133.333333  2184.663069  5152.244898  3071.873620   \n",
       "35170    843300.0  513033.333333  1926.269231  3443.120085  2851.111016   \n",
       "26253    843300.0  208933.333333  2000.000000  8345.272727  3626.781557   \n",
       "\n",
       "       self_reference_min_shares  self_reference_max_shares  \\\n",
       "30541                     5400.0                     5400.0   \n",
       "32077                     1000.0                     5800.0   \n",
       "21146                        0.0                        0.0   \n",
       "35170                     3200.0                     3800.0   \n",
       "26253                      701.0                     2000.0   \n",
       "\n",
       "       self_reference_avg_sharess  weekday_is_monday  weekday_is_tuesday  \\\n",
       "30541                      5400.0                0.0                 0.0   \n",
       "32077                      2700.0                0.0                 0.0   \n",
       "21146                         0.0                0.0                 0.0   \n",
       "35170                      3500.0                0.0                 0.0   \n",
       "26253                      1350.5                0.0                 1.0   \n",
       "\n",
       "       weekday_is_wednesday  weekday_is_thursday  weekday_is_friday  \\\n",
       "30541                   0.0                  0.0                0.0   \n",
       "32077                   0.0                  1.0                0.0   \n",
       "21146                   0.0                  1.0                0.0   \n",
       "35170                   1.0                  0.0                0.0   \n",
       "26253                   0.0                  0.0                0.0   \n",
       "\n",
       "       weekday_is_saturday  weekday_is_sunday  is_weekend    LDA_00    LDA_01  \\\n",
       "30541                  1.0                0.0         1.0  0.866666  0.033334   \n",
       "32077                  0.0                0.0         0.0  0.040002  0.440327   \n",
       "21146                  0.0                0.0         0.0  0.033334  0.033334   \n",
       "35170                  0.0                0.0         0.0  0.731327  0.066669   \n",
       "26253                  0.0                0.0         0.0  0.033335  0.283623   \n",
       "\n",
       "         LDA_02    LDA_03    LDA_04  global_subjectivity  \\\n",
       "30541  0.033333  0.033333  0.033333             0.459335   \n",
       "32077  0.040003  0.040002  0.439666             0.497940   \n",
       "21146  0.683159  0.033485  0.216688             0.448099   \n",
       "35170  0.066668  0.066667  0.068669             0.458775   \n",
       "26253  0.033335  0.616372  0.033334             0.373643   \n",
       "\n",
       "       global_sentiment_polarity  global_rate_positive_words  \\\n",
       "30541                   0.140910                    0.047817   \n",
       "32077                   0.106019                    0.040404   \n",
       "21146                   0.044444                    0.021605   \n",
       "35170                   0.057513                    0.026087   \n",
       "26253                   0.051989                    0.056872   \n",
       "\n",
       "       global_rate_negative_words  rate_positive_words  rate_negative_words  \\\n",
       "30541                    0.018711             0.718750             0.281250   \n",
       "32077                    0.021886             0.648649             0.351351   \n",
       "21146                    0.021605             0.500000             0.500000   \n",
       "35170                    0.013043             0.666667             0.333333   \n",
       "26253                    0.042654             0.571429             0.428571   \n",
       "\n",
       "       avg_positive_polarity  min_positive_polarity  max_positive_polarity  \\\n",
       "30541               0.387778                   0.05                    1.0   \n",
       "32077               0.364989                   0.10                    1.0   \n",
       "21146               0.452381                   0.10                    1.0   \n",
       "35170               0.235606                   0.10                    0.5   \n",
       "26253               0.303977                   0.10                    0.5   \n",
       "\n",
       "       avg_negative_polarity  min_negative_polarity  max_negative_polarity  \\\n",
       "30541              -0.269444                   -0.7                 -0.050   \n",
       "32077              -0.291453                   -0.6                 -0.050   \n",
       "21146              -0.284127                   -0.9                 -0.050   \n",
       "35170              -0.197222                   -0.3                 -0.125   \n",
       "26253              -0.266667                   -0.4                 -0.100   \n",
       "\n",
       "       title_subjectivity  title_sentiment_polarity  abs_title_subjectivity  \\\n",
       "30541               0.025                      0.15                   0.475   \n",
       "32077               0.500                      0.50                   0.000   \n",
       "21146               0.050                      0.00                   0.450   \n",
       "35170               0.000                      0.00                   0.500   \n",
       "26253               0.000                      0.00                   0.500   \n",
       "\n",
       "       abs_title_sentiment_polarity  shares  \n",
       "30541                          0.15    3000  \n",
       "32077                          0.50     621  \n",
       "21146                          0.00    1400  \n",
       "35170                          0.00    1200  \n",
       "26253                          0.00     851  "
      ]
     },
     "execution_count": 9,
     "metadata": {},
     "output_type": "execute_result"
    }
   ],
   "source": [
    "df.sample(5)"
   ]
  },
  {
   "cell_type": "code",
   "execution_count": 10,
   "metadata": {},
   "outputs": [],
   "source": [
    "# eliminamos el string de url que no sirve para el análisis\n",
    "df.drop(columns='url', inplace=True)"
   ]
  },
  {
   "cell_type": "code",
   "execution_count": 11,
   "metadata": {},
   "outputs": [],
   "source": [
    "# generamos el conjunto de variables\n",
    "qnty = df.filter(regex='^n_', axis=1)\n",
    "channel = df.filter(regex='^data_', axis=1)\n",
    "days = df.filter(regex=re.compile(\"weekday|weekend\"), axis=1)\n",
    "sentiments = df.filter(regex=re.compile(\"negative|positive|subjectivity\"), axis=1)\n",
    "lda = df.filter(regex='^LDA_\\d', axis=1)\n",
    "keywords = df.filter(regex='^kw_', axis=1)"
   ]
  },
  {
   "cell_type": "markdown",
   "metadata": {},
   "source": [
    "> qnty"
   ]
  },
  {
   "cell_type": "code",
   "execution_count": 26,
   "metadata": {
    "scrolled": false
   },
   "outputs": [
    {
     "data": {
      "image/png": "[encoded data removed]",
      "text/plain": [
       "<Figure size 1008x576 with 5 Axes>"
      ]
     },
     "metadata": {
      "needs_background": "light"
     },
     "output_type": "display_data"
    }
   ],
   "source": [
    "hlp.grid_plot_batch(qnty, 3, sns.countplot)"
   ]
  },
  {
   "cell_type": "markdown",
   "metadata": {},
   "source": [
    "> channel"
   ]
  },
  {
   "cell_type": "code",
   "execution_count": 25,
   "metadata": {},
   "outputs": [
    {
     "data": {
      "image/png": "[encoded data removed]",
      "text/plain": [
       "<Figure size 1008x576 with 6 Axes>"
      ]
     },
     "metadata": {
      "needs_background": "light"
     },
     "output_type": "display_data"
    }
   ],
   "source": [
    "hlp.grid_plot_batch(channel, 3, sns.countplot)"
   ]
  },
  {
   "cell_type": "markdown",
   "metadata": {},
   "source": [
    "> days"
   ]
  },
  {
   "cell_type": "code",
   "execution_count": 24,
   "metadata": {},
   "outputs": [
    {
     "data": {
      "image/png": "[encoded data removed]",
      "text/plain": [
       "<Figure size 1008x576 with 8 Axes>"
      ]
     },
     "metadata": {
      "needs_background": "light"
     },
     "output_type": "display_data"
    }
   ],
   "source": [
    "hlp.grid_plot_batch(days, 3, sns.countplot)"
   ]
  },
  {
   "cell_type": "markdown",
   "metadata": {},
   "source": [
    "> sentiments"
   ]
  },
  {
   "cell_type": "code",
   "execution_count": 23,
   "metadata": {},
   "outputs": [
    {
     "data": {
      "image/png": "[encoded data removed]",
      "text/plain": [
       "<Figure size 1008x576 with 13 Axes>"
      ]
     },
     "metadata": {
      "needs_background": "light"
     },
     "output_type": "display_data"
    }
   ],
   "source": [
    "hlp.grid_plot_batch(sentiments, 3, sns.distplot)"
   ]
  },
  {
   "cell_type": "markdown",
   "metadata": {},
   "source": [
    "* Describa el comportamiento de las variables.\n",
    "* Dada la naturaleza de los atributos, es probable que algunas mediciones estén correlacionadas entre sí. Para ello, genere un diagnóstico previo de multicolinealidad utilizando la función identify_high_correlations que se encuentra en el archivo helpers.py . Para todos aquellos atributos que tengan una correlación de .8, reporte sus nombres.\n",
    "* Antes de generar los conjuntos de entrenamiento y validación, preprocese los datos con los siguientes pasos:\n",
    "  * Recodifique la variable shares en una variable binaria que identifique como 1 todos los registros con más de 1400 \"compartir\" y 0 de lo contrario. Para evitar multicolinealidad, elimine la variable shares posteriormente.\n",
    "  * Elimine todas las variables que presentaban una correlación mayor a .8. Este paso es para evitar la multicolinealidad de los atributos.\n",
    "  * Genere un análisis de Componentes Principales para extraer las principales 30 dimensiones. Guarde estas dimensiones en un nuevo objeto.\n"
   ]
  },
  {
   "cell_type": "markdown",
   "metadata": {},
   "source": [
    "> Revisamos tipos de datos para determinar el tratamiento de los datos y visualizamos los datos perdidos:"
   ]
  },
  {
   "cell_type": "code",
   "execution_count": null,
   "metadata": {},
   "outputs": [],
   "source": [
    "df.info()"
   ]
  },
  {
   "cell_type": "markdown",
   "metadata": {},
   "source": [
    "> Si bien con el método info() podemos ver que todas las columnas son non-null, es decir que no presentan datos perdidos, para efectos visuales se revisan los datos perdidos con la el método matrix() de msngo."
   ]
  },
  {
   "cell_type": "code",
   "execution_count": null,
   "metadata": {},
   "outputs": [],
   "source": [
    "msngo.matrix(df)"
   ]
  },
  {
   "cell_type": "markdown",
   "metadata": {},
   "source": [
    "> No se observan datos perdidos en la base de datos, podemos seguir con el análisis."
   ]
  },
  {
   "cell_type": "code",
   "execution_count": null,
   "metadata": {},
   "outputs": [],
   "source": [
    "# Revisamos las dimensiones de la base de datos\n",
    "df.shape"
   ]
  },
  {
   "cell_type": "markdown",
   "metadata": {},
   "source": [
    "> Revisamos nuestro vector objetivo __churn__ (1 si el cliente se cambió de compañia, 0 de los contrario)"
   ]
  },
  {
   "cell_type": "code",
   "execution_count": null,
   "metadata": {},
   "outputs": [],
   "source": [
    "np.round(df['churn'].value_counts('%'), 2)"
   ]
  },
  {
   "cell_type": "markdown",
   "metadata": {},
   "source": [
    "> La base de datos se compone de 3333 observaciones con 19 atributos y el vector de clases [churn]. Podemos observar que hay un desbalanceo de clases en la muestra ya que vemos que hay un 86% de datos etiquetados con la __clase no__ (cliente no se cambia de compañía) y un 14% con la __clase yes__ (cliente se cambia de compañía)."
   ]
  },
  {
   "cell_type": "code",
   "execution_count": null,
   "metadata": {},
   "outputs": [],
   "source": [
    "# Revisamos gráficamente el desbalance de clases de nuestro vector objetivo\n",
    "plt.figure(figsize=(8,6))\n",
    "sns.countplot(x='churn', data=df)"
   ]
  },
  {
   "cell_type": "markdown",
   "metadata": {},
   "source": [
    "> Ahora revisamos los atributos o variables independientes.\n",
    "\n",
    "Para no deteriorar la calidad de la visualización, separamos el atributo state ya que el gráfico de ocurrencias presenta muchos valores y no queremos que se vea un gráfico saturado."
   ]
  },
  {
   "cell_type": "code",
   "execution_count": null,
   "metadata": {},
   "outputs": [],
   "source": [
    "sns.countplot(df['state'])\n",
    "plt.xticks(rotation=40, ha=\"right\");"
   ]
  },
  {
   "cell_type": "code",
   "execution_count": null,
   "metadata": {},
   "outputs": [],
   "source": [
    "np.round(df['state'].value_counts().mean(), 2)"
   ]
  },
  {
   "cell_type": "markdown",
   "metadata": {},
   "source": [
    "> El atributo __state__ no tiene mucha variación en la distribución y las muestras por Estado están en torno a 65. Es decir que se tomaron en promedio 65 muestras por estado."
   ]
  },
  {
   "cell_type": "code",
   "execution_count": null,
   "metadata": {},
   "outputs": [],
   "source": [
    "df['state'].value_counts().mean()"
   ]
  },
  {
   "cell_type": "markdown",
   "metadata": {},
   "source": [
    "___\n",
    "> Ahora revisamos el resto de atributos"
   ]
  },
  {
   "cell_type": "code",
   "execution_count": null,
   "metadata": {
    "scrolled": false
   },
   "outputs": [],
   "source": [
    "# Generamos una grilla con los gráficos de distribución del resto de atributos.\n",
    "plt.figure(figsize=(20,20))\n",
    "row = 5\n",
    "col = df.shape[1]//row\n",
    "# Recorremos el listado de atributos except churn y state que ya fueron analizados.\n",
    "for index, (colname, serie) in enumerate(df.drop(columns=['churn', 'state']).iteritems()):\n",
    "    plt.subplot(row, col, index+1)\n",
    "    # Si el atributo es categórico se usa un grafico de ocurrencias\n",
    "    if serie.dtype == 'object':\n",
    "        sns.countplot(serie)\n",
    "    # Sino, se utiliza un grafico de distribución\n",
    "    else:\n",
    "        sns.distplot(serie)\n",
    "    plt.title(colname)\n",
    "    plt.tight_layout()"
   ]
  },
  {
   "cell_type": "markdown",
   "metadata": {},
   "source": [
    "> Las variables categóricas (area_code, international_plan y voice_mail_plan) presentan un desbalance considerable de ocurrencias, pero usaremos resampling para no alejarnos del objetivo del ejercicio. Estas variables, junto a state, serán recodificadas en valores binarios para lograr una mejor representación en el modelo predictivo.\n",
    ">\n",
    "> Respecto a las variables continuas, se observa normalidad en la distribución excepto en los atributos number_vmail_messages, total_intl_calls y number_customer_service_calls que presentan sesgos en valores puntuales. En estos atributos aplicaremos una transformación con el logaritmo de los valores."
   ]
  },
  {
   "cell_type": "markdown",
   "metadata": {},
   "source": [
    "___\n",
    "> Entendiendo la operación de las compañias de teléfono podemos observar que hay una correlación entre la cantidad de minutos y el cobro, por lo que vamos a revisar que tan correlacionados están estos dos atributos:\n"
   ]
  },
  {
   "cell_type": "code",
   "execution_count": null,
   "metadata": {},
   "outputs": [],
   "source": [
    "max_corr = df.corr().filter(regex='_charge').transpose().filter(regex='_minutes')\n",
    "max_corr"
   ]
  },
  {
   "cell_type": "code",
   "execution_count": null,
   "metadata": {},
   "outputs": [],
   "source": [
    "sns.heatmap(max_corr, cmap='Greens')\n",
    "plt.tight_layout()"
   ]
  },
  {
   "cell_type": "markdown",
   "metadata": {},
   "source": [
    "> Efectivamente hay una correlación muy fuerte (completamente correlacionadas) entre los minutos ocupados y los cobros en los distintos segmentos (day, eve, night, international).\n",
    ">\n",
    "> Podríamos estar tentados en sacar uno de los 2 atributos por segmento para evitar el problema de la multicolinealidad de atributos. No obstante vamos a dejar los atributos inicialmente y presentaremos un modelo posterior al ejercicio y evaluaremos el efecto."
   ]
  },
  {
   "cell_type": "markdown",
   "metadata": {},
   "source": [
    "* En  base al  comportamiento de  los  atributos,  considere si  es  necesario implementar  algunarecodificación o transformación de atributo. Algunas normas a seguir:\n",
    "  * Para las variables categóricas, recodifíquelas en variables binarias.\n",
    "  * Para aquellas variables numéricas que presenten alto sesgo, pueden transformarlas con sulogaritmo."
   ]
  },
  {
   "cell_type": "markdown",
   "metadata": {},
   "source": [
    "___\n",
    "> Aplicaremos las transformaciones a las variables continuas number_vmail_messages, total_intl_calls y number_customer_service_calls:"
   ]
  },
  {
   "cell_type": "code",
   "execution_count": null,
   "metadata": {},
   "outputs": [],
   "source": [
    "var_cont_log = ['number_vmail_messages', 'total_intl_calls', 'number_customer_service_calls']"
   ]
  },
  {
   "cell_type": "code",
   "execution_count": null,
   "metadata": {},
   "outputs": [],
   "source": [
    "# Aplicamos logaritmo a las variables que presentan sesgo en ciertos valores y graficamos el antes \n",
    "# y el después de aplicar la transformación\n",
    "\n",
    "df_log = df.copy()\n",
    "\n",
    "for i, var in enumerate(var_cont_log):\n",
    "    plt.subplot(3,2, i + i + 1)\n",
    "    sns.distplot(df_log[var])\n",
    "    df_log[var + '_log'] = np.log(df_log[var] + 0.001)\n",
    "    plt.subplot(3,2, i + i + 2)\n",
    "    sns.distplot(df_log[var + '_log'])\n",
    "    plt.tight_layout()"
   ]
  },
  {
   "cell_type": "code",
   "execution_count": null,
   "metadata": {},
   "outputs": [],
   "source": [
    "# Eliminamos las columnas originales\n",
    "df_log.drop(columns=var_cont_log, inplace=True)"
   ]
  },
  {
   "cell_type": "markdown",
   "metadata": {},
   "source": [
    "> Podemos observar que la distribución se mueve un poco, permitiendo anular un poco el sesgo."
   ]
  },
  {
   "cell_type": "markdown",
   "metadata": {},
   "source": [
    "___\n",
    "> Ahora procesamos las variables categóricas:"
   ]
  },
  {
   "cell_type": "code",
   "execution_count": null,
   "metadata": {},
   "outputs": [],
   "source": [
    "# Usamos procesamiento vectorial para transformar el DF\n",
    "df_proc = pd.get_dummies(df_log, \n",
    "               [x for x in df_log.columns if df_log[x].dtype =='object'], \n",
    "               dummy_na=False,\n",
    "               drop_first=True\n",
    "              )"
   ]
  },
  {
   "cell_type": "code",
   "execution_count": null,
   "metadata": {},
   "outputs": [],
   "source": [
    "# Revisamis la estructura de nuestra nueva base de datos\n",
    "df_proc.shape"
   ]
  },
  {
   "cell_type": "code",
   "execution_count": null,
   "metadata": {},
   "outputs": [],
   "source": [
    "# Revisamos aleatoreamente los datos\n",
    "df_proc.sample(5, random_state=14173)"
   ]
  },
  {
   "cell_type": "markdown",
   "metadata": {},
   "source": [
    "## Ejercicio 2: Comparación de AdaBoost y Gradient Boosting\n",
    "\n",
    "* Entrene los clasificadores AdaBoost y Gradient Boosting para mejorar su capacidad predictiva en la medida de lo posible. Para ello, implemente una búsqueda de grilla con las siguientes especificaciones:\n",
    "\n",
    "\n",
    "|__Modelo__   | __Grilla__  |\n",
    "|---|---| \n",
    "| AdaBoostClassifier| {'learning_rate': [0.01, 0.1, 0.5], 'n_estimators': [50, 100, 500, 1000, 2000]}|\n",
    "| GradientBoostingClassifier |  {'learning_rate': [0.01, 0.1, 0.5],'n_estimators': [50, 100, 500, 1000, 2000], 'subsample': [0.1,0.5,0.9]}|\n",
    "\n",
    "* Si el tiempo de computación es alto, puede implementar la búsqueda con 1 validación cruzada.\n",
    "* Reporte las métricas para los mejores modelos."
   ]
  },
  {
   "cell_type": "code",
   "execution_count": null,
   "metadata": {},
   "outputs": [],
   "source": [
    "# Separamos nuestra matriz de atributos\n",
    "X = df_proc.drop(columns='churn_yes')\n",
    "# Separamos nuestro vector objetivo\n",
    "y = df_proc['churn_yes']\n",
    "# Separamos las muestras de entrenamiento y validación\n",
    "X_train, X_test, y_train, y_test = train_test_split(X, y, test_size = .33, random_state = 14173)"
   ]
  },
  {
   "cell_type": "markdown",
   "metadata": {},
   "source": [
    "> __AdaBoost:__"
   ]
  },
  {
   "cell_type": "code",
   "execution_count": null,
   "metadata": {},
   "outputs": [],
   "source": [
    "# Parámetros para GridSearchCV\n",
    "param_ada = {'learning_rate': [0.01, 0.1, 0.5], 'n_estimators': [50, 100, 500, 1000, 2000]}"
   ]
  },
  {
   "cell_type": "code",
   "execution_count": null,
   "metadata": {},
   "outputs": [],
   "source": [
    "# Implementamos la búsqueda de grilla para el estimados AdaBoostClassifier\n",
    "grid_ada = GridSearchCV(estimator = AdaBoostClassifier(), \n",
    "                        param_grid = param_ada, \n",
    "                        cv=5, \n",
    "                        n_jobs=-1).fit(X_train, y_train)"
   ]
  },
  {
   "cell_type": "code",
   "execution_count": null,
   "metadata": {},
   "outputs": [],
   "source": [
    "# Guardamos las predicciones del del modelo con el mejor estimador\n",
    "yhat_ada = grid_ada.best_estimator_.predict(X_test)"
   ]
  },
  {
   "cell_type": "code",
   "execution_count": null,
   "metadata": {},
   "outputs": [],
   "source": [
    "# Reportamos métricas\n",
    "print(\"Adaptative Boosting Classifier: \")\n",
    "print(f\"Cantidad de Estimadores: {grid_ada.best_estimator_.n_estimators}\")\n",
    "print(f\"Tasa de Aprendizaje: {grid_ada.best_estimator_.learning_rate}\\n\")\n",
    "print(classification_report(y_test, yhat_ada))"
   ]
  },
  {
   "cell_type": "markdown",
   "metadata": {},
   "source": [
    "> __GradientBoosting:__"
   ]
  },
  {
   "cell_type": "code",
   "execution_count": null,
   "metadata": {},
   "outputs": [],
   "source": [
    "# Parámetros para GridSearchCV\n",
    "param_grad = {'learning_rate': [0.01, 0.1,0.5], \n",
    "              'n_estimators': [50, 100, 500, 1000, 2000],\n",
    "              'subsample': [0.1,0.5,0.9]}"
   ]
  },
  {
   "cell_type": "code",
   "execution_count": null,
   "metadata": {},
   "outputs": [],
   "source": [
    "# Implementamos la búsqueda de grilla para el estimados GradientBoostingClassifier\n",
    "grid_grad = GridSearchCV(estimator = GradientBoostingClassifier(), \n",
    "                         param_grid = param_grad, \n",
    "                         cv = 5, \n",
    "                         n_jobs = -1).fit(X_train, y_train)"
   ]
  },
  {
   "cell_type": "code",
   "execution_count": null,
   "metadata": {},
   "outputs": [],
   "source": [
    "# Guardamos las predicciones del del modelo con el mejor estimador\n",
    "yhat_grad = grid_grad.best_estimator_.predict(X_test)"
   ]
  },
  {
   "cell_type": "code",
   "execution_count": null,
   "metadata": {},
   "outputs": [],
   "source": [
    "# Reportamos métricas\n",
    "print(\"Gradient Boosting Classifier: \")\n",
    "print(f\"Cantidad de Estimadores: {grid_grad.best_estimator_.n_estimators}\")\n",
    "print(f\"Tasa de Aprendizaje: {grid_grad.best_estimator_.learning_rate}\")\n",
    "print(f\"Subsample: {grid_grad.best_estimator_.subsample}\\n\")\n",
    "print(classification_report(y_test, yhat_grad))"
   ]
  },
  {
   "cell_type": "markdown",
   "metadata": {},
   "source": [
    "> Comparamos mediante AUC"
   ]
  },
  {
   "cell_type": "code",
   "execution_count": null,
   "metadata": {},
   "outputs": [],
   "source": [
    "afx.plot_roc(grid_ada.best_estimator_, X_test, y_test, \"Adaptative Boosting Classifier\")\n",
    "afx.plot_roc(grid_grad.best_estimator_, X_test, y_test, \"Gradient Boosting Classifier\")\n",
    "plt.plot([0, 1], ls=\"--\")\n",
    "plt.legend(loc='center left', bbox_to_anchor=(1, .5))"
   ]
  },
  {
   "cell_type": "markdown",
   "metadata": {},
   "source": [
    "__El mejor modelo: Gradient Boosting Classifier__\n",
    "> Mediante weighted avg de f1-score observamos que Gradient Boosting tiene un desempeño 9 puntos porcentuales por sobre Adaptative Boosting, lo cual es bastante bueno.\n",
    "> Revisando el área bajo la curva ROC podemos apreciar una mejora considerable al utilizar el estimado Gradient Boosting por sobre Adaptative Boosting.\n",
    ">\n",
    "> Respecto al balance en las predicciones correctas, se observa que Gradient Boosting mejora significativamente el balance en la bondad de las predicciones en ambas clases."
   ]
  },
  {
   "cell_type": "markdown",
   "metadata": {},
   "source": [
    "## Ejercicio 3: Principales factores asociados\n",
    "\n",
    "* Con el mejor modelo, reporte la importancia relativa de los atributos y comente cuáles son los que aumentan la probabilidad de fuga en los clientes.\n",
    "* tip: Pueden implementar la función `plot_importance` que se encuentra en la lectura de Bagging y Random Forest."
   ]
  },
  {
   "cell_type": "code",
   "execution_count": null,
   "metadata": {},
   "outputs": [],
   "source": [
    "afx.plot_importance(grid_grad.best_estimator_, X.columns, top=10)"
   ]
  },
  {
   "cell_type": "markdown",
   "metadata": {},
   "source": [
    "> Dada las caracteristicas de los atributos de la base de datos podemos suponer que esta data fue capturada alrededor del año 2005, ya que resume los efectos del cobro diferenciado en las llamadas telefónicas. Es por esta razon que el efecto del gasto en llamadas durante la mañana tiene un efecto bastante significativo en la deserción de un cliente y es probable que la competencia haya sido más competente en ese punto.\n",
    ">\n",
    "> Claramenre el numero de llamadas a servicio al cliente es un indicador de algún problema en el servicio y por esta razon aparece como un atributo relevante.\n",
    ">\n",
    "> El tener el plan internacional activado puede determinar mayores cobros en la factura mensual y como es un servicio de postpago, la no motivación de pagar algo que ya se usó puede estar deteriorando la tendencia de permanecer en la compañia.\n",
    ">\n",
    "> Así como las llamadas durante el día, las llamadas durante la tarde debieron tener un valor más elevado respecto a la competencia.\n",
    ">\n",
    "> El plan de mensajes de voz activado pudo tener un costo adicional, lo que puede afectar el cobro mensual y así la tendencia a permanecer en la compañia."
   ]
  },
  {
   "cell_type": "markdown",
   "metadata": {},
   "source": [
    "## Ejercicio 4: Probabilidad de fuga\n",
    "\n",
    "* El gerente general necesita saber en qué estados hay una mayor probabilidad de fuga de clientes. Para ello, identifique los tres estados con una mayor probabilidad de fuga. \n",
    "* Implemente el modelo predictivo con el archivo `churn_test.csv`.\n",
    "* Recuerde que para obtener la probabilidad de clase, debe utilizar la función `predict_proba` del modelo."
   ]
  },
  {
   "cell_type": "code",
   "execution_count": null,
   "metadata": {},
   "outputs": [],
   "source": [
    "# Cargamos nuestros datos de validación\n",
    "df_test = pd.read_csv('churn_test.csv').drop(columns='Unnamed: 0')"
   ]
  },
  {
   "cell_type": "code",
   "execution_count": null,
   "metadata": {},
   "outputs": [],
   "source": [
    "# Aplicamos las transformaciones definidas para el set de datos del ejercicio.\n",
    "# Aplicamos logaritmo a las variables que presentan sesgo en ciertos valores y graficamos el antes \n",
    "# y el después de aplicar la transformación\n",
    "df_test_log = df_test.copy()\n",
    "for i, var in enumerate(var_cont_log):\n",
    "    plt.subplot(3,2, i + i + 1)\n",
    "    sns.distplot(df_test_log[var])\n",
    "    df_test_log[var + '_log'] = np.log(df_test_log[var] + 0.001)\n",
    "    plt.subplot(3,2, i + i + 2)\n",
    "    sns.distplot(df_test_log[var + '_log'])\n",
    "    plt.tight_layout()\n",
    "# Eliminamos las columnas originales\n",
    "df_test_log.drop(columns=var_cont_log, inplace= True)"
   ]
  },
  {
   "cell_type": "code",
   "execution_count": null,
   "metadata": {},
   "outputs": [],
   "source": [
    "# Usamos procesamiento vectorial para transformar el DataFrame\n",
    "df_test_proc = pd.get_dummies(df_test_log, \n",
    "               [x for x in df_test_log.columns if df_test_log[x].dtype =='object'], \n",
    "               dummy_na=False,\n",
    "               drop_first=True\n",
    "              )"
   ]
  },
  {
   "cell_type": "code",
   "execution_count": null,
   "metadata": {},
   "outputs": [],
   "source": [
    "# Separamos nuestra matriz de atributos\n",
    "X_2 = df_test_proc.drop(columns='churn_yes')\n",
    "# Separamos nuestro vector objetivo\n",
    "y_2 = df_test_proc['churn_yes']"
   ]
  },
  {
   "cell_type": "code",
   "execution_count": null,
   "metadata": {},
   "outputs": [],
   "source": [
    "# Generamos la predicción con nuestros datos de validación\n",
    "yhat_2 = grid_grad.best_estimator_.predict(X_2)"
   ]
  },
  {
   "cell_type": "code",
   "execution_count": null,
   "metadata": {},
   "outputs": [],
   "source": [
    "# Reportamos métricas\n",
    "print(\"Gradient Boosting Classifier: \")\n",
    "print(f\"Cantidad de Estimadores: {grid_grad.best_estimator_.n_estimators}\")\n",
    "print(f\"Tasa de Aprendizaje: {grid_grad.best_estimator_.learning_rate}\\n\")\n",
    "print(classification_report(y_2, yhat_2))"
   ]
  },
  {
   "cell_type": "markdown",
   "metadata": {},
   "source": [
    "> Se observa que con los datos de validación las metricas son un poco mejor que con los datos separados en la muestra anterior. Esto signifoca que el modelo tiene una buena capacidad de generalizar la predicción."
   ]
  },
  {
   "cell_type": "markdown",
   "metadata": {},
   "source": [
    "___\n",
    "* __Probabilidad de fuga, por estado:__\n",
    "> Ahora vamos a evaluar la probabilidad de que un cliente se cambie de compañia por cada estado."
   ]
  },
  {
   "cell_type": "code",
   "execution_count": null,
   "metadata": {},
   "outputs": [],
   "source": [
    "# Generamos la predicción de la probabilidad, con nuestros datos de validación\n",
    "yhat_2_proba = grid_grad.best_estimator_.predict_proba(X_2)"
   ]
  },
  {
   "cell_type": "code",
   "execution_count": null,
   "metadata": {},
   "outputs": [],
   "source": [
    "# Incorporamos la probabilidad a nuestro DataFrame original\n",
    "df_test['yhat_proba'] = yhat_2_proba[:,1]"
   ]
  },
  {
   "cell_type": "code",
   "execution_count": null,
   "metadata": {},
   "outputs": [],
   "source": [
    "# Obtenemos la serie de datos, con cada estado y la media de la probabilidad de fuga\n",
    "proba_state = df_test.groupby('state')['yhat_proba'].mean().sort_values(ascending=False)"
   ]
  },
  {
   "cell_type": "code",
   "execution_count": null,
   "metadata": {},
   "outputs": [],
   "source": [
    "# Reportamos la probabilidad de todos los estados\n",
    "pd.DataFrame(proba_state).transpose()"
   ]
  },
  {
   "cell_type": "code",
   "execution_count": null,
   "metadata": {},
   "outputs": [],
   "source": [
    "# Graficamos la probabilidad y la media de la probabilidad de toda la muestra\n",
    "plt.plot(proba_state, 'o')\n",
    "plt.xticks(rotation=40, ha=\"right\");\n",
    "plt.axhline(np.mean(proba_state), color='tomato', label='Probabilidad Promedio')\n",
    "plt.legend();"
   ]
  },
  {
   "cell_type": "code",
   "execution_count": null,
   "metadata": {},
   "outputs": [],
   "source": [
    "# Seleccionamos las 3 probabilidad más altas\n",
    "np.round(proba_state.sort_values(ascending=False)[:3],2)"
   ]
  },
  {
   "cell_type": "markdown",
   "metadata": {},
   "source": [
    "> * __Nueva Jersey__ con un 29% de probabilidad de que los clientes se cambien de compañía.\n",
    "> * __California__ con un 23% de probabilidad de que los clientes se cambien de compañía.\n",
    "> * __Oklahoma__ con un 23% de probabilidad de que los clientes se cambien de compañía."
   ]
  },
  {
   "cell_type": "markdown",
   "metadata": {},
   "source": [
    "### Adicional:\n",
    "> Vamos a evaluar GradientBoostingClassifier sin considerar los atributos correlacionados, mencionados en el ejercicio 1."
   ]
  },
  {
   "cell_type": "code",
   "execution_count": null,
   "metadata": {},
   "outputs": [],
   "source": [
    "df_no_corr = df.drop(columns=max_corr.columns)"
   ]
  },
  {
   "cell_type": "code",
   "execution_count": null,
   "metadata": {},
   "outputs": [],
   "source": [
    "df_no_corr.shape"
   ]
  },
  {
   "cell_type": "code",
   "execution_count": null,
   "metadata": {},
   "outputs": [],
   "source": [
    "# Aplicamos logaritmo a las variables que presentan sesgo en ciertos valores y graficamos el antes \n",
    "# y el después de aplicar la transformación\n",
    "\n",
    "df_log_no_corr = df_no_corr.copy()\n",
    "\n",
    "for i, var in enumerate(var_cont_log):\n",
    "    plt.subplot(3,2, i + i + 1)\n",
    "    sns.distplot(df_log_no_corr[var])\n",
    "    df_log_no_corr[var + '_log'] = np.log(df_log_no_corr[var] + 0.001)\n",
    "    plt.subplot(3,2, i + i + 2)\n",
    "    sns.distplot(df_log_no_corr[var + '_log'])\n",
    "    plt.tight_layout()"
   ]
  },
  {
   "cell_type": "code",
   "execution_count": null,
   "metadata": {},
   "outputs": [],
   "source": [
    "# Eliminamos las columnas originales\n",
    "df_log_no_corr.drop(columns=var_cont_log, inplace=True)"
   ]
  },
  {
   "cell_type": "code",
   "execution_count": null,
   "metadata": {},
   "outputs": [],
   "source": [
    "# Usamos procesamiento vectorial para transformar el DF\n",
    "df_proc_no_corr = pd.get_dummies(df_log_no_corr, \n",
    "               [x for x in df_log_no_corr.columns if df_log_no_corr[x].dtype =='object'], \n",
    "               dummy_na=False,\n",
    "               drop_first=True\n",
    "              )"
   ]
  },
  {
   "cell_type": "code",
   "execution_count": null,
   "metadata": {},
   "outputs": [],
   "source": [
    "df_proc_no_corr.shape"
   ]
  },
  {
   "cell_type": "code",
   "execution_count": null,
   "metadata": {},
   "outputs": [],
   "source": [
    "# Separamos nuestra matriz de atributos\n",
    "X_3 = df_proc_no_corr.drop(columns='churn_yes')\n",
    "# Separamos nuestro vector objetivo\n",
    "y_3 = df_proc_no_corr['churn_yes']\n",
    "# Separamos las muestras de entrenamiento y validación\n",
    "X_train_3, X_test_3, y_train_3, y_test_3 = train_test_split(X_3, y_3, test_size = .33, random_state = 14173)"
   ]
  },
  {
   "cell_type": "code",
   "execution_count": null,
   "metadata": {},
   "outputs": [],
   "source": [
    "# Implementamos la búsqueda de grilla para el estimados GradientBoostingClassifier\n",
    "grid_grad_no_corr = GridSearchCV(estimator = GradientBoostingClassifier(), \n",
    "                         param_grid = param_grad, \n",
    "                         cv = 5, \n",
    "                         n_jobs = -1).fit(X_train_3, y_train_3)"
   ]
  },
  {
   "cell_type": "code",
   "execution_count": null,
   "metadata": {},
   "outputs": [],
   "source": [
    "# Guardamos las predicciones del del modelo con el mejor estimador\n",
    "yhat_grad_no_corr = grid_grad_no_corr.best_estimator_.predict(X_test_3)"
   ]
  },
  {
   "cell_type": "code",
   "execution_count": null,
   "metadata": {},
   "outputs": [],
   "source": [
    "# Reportamos métricas\n",
    "print(\"Gradient Boosting Classifier (no corr): \")\n",
    "print(f\"Cantidad de Estimadores: {grid_grad_no_corr.best_estimator_.n_estimators}\")\n",
    "print(f\"Tasa de Aprendizaje: {grid_grad_no_corr.best_estimator_.learning_rate}\\n\")\n",
    "print(classification_report(y_test_3, yhat_grad_no_corr))"
   ]
  },
  {
   "cell_type": "code",
   "execution_count": null,
   "metadata": {},
   "outputs": [],
   "source": [
    "afx.plot_roc(grid_ada.best_estimator_, X_test, y_test, \"Adaptative Boosting Classifier\")\n",
    "afx.plot_roc(grid_grad.best_estimator_, X_test, y_test, \"Gradient Boosting Classifier\")\n",
    "afx.plot_roc(grid_grad_no_corr.best_estimator_, X_test_3, y_test_3, \"Gradient Boosting Classifier (no corr)\")\n",
    "plt.plot([0, 1], ls=\"--\")\n",
    "plt.legend(loc='center left', bbox_to_anchor=(1, .5));"
   ]
  },
  {
   "cell_type": "markdown",
   "metadata": {},
   "source": [
    "> __Conclusiones:__ En relación a AOC, al eliminar atributos correlacionados se presenta un modelo un poco mejor (+0,002) que el que tiene todos los atributos, no obstante weighted avg de f1-score es un poco peor (-0,01).\n",
    ">\n",
    "> Dado que no se presenta suficiente evidencia como para determinar que el modelo funciona sustancialmente mejor eliminando los atributos correlacionados y el problema no requiere de tanta capacidad de computo, nos quedamos con el modelo que incluye todos los atributos."
   ]
  },
  {
   "cell_type": "code",
   "execution_count": null,
   "metadata": {},
   "outputs": [],
   "source": []
  }
 ],
 "metadata": {
  "kernelspec": {
   "display_name": "Python 3",
   "language": "python",
   "name": "python3"
  },
  "language_info": {
   "codemirror_mode": {
    "name": "ipython",
    "version": 3
   },
   "file_extension": ".py",
   "mimetype": "text/x-python",
   "name": "python",
   "nbconvert_exporter": "python",
   "pygments_lexer": "ipython3",
   "version": "3.7.4"
  }
 },
 "nbformat": 4,
 "nbformat_minor": 2
}
