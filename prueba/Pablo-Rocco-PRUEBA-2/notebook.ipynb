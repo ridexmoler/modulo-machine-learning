{
 "cells": [
  {
   "cell_type": "markdown",
   "metadata": {},
   "source": [
    "<img src='logo.png' style='display: block;height: 61px;float: left;padding: .75rem 1.25rem;'>"
   ]
  },
  {
   "cell_type": "markdown",
   "metadata": {},
   "source": [
    "# Prueba 2: Analizado los crímenes en la Ciudad de Nueva York"
   ]
  },
  {
   "cell_type": "markdown",
   "metadata": {},
   "source": [
    "## Preliminares\n",
    "___"
   ]
  },
  {
   "cell_type": "markdown",
   "metadata": {},
   "source": [
    "### Enunciado:\n",
    "\n",
    "En esta ocasión trabajaremos con datos públicos del departamento de policía de New York. El dataset es  llamado `stop_and_frisk_data`  y  contiene información sobre interrogaciones y detenciones realizadas por el departamento de policia de NY en la vía pública. El diccionario de atributos se encuentra en el archivo [2009 SQF File Spec.xlsx](./2009_SQF_File_Spec.xlsx).\n",
    "\n",
    "Para todo nuestro estudio utilizaremos los datos correspondientes al año 2009 como conjunto de entrenamiento y los datos del 2010 como conjunto de pruebas. Hay que hacer notar que los datos que estamos utilizando son un muestreo del 1% de la cantidad de registros reales que contiene el dataset, esta decisión fue tomada debido a los largos tiempos de entrenamiento y procesamiento que requiere el volumén de datos reales.\n",
    "\n",
    "* Crea una carpeta de trabajo y guarda todos los archivos correspondientes (notebook, archivosauxiliares y csv).\n",
    "\n",
    "* Una vez terminada la prueba, comprime la carpeta y sube el `.zip` a la seccióncorrespondiente."
   ]
  },
  {
   "cell_type": "markdown",
   "metadata": {},
   "source": [
    "### Objetivos\n",
    "\n",
    "Para alcanzar el objetivo general, su trabajo se puede desagregar en los siguientes puntos:\n",
    "\n",
    "1. Dado la gran cantidad de atributos, se le entrega un script `preproc_nyc_sqf.py` que normaliza la cantidad de atributos. Haga uso de la función `create_suitable_dataframe` para igualar el benchmark de los atributos.\n",
    "\n",
    "\n",
    "2. Debe analizar de forma exploratoria los atributos. Reporte la cantidad de datos perdidos y presente su esquema de recodificación.\n",
    "\n",
    "\n",
    "3. Generar un modelo predictivo que __condicional__ a las características medidas del sospechoso, prediga si un determinado procedimiento concluirá en un arresto o no. Para ello, guíase por los siguentes lineamientos:\n",
    "  * Entrene por lo menos 1 modelo que sea capaz de predecir si se producirá un arresto o no. Una vez que encuentre un modelo satisfactorio, reporte al menos dos métricas de desempeño.\n",
    "  * Refine aquellos atributos relevantes. Encuentre por lo menos 30 atributos que explique la importancia relativa y ordénelos por orden de importancia.\n",
    "  * Finalmente, reporte la probabilidad que un individuo sea arrestado en uno de los cinco barrios, condicional al género y condicional a la raza.\n",
    "\n",
    "\n",
    "4. Genere al menos cinco modelos predictivos que permitan determinar si el procedimiento policial concluirá en alguna acción violenta.\n",
    "  * Para ello, debe generar un nuevo atributo como vector objetivo que indique cuándo hubo violencia o no. Éste debe ser creado a partir de atributos existentes que indiquen el tipo de violencia. El detalle de los atributos que se consideran violentos se detalla a continuación:\n",
    "```python\n",
    "'pf_hands', 'pf_wall', 'pf_grnd', 'pf_drwep', 'pf_baton', \n",
    "'pf_hcuff', 'pf_pepsp', 'pf_other'\n",
    "```\n",
    "\n",
    "\n",
    "5. Seleccione los 2 mejores modelos, serialicelos y envíelos a evaluación. Recuerde que el modelo serializado debe ser posterior al `fit` , para poder ejecutar `predict` en los nuevos datos.\n",
    "\n",
    "\n",
    "6. La evaluación del modelo será realizada en función a un conjunto de datos reservados al cual no tienen acceso."
   ]
  },
  {
   "cell_type": "markdown",
   "metadata": {},
   "source": [
    "> Para resolver el problema planteado, \"determinar si un procedimiento concluirá en un arresto o no\", vamos a usar técnicas y algoritmos de clasificación. Tenemos todos los elementos para resolver un problema de aprendizaje supervisado, ya que tenemos la variable dependiente __arstmade__ (se realizó la una detención) y se plantea como un atributo discreto, en este caso binario. Además disponemos de una base de datos con suficientes muestras. Para entrenar el modelo usaremos los datos del año 2009.\n",
    ">\n",
    "> Inicialmente nos vemos tentados a usar una solución desde la econometría, no obstante las herramientas disponibles para machine learning nos permitiran navegar sobre soluciones y encontrar un modelo de la solución balanceado entre el sesgo y la varianza. Dada la cantidad de atributos nominales y la bondad evaluada en los metodos de __ensambles__ vamos a apostar por obtener buenos resultados con __Random Forest__, __Adaptive Boosting__ y __Gradient Boosting__, no obstante y para efectos de comparacón de modelos, vamos a implementar el algoritmo __SVC__ con Kernel RBF y __LDA__ (análisis lineal discriminante) o __QDA__ (análisis cuadrático discriminante).\n",
    ">\n",
    "> Para __validar la solución__ extraeremos medidas desde la matriz de confusión, revisaremos __accuracy__, __Precision__ y __Recall__, luego revisaremos la media armónica entre Precision y Recall (__F1__). Para terminar usaremos el despliegue de la curva __ROC__ para justificar la bondad del modelo. Es decir, explicar que % adicional explica el modelo por sobre una asignación aleatorea (0.5). Para validar el modelo usaremos datos del __2010__, así revisamos la capacidad de predicción empírica del modelo."
   ]
  },
  {
   "cell_type": "markdown",
   "metadata": {},
   "source": [
    "### Vector objetivo:\n",
    ">\n",
    "> Para el objetivo 3 nuestro vector objetivo arstmade (se realizó o no la detención).\n",
    ">\n",
    "> Para el objetivo 4 nuestro vector objetivo es una nueva variable que determinará si el procedimiento policial cloncluirá en una acción violenta."
   ]
  },
  {
   "cell_type": "markdown",
   "metadata": {},
   "source": [
    "### Tipo de problema:\n",
    ">\n",
    "> Estamos frente a un problema de clasifición con información previa sobre las clases y atributos de un procedimiento policial. En este sentido, tenemos la data para abordar la solución con herramientas de clasificación supervisada."
   ]
  },
  {
   "cell_type": "markdown",
   "metadata": {},
   "source": [
    "### Modelos:\n",
    "\n",
    "> Los hiperparámetros de los modelos serán calibrados mediante búsqueda de grilla con validaciones cruzadas (GridSeachCV), en la medida que se requiera. \n",
    ">\n",
    "> __Gradient Boosting__: \n",
    ">  + param_grid={'learning_rate': [0.01, 0.1, 0.5], 'n_estimators': [50, 100, 500, 1000, 2000]}\n",
    ">  + 5 Validaciones Cruzadas\n",
    ">\n",
    "> __Adaptive Boosting__: \n",
    ">  + param_grid={'learning_rate': [0.01, 0.1, 0.5],'n_estimators': [50, 100, 500, 1000, 2000], 'subsample': [0.1,0.5,0.9]}\n",
    ">  + 5 Validaciones Cruzadas\n",
    ">\n",
    "> __Random Forest__: \n",
    ">  + n_estimators = range(20, 1000, 50)\n",
    ">  + max_features=\"log2\"\n",
    ">  + oob_score = True\n",
    ">\n",
    "> __SVC__ con Kernel __RBF__:\n",
    ">  + param_grid = {'C': [0.0001, 0.001, 0.01, 0.1, 1, 10, 100, 1000], 'gamma': [0.0000001, 0.0001, 0.001, 0.01, 0.1, 1, 10]}\n",
    ">  + 5 Validaciones Cruzadas\n",
    ">\n",
    "> __QDA__ (análisis cuadrático discriminante): Es probable que dejemos iniciado el hiperparámetro priors, con la probabilidad a priori del 2009.\n",
    ">\n",
    "> __BernoulliNB__ (para objetivo 3) o __MultinomialNB__ (para objetivo 4): Sin modificar hiperparámetros."
   ]
  },
  {
   "cell_type": "markdown",
   "metadata": {},
   "source": [
    "### Métricas:\n",
    "> * Accuracy\n",
    "> * Precision\n",
    "> * Recall\n",
    "> * fi_score\n",
    "> * ROC"
   ]
  },
  {
   "cell_type": "markdown",
   "metadata": {},
   "source": [
    "### Preprocesamiento\n",
    ">\n",
    "> Para el caso de los atributos categoricos se binarizarán o se codificarán las etiquetas a numeros y en caso de que los atributos continuos estén desbalanceados procederemos a recodificarlos con su logaritmo y en caso de requerir, estandarizaremos los valores. Adicionalmente usaremos la función `create_suitable_dataframe` para igualar el benchmark de los atributos."
   ]
  },
  {
   "cell_type": "markdown",
   "metadata": {},
   "source": [
    "## Aspectos computacionales\n",
    "___"
   ]
  },
  {
   "cell_type": "markdown",
   "metadata": {},
   "source": [
    "> Se utilizan librerías bases para el tratamiento de datos y algunos aspectos básicos de cálculo y gráficos."
   ]
  },
  {
   "cell_type": "code",
   "execution_count": 1,
   "metadata": {},
   "outputs": [],
   "source": [
    "# Se importa libreria para el manejo de bases de datos\n",
    "import pandas as pd\n",
    "# Se importa libreria para el manejo de operaciones de cálculo\n",
    "import numpy as np\n",
    "# Se importa libreria para el manejo de gráficos\n",
    "import matplotlib.pyplot as plt\n",
    "# Se importa libreria para manejo de funciones estadisticas y probabilidades\n",
    "import seaborn as sns\n",
    "# Librería para visualizar patrones de datos perdidos\n",
    "import missingno as msngo\n",
    "# Se importa libreria para el menejo de warning\n",
    "import warnings\n",
    "# Se importa libreria para el trabajo de expresiones reguilares\n",
    "import re"
   ]
  },
  {
   "cell_type": "markdown",
   "metadata": {},
   "source": [
    "> Definimos algunos aspectos de ambiente y valores por defecto de visualización."
   ]
  },
  {
   "cell_type": "code",
   "execution_count": 2,
   "metadata": {},
   "outputs": [],
   "source": [
    "# Por defecto, matplotlib crea una figura en una ventana separada.\n",
    "# podemos hacer que las figuras aparezcan en línea dentro del notebook; lo hacemos ejecutando:\n",
    "%matplotlib inline\n",
    "# Se ignoran los warning para evitar suciedad en la ejecución\n",
    "warnings.filterwarnings(action='ignore')\n",
    "# Se define el estilo de gráficos a usar\n",
    "plt.style.use('seaborn-pastel')\n",
    "# Se define el tamaño de los paños de los gráficos por defecto\n",
    "plt.rcParams['figure.figsize'] = (14, 8)\n",
    "# Dado que vamos a supervisar datos no limitaremos la cantidad de columnas a mostrar \n",
    "# en el despliegue del dataframe\n",
    "pd.options.display.max_columns = None"
   ]
  },
  {
   "cell_type": "markdown",
   "metadata": {},
   "source": [
    "> Se utilizan librerías de __sklear__ para resolver el problema desde el enfoque de machine learning"
   ]
  },
  {
   "cell_type": "code",
   "execution_count": 3,
   "metadata": {},
   "outputs": [],
   "source": [
    "# Método de ensamble secuencial, corrige mediante la función de pérdida usando el descenso por el gradiente.\n",
    "from sklearn.ensemble import GradientBoostingClassifier\n",
    "# Método de ensamble secuencial, corrige por las tasas de clasificaciones incorrectas\n",
    "from sklearn.ensemble import AdaBoostClassifier\n",
    "# Método de ensamble paralelo, aplica bootstrapping por fila y columnas. \n",
    "from sklearn.ensemble import RandomForestClassifier\n",
    "# Método de clasificación mediante la maximización de margen de clases.\n",
    "from sklearn.svm import SVC\n",
    "# Método de Análisis cuadrático discriminante, los atributos tienen una forma cuadrátio.\n",
    "from sklearn.discriminant_analysis import QuadraticDiscriminantAnalysis\n",
    "# Método que implementa Bayes ingenuo para el caso dos clases y multiclase.\n",
    "from sklearn.naive_bayes import BernoulliNB, MultinomialNB\n",
    "# Métricas para evaluar modelos de clasificación\n",
    "from sklearn.metrics import classification_report, roc_curve, roc_auc_score\n",
    "# Métodos de selección de muestras\n",
    "from sklearn.model_selection import GridSearchCV, train_test_split\n",
    "# Metodo para el procesamiento de los datos en una tuberias\n",
    "from sklearn.pipeline import Pipeline\n",
    "from sklearn.preprocessing import StandardScaler, LabelEncoder"
   ]
  },
  {
   "cell_type": "markdown",
   "metadata": {},
   "source": [
    "> Se utiliza la librería __pickle__ que contiene la función dump, que permite guardar el modelo desarrollado. "
   ]
  },
  {
   "cell_type": "code",
   "execution_count": 4,
   "metadata": {},
   "outputs": [],
   "source": [
    "# Método para hacer dump del modelo y objetos\n",
    "import pickle"
   ]
  },
  {
   "cell_type": "markdown",
   "metadata": {},
   "source": [
    "> Se utiliza <strong>librería propia</strong> que continen funciones auxiliares, necesarias para el desarrollo de desafíos."
   ]
  },
  {
   "cell_type": "code",
   "execution_count": 5,
   "metadata": {},
   "outputs": [],
   "source": [
    "# Se importa libreria con funciones auxiliares\n",
    "import ancilliary_funcs as afx"
   ]
  },
  {
   "cell_type": "markdown",
   "metadata": {},
   "source": [
    "> Se utiliza <strong>librería helpers.py</strong> que continen funciones auxiliares, necesarias para el desarrollo de desafíos."
   ]
  },
  {
   "cell_type": "code",
   "execution_count": 51,
   "metadata": {},
   "outputs": [],
   "source": [
    "import helpers as hlp"
   ]
  },
  {
   "cell_type": "markdown",
   "metadata": {},
   "source": [
    "> Se utiliza __librería preproc_nyc_sqf.py__ provista para abordar temas de procesamiento de atributos."
   ]
  },
  {
   "cell_type": "code",
   "execution_count": 7,
   "metadata": {},
   "outputs": [],
   "source": [
    "import preproc_nyc_sqf as preproc"
   ]
  },
  {
   "cell_type": "markdown",
   "metadata": {},
   "source": [
    "## Análisis Exploratorio\n",
    "___"
   ]
  },
  {
   "cell_type": "markdown",
   "metadata": {},
   "source": [
    "> __Cargamos la base de datos__"
   ]
  },
  {
   "cell_type": "code",
   "execution_count": 8,
   "metadata": {},
   "outputs": [],
   "source": [
    "# Se carga la base de datos y se elimina la columna 'Unnamed: 0' que no aporta valor al análisis.\n",
    "# Datos para el entrenamiento\n",
    "df_train_raw = pd.read_csv('2009_1perc.csv').drop(columns='Unnamed: 0')\n",
    "# Datos para la validación\n",
    "df_test_raw = pd.read_csv('2010_1perc.csv').drop(columns='Unnamed: 0')"
   ]
  },
  {
   "cell_type": "code",
   "execution_count": 9,
   "metadata": {},
   "outputs": [
    {
     "data": {
      "text/html": [
       "<div>\n",
       "<style scoped>\n",
       "    .dataframe tbody tr th:only-of-type {\n",
       "        vertical-align: middle;\n",
       "    }\n",
       "\n",
       "    .dataframe tbody tr th {\n",
       "        vertical-align: top;\n",
       "    }\n",
       "\n",
       "    .dataframe thead th {\n",
       "        text-align: right;\n",
       "    }\n",
       "</style>\n",
       "<table border=\"1\" class=\"dataframe\">\n",
       "  <thead>\n",
       "    <tr style=\"text-align: right;\">\n",
       "      <th></th>\n",
       "      <th>year</th>\n",
       "      <th>pct</th>\n",
       "      <th>ser_num</th>\n",
       "      <th>datestop</th>\n",
       "      <th>timestop</th>\n",
       "      <th>recstat</th>\n",
       "      <th>inout</th>\n",
       "      <th>trhsloc</th>\n",
       "      <th>perobs</th>\n",
       "      <th>crimsusp</th>\n",
       "      <th>perstop</th>\n",
       "      <th>typeofid</th>\n",
       "      <th>explnstp</th>\n",
       "      <th>othpers</th>\n",
       "      <th>arstmade</th>\n",
       "      <th>arstoffn</th>\n",
       "      <th>sumissue</th>\n",
       "      <th>sumoffen</th>\n",
       "      <th>compyear</th>\n",
       "      <th>comppct</th>\n",
       "      <th>offunif</th>\n",
       "      <th>officrid</th>\n",
       "      <th>frisked</th>\n",
       "      <th>searched</th>\n",
       "      <th>contrabn</th>\n",
       "      <th>adtlrept</th>\n",
       "      <th>pistol</th>\n",
       "      <th>riflshot</th>\n",
       "      <th>asltweap</th>\n",
       "      <th>knifcuti</th>\n",
       "      <th>machgun</th>\n",
       "      <th>othrweap</th>\n",
       "      <th>pf_hands</th>\n",
       "      <th>pf_wall</th>\n",
       "      <th>pf_grnd</th>\n",
       "      <th>pf_drwep</th>\n",
       "      <th>pf_ptwep</th>\n",
       "      <th>pf_baton</th>\n",
       "      <th>pf_hcuff</th>\n",
       "      <th>pf_pepsp</th>\n",
       "      <th>pf_other</th>\n",
       "      <th>radio</th>\n",
       "      <th>ac_rept</th>\n",
       "      <th>ac_inves</th>\n",
       "      <th>rf_vcrim</th>\n",
       "      <th>rf_othsw</th>\n",
       "      <th>ac_proxm</th>\n",
       "      <th>rf_attir</th>\n",
       "      <th>cs_objcs</th>\n",
       "      <th>cs_descr</th>\n",
       "      <th>cs_casng</th>\n",
       "      <th>cs_lkout</th>\n",
       "      <th>rf_vcact</th>\n",
       "      <th>cs_cloth</th>\n",
       "      <th>cs_drgtr</th>\n",
       "      <th>ac_evasv</th>\n",
       "      <th>ac_assoc</th>\n",
       "      <th>cs_furtv</th>\n",
       "      <th>rf_rfcmp</th>\n",
       "      <th>ac_cgdir</th>\n",
       "      <th>rf_verbl</th>\n",
       "      <th>cs_vcrim</th>\n",
       "      <th>cs_bulge</th>\n",
       "      <th>cs_other</th>\n",
       "      <th>ac_incid</th>\n",
       "      <th>ac_time</th>\n",
       "      <th>rf_knowl</th>\n",
       "      <th>ac_stsnd</th>\n",
       "      <th>ac_other</th>\n",
       "      <th>sb_hdobj</th>\n",
       "      <th>sb_outln</th>\n",
       "      <th>sb_admis</th>\n",
       "      <th>sb_other</th>\n",
       "      <th>repcmd</th>\n",
       "      <th>revcmd</th>\n",
       "      <th>rf_furt</th>\n",
       "      <th>rf_bulg</th>\n",
       "      <th>offverb</th>\n",
       "      <th>offshld</th>\n",
       "      <th>sex</th>\n",
       "      <th>race</th>\n",
       "      <th>dob</th>\n",
       "      <th>age</th>\n",
       "      <th>ht_feet</th>\n",
       "      <th>ht_inch</th>\n",
       "      <th>weight</th>\n",
       "      <th>haircolr</th>\n",
       "      <th>eyecolor</th>\n",
       "      <th>build</th>\n",
       "      <th>othfeatr</th>\n",
       "      <th>addrtyp</th>\n",
       "      <th>rescode</th>\n",
       "      <th>premtype</th>\n",
       "      <th>premname</th>\n",
       "      <th>addrnum</th>\n",
       "      <th>stname</th>\n",
       "      <th>stinter</th>\n",
       "      <th>crossst</th>\n",
       "      <th>aptnum</th>\n",
       "      <th>city</th>\n",
       "      <th>state</th>\n",
       "      <th>zip</th>\n",
       "      <th>addrpct</th>\n",
       "      <th>sector</th>\n",
       "      <th>beat</th>\n",
       "      <th>post</th>\n",
       "      <th>xcoord</th>\n",
       "      <th>ycoord</th>\n",
       "      <th>dettypcm</th>\n",
       "      <th>linecm</th>\n",
       "      <th>detailcm</th>\n",
       "    </tr>\n",
       "  </thead>\n",
       "  <tbody>\n",
       "    <tr>\n",
       "      <th>4638</th>\n",
       "      <td>2009</td>\n",
       "      <td>84</td>\n",
       "      <td>2098</td>\n",
       "      <td>6242009</td>\n",
       "      <td>334</td>\n",
       "      <td>A</td>\n",
       "      <td>O</td>\n",
       "      <td>P</td>\n",
       "      <td>5.0</td>\n",
       "      <td>FEL</td>\n",
       "      <td>2</td>\n",
       "      <td>R</td>\n",
       "      <td>Y</td>\n",
       "      <td>Y</td>\n",
       "      <td>N</td>\n",
       "      <td></td>\n",
       "      <td>N</td>\n",
       "      <td></td>\n",
       "      <td>0</td>\n",
       "      <td>0</td>\n",
       "      <td>Y</td>\n",
       "      <td></td>\n",
       "      <td>Y</td>\n",
       "      <td>N</td>\n",
       "      <td>N</td>\n",
       "      <td>N</td>\n",
       "      <td>N</td>\n",
       "      <td>N</td>\n",
       "      <td>N</td>\n",
       "      <td>N</td>\n",
       "      <td>N</td>\n",
       "      <td>N</td>\n",
       "      <td>Y</td>\n",
       "      <td>N</td>\n",
       "      <td>N</td>\n",
       "      <td>N</td>\n",
       "      <td>N</td>\n",
       "      <td>N</td>\n",
       "      <td>N</td>\n",
       "      <td>N</td>\n",
       "      <td>N</td>\n",
       "      <td>N</td>\n",
       "      <td>N</td>\n",
       "      <td>N</td>\n",
       "      <td>Y</td>\n",
       "      <td>N</td>\n",
       "      <td>Y</td>\n",
       "      <td>N</td>\n",
       "      <td>N</td>\n",
       "      <td>Y</td>\n",
       "      <td>N</td>\n",
       "      <td>N</td>\n",
       "      <td>N</td>\n",
       "      <td>N</td>\n",
       "      <td>N</td>\n",
       "      <td>N</td>\n",
       "      <td>N</td>\n",
       "      <td>N</td>\n",
       "      <td>N</td>\n",
       "      <td>N</td>\n",
       "      <td>N</td>\n",
       "      <td>N</td>\n",
       "      <td>N</td>\n",
       "      <td>N</td>\n",
       "      <td>N</td>\n",
       "      <td>N</td>\n",
       "      <td>N</td>\n",
       "      <td>N</td>\n",
       "      <td>N</td>\n",
       "      <td>N</td>\n",
       "      <td>N</td>\n",
       "      <td>N</td>\n",
       "      <td>N</td>\n",
       "      <td>868</td>\n",
       "      <td>868</td>\n",
       "      <td>N</td>\n",
       "      <td>N</td>\n",
       "      <td></td>\n",
       "      <td></td>\n",
       "      <td>M</td>\n",
       "      <td>B</td>\n",
       "      <td>12311900</td>\n",
       "      <td>20</td>\n",
       "      <td>5</td>\n",
       "      <td>6</td>\n",
       "      <td>140</td>\n",
       "      <td>BK</td>\n",
       "      <td>BR</td>\n",
       "      <td>T</td>\n",
       "      <td></td>\n",
       "      <td>L</td>\n",
       "      <td></td>\n",
       "      <td></td>\n",
       "      <td>STREET</td>\n",
       "      <td>1</td>\n",
       "      <td>METROTECH CENTER</td>\n",
       "      <td>MYRTLE AVENUE</td>\n",
       "      <td>FLATBUSH AVENUE EXTENSION</td>\n",
       "      <td></td>\n",
       "      <td>BROOKLYN</td>\n",
       "      <td></td>\n",
       "      <td></td>\n",
       "      <td>84</td>\n",
       "      <td>F</td>\n",
       "      <td></td>\n",
       "      <td>15</td>\n",
       "      <td>0987782</td>\n",
       "      <td>0191639</td>\n",
       "      <td>CM</td>\n",
       "      <td>1</td>\n",
       "      <td>20</td>\n",
       "    </tr>\n",
       "    <tr>\n",
       "      <th>353</th>\n",
       "      <td>2009</td>\n",
       "      <td>14</td>\n",
       "      <td>3128</td>\n",
       "      <td>3232009</td>\n",
       "      <td>1355</td>\n",
       "      <td>1</td>\n",
       "      <td>I</td>\n",
       "      <td>T</td>\n",
       "      <td>2.0</td>\n",
       "      <td>GRAND LARCENY</td>\n",
       "      <td>1</td>\n",
       "      <td>P</td>\n",
       "      <td>Y</td>\n",
       "      <td>N</td>\n",
       "      <td>N</td>\n",
       "      <td></td>\n",
       "      <td>N</td>\n",
       "      <td></td>\n",
       "      <td>0</td>\n",
       "      <td>0</td>\n",
       "      <td>Y</td>\n",
       "      <td></td>\n",
       "      <td>N</td>\n",
       "      <td>N</td>\n",
       "      <td>N</td>\n",
       "      <td>N</td>\n",
       "      <td>N</td>\n",
       "      <td>N</td>\n",
       "      <td>N</td>\n",
       "      <td>N</td>\n",
       "      <td>N</td>\n",
       "      <td>N</td>\n",
       "      <td>N</td>\n",
       "      <td>N</td>\n",
       "      <td>N</td>\n",
       "      <td>N</td>\n",
       "      <td>N</td>\n",
       "      <td>N</td>\n",
       "      <td>N</td>\n",
       "      <td>N</td>\n",
       "      <td>N</td>\n",
       "      <td>N</td>\n",
       "      <td>N</td>\n",
       "      <td>N</td>\n",
       "      <td>N</td>\n",
       "      <td>N</td>\n",
       "      <td>N</td>\n",
       "      <td>N</td>\n",
       "      <td>N</td>\n",
       "      <td>N</td>\n",
       "      <td>Y</td>\n",
       "      <td>N</td>\n",
       "      <td>N</td>\n",
       "      <td>N</td>\n",
       "      <td>N</td>\n",
       "      <td>Y</td>\n",
       "      <td>N</td>\n",
       "      <td>N</td>\n",
       "      <td>N</td>\n",
       "      <td>Y</td>\n",
       "      <td>N</td>\n",
       "      <td>N</td>\n",
       "      <td>N</td>\n",
       "      <td>Y</td>\n",
       "      <td>Y</td>\n",
       "      <td>Y</td>\n",
       "      <td>N</td>\n",
       "      <td>N</td>\n",
       "      <td>N</td>\n",
       "      <td>N</td>\n",
       "      <td>N</td>\n",
       "      <td>N</td>\n",
       "      <td>N</td>\n",
       "      <td>872</td>\n",
       "      <td>872</td>\n",
       "      <td>N</td>\n",
       "      <td>N</td>\n",
       "      <td></td>\n",
       "      <td></td>\n",
       "      <td>M</td>\n",
       "      <td>B</td>\n",
       "      <td>8051964</td>\n",
       "      <td>44</td>\n",
       "      <td>5</td>\n",
       "      <td>11</td>\n",
       "      <td>225</td>\n",
       "      <td>BA</td>\n",
       "      <td>BR</td>\n",
       "      <td>H</td>\n",
       "      <td></td>\n",
       "      <td>L</td>\n",
       "      <td></td>\n",
       "      <td></td>\n",
       "      <td></td>\n",
       "      <td></td>\n",
       "      <td></td>\n",
       "      <td>8 AVENUE</td>\n",
       "      <td>WEST 42 STREET</td>\n",
       "      <td></td>\n",
       "      <td>MANHATTAN</td>\n",
       "      <td></td>\n",
       "      <td></td>\n",
       "      <td>14</td>\n",
       "      <td>H</td>\n",
       "      <td>11</td>\n",
       "      <td></td>\n",
       "      <td>0987078</td>\n",
       "      <td>0215157</td>\n",
       "      <td>CM</td>\n",
       "      <td>1</td>\n",
       "      <td>45</td>\n",
       "    </tr>\n",
       "    <tr>\n",
       "      <th>2594</th>\n",
       "      <td>2009</td>\n",
       "      <td>30</td>\n",
       "      <td>738</td>\n",
       "      <td>1312009</td>\n",
       "      <td>2334</td>\n",
       "      <td>1</td>\n",
       "      <td>O</td>\n",
       "      <td>P</td>\n",
       "      <td>5.0</td>\n",
       "      <td>MISD</td>\n",
       "      <td>5</td>\n",
       "      <td>P</td>\n",
       "      <td>Y</td>\n",
       "      <td>N</td>\n",
       "      <td>N</td>\n",
       "      <td></td>\n",
       "      <td>N</td>\n",
       "      <td></td>\n",
       "      <td>0</td>\n",
       "      <td>0</td>\n",
       "      <td>Y</td>\n",
       "      <td></td>\n",
       "      <td>N</td>\n",
       "      <td>N</td>\n",
       "      <td>N</td>\n",
       "      <td>N</td>\n",
       "      <td>N</td>\n",
       "      <td>N</td>\n",
       "      <td>N</td>\n",
       "      <td>N</td>\n",
       "      <td>N</td>\n",
       "      <td>N</td>\n",
       "      <td>N</td>\n",
       "      <td>N</td>\n",
       "      <td>N</td>\n",
       "      <td>N</td>\n",
       "      <td>N</td>\n",
       "      <td>N</td>\n",
       "      <td>N</td>\n",
       "      <td>N</td>\n",
       "      <td>N</td>\n",
       "      <td>N</td>\n",
       "      <td>N</td>\n",
       "      <td>N</td>\n",
       "      <td>N</td>\n",
       "      <td>N</td>\n",
       "      <td>Y</td>\n",
       "      <td>N</td>\n",
       "      <td>N</td>\n",
       "      <td>N</td>\n",
       "      <td>N</td>\n",
       "      <td>N</td>\n",
       "      <td>N</td>\n",
       "      <td>N</td>\n",
       "      <td>Y</td>\n",
       "      <td>N</td>\n",
       "      <td>N</td>\n",
       "      <td>Y</td>\n",
       "      <td>N</td>\n",
       "      <td>N</td>\n",
       "      <td>N</td>\n",
       "      <td>N</td>\n",
       "      <td>N</td>\n",
       "      <td>N</td>\n",
       "      <td>Y</td>\n",
       "      <td>N</td>\n",
       "      <td>N</td>\n",
       "      <td>N</td>\n",
       "      <td>N</td>\n",
       "      <td>N</td>\n",
       "      <td>N</td>\n",
       "      <td>N</td>\n",
       "      <td>N</td>\n",
       "      <td>174</td>\n",
       "      <td>174</td>\n",
       "      <td>N</td>\n",
       "      <td>N</td>\n",
       "      <td></td>\n",
       "      <td></td>\n",
       "      <td>M</td>\n",
       "      <td>Q</td>\n",
       "      <td>10021987</td>\n",
       "      <td>21</td>\n",
       "      <td>6</td>\n",
       "      <td>0</td>\n",
       "      <td>160</td>\n",
       "      <td>BR</td>\n",
       "      <td>GY</td>\n",
       "      <td>M</td>\n",
       "      <td></td>\n",
       "      <td>L</td>\n",
       "      <td></td>\n",
       "      <td></td>\n",
       "      <td>STREET</td>\n",
       "      <td></td>\n",
       "      <td></td>\n",
       "      <td>BROADWAY</td>\n",
       "      <td>WEST 139 STREET</td>\n",
       "      <td></td>\n",
       "      <td>MANHATTAN</td>\n",
       "      <td></td>\n",
       "      <td></td>\n",
       "      <td>30</td>\n",
       "      <td>A</td>\n",
       "      <td></td>\n",
       "      <td></td>\n",
       "      <td>0997198</td>\n",
       "      <td>0238992</td>\n",
       "      <td>CM</td>\n",
       "      <td>1</td>\n",
       "      <td>28</td>\n",
       "    </tr>\n",
       "    <tr>\n",
       "      <th>3487</th>\n",
       "      <td>2009</td>\n",
       "      <td>25</td>\n",
       "      <td>886</td>\n",
       "      <td>1302009</td>\n",
       "      <td>1539</td>\n",
       "      <td>1</td>\n",
       "      <td>I</td>\n",
       "      <td>T</td>\n",
       "      <td>4.0</td>\n",
       "      <td>PETIT LARCENY</td>\n",
       "      <td>1</td>\n",
       "      <td>P</td>\n",
       "      <td>Y</td>\n",
       "      <td>N</td>\n",
       "      <td>Y</td>\n",
       "      <td>PL 155.25</td>\n",
       "      <td>N</td>\n",
       "      <td></td>\n",
       "      <td>0</td>\n",
       "      <td>0</td>\n",
       "      <td>N</td>\n",
       "      <td></td>\n",
       "      <td>Y</td>\n",
       "      <td>Y</td>\n",
       "      <td>N</td>\n",
       "      <td>N</td>\n",
       "      <td>N</td>\n",
       "      <td>N</td>\n",
       "      <td>N</td>\n",
       "      <td>N</td>\n",
       "      <td>N</td>\n",
       "      <td>N</td>\n",
       "      <td>Y</td>\n",
       "      <td>N</td>\n",
       "      <td>N</td>\n",
       "      <td>N</td>\n",
       "      <td>N</td>\n",
       "      <td>N</td>\n",
       "      <td>Y</td>\n",
       "      <td>N</td>\n",
       "      <td>N</td>\n",
       "      <td>N</td>\n",
       "      <td>N</td>\n",
       "      <td>N</td>\n",
       "      <td>N</td>\n",
       "      <td>Y</td>\n",
       "      <td>N</td>\n",
       "      <td>N</td>\n",
       "      <td>N</td>\n",
       "      <td>N</td>\n",
       "      <td>Y</td>\n",
       "      <td>N</td>\n",
       "      <td>N</td>\n",
       "      <td>N</td>\n",
       "      <td>N</td>\n",
       "      <td>N</td>\n",
       "      <td>N</td>\n",
       "      <td>N</td>\n",
       "      <td>N</td>\n",
       "      <td>N</td>\n",
       "      <td>N</td>\n",
       "      <td>N</td>\n",
       "      <td>N</td>\n",
       "      <td>N</td>\n",
       "      <td>Y</td>\n",
       "      <td>N</td>\n",
       "      <td>N</td>\n",
       "      <td>N</td>\n",
       "      <td>N</td>\n",
       "      <td>N</td>\n",
       "      <td>N</td>\n",
       "      <td>N</td>\n",
       "      <td>Y</td>\n",
       "      <td>863</td>\n",
       "      <td>863</td>\n",
       "      <td>N</td>\n",
       "      <td>N</td>\n",
       "      <td>V</td>\n",
       "      <td>S</td>\n",
       "      <td>M</td>\n",
       "      <td>B</td>\n",
       "      <td>3071983</td>\n",
       "      <td>25</td>\n",
       "      <td>6</td>\n",
       "      <td>2</td>\n",
       "      <td>200</td>\n",
       "      <td>BK</td>\n",
       "      <td>BR</td>\n",
       "      <td>H</td>\n",
       "      <td></td>\n",
       "      <td>L</td>\n",
       "      <td></td>\n",
       "      <td></td>\n",
       "      <td>MEZZANINE POST 0402</td>\n",
       "      <td></td>\n",
       "      <td></td>\n",
       "      <td>LEXINGTON AVENUE</td>\n",
       "      <td>EAST 116 STREET</td>\n",
       "      <td></td>\n",
       "      <td>MANHATTAN</td>\n",
       "      <td></td>\n",
       "      <td></td>\n",
       "      <td>25</td>\n",
       "      <td>B</td>\n",
       "      <td></td>\n",
       "      <td></td>\n",
       "      <td>1000414</td>\n",
       "      <td>0230243</td>\n",
       "      <td>CM</td>\n",
       "      <td>1</td>\n",
       "      <td>68</td>\n",
       "    </tr>\n",
       "    <tr>\n",
       "      <th>856</th>\n",
       "      <td>2009</td>\n",
       "      <td>44</td>\n",
       "      <td>927</td>\n",
       "      <td>2042009</td>\n",
       "      <td>5</td>\n",
       "      <td>A</td>\n",
       "      <td>O</td>\n",
       "      <td>P</td>\n",
       "      <td>1.0</td>\n",
       "      <td>FEL</td>\n",
       "      <td>5</td>\n",
       "      <td>P</td>\n",
       "      <td>Y</td>\n",
       "      <td>N</td>\n",
       "      <td>N</td>\n",
       "      <td></td>\n",
       "      <td>N</td>\n",
       "      <td></td>\n",
       "      <td>0</td>\n",
       "      <td>0</td>\n",
       "      <td>Y</td>\n",
       "      <td></td>\n",
       "      <td>Y</td>\n",
       "      <td>N</td>\n",
       "      <td>N</td>\n",
       "      <td>N</td>\n",
       "      <td>N</td>\n",
       "      <td>N</td>\n",
       "      <td>N</td>\n",
       "      <td>N</td>\n",
       "      <td>N</td>\n",
       "      <td>N</td>\n",
       "      <td>Y</td>\n",
       "      <td>N</td>\n",
       "      <td>N</td>\n",
       "      <td>N</td>\n",
       "      <td>N</td>\n",
       "      <td>N</td>\n",
       "      <td>N</td>\n",
       "      <td>N</td>\n",
       "      <td>N</td>\n",
       "      <td>N</td>\n",
       "      <td>N</td>\n",
       "      <td>N</td>\n",
       "      <td>N</td>\n",
       "      <td>N</td>\n",
       "      <td>N</td>\n",
       "      <td>N</td>\n",
       "      <td>N</td>\n",
       "      <td>N</td>\n",
       "      <td>N</td>\n",
       "      <td>N</td>\n",
       "      <td>N</td>\n",
       "      <td>N</td>\n",
       "      <td>N</td>\n",
       "      <td>Y</td>\n",
       "      <td>N</td>\n",
       "      <td>Y</td>\n",
       "      <td>N</td>\n",
       "      <td>N</td>\n",
       "      <td>N</td>\n",
       "      <td>N</td>\n",
       "      <td>N</td>\n",
       "      <td>N</td>\n",
       "      <td>Y</td>\n",
       "      <td>Y</td>\n",
       "      <td>N</td>\n",
       "      <td>N</td>\n",
       "      <td>N</td>\n",
       "      <td>N</td>\n",
       "      <td>N</td>\n",
       "      <td>N</td>\n",
       "      <td>N</td>\n",
       "      <td>44</td>\n",
       "      <td>44</td>\n",
       "      <td>Y</td>\n",
       "      <td>N</td>\n",
       "      <td></td>\n",
       "      <td></td>\n",
       "      <td>M</td>\n",
       "      <td>B</td>\n",
       "      <td>11261982</td>\n",
       "      <td>26</td>\n",
       "      <td>6</td>\n",
       "      <td>1</td>\n",
       "      <td>190</td>\n",
       "      <td>BK</td>\n",
       "      <td>BK</td>\n",
       "      <td>M</td>\n",
       "      <td></td>\n",
       "      <td>L</td>\n",
       "      <td></td>\n",
       "      <td></td>\n",
       "      <td>STREET</td>\n",
       "      <td></td>\n",
       "      <td></td>\n",
       "      <td>3 EAST</td>\n",
       "      <td>MARCY PLACE</td>\n",
       "      <td></td>\n",
       "      <td>BRONX</td>\n",
       "      <td></td>\n",
       "      <td></td>\n",
       "      <td>44</td>\n",
       "      <td></td>\n",
       "      <td></td>\n",
       "      <td></td>\n",
       "      <td></td>\n",
       "      <td></td>\n",
       "      <td>CM</td>\n",
       "      <td>1</td>\n",
       "      <td>20</td>\n",
       "    </tr>\n",
       "  </tbody>\n",
       "</table>\n",
       "</div>"
      ],
      "text/plain": [
       "      year  pct  ser_num  datestop  timestop recstat inout trhsloc  perobs  \\\n",
       "4638  2009   84     2098   6242009       334       A     O       P     5.0   \n",
       "353   2009   14     3128   3232009      1355       1     I       T     2.0   \n",
       "2594  2009   30      738   1312009      2334       1     O       P     5.0   \n",
       "3487  2009   25      886   1302009      1539       1     I       T     4.0   \n",
       "856   2009   44      927   2042009         5       A     O       P     1.0   \n",
       "\n",
       "           crimsusp  perstop typeofid explnstp othpers arstmade   arstoffn  \\\n",
       "4638            FEL        2        R        Y       Y        N              \n",
       "353   GRAND LARCENY        1        P        Y       N        N              \n",
       "2594           MISD        5        P        Y       N        N              \n",
       "3487  PETIT LARCENY        1        P        Y       N        Y  PL 155.25   \n",
       "856             FEL        5        P        Y       N        N              \n",
       "\n",
       "     sumissue sumoffen  compyear  comppct offunif officrid frisked searched  \\\n",
       "4638        N                  0        0       Y                Y        N   \n",
       "353         N                  0        0       Y                N        N   \n",
       "2594        N                  0        0       Y                N        N   \n",
       "3487        N                  0        0       N                Y        Y   \n",
       "856         N                  0        0       Y                Y        N   \n",
       "\n",
       "     contrabn adtlrept pistol riflshot asltweap knifcuti machgun othrweap  \\\n",
       "4638        N        N      N        N        N        N       N        N   \n",
       "353         N        N      N        N        N        N       N        N   \n",
       "2594        N        N      N        N        N        N       N        N   \n",
       "3487        N        N      N        N        N        N       N        N   \n",
       "856         N        N      N        N        N        N       N        N   \n",
       "\n",
       "     pf_hands pf_wall pf_grnd pf_drwep pf_ptwep pf_baton pf_hcuff pf_pepsp  \\\n",
       "4638        Y       N       N        N        N        N        N        N   \n",
       "353         N       N       N        N        N        N        N        N   \n",
       "2594        N       N       N        N        N        N        N        N   \n",
       "3487        Y       N       N        N        N        N        Y        N   \n",
       "856         Y       N       N        N        N        N        N        N   \n",
       "\n",
       "     pf_other radio ac_rept ac_inves rf_vcrim rf_othsw ac_proxm rf_attir  \\\n",
       "4638        N     N       N        N        Y        N        Y        N   \n",
       "353         N     N       N        N        N        N        N        N   \n",
       "2594        N     N       N        N        N        N        Y        N   \n",
       "3487        N     N       N        N        N        Y        N        N   \n",
       "856         N     N       N        N        N        N        N        N   \n",
       "\n",
       "     cs_objcs cs_descr cs_casng cs_lkout rf_vcact cs_cloth cs_drgtr ac_evasv  \\\n",
       "4638        N        Y        N        N        N        N        N        N   \n",
       "353         N        N        Y        N        N        N        N        Y   \n",
       "2594        N        N        N        N        N        N        Y        N   \n",
       "3487        N        N        Y        N        N        N        N        N   \n",
       "856         N        N        N        N        N        N        N        Y   \n",
       "\n",
       "     ac_assoc cs_furtv rf_rfcmp ac_cgdir rf_verbl cs_vcrim cs_bulge cs_other  \\\n",
       "4638        N        N        N        N        N        N        N        N   \n",
       "353         N        N        N        Y        N        N        N        Y   \n",
       "2594        N        Y        N        N        N        N        N        N   \n",
       "3487        N        N        N        N        N        N        N        N   \n",
       "856         N        Y        N        N        N        N        N        N   \n",
       "\n",
       "     ac_incid ac_time rf_knowl ac_stsnd ac_other sb_hdobj sb_outln sb_admis  \\\n",
       "4638        N       N        N        N        N        N        N        N   \n",
       "353         Y       Y        N        N        N        N        N        N   \n",
       "2594        Y       N        N        N        N        N        N        N   \n",
       "3487        Y       N        N        N        N        N        N        N   \n",
       "856         Y       Y        N        N        N        N        N        N   \n",
       "\n",
       "     sb_other  repcmd  revcmd rf_furt rf_bulg offverb offshld sex race  \\\n",
       "4638        N     868     868       N       N                   M    B   \n",
       "353         N     872     872       N       N                   M    B   \n",
       "2594        N     174     174       N       N                   M    Q   \n",
       "3487        Y     863     863       N       N       V       S   M    B   \n",
       "856         N      44      44       Y       N                   M    B   \n",
       "\n",
       "           dob  age  ht_feet  ht_inch  weight haircolr eyecolor build  \\\n",
       "4638  12311900   20        5        6     140       BK       BR     T   \n",
       "353    8051964   44        5       11     225       BA       BR     H   \n",
       "2594  10021987   21        6        0     160       BR       GY     M   \n",
       "3487   3071983   25        6        2     200       BK       BR     H   \n",
       "856   11261982   26        6        1     190       BK       BK     M   \n",
       "\n",
       "     othfeatr addrtyp rescode premtype             premname addrnum  \\\n",
       "4638                L                                STREET       1   \n",
       "353                 L                                                 \n",
       "2594                L                                STREET           \n",
       "3487                L                   MEZZANINE POST 0402           \n",
       "856                 L                                STREET           \n",
       "\n",
       "                stname           stinter                    crossst aptnum  \\\n",
       "4638  METROTECH CENTER     MYRTLE AVENUE  FLATBUSH AVENUE EXTENSION          \n",
       "353                             8 AVENUE             WEST 42 STREET          \n",
       "2594                            BROADWAY            WEST 139 STREET          \n",
       "3487                    LEXINGTON AVENUE            EAST 116 STREET          \n",
       "856                               3 EAST                MARCY PLACE          \n",
       "\n",
       "           city state zip  addrpct sector beat post   xcoord   ycoord  \\\n",
       "4638   BROOKLYN                 84      F        15  0987782  0191639   \n",
       "353   MANHATTAN                 14      H   11       0987078  0215157   \n",
       "2594  MANHATTAN                 30      A            0997198  0238992   \n",
       "3487  MANHATTAN                 25      B            1000414  0230243   \n",
       "856       BRONX                 44                                      \n",
       "\n",
       "     dettypcm  linecm  detailcm  \n",
       "4638       CM       1        20  \n",
       "353        CM       1        45  \n",
       "2594       CM       1        28  \n",
       "3487       CM       1        68  \n",
       "856        CM       1        20  "
      ]
     },
     "execution_count": 9,
     "metadata": {},
     "output_type": "execute_result"
    }
   ],
   "source": [
    "# Inspeccionamos los datos\n",
    "df_train_raw.sample(5)"
   ]
  },
  {
   "cell_type": "code",
   "execution_count": 10,
   "metadata": {},
   "outputs": [
    {
     "data": {
      "text/html": [
       "<div>\n",
       "<style scoped>\n",
       "    .dataframe tbody tr th:only-of-type {\n",
       "        vertical-align: middle;\n",
       "    }\n",
       "\n",
       "    .dataframe tbody tr th {\n",
       "        vertical-align: top;\n",
       "    }\n",
       "\n",
       "    .dataframe thead th {\n",
       "        text-align: right;\n",
       "    }\n",
       "</style>\n",
       "<table border=\"1\" class=\"dataframe\">\n",
       "  <thead>\n",
       "    <tr style=\"text-align: right;\">\n",
       "      <th></th>\n",
       "      <th>year</th>\n",
       "      <th>pct</th>\n",
       "      <th>ser_num</th>\n",
       "      <th>datestop</th>\n",
       "      <th>timestop</th>\n",
       "      <th>recstat</th>\n",
       "      <th>inout</th>\n",
       "      <th>trhsloc</th>\n",
       "      <th>perobs</th>\n",
       "      <th>crimsusp</th>\n",
       "      <th>perstop</th>\n",
       "      <th>typeofid</th>\n",
       "      <th>explnstp</th>\n",
       "      <th>othpers</th>\n",
       "      <th>arstmade</th>\n",
       "      <th>arstoffn</th>\n",
       "      <th>sumissue</th>\n",
       "      <th>sumoffen</th>\n",
       "      <th>compyear</th>\n",
       "      <th>comppct</th>\n",
       "      <th>offunif</th>\n",
       "      <th>officrid</th>\n",
       "      <th>frisked</th>\n",
       "      <th>searched</th>\n",
       "      <th>contrabn</th>\n",
       "      <th>adtlrept</th>\n",
       "      <th>pistol</th>\n",
       "      <th>riflshot</th>\n",
       "      <th>asltweap</th>\n",
       "      <th>knifcuti</th>\n",
       "      <th>machgun</th>\n",
       "      <th>othrweap</th>\n",
       "      <th>pf_hands</th>\n",
       "      <th>pf_wall</th>\n",
       "      <th>pf_grnd</th>\n",
       "      <th>pf_drwep</th>\n",
       "      <th>pf_ptwep</th>\n",
       "      <th>pf_baton</th>\n",
       "      <th>pf_hcuff</th>\n",
       "      <th>pf_pepsp</th>\n",
       "      <th>pf_other</th>\n",
       "      <th>radio</th>\n",
       "      <th>ac_rept</th>\n",
       "      <th>ac_inves</th>\n",
       "      <th>rf_vcrim</th>\n",
       "      <th>rf_othsw</th>\n",
       "      <th>ac_proxm</th>\n",
       "      <th>rf_attir</th>\n",
       "      <th>cs_objcs</th>\n",
       "      <th>cs_descr</th>\n",
       "      <th>cs_casng</th>\n",
       "      <th>cs_lkout</th>\n",
       "      <th>rf_vcact</th>\n",
       "      <th>cs_cloth</th>\n",
       "      <th>cs_drgtr</th>\n",
       "      <th>ac_evasv</th>\n",
       "      <th>ac_assoc</th>\n",
       "      <th>cs_furtv</th>\n",
       "      <th>rf_rfcmp</th>\n",
       "      <th>ac_cgdir</th>\n",
       "      <th>rf_verbl</th>\n",
       "      <th>cs_vcrim</th>\n",
       "      <th>cs_bulge</th>\n",
       "      <th>cs_other</th>\n",
       "      <th>ac_incid</th>\n",
       "      <th>ac_time</th>\n",
       "      <th>rf_knowl</th>\n",
       "      <th>ac_stsnd</th>\n",
       "      <th>ac_other</th>\n",
       "      <th>sb_hdobj</th>\n",
       "      <th>sb_outln</th>\n",
       "      <th>sb_admis</th>\n",
       "      <th>sb_other</th>\n",
       "      <th>repcmd</th>\n",
       "      <th>revcmd</th>\n",
       "      <th>rf_furt</th>\n",
       "      <th>rf_bulg</th>\n",
       "      <th>offverb</th>\n",
       "      <th>offshld</th>\n",
       "      <th>sex</th>\n",
       "      <th>race</th>\n",
       "      <th>dob</th>\n",
       "      <th>age</th>\n",
       "      <th>ht_feet</th>\n",
       "      <th>ht_inch</th>\n",
       "      <th>weight</th>\n",
       "      <th>haircolr</th>\n",
       "      <th>eyecolor</th>\n",
       "      <th>build</th>\n",
       "      <th>othfeatr</th>\n",
       "      <th>addrtyp</th>\n",
       "      <th>rescode</th>\n",
       "      <th>premtype</th>\n",
       "      <th>premname</th>\n",
       "      <th>addrnum</th>\n",
       "      <th>stname</th>\n",
       "      <th>stinter</th>\n",
       "      <th>crossst</th>\n",
       "      <th>aptnum</th>\n",
       "      <th>city</th>\n",
       "      <th>state</th>\n",
       "      <th>zip</th>\n",
       "      <th>addrpct</th>\n",
       "      <th>sector</th>\n",
       "      <th>beat</th>\n",
       "      <th>post</th>\n",
       "      <th>xcoord</th>\n",
       "      <th>ycoord</th>\n",
       "      <th>dettypcm</th>\n",
       "      <th>linecm</th>\n",
       "      <th>detailcm</th>\n",
       "    </tr>\n",
       "  </thead>\n",
       "  <tbody>\n",
       "    <tr>\n",
       "      <th>4485</th>\n",
       "      <td>2010</td>\n",
       "      <td>75</td>\n",
       "      <td>10185</td>\n",
       "      <td>5192010</td>\n",
       "      <td>11</td>\n",
       "      <td>A</td>\n",
       "      <td>O</td>\n",
       "      <td>P</td>\n",
       "      <td>1</td>\n",
       "      <td>GLA</td>\n",
       "      <td>5</td>\n",
       "      <td>P</td>\n",
       "      <td>Y</td>\n",
       "      <td>N</td>\n",
       "      <td>N</td>\n",
       "      <td></td>\n",
       "      <td>N</td>\n",
       "      <td></td>\n",
       "      <td>0</td>\n",
       "      <td>0</td>\n",
       "      <td>Y</td>\n",
       "      <td></td>\n",
       "      <td>N</td>\n",
       "      <td>N</td>\n",
       "      <td>N</td>\n",
       "      <td>N</td>\n",
       "      <td>N</td>\n",
       "      <td>N</td>\n",
       "      <td>N</td>\n",
       "      <td>N</td>\n",
       "      <td>N</td>\n",
       "      <td>N</td>\n",
       "      <td>N</td>\n",
       "      <td>N</td>\n",
       "      <td>N</td>\n",
       "      <td>N</td>\n",
       "      <td>N</td>\n",
       "      <td>N</td>\n",
       "      <td>N</td>\n",
       "      <td>N</td>\n",
       "      <td>N</td>\n",
       "      <td>N</td>\n",
       "      <td>N</td>\n",
       "      <td>N</td>\n",
       "      <td>N</td>\n",
       "      <td>N</td>\n",
       "      <td>N</td>\n",
       "      <td>N</td>\n",
       "      <td>N</td>\n",
       "      <td>N</td>\n",
       "      <td>N</td>\n",
       "      <td>N</td>\n",
       "      <td>N</td>\n",
       "      <td>N</td>\n",
       "      <td>N</td>\n",
       "      <td>N</td>\n",
       "      <td>N</td>\n",
       "      <td>Y</td>\n",
       "      <td>N</td>\n",
       "      <td>N</td>\n",
       "      <td>N</td>\n",
       "      <td>N</td>\n",
       "      <td>N</td>\n",
       "      <td>N</td>\n",
       "      <td>N</td>\n",
       "      <td>Y</td>\n",
       "      <td>N</td>\n",
       "      <td>N</td>\n",
       "      <td>N</td>\n",
       "      <td>N</td>\n",
       "      <td>N</td>\n",
       "      <td>N</td>\n",
       "      <td>N</td>\n",
       "      <td>75</td>\n",
       "      <td>75</td>\n",
       "      <td>N</td>\n",
       "      <td>N</td>\n",
       "      <td></td>\n",
       "      <td></td>\n",
       "      <td>M</td>\n",
       "      <td>B</td>\n",
       "      <td>8111975</td>\n",
       "      <td>34</td>\n",
       "      <td>5</td>\n",
       "      <td>10</td>\n",
       "      <td>160</td>\n",
       "      <td>BK</td>\n",
       "      <td>BR</td>\n",
       "      <td>M</td>\n",
       "      <td></td>\n",
       "      <td>L</td>\n",
       "      <td></td>\n",
       "      <td></td>\n",
       "      <td>STREET</td>\n",
       "      <td></td>\n",
       "      <td></td>\n",
       "      <td>BLAKE AVENUE</td>\n",
       "      <td>VERMONT STREET</td>\n",
       "      <td></td>\n",
       "      <td>BROOKLYN</td>\n",
       "      <td></td>\n",
       "      <td></td>\n",
       "      <td>75</td>\n",
       "      <td>G</td>\n",
       "      <td></td>\n",
       "      <td></td>\n",
       "      <td>1013956</td>\n",
       "      <td>182708</td>\n",
       "      <td>CM</td>\n",
       "      <td>1</td>\n",
       "      <td>46</td>\n",
       "    </tr>\n",
       "    <tr>\n",
       "      <th>1217</th>\n",
       "      <td>2010</td>\n",
       "      <td>61</td>\n",
       "      <td>135</td>\n",
       "      <td>1112010</td>\n",
       "      <td>1210</td>\n",
       "      <td>A</td>\n",
       "      <td>O</td>\n",
       "      <td>P</td>\n",
       "      <td>15</td>\n",
       "      <td>ROBBERY</td>\n",
       "      <td>5</td>\n",
       "      <td>V</td>\n",
       "      <td>Y</td>\n",
       "      <td>N</td>\n",
       "      <td>N</td>\n",
       "      <td></td>\n",
       "      <td>N</td>\n",
       "      <td></td>\n",
       "      <td>0</td>\n",
       "      <td>0</td>\n",
       "      <td>N</td>\n",
       "      <td></td>\n",
       "      <td>Y</td>\n",
       "      <td>N</td>\n",
       "      <td>N</td>\n",
       "      <td>N</td>\n",
       "      <td>N</td>\n",
       "      <td>N</td>\n",
       "      <td>N</td>\n",
       "      <td>N</td>\n",
       "      <td>N</td>\n",
       "      <td>N</td>\n",
       "      <td>N</td>\n",
       "      <td>N</td>\n",
       "      <td>N</td>\n",
       "      <td>N</td>\n",
       "      <td>N</td>\n",
       "      <td>N</td>\n",
       "      <td>N</td>\n",
       "      <td>N</td>\n",
       "      <td>N</td>\n",
       "      <td>N</td>\n",
       "      <td>N</td>\n",
       "      <td>N</td>\n",
       "      <td>N</td>\n",
       "      <td>N</td>\n",
       "      <td>N</td>\n",
       "      <td>Y</td>\n",
       "      <td>N</td>\n",
       "      <td>N</td>\n",
       "      <td>Y</td>\n",
       "      <td>Y</td>\n",
       "      <td>N</td>\n",
       "      <td>N</td>\n",
       "      <td>N</td>\n",
       "      <td>Y</td>\n",
       "      <td>Y</td>\n",
       "      <td>Y</td>\n",
       "      <td>Y</td>\n",
       "      <td>Y</td>\n",
       "      <td>N</td>\n",
       "      <td>N</td>\n",
       "      <td>N</td>\n",
       "      <td>N</td>\n",
       "      <td>Y</td>\n",
       "      <td>N</td>\n",
       "      <td>Y</td>\n",
       "      <td>N</td>\n",
       "      <td>N</td>\n",
       "      <td>N</td>\n",
       "      <td>N</td>\n",
       "      <td>N</td>\n",
       "      <td>N</td>\n",
       "      <td>61</td>\n",
       "      <td>61</td>\n",
       "      <td>Y</td>\n",
       "      <td>N</td>\n",
       "      <td>V</td>\n",
       "      <td>S</td>\n",
       "      <td>M</td>\n",
       "      <td>B</td>\n",
       "      <td>1071993</td>\n",
       "      <td>17</td>\n",
       "      <td>5</td>\n",
       "      <td>7</td>\n",
       "      <td>160</td>\n",
       "      <td>BK</td>\n",
       "      <td>BR</td>\n",
       "      <td>T</td>\n",
       "      <td></td>\n",
       "      <td>L</td>\n",
       "      <td></td>\n",
       "      <td></td>\n",
       "      <td>STREET</td>\n",
       "      <td></td>\n",
       "      <td></td>\n",
       "      <td>AVENUE W</td>\n",
       "      <td>EAST 28 STREET</td>\n",
       "      <td></td>\n",
       "      <td>BROOKLYN</td>\n",
       "      <td></td>\n",
       "      <td></td>\n",
       "      <td>61</td>\n",
       "      <td>E</td>\n",
       "      <td>7</td>\n",
       "      <td></td>\n",
       "      <td>1000091</td>\n",
       "      <td>156314</td>\n",
       "      <td>CM</td>\n",
       "      <td>1</td>\n",
       "      <td>85</td>\n",
       "    </tr>\n",
       "    <tr>\n",
       "      <th>3538</th>\n",
       "      <td>2010</td>\n",
       "      <td>18</td>\n",
       "      <td>1959</td>\n",
       "      <td>7232010</td>\n",
       "      <td>1125</td>\n",
       "      <td>1</td>\n",
       "      <td>O</td>\n",
       "      <td>P</td>\n",
       "      <td>20</td>\n",
       "      <td>GRAND LARCENY</td>\n",
       "      <td>5</td>\n",
       "      <td>P</td>\n",
       "      <td>Y</td>\n",
       "      <td>Y</td>\n",
       "      <td>N</td>\n",
       "      <td></td>\n",
       "      <td>N</td>\n",
       "      <td></td>\n",
       "      <td>0</td>\n",
       "      <td>0</td>\n",
       "      <td>N</td>\n",
       "      <td></td>\n",
       "      <td>Y</td>\n",
       "      <td>N</td>\n",
       "      <td>N</td>\n",
       "      <td>N</td>\n",
       "      <td>N</td>\n",
       "      <td>N</td>\n",
       "      <td>N</td>\n",
       "      <td>N</td>\n",
       "      <td>N</td>\n",
       "      <td>N</td>\n",
       "      <td>Y</td>\n",
       "      <td>N</td>\n",
       "      <td>N</td>\n",
       "      <td>N</td>\n",
       "      <td>N</td>\n",
       "      <td>N</td>\n",
       "      <td>Y</td>\n",
       "      <td>N</td>\n",
       "      <td>N</td>\n",
       "      <td>N</td>\n",
       "      <td>Y</td>\n",
       "      <td>Y</td>\n",
       "      <td>N</td>\n",
       "      <td>N</td>\n",
       "      <td>N</td>\n",
       "      <td>N</td>\n",
       "      <td>N</td>\n",
       "      <td>N</td>\n",
       "      <td>Y</td>\n",
       "      <td>N</td>\n",
       "      <td>N</td>\n",
       "      <td>N</td>\n",
       "      <td>N</td>\n",
       "      <td>Y</td>\n",
       "      <td>N</td>\n",
       "      <td>N</td>\n",
       "      <td>N</td>\n",
       "      <td>N</td>\n",
       "      <td>N</td>\n",
       "      <td>N</td>\n",
       "      <td>N</td>\n",
       "      <td>N</td>\n",
       "      <td>Y</td>\n",
       "      <td>Y</td>\n",
       "      <td>N</td>\n",
       "      <td>N</td>\n",
       "      <td>N</td>\n",
       "      <td>N</td>\n",
       "      <td>N</td>\n",
       "      <td>N</td>\n",
       "      <td>N</td>\n",
       "      <td>18</td>\n",
       "      <td>18</td>\n",
       "      <td>Y</td>\n",
       "      <td>N</td>\n",
       "      <td>V</td>\n",
       "      <td>S</td>\n",
       "      <td>M</td>\n",
       "      <td>B</td>\n",
       "      <td>12311900</td>\n",
       "      <td>26</td>\n",
       "      <td>6</td>\n",
       "      <td>1</td>\n",
       "      <td>215</td>\n",
       "      <td>BK</td>\n",
       "      <td>BR</td>\n",
       "      <td>M</td>\n",
       "      <td></td>\n",
       "      <td>L</td>\n",
       "      <td></td>\n",
       "      <td></td>\n",
       "      <td>STREET</td>\n",
       "      <td></td>\n",
       "      <td></td>\n",
       "      <td>PARK AVENUE</td>\n",
       "      <td>EAST 50 STREET</td>\n",
       "      <td></td>\n",
       "      <td>MANHATTAN</td>\n",
       "      <td></td>\n",
       "      <td></td>\n",
       "      <td>18</td>\n",
       "      <td>A</td>\n",
       "      <td></td>\n",
       "      <td></td>\n",
       "      <td>991458</td>\n",
       "      <td>215139</td>\n",
       "      <td>CM</td>\n",
       "      <td>1</td>\n",
       "      <td>45</td>\n",
       "    </tr>\n",
       "    <tr>\n",
       "      <th>5460</th>\n",
       "      <td>2010</td>\n",
       "      <td>13</td>\n",
       "      <td>1044</td>\n",
       "      <td>2242010</td>\n",
       "      <td>1415</td>\n",
       "      <td>1</td>\n",
       "      <td>I</td>\n",
       "      <td>T</td>\n",
       "      <td>3</td>\n",
       "      <td>G/L</td>\n",
       "      <td>3</td>\n",
       "      <td>P</td>\n",
       "      <td>Y</td>\n",
       "      <td>N</td>\n",
       "      <td>N</td>\n",
       "      <td></td>\n",
       "      <td>N</td>\n",
       "      <td></td>\n",
       "      <td>0</td>\n",
       "      <td>0</td>\n",
       "      <td>Y</td>\n",
       "      <td></td>\n",
       "      <td>N</td>\n",
       "      <td>N</td>\n",
       "      <td>N</td>\n",
       "      <td>N</td>\n",
       "      <td>N</td>\n",
       "      <td>N</td>\n",
       "      <td>N</td>\n",
       "      <td>N</td>\n",
       "      <td>N</td>\n",
       "      <td>N</td>\n",
       "      <td>N</td>\n",
       "      <td>N</td>\n",
       "      <td>N</td>\n",
       "      <td>N</td>\n",
       "      <td>N</td>\n",
       "      <td>N</td>\n",
       "      <td>N</td>\n",
       "      <td>N</td>\n",
       "      <td>N</td>\n",
       "      <td>N</td>\n",
       "      <td>N</td>\n",
       "      <td>N</td>\n",
       "      <td>N</td>\n",
       "      <td>N</td>\n",
       "      <td>N</td>\n",
       "      <td>N</td>\n",
       "      <td>N</td>\n",
       "      <td>N</td>\n",
       "      <td>Y</td>\n",
       "      <td>N</td>\n",
       "      <td>N</td>\n",
       "      <td>N</td>\n",
       "      <td>N</td>\n",
       "      <td>Y</td>\n",
       "      <td>N</td>\n",
       "      <td>Y</td>\n",
       "      <td>N</td>\n",
       "      <td>Y</td>\n",
       "      <td>N</td>\n",
       "      <td>N</td>\n",
       "      <td>N</td>\n",
       "      <td>N</td>\n",
       "      <td>N</td>\n",
       "      <td>N</td>\n",
       "      <td>N</td>\n",
       "      <td>N</td>\n",
       "      <td>N</td>\n",
       "      <td>N</td>\n",
       "      <td>N</td>\n",
       "      <td>N</td>\n",
       "      <td>N</td>\n",
       "      <td>863</td>\n",
       "      <td>863</td>\n",
       "      <td>N</td>\n",
       "      <td>N</td>\n",
       "      <td></td>\n",
       "      <td></td>\n",
       "      <td>M</td>\n",
       "      <td>B</td>\n",
       "      <td>11171965</td>\n",
       "      <td>44</td>\n",
       "      <td>5</td>\n",
       "      <td>9</td>\n",
       "      <td>158</td>\n",
       "      <td>BK</td>\n",
       "      <td>BR</td>\n",
       "      <td>M</td>\n",
       "      <td></td>\n",
       "      <td>L</td>\n",
       "      <td></td>\n",
       "      <td></td>\n",
       "      <td>VIC MVM POST 0418</td>\n",
       "      <td></td>\n",
       "      <td></td>\n",
       "      <td>UNION SQUARE EAST</td>\n",
       "      <td>EAST 14 STREET</td>\n",
       "      <td></td>\n",
       "      <td>MANHATTAN</td>\n",
       "      <td></td>\n",
       "      <td></td>\n",
       "      <td>13</td>\n",
       "      <td>C</td>\n",
       "      <td></td>\n",
       "      <td></td>\n",
       "      <td></td>\n",
       "      <td></td>\n",
       "      <td>CM</td>\n",
       "      <td>1</td>\n",
       "      <td>45</td>\n",
       "    </tr>\n",
       "    <tr>\n",
       "      <th>1850</th>\n",
       "      <td>2010</td>\n",
       "      <td>72</td>\n",
       "      <td>3228</td>\n",
       "      <td>9042010</td>\n",
       "      <td>30</td>\n",
       "      <td>A</td>\n",
       "      <td>I</td>\n",
       "      <td>P</td>\n",
       "      <td>2</td>\n",
       "      <td>GLA</td>\n",
       "      <td>5</td>\n",
       "      <td>V</td>\n",
       "      <td>Y</td>\n",
       "      <td>N</td>\n",
       "      <td>N</td>\n",
       "      <td></td>\n",
       "      <td>N</td>\n",
       "      <td></td>\n",
       "      <td>0</td>\n",
       "      <td>0</td>\n",
       "      <td>Y</td>\n",
       "      <td></td>\n",
       "      <td>Y</td>\n",
       "      <td>N</td>\n",
       "      <td>N</td>\n",
       "      <td>N</td>\n",
       "      <td>N</td>\n",
       "      <td>N</td>\n",
       "      <td>N</td>\n",
       "      <td>N</td>\n",
       "      <td>N</td>\n",
       "      <td>N</td>\n",
       "      <td>N</td>\n",
       "      <td>N</td>\n",
       "      <td>N</td>\n",
       "      <td>N</td>\n",
       "      <td>N</td>\n",
       "      <td>N</td>\n",
       "      <td>N</td>\n",
       "      <td>N</td>\n",
       "      <td>N</td>\n",
       "      <td>N</td>\n",
       "      <td>N</td>\n",
       "      <td>N</td>\n",
       "      <td>N</td>\n",
       "      <td>N</td>\n",
       "      <td>N</td>\n",
       "      <td>N</td>\n",
       "      <td>N</td>\n",
       "      <td>N</td>\n",
       "      <td>N</td>\n",
       "      <td>N</td>\n",
       "      <td>N</td>\n",
       "      <td>N</td>\n",
       "      <td>N</td>\n",
       "      <td>N</td>\n",
       "      <td>N</td>\n",
       "      <td>N</td>\n",
       "      <td>N</td>\n",
       "      <td>N</td>\n",
       "      <td>N</td>\n",
       "      <td>N</td>\n",
       "      <td>N</td>\n",
       "      <td>Y</td>\n",
       "      <td>Y</td>\n",
       "      <td>N</td>\n",
       "      <td>N</td>\n",
       "      <td>N</td>\n",
       "      <td>N</td>\n",
       "      <td>N</td>\n",
       "      <td>N</td>\n",
       "      <td>N</td>\n",
       "      <td>N</td>\n",
       "      <td>139</td>\n",
       "      <td>139</td>\n",
       "      <td>Y</td>\n",
       "      <td>N</td>\n",
       "      <td></td>\n",
       "      <td></td>\n",
       "      <td>M</td>\n",
       "      <td>Q</td>\n",
       "      <td>8081980</td>\n",
       "      <td>30</td>\n",
       "      <td>5</td>\n",
       "      <td>6</td>\n",
       "      <td>150</td>\n",
       "      <td>BK</td>\n",
       "      <td>BR</td>\n",
       "      <td>M</td>\n",
       "      <td></td>\n",
       "      <td>L</td>\n",
       "      <td></td>\n",
       "      <td></td>\n",
       "      <td>STREET</td>\n",
       "      <td></td>\n",
       "      <td></td>\n",
       "      <td>4 AVENUE</td>\n",
       "      <td>48 STREET</td>\n",
       "      <td></td>\n",
       "      <td>BROOKLYN</td>\n",
       "      <td></td>\n",
       "      <td></td>\n",
       "      <td>72</td>\n",
       "      <td>E</td>\n",
       "      <td>8</td>\n",
       "      <td></td>\n",
       "      <td>981083</td>\n",
       "      <td>175211</td>\n",
       "      <td>CM</td>\n",
       "      <td>1</td>\n",
       "      <td>46</td>\n",
       "    </tr>\n",
       "  </tbody>\n",
       "</table>\n",
       "</div>"
      ],
      "text/plain": [
       "      year  pct  ser_num  datestop  timestop recstat inout trhsloc  perobs  \\\n",
       "4485  2010   75    10185   5192010        11       A     O       P       1   \n",
       "1217  2010   61      135   1112010      1210       A     O       P      15   \n",
       "3538  2010   18     1959   7232010      1125       1     O       P      20   \n",
       "5460  2010   13     1044   2242010      1415       1     I       T       3   \n",
       "1850  2010   72     3228   9042010        30       A     I       P       2   \n",
       "\n",
       "           crimsusp  perstop typeofid explnstp othpers arstmade arstoffn  \\\n",
       "4485            GLA        5        P        Y       N        N            \n",
       "1217        ROBBERY        5        V        Y       N        N            \n",
       "3538  GRAND LARCENY        5        P        Y       Y        N            \n",
       "5460            G/L        3        P        Y       N        N            \n",
       "1850            GLA        5        V        Y       N        N            \n",
       "\n",
       "     sumissue sumoffen  compyear  comppct offunif officrid frisked searched  \\\n",
       "4485        N                  0        0       Y                N        N   \n",
       "1217        N                  0        0       N                Y        N   \n",
       "3538        N                  0        0       N                Y        N   \n",
       "5460        N                  0        0       Y                N        N   \n",
       "1850        N                  0        0       Y                Y        N   \n",
       "\n",
       "     contrabn adtlrept pistol riflshot asltweap knifcuti machgun othrweap  \\\n",
       "4485        N        N      N        N        N        N       N        N   \n",
       "1217        N        N      N        N        N        N       N        N   \n",
       "3538        N        N      N        N        N        N       N        N   \n",
       "5460        N        N      N        N        N        N       N        N   \n",
       "1850        N        N      N        N        N        N       N        N   \n",
       "\n",
       "     pf_hands pf_wall pf_grnd pf_drwep pf_ptwep pf_baton pf_hcuff pf_pepsp  \\\n",
       "4485        N       N       N        N        N        N        N        N   \n",
       "1217        N       N       N        N        N        N        N        N   \n",
       "3538        Y       N       N        N        N        N        Y        N   \n",
       "5460        N       N       N        N        N        N        N        N   \n",
       "1850        N       N       N        N        N        N        N        N   \n",
       "\n",
       "     pf_other radio ac_rept ac_inves rf_vcrim rf_othsw ac_proxm rf_attir  \\\n",
       "4485        N     N       N        N        N        N        N        N   \n",
       "1217        N     N       N        N        N        N        N        Y   \n",
       "3538        N     N       Y        Y        N        N        N        N   \n",
       "5460        N     N       N        N        N        N        N        N   \n",
       "1850        N     N       N        N        N        N        N        N   \n",
       "\n",
       "     cs_objcs cs_descr cs_casng cs_lkout rf_vcact cs_cloth cs_drgtr ac_evasv  \\\n",
       "4485        N        N        N        N        N        N        N        N   \n",
       "1217        N        N        Y        Y        N        N        N        Y   \n",
       "3538        N        N        Y        N        N        N        N        Y   \n",
       "5460        N        N        Y        N        N        N        N        Y   \n",
       "1850        N        N        N        N        N        N        N        N   \n",
       "\n",
       "     ac_assoc cs_furtv rf_rfcmp ac_cgdir rf_verbl cs_vcrim cs_bulge cs_other  \\\n",
       "4485        N        Y        N        N        N        N        N        N   \n",
       "1217        Y        Y        Y        Y        N        N        N        N   \n",
       "3538        N        N        N        N        N        N        N        N   \n",
       "5460        N        Y        N        Y        N        N        N        N   \n",
       "1850        N        N        N        N        N        N        N        Y   \n",
       "\n",
       "     ac_incid ac_time rf_knowl ac_stsnd ac_other sb_hdobj sb_outln sb_admis  \\\n",
       "4485        N       Y        N        N        N        N        N        N   \n",
       "1217        Y       N        Y        N        N        N        N        N   \n",
       "3538        Y       Y        N        N        N        N        N        N   \n",
       "5460        N       N        N        N        N        N        N        N   \n",
       "1850        Y       N        N        N        N        N        N        N   \n",
       "\n",
       "     sb_other  repcmd  revcmd rf_furt rf_bulg offverb offshld sex race  \\\n",
       "4485        N      75      75       N       N                   M    B   \n",
       "1217        N      61      61       Y       N       V       S   M    B   \n",
       "3538        N      18      18       Y       N       V       S   M    B   \n",
       "5460        N     863     863       N       N                   M    B   \n",
       "1850        N     139     139       Y       N                   M    Q   \n",
       "\n",
       "           dob  age  ht_feet  ht_inch  weight haircolr eyecolor build  \\\n",
       "4485   8111975   34        5       10     160       BK       BR     M   \n",
       "1217   1071993   17        5        7     160       BK       BR     T   \n",
       "3538  12311900   26        6        1     215       BK       BR     M   \n",
       "5460  11171965   44        5        9     158       BK       BR     M   \n",
       "1850   8081980   30        5        6     150       BK       BR     M   \n",
       "\n",
       "     othfeatr addrtyp rescode premtype           premname addrnum stname  \\\n",
       "4485                L                              STREET                  \n",
       "1217                L                              STREET                  \n",
       "3538                L                              STREET                  \n",
       "5460                L                   VIC MVM POST 0418                  \n",
       "1850                L                              STREET                  \n",
       "\n",
       "                stinter         crossst aptnum       city state zip addrpct  \\\n",
       "4485       BLAKE AVENUE  VERMONT STREET          BROOKLYN                75   \n",
       "1217           AVENUE W  EAST 28 STREET          BROOKLYN                61   \n",
       "3538        PARK AVENUE  EAST 50 STREET         MANHATTAN                18   \n",
       "5460  UNION SQUARE EAST  EAST 14 STREET         MANHATTAN                13   \n",
       "1850           4 AVENUE       48 STREET          BROOKLYN                72   \n",
       "\n",
       "     sector  beat post   xcoord  ycoord dettypcm linecm detailcm  \n",
       "4485      G             1013956  182708       CM      1       46  \n",
       "1217      E     7       1000091  156314       CM      1       85  \n",
       "3538      A              991458  215139       CM      1       45  \n",
       "5460      C                                   CM      1       45  \n",
       "1850      E     8        981083  175211       CM      1       46  "
      ]
     },
     "execution_count": 10,
     "metadata": {},
     "output_type": "execute_result"
    }
   ],
   "source": [
    "# Inspeccionamos los datos\n",
    "df_test_raw.sample(5)"
   ]
  },
  {
   "cell_type": "markdown",
   "metadata": {},
   "source": [
    "> __Dimensión de la base de datos__"
   ]
  },
  {
   "cell_type": "code",
   "execution_count": 11,
   "metadata": {},
   "outputs": [
    {
     "data": {
      "text/plain": [
       "(5812, 111)"
      ]
     },
     "execution_count": 11,
     "metadata": {},
     "output_type": "execute_result"
    }
   ],
   "source": [
    "# Revisamos dimensiones de la base de datos de entrenamiento\n",
    "df_train_raw.shape"
   ]
  },
  {
   "cell_type": "code",
   "execution_count": 12,
   "metadata": {},
   "outputs": [
    {
     "data": {
      "text/plain": [
       "(6013, 111)"
      ]
     },
     "execution_count": 12,
     "metadata": {},
     "output_type": "execute_result"
    }
   ],
   "source": [
    "# Revisamos dimensiones de la base de datos de validación\n",
    "df_test_raw.shape"
   ]
  },
  {
   "cell_type": "markdown",
   "metadata": {},
   "source": [
    "Las basse de datos se componen 110 atributos y el vector de clases [arstmade]. Para el caso de los datos de entrenamiento contamos con 5812 registros y 6013 para el caso de validación."
   ]
  },
  {
   "cell_type": "markdown",
   "metadata": {},
   "source": [
    "> __Revisamos datos perdidos__"
   ]
  },
  {
   "cell_type": "code",
   "execution_count": 13,
   "metadata": {},
   "outputs": [
    {
     "data": {
      "text/plain": [
       "<matplotlib.axes._subplots.AxesSubplot at 0x1023bb550>"
      ]
     },
     "execution_count": 13,
     "metadata": {},
     "output_type": "execute_result"
    },
    {
     "data": {
      "image/png": "[encoded data removed]",
      "text/plain": [
       "<Figure size 1800x720 with 2 Axes>"
      ]
     },
     "metadata": {
      "needs_background": "light"
     },
     "output_type": "display_data"
    }
   ],
   "source": [
    "# Revisamos datos perdidos en DF de entrenamiento\n",
    "msngo.matrix(df_train_raw)"
   ]
  },
  {
   "cell_type": "code",
   "execution_count": 14,
   "metadata": {},
   "outputs": [
    {
     "data": {
      "text/plain": [
       "<matplotlib.axes._subplots.AxesSubplot at 0x11d35f150>"
      ]
     },
     "execution_count": 14,
     "metadata": {},
     "output_type": "execute_result"
    },
    {
     "data": {
      "image/png": "[encoded data removed]",
      "text/plain": [
       "<Figure size 1800x720 with 2 Axes>"
      ]
     },
     "metadata": {
      "needs_background": "light"
     },
     "output_type": "display_data"
    }
   ],
   "source": [
    "# Revisamos datos perdidos en DF de validación\n",
    "msngo.matrix(df_test_raw, )"
   ]
  },
  {
   "cell_type": "markdown",
   "metadata": {},
   "source": [
    "Revisando los valores NaN, podemos ver que todas las columnas no presentan datos perdidos, para efectos visuales se revisan los datos perdidos con la el método matrix() de msngo."
   ]
  },
  {
   "cell_type": "code",
   "execution_count": 15,
   "metadata": {},
   "outputs": [
    {
     "data": {
      "text/plain": [
       "<matplotlib.axes._subplots.AxesSubplot at 0x11ee9c290>"
      ]
     },
     "execution_count": 15,
     "metadata": {},
     "output_type": "execute_result"
    },
    {
     "data": {
      "image/png": "[encoded data removed]",
      "text/plain": [
       "<Figure size 1800x720 with 2 Axes>"
      ]
     },
     "metadata": {
      "needs_background": "light"
     },
     "output_type": "display_data"
    }
   ],
   "source": [
    "msngo.matrix(df_train_raw.replace('', np.nan).replace(' ', np.nan))"
   ]
  },
  {
   "cell_type": "markdown",
   "metadata": {},
   "source": [
    "Ahora bien, si reemplazamos los datos vacíos como '' y ' ' por NaN se aprecia que efectivamente si tenemos columnas que presentan datos vacíos y vamos para disponer de un set de datos aptos para el entrenamiento vamos a pre-procesar con la función `create_suitable_dataframe` disponible en el archivo provisto para resolver este desafío `preproc_nyc_sqf.py`"
   ]
  },
  {
   "cell_type": "markdown",
   "metadata": {},
   "source": [
    "> __Pre-procesamiento de atributos__\n",
    "\n",
    "Se crea un dataframe apto para entrenamiento de acuerdo a normas básicas de limpieza de datos faltantes,  transformación de etiquetas nulas en variables categóricas y crea atributos sinteticos de edad del sospechoso y conversión de distancia a sistema metrico.\n",
    "\n",
    "\n",
    "<div style='color: green; font-weight: bold'>\n",
    "<br>\n",
    "    \n",
    "Se realizaron modificaciones a la función `create_suitable_dataframe`, ya que al momento de aplicarla a distintos DataFrames las columnas de atributos resultantes variaban y esto hace imposible poder procesar en las etapas de predicción\n",
    "\n",
    "Se incorporó el parámetro `force_object`, para indicarle a la función cuales columnas se forzarán a ser de tipo object y así evitar los problemas de la inferencia de tipos de datos.\n",
    "</div>"
   ]
  },
  {
   "cell_type": "markdown",
   "metadata": {},
   "source": [
    "__force_object__: Se verifica en procesamientos de revisión que estas columnas en ocasiones se interpretan como numero y en otros caso como object, dependiendo si se incluyen valores vacíos. Para homologar la interpretación se fijan como object."
   ]
  },
  {
   "cell_type": "code",
   "execution_count": 16,
   "metadata": {},
   "outputs": [],
   "source": [
    "force_object = ['addrpct', 'detailcm']"
   ]
  },
  {
   "cell_type": "markdown",
   "metadata": {},
   "source": [
    "__force_delete__: Se verifica en procesamientos de revisión que estas columnas presentam variaciones que no garantiza estabilidad de homologación del DataFrame,  por ejemplo asltweap en el DataFrame de entrenamiento presenta 5811 registros con el valor N y 1 con el valor 1, esto es como tener una sóla clase y por ende se puede eliminar."
   ]
  },
  {
   "cell_type": "code",
   "execution_count": 17,
   "metadata": {},
   "outputs": [],
   "source": [
    "force_delete = ['asltweap', 'post']"
   ]
  },
  {
   "cell_type": "code",
   "execution_count": 18,
   "metadata": {},
   "outputs": [],
   "source": [
    "# Se pre-procesa el DataFrame de entrenamiento\n",
    "df_train, cat_col_train, num_col_train = preproc.create_suitable_dataframe(df_train_raw, \n",
    "                                                                           force_object = force_object, \n",
    "                                                                           force_delete = force_delete)"
   ]
  },
  {
   "cell_type": "code",
   "execution_count": 19,
   "metadata": {},
   "outputs": [],
   "source": [
    "# Se pre-procesa el DataFrame de validación\n",
    "df_test, cat_col_test, num_col_test = preproc.create_suitable_dataframe(df_test_raw, \n",
    "                                                                        force_object = force_object, \n",
    "                                                                        force_delete = force_delete)"
   ]
  },
  {
   "cell_type": "code",
   "execution_count": 20,
   "metadata": {},
   "outputs": [
    {
     "data": {
      "text/plain": [
       "(4636, 75)"
      ]
     },
     "execution_count": 20,
     "metadata": {},
     "output_type": "execute_result"
    }
   ],
   "source": [
    "df_train.shape"
   ]
  },
  {
   "cell_type": "code",
   "execution_count": 21,
   "metadata": {},
   "outputs": [
    {
     "data": {
      "text/plain": [
       "(4747, 75)"
      ]
     },
     "execution_count": 21,
     "metadata": {},
     "output_type": "execute_result"
    }
   ],
   "source": [
    "df_test.shape"
   ]
  },
  {
   "cell_type": "code",
   "execution_count": 22,
   "metadata": {},
   "outputs": [
    {
     "name": "stdout",
     "output_type": "stream",
     "text": [
      "Los DataFrame tienen las mismas columnas\n"
     ]
    }
   ],
   "source": [
    "if sum(df_train.columns == df_test.columns)==df_train.shape[1]==df_test.shape[1]:\n",
    "    print(\"Los DataFrame tienen las mismas columnas\")"
   ]
  },
  {
   "cell_type": "markdown",
   "metadata": {},
   "source": [
    "Dada la experiencia con la función `create_suitable_dataframe` estamos verificando que tanto el set de datos de entrenamiento y de validación queden con las mismas columnas despues de pre-procesar.\n",
    "\n",
    "Las basse de datos ahora se componen 73 atributos y el vector de clases [arstmade]. Para el caso de los datos de entrenamiento quedamos con 4636 registros y 4747 para el caso de validación."
   ]
  },
  {
   "cell_type": "markdown",
   "metadata": {},
   "source": [
    "> __Vector Objetivo__"
   ]
  },
  {
   "cell_type": "markdown",
   "metadata": {},
   "source": [
    "Revisamos nuestro __vector objetivo__ arstmade (Y si el procedimiento resultó en una detención, 0 de los contrario)"
   ]
  },
  {
   "cell_type": "code",
   "execution_count": 23,
   "metadata": {},
   "outputs": [
    {
     "data": {
      "text/plain": [
       "N    0.939387\n",
       "Y    0.060613\n",
       "Name: arstmade, dtype: float64"
      ]
     },
     "execution_count": 23,
     "metadata": {},
     "output_type": "execute_result"
    }
   ],
   "source": [
    "# Balance de clase datos de entrenamiento, vector objetivo\n",
    "df_train.arstmade.value_counts('%')"
   ]
  },
  {
   "cell_type": "code",
   "execution_count": 24,
   "metadata": {},
   "outputs": [
    {
     "data": {
      "text/plain": [
       "<matplotlib.axes._subplots.AxesSubplot at 0x1250f31d0>"
      ]
     },
     "execution_count": 24,
     "metadata": {},
     "output_type": "execute_result"
    },
    {
     "data": {
      "image/png": "[encoded data removed]",
      "text/plain": [
       "<Figure size 576x432 with 1 Axes>"
      ]
     },
     "metadata": {
      "needs_background": "light"
     },
     "output_type": "display_data"
    }
   ],
   "source": [
    "# Revisamos gráficamente el desbalance de clases de nuestro vector objetivo\n",
    "plt.figure(figsize=(8,6))\n",
    "sns.countplot(x='arstmade', data=df_train)"
   ]
  },
  {
   "cell_type": "code",
   "execution_count": 25,
   "metadata": {},
   "outputs": [
    {
     "data": {
      "text/plain": [
       "N    0.934906\n",
       "Y    0.065094\n",
       "Name: arstmade, dtype: float64"
      ]
     },
     "execution_count": 25,
     "metadata": {},
     "output_type": "execute_result"
    }
   ],
   "source": [
    "# Balance de clase datos de validación, vector objetivo\n",
    "df_test.arstmade.value_counts('%')"
   ]
  },
  {
   "cell_type": "code",
   "execution_count": 26,
   "metadata": {},
   "outputs": [
    {
     "data": {
      "text/plain": [
       "<matplotlib.axes._subplots.AxesSubplot at 0x11e5b14d0>"
      ]
     },
     "execution_count": 26,
     "metadata": {},
     "output_type": "execute_result"
    },
    {
     "data": {
      "image/png": "[encoded data removed]",
      "text/plain": [
       "<Figure size 576x432 with 1 Axes>"
      ]
     },
     "metadata": {
      "needs_background": "light"
     },
     "output_type": "display_data"
    }
   ],
   "source": [
    "# Revisamos gráficamente el desbalance de clases de nuestro vector objetivo\n",
    "plt.figure(figsize=(8,6))\n",
    "sns.countplot(x='arstmade', data=df_test)"
   ]
  },
  {
   "cell_type": "markdown",
   "metadata": {},
   "source": [
    "Podemos observar en ambas bases de datos, que hay un desbalanceo de clases en la muestra ya que vemos que hay más de un 93% de datos etiquetados con la __clase N__ (procedimiento no resultó una detención) y menos de un 7% con la __clase Y__ (procedimiento resultó una detención)."
   ]
  },
  {
   "cell_type": "markdown",
   "metadata": {},
   "source": [
    "> __Atributos__"
   ]
  },
  {
   "cell_type": "markdown",
   "metadata": {},
   "source": [
    "__Revisemos los atributos numéricos__:"
   ]
  },
  {
   "cell_type": "code",
   "execution_count": 27,
   "metadata": {
    "scrolled": false
   },
   "outputs": [
    {
     "data": {
      "image/png": "[encoded data removed]",
      "text/plain": [
       "<Figure size 1080x360 with 5 Axes>"
      ]
     },
     "metadata": {
      "needs_background": "light"
     },
     "output_type": "display_data"
    }
   ],
   "source": [
    "plt.subplots(figsize= (15, 5))\n",
    "# Seleccionamos todos los atributos numericos\n",
    "cols_num = df_train.drop(columns=['arstmade']).select_dtypes(exclude=['object']).columns\n",
    "for i, (colname, serie) in enumerate(df_train.loc[:,cols_num].iteritems()):\n",
    "    plt.subplot(1, 5, i + 1)\n",
    "    df_train.groupby('arstmade')[colname].plot(kind='hist', alpha=.5)\n",
    "    plt.legend(df_train['arstmade'].unique())\n",
    "    plt.title(colname)\n",
    "    plt.tight_layout()\n"
   ]
  },
  {
   "cell_type": "markdown",
   "metadata": {},
   "source": [
    "Se observa que los atributos numéricos addpct, detailcm, age_individual, month y meters tienen mayor consentración en la clase N de nuestro vector objetivo, no obstante la forma en que se distribuyen los datos en ambas cases es similar, lo que se puede apreciar en un gráfico de Kernel."
   ]
  },
  {
   "cell_type": "code",
   "execution_count": 28,
   "metadata": {},
   "outputs": [
    {
     "data": {
      "image/png": "[encoded data removed]",
      "text/plain": [
       "<Figure size 1080x360 with 5 Axes>"
      ]
     },
     "metadata": {
      "needs_background": "light"
     },
     "output_type": "display_data"
    }
   ],
   "source": [
    "plt.subplots(figsize= (15, 5))\n",
    "cols = df_train.drop(columns=['arstmade']).select_dtypes(exclude=['object']).columns\n",
    "for i, (colname, serie) in enumerate(df_train.loc[:,cols].iteritems()):\n",
    "    plt.subplot(1, 5, i + 1)\n",
    "    df_train.groupby('arstmade')[colname].plot(kind='kde', alpha=.5)\n",
    "    plt.legend(df_train['arstmade'].unique())\n",
    "    plt.title(colname)\n",
    "    plt.tight_layout()"
   ]
  },
  {
   "cell_type": "markdown",
   "metadata": {},
   "source": [
    "El caso del atributo age_individual está concentrado en torno a los 30 años. En la etapa de __Feature engineering__ veremos si es necesario aplicar el logaritmo a este atributo para balancear la distribución."
   ]
  },
  {
   "cell_type": "markdown",
   "metadata": {},
   "source": [
    "__Revisemos los atributos categóricos__:"
   ]
  },
  {
   "cell_type": "code",
   "execution_count": 29,
   "metadata": {
    "scrolled": false
   },
   "outputs": [
    {
     "data": {
      "image/png": "[encoded data removed]",
      "text/plain": [
       "<Figure size 1440x7200 with 69 Axes>"
      ]
     },
     "metadata": {
      "needs_background": "light"
     },
     "output_type": "display_data"
    }
   ],
   "source": [
    "# Generamos una grilla con los gráficos de distribución del resto de atributos.\n",
    "plt.figure(figsize=(20,100))\n",
    "# Seleccionamos todos los atributos categóricos\n",
    "cols_cat = df_train.drop(columns=['arstmade']).select_dtypes(include=['object']).columns\n",
    "col = 5\n",
    "row = (df_train.shape[1]//col) + 1\n",
    "# Recorremos el listado de atributos.\n",
    "for index, (colname, serie) in enumerate(df_train.loc[:, cols_cat].iteritems()):\n",
    "    plt.subplot(row, col, index+1)\n",
    "    # Se usa un grafico de ocurrencias\n",
    "    if serie.dtype == 'object':\n",
    "        sns.countplot(x= colname, data=df_train, hue='arstmade')"
   ]
  },
  {
   "cell_type": "code",
   "execution_count": 30,
   "metadata": {},
   "outputs": [
    {
     "name": "stdout",
     "output_type": "stream",
     "text": [
      "['trhsloc', 'typeofid', 'sex', 'race', 'haircolr', 'eyecolor', 'build', 'city', 'sector', 'beat']\n"
     ]
    }
   ],
   "source": [
    "# Revisamos que atributos tienen mas de 2 clases.\n",
    "cols_cat_multiclass = [i for i in df_train.loc[:, cols_cat] if len(df_train[i].value_counts())>2]\n",
    "print(cols_cat_multiclass)"
   ]
  },
  {
   "cell_type": "markdown",
   "metadata": {},
   "source": [
    "También se observa que los atributos categóricos tienen mayor consentración en la clase N de nuestro vector objetivo. La mayoria de los atributos son binarios, excepto __trhsloc__, __typeofid__, __sex__, __race__, __haircolr__, __eyecolor__, __build__, __city__, __sector__, __beat__, que en sí representan atributos particulares de un sospechoso."
   ]
  },
  {
   "cell_type": "code",
   "execution_count": 31,
   "metadata": {},
   "outputs": [
    {
     "data": {
      "text/plain": [
       "M    4277\n",
       "F     291\n",
       "Z      68\n",
       "Name: sex, dtype: int64"
      ]
     },
     "execution_count": 31,
     "metadata": {},
     "output_type": "execute_result"
    }
   ],
   "source": [
    "df_train['sex'].value_counts()"
   ]
  },
  {
   "cell_type": "markdown",
   "metadata": {},
   "source": [
    "por un tema de códigos me llama la atención el código Z, será la representación de zombie?."
   ]
  },
  {
   "cell_type": "markdown",
   "metadata": {},
   "source": [
    "## Feature engineering\n",
    "___"
   ]
  },
  {
   "cell_type": "markdown",
   "metadata": {},
   "source": [
    "Vamos a duplicar el DataFrame para los dos casos que vamos a modelar:"
   ]
  },
  {
   "cell_type": "code",
   "execution_count": 32,
   "metadata": {},
   "outputs": [],
   "source": [
    "# Caso 1, donde el vector objetivo es arstmade\n",
    "df_train_1 = df_train.copy()"
   ]
  },
  {
   "cell_type": "code",
   "execution_count": 33,
   "metadata": {},
   "outputs": [],
   "source": [
    "# Caso 2, donde el vector objetivo determinará si el procedimiento policial cloncluirá en una acción violenta.\n",
    "df_train_2 = df_train.copy()"
   ]
  },
  {
   "cell_type": "markdown",
   "metadata": {},
   "source": [
    "En ambos casos estamos frente a un problema de clasifición con información previa sobre las clases y atributos de un procedimiento policial. En este sentido, tenemos la data para abordar la solución con herramientas de clasificación supervisada."
   ]
  },
  {
   "cell_type": "markdown",
   "metadata": {},
   "source": [
    "> __Vector Objetivo__ (arstmade)\n",
    "\n",
    "Dado que el vector objetivo para delerminar si un procedimiento concluye en una detención es binario (Y o N), vamos a proceder a a binarizar arstmade. Si bien tenemos muchas alternativas para realizar este procedimiento (LabelEncoder, pd.get_dummies, etc), vamos a proceder con la forma más ilustrativa."
   ]
  },
  {
   "cell_type": "code",
   "execution_count": 34,
   "metadata": {},
   "outputs": [
    {
     "data": {
      "text/plain": [
       "N    4355\n",
       "Y     281\n",
       "Name: arstmade, dtype: int64"
      ]
     },
     "execution_count": 34,
     "metadata": {},
     "output_type": "execute_result"
    }
   ],
   "source": [
    "# Revisamos nuevamente el balance de la clase para determinar que clase asignamos valor 1\n",
    "df_train_1['arstmade'].value_counts()"
   ]
  },
  {
   "cell_type": "code",
   "execution_count": 35,
   "metadata": {},
   "outputs": [],
   "source": [
    "# Vamos a nombrar un nuevo dataframe con el primer vector objetivo arstmade, con la clase Y=1\n",
    "df_train_1['arstmade_bin'] = np.where(df_train_1['arstmade']=='Y', 1, 0)\n",
    "\n",
    "# Eliminamos la columna original\n",
    "df_train_1.drop(columns='arstmade', inplace=True)"
   ]
  },
  {
   "cell_type": "code",
   "execution_count": 36,
   "metadata": {},
   "outputs": [
    {
     "data": {
      "text/plain": [
       "<matplotlib.axes._subplots.AxesSubplot at 0x11f123b10>"
      ]
     },
     "execution_count": 36,
     "metadata": {},
     "output_type": "execute_result"
    },
    {
     "data": {
      "image/png": "[encoded data removed]",
      "text/plain": [
       "<Figure size 720x360 with 1 Axes>"
      ]
     },
     "metadata": {
      "needs_background": "light"
     },
     "output_type": "display_data"
    }
   ],
   "source": [
    "plt.figure(figsize=(10, 5))\n",
    "sns.countplot(df_train_1['arstmade_bin'])"
   ]
  },
  {
   "cell_type": "code",
   "execution_count": 37,
   "metadata": {},
   "outputs": [
    {
     "data": {
      "text/plain": [
       "(4636, 75)"
      ]
     },
     "execution_count": 37,
     "metadata": {},
     "output_type": "execute_result"
    }
   ],
   "source": [
    "# Mantenemos la estructura de datos\n",
    "df_train_1.shape"
   ]
  },
  {
   "cell_type": "markdown",
   "metadata": {},
   "source": [
    "> __Modelo__ (arstmade)\n",
    "\n",
    "En este caso se pide 1 modelo que prediga si un determinado procedimiento concluirá en un arresto o no.\n",
    "\n",
    "Los hiperparámetros del modelo será calibrado mediante búsqueda de grilla con validaciones cruzadas (GridSeachCV).\n",
    "\n",
    "__Gradient Boosting__: \n",
    "  + param_grid={'learning_rate': [0.01, 0.1, 0.5], 'n_estimators': [50, 100, 500, 1000, 2000]}\n",
    "  + 5 Validaciones Cruzadas"
   ]
  },
  {
   "cell_type": "markdown",
   "metadata": {},
   "source": [
    "> __Vector Objetivo__ (physical_force)\n",
    "\n",
    "En este caso se consideran los atributos que implican fuerza física: 'pf_hands', 'pf_wall', 'pf_grnd', 'pf_drwep', 'pf_baton', 'pf_hcuff', 'pf_pepsp', 'pf_other' y se traduciran a 1 atributo que represente el vector objetivo.\n",
    "\n",
    "No se menciona en el enunciado, pero entra en el mismo tipo de atributos, vamos a incluir __pf_ptwep__."
   ]
  },
  {
   "cell_type": "code",
   "execution_count": 38,
   "metadata": {},
   "outputs": [],
   "source": [
    "df_train_2['physical_force'] = pd.get_dummies(df_train_2.filter(regex='pf_'), drop_first=True).sum(axis=1) \n",
    "df_train_2['physical_force'] = np.where(df_train_2['physical_force']==0, 0, 1)\n",
    "\n",
    "# Se elimanan columnas originales\n",
    "df_train_2.drop(columns=df_train_2.filter(regex='pf_').columns, inplace=True)"
   ]
  },
  {
   "cell_type": "code",
   "execution_count": 39,
   "metadata": {},
   "outputs": [
    {
     "data": {
      "text/plain": [
       "<matplotlib.axes._subplots.AxesSubplot at 0x11f1b16d0>"
      ]
     },
     "execution_count": 39,
     "metadata": {},
     "output_type": "execute_result"
    },
    {
     "data": {
      "image/png": "[encoded data removed]",
      "text/plain": [
       "<Figure size 720x360 with 1 Axes>"
      ]
     },
     "metadata": {
      "needs_background": "light"
     },
     "output_type": "display_data"
    }
   ],
   "source": [
    "plt.figure(figsize=(10, 5))\n",
    "sns.countplot(df_train_2['physical_force'])\n"
   ]
  },
  {
   "cell_type": "code",
   "execution_count": 40,
   "metadata": {},
   "outputs": [
    {
     "data": {
      "text/plain": [
       "(4636, 67)"
      ]
     },
     "execution_count": 40,
     "metadata": {},
     "output_type": "execute_result"
    }
   ],
   "source": [
    "# Nueva estructura de datos\n",
    "df_train_2.shape"
   ]
  },
  {
   "cell_type": "markdown",
   "metadata": {},
   "source": [
    "> __Modelos:__\n",
    "\n",
    "En este caso vamos a intentar explorar los 6 modelos planteados a continuación.\n",
    "Los hiperparámetros de los modelos serán calibrados mediante búsqueda de grilla con validaciones cruzadas (GridSeachCV), en la medida que se requiera. \n",
    "\n",
    "__Gradient Boosting__: \n",
    "  + param_grid={'learning_rate': [0.01, 0.1, 0.5], 'n_estimators': [50, 100, 500, 1000, 2000]}\n",
    "  + 5 Validaciones Cruzadas\n",
    "\n",
    "__Adaptive Boosting__: \n",
    "  + param_grid={'learning_rate': [0.01, 0.1, 0.5],'n_estimators': [50, 100, 500, 1000, 2000], 'subsample': [0.1,0.5,0.9]}\n",
    "  + 5 Validaciones Cruzadas\n",
    "\n",
    "__Random Forest__: \n",
    "  + n_estimators = range(20, 1000, 50)\n",
    "  + max_features=\"log2\"\n",
    "  + oob_score = True\n",
    "\n",
    "__SVC__ con Kernel __RBF__:\n",
    "  + param_grid = {'C': [0.0001, 0.001, 0.01, 0.1, 1, 10, 100, 1000], 'gamma': [0.0000001, 0.0001, 0.001, 0.01, 0.1, 1, 10]}\n",
    "  + 5 Validaciones Cruzadas\n",
    "\n",
    "__QDA__ (análisis cuadrático discriminante): Es probable que dejemos iniciado el hiperparámetro priors, con la probabilidad a priori del 2009.\n",
    "\n",
    "__BernoulliNB__ (para objetivo 3) o __MultinomialNB__ (para objetivo 4): Sin modificar hiperparámetros."
   ]
  },
  {
   "cell_type": "markdown",
   "metadata": {},
   "source": [
    "> __Atributos numéricos__"
   ]
  },
  {
   "cell_type": "markdown",
   "metadata": {},
   "source": [
    "Ateriormente evaluamos la posibilidad de aplicar el log a la edad, no obstante vemos que no mejora el balance de la distribución así que vamos a proceder sin aplicar logaritmo. El resto de atributos no requiere reproceso."
   ]
  },
  {
   "cell_type": "code",
   "execution_count": 41,
   "metadata": {},
   "outputs": [
    {
     "data": {
      "text/plain": [
       "<matplotlib.axes._subplots.AxesSubplot at 0x11f1eb5d0>"
      ]
     },
     "execution_count": 41,
     "metadata": {},
     "output_type": "execute_result"
    },
    {
     "data": {
      "image/png": "[encoded data removed]",
      "text/plain": [
       "<Figure size 1008x576 with 2 Axes>"
      ]
     },
     "metadata": {
      "needs_background": "light"
     },
     "output_type": "display_data"
    }
   ],
   "source": [
    "df_train_1['age_individual_log'] = np.log(df_train_1['age_individual'])\n",
    "plt.subplot(1, 2, 1)\n",
    "sns.distplot(df_train_1['age_individual_log'])\n",
    "plt.subplot(1, 2, 2)\n",
    "sns.distplot(df_train_1['age_individual'])"
   ]
  },
  {
   "cell_type": "code",
   "execution_count": 42,
   "metadata": {},
   "outputs": [],
   "source": [
    "# Procedemos a eliminar columna _log ya que no será requerida\n",
    "df_train_1.drop(columns='age_individual_log', inplace=True)"
   ]
  },
  {
   "cell_type": "markdown",
   "metadata": {},
   "source": [
    "> __Atributos categóricos__ (más de dos clases)"
   ]
  },
  {
   "cell_type": "markdown",
   "metadata": {},
   "source": [
    "Para evitar inflar el set de datos con columnas binarias, vamos a aplicar codificación de etiquetas con `LabelEncoder()`:"
   ]
  },
  {
   "cell_type": "code",
   "execution_count": 43,
   "metadata": {},
   "outputs": [
    {
     "name": "stdout",
     "output_type": "stream",
     "text": [
      "Columnas multiclase: ['trhsloc', 'typeofid', 'sex', 'race', 'haircolr', 'eyecolor', 'build', 'city', 'sector', 'beat']\n"
     ]
    }
   ],
   "source": [
    "print(f\"Columnas multiclase: {cols_cat_multiclass}\")"
   ]
  },
  {
   "cell_type": "code",
   "execution_count": 44,
   "metadata": {},
   "outputs": [],
   "source": [
    "lenc = LabelEncoder()"
   ]
  },
  {
   "cell_type": "code",
   "execution_count": 45,
   "metadata": {},
   "outputs": [],
   "source": [
    "for colname in cols_cat_multiclass:\n",
    "    if colname in df_train_1.columns:\n",
    "        df_train_1[colname + '_label'] = lenc.fit(df_train_1[colname]).transform(df_train_1[colname])\n",
    "        df_train_1.drop(columns=colname, inplace=True)\n",
    "    if colname in df_train_2.columns:\n",
    "        df_train_2[colname + '_label'] = lenc.fit(df_train_2[colname]).transform(df_train_2[colname])\n",
    "        df_train_2.drop(columns=colname, inplace=True)"
   ]
  },
  {
   "cell_type": "markdown",
   "metadata": {},
   "source": [
    "Mantenemos las estructuras de las bases de datos"
   ]
  },
  {
   "cell_type": "code",
   "execution_count": 46,
   "metadata": {},
   "outputs": [
    {
     "data": {
      "text/plain": [
       "(4636, 75)"
      ]
     },
     "execution_count": 46,
     "metadata": {},
     "output_type": "execute_result"
    }
   ],
   "source": [
    "df_train_1.shape"
   ]
  },
  {
   "cell_type": "code",
   "execution_count": 47,
   "metadata": {},
   "outputs": [
    {
     "data": {
      "text/plain": [
       "(4636, 67)"
      ]
     },
     "execution_count": 47,
     "metadata": {},
     "output_type": "execute_result"
    }
   ],
   "source": [
    "df_train_2.shape"
   ]
  },
  {
   "cell_type": "markdown",
   "metadata": {},
   "source": [
    "> __Atributos binarios__"
   ]
  },
  {
   "cell_type": "code",
   "execution_count": 48,
   "metadata": {},
   "outputs": [],
   "source": [
    "# Se binarizan las columnas que tienen 2 clases\n",
    "df_train_1 = pd.get_dummies(df_train_1, dummy_na=False, drop_first=True)\n",
    "df_train_2 = pd.get_dummies(df_train_2, dummy_na=False, drop_first=True)"
   ]
  },
  {
   "cell_type": "markdown",
   "metadata": {},
   "source": [
    "Mantenemos las estructuras de las bases de datos"
   ]
  },
  {
   "cell_type": "code",
   "execution_count": 49,
   "metadata": {},
   "outputs": [
    {
     "data": {
      "text/plain": [
       "(4636, 75)"
      ]
     },
     "execution_count": 49,
     "metadata": {},
     "output_type": "execute_result"
    }
   ],
   "source": [
    "df_train_1.shape"
   ]
  },
  {
   "cell_type": "code",
   "execution_count": 50,
   "metadata": {},
   "outputs": [
    {
     "data": {
      "text/plain": [
       "(4636, 67)"
      ]
     },
     "execution_count": 50,
     "metadata": {},
     "output_type": "execute_result"
    }
   ],
   "source": [
    "df_train_2.shape"
   ]
  }
 ],
 "metadata": {
  "kernelspec": {
   "display_name": "Python 3",
   "language": "python",
   "name": "python3"
  },
  "language_info": {
   "codemirror_mode": {
    "name": "ipython",
    "version": 3
   },
   "file_extension": ".py",
   "mimetype": "text/x-python",
   "name": "python",
   "nbconvert_exporter": "python",
   "pygments_lexer": "ipython3",
   "version": "3.7.4"
  }
 },
 "nbformat": 4,
 "nbformat_minor": 2
}
