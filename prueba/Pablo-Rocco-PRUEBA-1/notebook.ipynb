{
 "cells": [
  {
   "cell_type": "markdown",
   "metadata": {},
   "source": [
    "<img src='logo.png' style='display: block;height: 61px;float: left;padding: .75rem 1.25rem;'>"
   ]
  },
  {
   "cell_type": "markdown",
   "metadata": {},
   "source": [
    "# Prueba 1: Análisis de Sentimientos de Twitter"
   ]
  },
  {
   "cell_type": "markdown",
   "metadata": {},
   "source": [
    "A continuación se presenta un problema clásico en el análisis de texto: Extraer el sentimiento\n",
    "asociado a un texto.\n",
    "\n",
    "Para esto, utilizaremos una base de datos provenientes de CrowdFlower.\n",
    "El objetivo general de esta prueba es alcanzar el mejor desempeño posible para clasificar si un\n",
    "tweet es positivo o negativo.\n",
    "\n",
    "Para medir el desempeño, se evaluará con un conjunto de datos del cuál no tendrán acceso. De\n",
    "esta manera evitaremos que los modelos aprendan información sobre el conjunto de validación.\n",
    "* Crea una carpeta de trabajo y guarda todos los archivos correspondientes (notebook, archivos\n",
    "auxiliares y csv).\n",
    "* Una vez terminada la prueba, comprime la carpeta y sube el .zip a la sección\n",
    "correspondiente."
   ]
  },
  {
   "cell_type": "markdown",
   "metadata": {},
   "source": [
    "## Objetivos\n",
    "\n",
    "Para alcanzar el objetivo general, su trabajo se puede desagregar en los siguientes puntos:\n",
    "\n",
    "1. Generar un análisis exploratorio sobre los datos contenidos en el DataFrame, considerando\n",
    "palabras más comunes y distribución de las clases en el vector objetivo.\n",
    "\n",
    "2. Preprocesamiento de Texto:\n",
    "* Para trabajar adecuadamente con texto, debemos preprocesar y posteriormente representar cada oración como un conjunto de características.\n",
    "* Para preprocesar los tweets, debemos transformarlos a lower case. Un problema recurrente en el análisis de texto es la alta ocurrencia de palabras comunes. Se recomienda eliminarlas mediante la declaración de stopwords. Para generar la exclusión de stopwords, podemos utilizar la librería `nltk` (Natural Language ToolKit) y descargar los stopwords con la siguiente instrucción.\n",
    "\n",
    "import nltk\n",
    "\n",
    "nltk.download('stopwords')\n",
    "\n",
    "* Puede refinar los atributos a capturar mediante el proceso de **lemantización** (la reducción de variadas palabras con un tronco léxico común; ejemplo: Organización, Organiza, y Organizado presentan `organi_` como tronco léxico en comúmn) o **Stemming** (la reducción de una palabra a una expresión generalizable). Cabe destacar que ésta última carece de análisis morfológico del lenguaje.\n",
    "\n",
    "* Posterior a la refinación y preprocesamiento de las palabras, podemos representar cada oración en una matriz (o corpus) que permitirá reflejar la cantidad de ocurrencias de w1 palabra en un registro. Para ello, pueden hacer uso de las librerías de preprocesamiento `sklearn.feature_extraction.text.CountVectorizer` o `sklearn.feature_extraction.text.TfidfVectorizer` . De esta manera, tendremos un conjunto de características es mediante la frecuencia de ocurrencia de una palabra o término en el texto."
   ]
  },
  {
   "cell_type": "markdown",
   "metadata": {},
   "source": [
    "## Preliminares"
   ]
  },
  {
   "cell_type": "markdown",
   "metadata": {},
   "source": [
    "Una sección llamada Preliminares donde se realiza la descripción del problema y objetivos, así\n",
    "como explicar cómo implementarán su solución. Debe considerar qué criterios de optimización y\n",
    "métricas de desempeño."
   ]
  },
  {
   "cell_type": "markdown",
   "metadata": {},
   "source": [
    "* En este problema buscaremos clasificar con la mayor certeza posible el sentimiento que presenta un texto escrito mediante la plataforma twitter. Esto lo lograremos mediante el analisis de las palabras más repetidas en las publicaciones y como estas se asocian a un determinado sentimiento. Para esto realizaremos un procesamiento del texto de cada tweet, en donde extraeremos ciertas caracteristicas, como números, simbolos y puntuaciones, para lograr homogeneizar el contenido.\n",
    "* Generaremos división de muestra para comparar los datos predichos con un nuevo conjunto de datos al cual no tendremos acceso. De esta manera no estaremos obteniendo información desde un conjunto de datos de validación.\n",
    "* Nuestro vector objetivo para este problema sera un recodificación del atributo sentiment, el cual esta compuesto por 13 variables. A partir de estas 13 observaciones procederemos a clasificarlas entre Negativas y Positivas. En el caso que el sentimiento sea nutral, procederemos a reliazar una clasificación aleatoria entre Positiva o Negativa.\n",
    "* Cuando se tenga el texto preprocesado y la muestra ya dividida, procederemos a implementar una busqueda de grilla en donde implementaremos distintos modelos con el fin de evaluar cual de ellos sera el que presente la mejor metrica de desempeño, para ellos implementaremos los siguientes modelos:\n",
    "    * Naïve Bayes, `sklearn.naive_bayes.MultinomialNB`, sin modificar hiperparametros.\n",
    "    * Latent Dirichlet Allocation, `sklearn.decomposition.LatentDirichletAllocation`, con los siguientes hiperparámetros:\n",
    "        * n_components: [5, 10, 15].\n",
    "        * learning_decay: [0.7, 0.5].\n",
    "    * un modelo Regresión logística, ` sklearn.linear_model.LogisticRegression`, con los siguientes hiperparametros:\n",
    "        * (random_state=rep_seed)\n",
    "    * un modelo Árboles de clasificación, `sklearn.tree.DecisionTreeClassifier`, con los siguientes hiperparametros:\n",
    "        * 'min_samples_split': np.linspace(0.1, 1.0, 10)\n",
    "        * 'criterion': ['gini', 'entropy']\n",
    "        * 'max_depth': np.linspace(1, 32, 32)\n",
    "        * 'min_samples_leaf': np.linspace(0.1, 0.5, 10)\n",
    "        * 5 validaciones cruzdas\n",
    "    * un modelo Clasificador con soporte vectorial con un kernel, `rbf.sklearn.svm.SVC`, con los siguients hiperparametros:\n",
    "         * (kernel='rbf',\n",
    "         * param_grid = {'C': [0.0001, 0.001, 0.01, 0.1, 1, 10, 100, 1000], \n",
    "         * 'gamma': [0.0000001, 0.0001, 0.001, 0.01, 0.1, 1, 10]}\n",
    "         * 5 Validaciones Cruzadas\n",
    "    * un modelo Kmeans con dos clusters, `sklearn.cluster.KMeans`, con los siguiebtes hiperparametros:\n",
    "        * (n_clusters=2, random_state=rep_seed) \n",
    "    * finalmente un modelo de Mezcla Gaussiana con dos clusters, `sklearn.mixture.GaussianMixture`, con los siguientes hiperparametros:\n",
    "        * (n_components=2,random_state= rep_seed) \n",
    "    * Todo lo anterior sera hecho en conjunto con el módulo `sklearn.ensemble.VotingClassifier`\n",
    "* Las metricas a utilizar para este ejercicio seran: precision, recall, F1-Score, roc_auc_score, roc_curve"
   ]
  },
  {
   "cell_type": "markdown",
   "metadata": {},
   "source": [
    "## Aspectos computacionales"
   ]
  },
  {
   "cell_type": "markdown",
   "metadata": {},
   "source": [
    "> Se utilizan librerías bases para el tratamiento de datos y algunos aspectos básicos de cálculo y gráficos."
   ]
  },
  {
   "cell_type": "code",
   "execution_count": 1,
   "metadata": {},
   "outputs": [],
   "source": [
    "# Se importa libreria para el manejo de bases de datos\n",
    "import pandas as pd\n",
    "# Se importa libreria para el manejo de operaciones de cálculo\n",
    "import numpy as np\n",
    "# Se importa libreria para el manejo de gráficos\n",
    "import matplotlib.pyplot as plt\n",
    "# Se importa libreria para manejo de funciones estadisticas y probabilidades\n",
    "import seaborn as sns\n",
    "# Librería para visualizar patrones de datos perdidos\n",
    "import missingno as msngo\n",
    "# Se importa libreria para el menejo de warning\n",
    "import warnings\n",
    "# Se importa libreria para el trabajo de expresiones reguilares\n",
    "import re\n",
    "# Se importa librería para el trabajo con string\n",
    "import string"
   ]
  },
  {
   "cell_type": "markdown",
   "metadata": {},
   "source": [
    "> Definimos algunos aspectos de ambiente y valores por defecto de visualización."
   ]
  },
  {
   "cell_type": "code",
   "execution_count": 2,
   "metadata": {},
   "outputs": [],
   "source": [
    "# Por defecto, matplotlib crea una figura en una ventana separada.\n",
    "# podemos hacer que las figuras aparezcan en línea dentro del notebook; lo hacemos ejecutando:\n",
    "%matplotlib inline\n",
    "# Se ignoran los warning para evitar suciedad en la ejecución\n",
    "warnings.filterwarnings(action='ignore')\n",
    "# Se define el estilo de gráficos a usar\n",
    "plt.style.use('seaborn-pastel')\n",
    "# Se define el tamaño de los paños de los gráficos por defecto\n",
    "plt.rcParams['figure.figsize'] = (14, 8)\n",
    "# Dado que vamos a supervisar datos no limitaremos la cantidad de columnas a mostrar \n",
    "# en el despliegue del dataframe\n",
    "pd.options.display.max_columns = None"
   ]
  },
  {
   "cell_type": "markdown",
   "metadata": {},
   "source": [
    "> Se utilizan librerías de __sklear__ para resolver el problema desde el enfoque de machine learning"
   ]
  },
  {
   "cell_type": "code",
   "execution_count": 3,
   "metadata": {},
   "outputs": [],
   "source": [
    "# Método para el manejo de ocurrencias de palabras en texxto\n",
    "from sklearn.feature_extraction.text import CountVectorizer, TfidfVectorizer\n",
    "# Método de ensamble arbol de decisión para clasificación \n",
    "from sklearn.tree import DecisionTreeClassifier\n",
    "# Método de clasificación mediante la maximización de margen de clases.\n",
    "from sklearn.svm import SVC\n",
    "# Método que implementa la regresión logistica\n",
    "from sklearn.linear_model import LogisticRegression\n",
    "# Método que implementa Bayes ingenuo para el caso dos clases y multiclase.\n",
    "from sklearn.naive_bayes import MultinomialNB\n",
    "# Método para Asignación Latente de Dirichlet (ALD)\n",
    "from sklearn.decomposition import LatentDirichletAllocation\n",
    "# Método de mezcla de Gaussianas\n",
    "from sklearn.mixture import GaussianMixture\n",
    "# Método de KMeans\n",
    "from sklearn.cluster import KMeans\n",
    "# Método de ensamble\n",
    "from sklearn.ensemble import VotingClassifier\n",
    "# Métricas para evaluar modelos de clasificación\n",
    "from sklearn.metrics import classification_report, roc_curve, roc_auc_score\n",
    "# Métodos de selección de muestras\n",
    "from sklearn.model_selection import GridSearchCV, train_test_split\n",
    "# Metodo para el procesamiento de los datos en una tuberias\n",
    "from sklearn.pipeline import Pipeline"
   ]
  },
  {
   "cell_type": "markdown",
   "metadata": {},
   "source": [
    "> Se utilizan librerias especificas para el procesamiento de texto"
   ]
  },
  {
   "cell_type": "code",
   "execution_count": 4,
   "metadata": {},
   "outputs": [],
   "source": [
    "import nltk\n",
    "from nltk.stem import WordNetLemmatizer"
   ]
  },
  {
   "cell_type": "markdown",
   "metadata": {},
   "source": [
    "> Se utiliza la librería __pickle__ que contiene la función dump, que permite guardar el modelo desarrollado. "
   ]
  },
  {
   "cell_type": "code",
   "execution_count": 5,
   "metadata": {},
   "outputs": [],
   "source": [
    "# Método para hacer dump del modelo y objetos\n",
    "import pickle"
   ]
  },
  {
   "cell_type": "markdown",
   "metadata": {},
   "source": [
    "> Se utiliza <strong>librería propia</strong> que continen funciones auxiliares, necesarias para el desarrollo de desafíos."
   ]
  },
  {
   "cell_type": "code",
   "execution_count": 6,
   "metadata": {},
   "outputs": [],
   "source": [
    "# Se importa libreria con funciones auxiliares\n",
    "import ancilliary_funcs as afx"
   ]
  },
  {
   "cell_type": "markdown",
   "metadata": {},
   "source": [
    "> Se utiliza <strong>librería helpers.py</strong> que continen funciones auxiliares, necesarias para el desarrollo de desafíos."
   ]
  },
  {
   "cell_type": "code",
   "execution_count": 7,
   "metadata": {},
   "outputs": [],
   "source": [
    "import helpers as hlp"
   ]
  },
  {
   "cell_type": "markdown",
   "metadata": {},
   "source": [
    "## Análisis Exploratorio"
   ]
  },
  {
   "cell_type": "markdown",
   "metadata": {},
   "source": [
    "Una sección llamada Análisis Exploratorio donde se generará un análisis descriptivo\n",
    "considerando el tipo de variables (desde el punto de vista estadístico así como computacional).\n",
    "Esta sección debe considerar medidas univariadas/ frecuencias, datos perdidos y gráficos\n",
    "distributivos sobre las variables a analizar. A partir de ésta se debe clarificar la estrategia de\n",
    "preprocesamiento (datos perdidos, recodificaciones)."
   ]
  },
  {
   "cell_type": "code",
   "execution_count": 8,
   "metadata": {},
   "outputs": [],
   "source": [
    "df = pd.read_csv('text_emotion.csv')"
   ]
  },
  {
   "cell_type": "code",
   "execution_count": 9,
   "metadata": {},
   "outputs": [
    {
     "name": "stdout",
     "output_type": "stream",
     "text": [
      "<class 'pandas.core.frame.DataFrame'>\n",
      "RangeIndex: 40000 entries, 0 to 39999\n",
      "Data columns (total 4 columns):\n",
      "tweet_id     40000 non-null int64\n",
      "sentiment    40000 non-null object\n",
      "author       40000 non-null object\n",
      "content      40000 non-null object\n",
      "dtypes: int64(1), object(3)\n",
      "memory usage: 1.2+ MB\n"
     ]
    }
   ],
   "source": [
    "# obtenemos información del df\n",
    "df.info()"
   ]
  },
  {
   "cell_type": "code",
   "execution_count": 10,
   "metadata": {},
   "outputs": [
    {
     "data": {
      "text/plain": [
       "(40000, 4)"
      ]
     },
     "execution_count": 10,
     "metadata": {},
     "output_type": "execute_result"
    }
   ],
   "source": [
    "# preguntamos por las dimensiones del df\n",
    "df.shape"
   ]
  },
  {
   "cell_type": "markdown",
   "metadata": {},
   "source": [
    "* La base cuenta con 40000 registros y 4 atributos"
   ]
  },
  {
   "cell_type": "code",
   "execution_count": 11,
   "metadata": {},
   "outputs": [
    {
     "data": {
      "text/html": [
       "<div>\n",
       "<style scoped>\n",
       "    .dataframe tbody tr th:only-of-type {\n",
       "        vertical-align: middle;\n",
       "    }\n",
       "\n",
       "    .dataframe tbody tr th {\n",
       "        vertical-align: top;\n",
       "    }\n",
       "\n",
       "    .dataframe thead th {\n",
       "        text-align: right;\n",
       "    }\n",
       "</style>\n",
       "<table border=\"1\" class=\"dataframe\">\n",
       "  <thead>\n",
       "    <tr style=\"text-align: right;\">\n",
       "      <th></th>\n",
       "      <th>tweet_id</th>\n",
       "      <th>sentiment</th>\n",
       "      <th>author</th>\n",
       "      <th>content</th>\n",
       "    </tr>\n",
       "  </thead>\n",
       "  <tbody>\n",
       "    <tr>\n",
       "      <th>0</th>\n",
       "      <td>1956967341</td>\n",
       "      <td>empty</td>\n",
       "      <td>xoshayzers</td>\n",
       "      <td>@tiffanylue i know  i was listenin to bad habi...</td>\n",
       "    </tr>\n",
       "    <tr>\n",
       "      <th>1</th>\n",
       "      <td>1956967666</td>\n",
       "      <td>sadness</td>\n",
       "      <td>wannamama</td>\n",
       "      <td>Layin n bed with a headache  ughhhh...waitin o...</td>\n",
       "    </tr>\n",
       "    <tr>\n",
       "      <th>2</th>\n",
       "      <td>1956967696</td>\n",
       "      <td>sadness</td>\n",
       "      <td>coolfunky</td>\n",
       "      <td>Funeral ceremony...gloomy friday...</td>\n",
       "    </tr>\n",
       "    <tr>\n",
       "      <th>3</th>\n",
       "      <td>1956967789</td>\n",
       "      <td>enthusiasm</td>\n",
       "      <td>czareaquino</td>\n",
       "      <td>wants to hang out with friends SOON!</td>\n",
       "    </tr>\n",
       "    <tr>\n",
       "      <th>4</th>\n",
       "      <td>1956968416</td>\n",
       "      <td>neutral</td>\n",
       "      <td>xkilljoyx</td>\n",
       "      <td>@dannycastillo We want to trade with someone w...</td>\n",
       "    </tr>\n",
       "    <tr>\n",
       "      <th>5</th>\n",
       "      <td>1956968477</td>\n",
       "      <td>worry</td>\n",
       "      <td>xxxPEACHESxxx</td>\n",
       "      <td>Re-pinging @ghostridah14: why didn't you go to...</td>\n",
       "    </tr>\n",
       "    <tr>\n",
       "      <th>6</th>\n",
       "      <td>1956968487</td>\n",
       "      <td>sadness</td>\n",
       "      <td>ShansBee</td>\n",
       "      <td>I should be sleep, but im not! thinking about ...</td>\n",
       "    </tr>\n",
       "    <tr>\n",
       "      <th>7</th>\n",
       "      <td>1956968636</td>\n",
       "      <td>worry</td>\n",
       "      <td>mcsleazy</td>\n",
       "      <td>Hmmm. http://www.djhero.com/ is down</td>\n",
       "    </tr>\n",
       "    <tr>\n",
       "      <th>8</th>\n",
       "      <td>1956969035</td>\n",
       "      <td>sadness</td>\n",
       "      <td>nic0lepaula</td>\n",
       "      <td>@charviray Charlene my love. I miss you</td>\n",
       "    </tr>\n",
       "    <tr>\n",
       "      <th>9</th>\n",
       "      <td>1956969172</td>\n",
       "      <td>sadness</td>\n",
       "      <td>Ingenue_Em</td>\n",
       "      <td>@kelcouch I'm sorry  at least it's Friday?</td>\n",
       "    </tr>\n",
       "  </tbody>\n",
       "</table>\n",
       "</div>"
      ],
      "text/plain": [
       "     tweet_id   sentiment         author  \\\n",
       "0  1956967341       empty     xoshayzers   \n",
       "1  1956967666     sadness      wannamama   \n",
       "2  1956967696     sadness      coolfunky   \n",
       "3  1956967789  enthusiasm    czareaquino   \n",
       "4  1956968416     neutral      xkilljoyx   \n",
       "5  1956968477       worry  xxxPEACHESxxx   \n",
       "6  1956968487     sadness       ShansBee   \n",
       "7  1956968636       worry       mcsleazy   \n",
       "8  1956969035     sadness    nic0lepaula   \n",
       "9  1956969172     sadness     Ingenue_Em   \n",
       "\n",
       "                                             content  \n",
       "0  @tiffanylue i know  i was listenin to bad habi...  \n",
       "1  Layin n bed with a headache  ughhhh...waitin o...  \n",
       "2                Funeral ceremony...gloomy friday...  \n",
       "3               wants to hang out with friends SOON!  \n",
       "4  @dannycastillo We want to trade with someone w...  \n",
       "5  Re-pinging @ghostridah14: why didn't you go to...  \n",
       "6  I should be sleep, but im not! thinking about ...  \n",
       "7               Hmmm. http://www.djhero.com/ is down  \n",
       "8            @charviray Charlene my love. I miss you  \n",
       "9         @kelcouch I'm sorry  at least it's Friday?  "
      ]
     },
     "execution_count": 11,
     "metadata": {},
     "output_type": "execute_result"
    }
   ],
   "source": [
    "# inspeccionamos el df\n",
    "df.head(10)"
   ]
  },
  {
   "cell_type": "code",
   "execution_count": 12,
   "metadata": {},
   "outputs": [
    {
     "data": {
      "text/plain": [
       "<matplotlib.axes._subplots.AxesSubplot at 0x120f14150>"
      ]
     },
     "execution_count": 12,
     "metadata": {},
     "output_type": "execute_result"
    },
    {
     "data": {
      "image/png": "[encoded data removed]",
      "text/plain": [
       "<Figure size 1800x720 with 2 Axes>"
      ]
     },
     "metadata": {
      "needs_background": "light"
     },
     "output_type": "display_data"
    }
   ],
   "source": [
    "# realizamos un grafico para clarificar si se cuenta con datos perdidos\n",
    "msngo.matrix(df)"
   ]
  },
  {
   "cell_type": "markdown",
   "metadata": {},
   "source": [
    "* Se observa que la base no cuenta con datos perdidos, por lo que no sera necesario realizar alguna accion para mejorar ese aspecto."
   ]
  },
  {
   "cell_type": "markdown",
   "metadata": {},
   "source": [
    "> Realizamos un grafico donde contaremos cuales son los sentimientos ordenados de mayor a menor frecuencia"
   ]
  },
  {
   "cell_type": "code",
   "execution_count": 13,
   "metadata": {},
   "outputs": [
    {
     "data": {
      "text/plain": [
       "<matplotlib.axes._subplots.AxesSubplot at 0x1211edbd0>"
      ]
     },
     "execution_count": 13,
     "metadata": {},
     "output_type": "execute_result"
    },
    {
     "data": {
      "image/png": "[encoded data removed]",
      "text/plain": [
       "<Figure size 1008x576 with 1 Axes>"
      ]
     },
     "metadata": {
      "needs_background": "light"
     },
     "output_type": "display_data"
    }
   ],
   "source": [
    "df['sentiment'].value_counts().plot(kind='bar', title=\"Cuenta de sentimientos\")"
   ]
  },
  {
   "cell_type": "markdown",
   "metadata": {},
   "source": [
    "* Observamos que el atributo sentiment cuenta con 13 categorias diferentes. El sentimiento con mayor cantidad en la muestra es neutral. Procederemos a reclasificar neutral para obtener una clasificación equiprobable tanto positiva como negativa. "
   ]
  },
  {
   "cell_type": "code",
   "execution_count": 14,
   "metadata": {},
   "outputs": [
    {
     "data": {
      "text/plain": [
       "neutral       0.215950\n",
       "worry         0.211475\n",
       "happiness     0.130225\n",
       "sadness       0.129125\n",
       "love          0.096050\n",
       "surprise      0.054675\n",
       "fun           0.044400\n",
       "relief        0.038150\n",
       "hate          0.033075\n",
       "empty         0.020675\n",
       "enthusiasm    0.018975\n",
       "boredom       0.004475\n",
       "anger         0.002750\n",
       "Name: sentiment, dtype: float64"
      ]
     },
     "execution_count": 14,
     "metadata": {},
     "output_type": "execute_result"
    }
   ],
   "source": [
    "df['sentiment'].value_counts('%')"
   ]
  },
  {
   "cell_type": "markdown",
   "metadata": {},
   "source": [
    "* Si obtenemos los porcentajes de la ditribución de sentimientos dentro de sentiment, observamos que neutral corresponde al 22% del total de muestras, Negativa acumula el 40% del total y Positiva se lleva el 38% restante."
   ]
  },
  {
   "cell_type": "markdown",
   "metadata": {},
   "source": [
    "* Como sentiment sera nuestro vector objetivo, más adelante procederemos a reclasificar el vector para lograr trabajar el ejercicio de una mejor manera. Esto lo clasificaremos en 2 grupos: Positiva o Negativa"
   ]
  },
  {
   "cell_type": "code",
   "execution_count": 15,
   "metadata": {},
   "outputs": [
    {
     "data": {
      "text/plain": [
       "MissxMarisa        23\n",
       "ChineseLearn       22\n",
       "erkagarcia         19\n",
       "MiDesfileNegro     19\n",
       "lost_dog           18\n",
       "                   ..\n",
       "TinaTangDesigns     1\n",
       "Animalcontests      1\n",
       "thunni              1\n",
       "Kdogg511            1\n",
       "kristacity          1\n",
       "Name: author, Length: 33871, dtype: int64"
      ]
     },
     "execution_count": 15,
     "metadata": {},
     "output_type": "execute_result"
    }
   ],
   "source": [
    "# exploramos sobre los autores de los tweets, para ver si existe alguien que se destaque por sobre manera en las \n",
    "# publicaciones, lo cual no sucede\n",
    "df['author'].value_counts()"
   ]
  },
  {
   "cell_type": "code",
   "execution_count": 16,
   "metadata": {},
   "outputs": [
    {
     "data": {
      "text/plain": [
       "33871"
      ]
     },
     "execution_count": 16,
     "metadata": {},
     "output_type": "execute_result"
    }
   ],
   "source": [
    "len(df['author'].unique())"
   ]
  },
  {
   "cell_type": "markdown",
   "metadata": {},
   "source": [
    "* Vemos que en total existen 33871 diferentes autores de tweets del universo de 40000 a analizar, lo cual nos indica que no existe un solo usuario que este realizando la mayoria de publicaiones. De esta manera podemos descartar la presencia de bots que se dedican a realizar publicaciones de manera sesgada de acuerdo a un interes personal del creador del mismo."
   ]
  },
  {
   "cell_type": "markdown",
   "metadata": {},
   "source": [
    "## Feature Engineering"
   ]
  },
  {
   "cell_type": "markdown",
   "metadata": {},
   "source": [
    "Una sección llamada Feature Engineering donde se declarará todas las recodificaciones y\n",
    "transformaciones a realizar"
   ]
  },
  {
   "cell_type": "code",
   "execution_count": 17,
   "metadata": {},
   "outputs": [],
   "source": [
    "# procedemos a llevar a minuscula todo el texto de la publicación\n",
    "df['content_lower'] = list(map(lambda x: x.lower(), df['content']))"
   ]
  },
  {
   "cell_type": "code",
   "execution_count": 18,
   "metadata": {},
   "outputs": [
    {
     "data": {
      "text/plain": [
       "0    @tiffanylue i know  i was listenin to bad habi...\n",
       "1    layin n bed with a headache  ughhhh...waitin o...\n",
       "2                  funeral ceremony...gloomy friday...\n",
       "3                 wants to hang out with friends soon!\n",
       "4    @dannycastillo we want to trade with someone w...\n",
       "Name: content_lower, dtype: object"
      ]
     },
     "execution_count": 18,
     "metadata": {},
     "output_type": "execute_result"
    }
   ],
   "source": [
    "df['content_lower'].head()"
   ]
  },
  {
   "cell_type": "code",
   "execution_count": 19,
   "metadata": {},
   "outputs": [
    {
     "name": "stderr",
     "output_type": "stream",
     "text": [
      "[nltk_data] Downloading package stopwords to\n",
      "[nltk_data]     /Users/procco/nltk_data...\n",
      "[nltk_data]   Package stopwords is already up-to-date!\n",
      "[nltk_data] Downloading package wordnet to /Users/procco/nltk_data...\n",
      "[nltk_data]   Package wordnet is already up-to-date!\n"
     ]
    },
    {
     "data": {
      "text/plain": [
       "True"
      ]
     },
     "execution_count": 19,
     "metadata": {},
     "output_type": "execute_result"
    }
   ],
   "source": [
    "nltk.download('stopwords')\n",
    "nltk.download('wordnet')"
   ]
  },
  {
   "cell_type": "code",
   "execution_count": 20,
   "metadata": {},
   "outputs": [],
   "source": [
    "# creamos una función que extrae patrones de texto que deseamos quitar de las publicaciones\n",
    "def remove_pattern(input_txt, pattern):\n",
    "    r = re.findall(pattern, input_txt)\n",
    "    for i in r:\n",
    "        input_txt = re.sub(i, '', input_txt)\n",
    "        \n",
    "    return input_txt  "
   ]
  },
  {
   "cell_type": "code",
   "execution_count": 21,
   "metadata": {},
   "outputs": [],
   "source": [
    "# removemos encabezados de twitter (@usuario)\n",
    "df['content_lower'] = np.vectorize(remove_pattern)(df['content_lower'], \"@[\\w]*\")"
   ]
  },
  {
   "cell_type": "code",
   "execution_count": 22,
   "metadata": {},
   "outputs": [],
   "source": [
    "# removemos caracteres especiales, puntuación, números\n",
    "df['content_lower'] = df['content_lower'].str.replace(\"[^a-zA-Z#]\", \" \")"
   ]
  },
  {
   "cell_type": "code",
   "execution_count": 23,
   "metadata": {},
   "outputs": [],
   "source": [
    "# removemos palabras con 3 letras o menos\n",
    "df['content_lower'] = df['content_lower'].apply(lambda x: ' '.join([w for w in x.split() if len(w)>3]))"
   ]
  },
  {
   "cell_type": "code",
   "execution_count": 24,
   "metadata": {},
   "outputs": [
    {
     "data": {
      "text/html": [
       "<div>\n",
       "<style scoped>\n",
       "    .dataframe tbody tr th:only-of-type {\n",
       "        vertical-align: middle;\n",
       "    }\n",
       "\n",
       "    .dataframe tbody tr th {\n",
       "        vertical-align: top;\n",
       "    }\n",
       "\n",
       "    .dataframe thead th {\n",
       "        text-align: right;\n",
       "    }\n",
       "</style>\n",
       "<table border=\"1\" class=\"dataframe\">\n",
       "  <thead>\n",
       "    <tr style=\"text-align: right;\">\n",
       "      <th></th>\n",
       "      <th>tweet_id</th>\n",
       "      <th>sentiment</th>\n",
       "      <th>author</th>\n",
       "      <th>content</th>\n",
       "      <th>content_lower</th>\n",
       "    </tr>\n",
       "  </thead>\n",
       "  <tbody>\n",
       "    <tr>\n",
       "      <th>0</th>\n",
       "      <td>1956967341</td>\n",
       "      <td>empty</td>\n",
       "      <td>xoshayzers</td>\n",
       "      <td>@tiffanylue i know  i was listenin to bad habi...</td>\n",
       "      <td>know listenin habit earlier started freakin part</td>\n",
       "    </tr>\n",
       "    <tr>\n",
       "      <th>1</th>\n",
       "      <td>1956967666</td>\n",
       "      <td>sadness</td>\n",
       "      <td>wannamama</td>\n",
       "      <td>Layin n bed with a headache  ughhhh...waitin o...</td>\n",
       "      <td>layin with headache ughhhh waitin your call</td>\n",
       "    </tr>\n",
       "    <tr>\n",
       "      <th>2</th>\n",
       "      <td>1956967696</td>\n",
       "      <td>sadness</td>\n",
       "      <td>coolfunky</td>\n",
       "      <td>Funeral ceremony...gloomy friday...</td>\n",
       "      <td>funeral ceremony gloomy friday</td>\n",
       "    </tr>\n",
       "    <tr>\n",
       "      <th>3</th>\n",
       "      <td>1956967789</td>\n",
       "      <td>enthusiasm</td>\n",
       "      <td>czareaquino</td>\n",
       "      <td>wants to hang out with friends SOON!</td>\n",
       "      <td>wants hang with friends soon</td>\n",
       "    </tr>\n",
       "    <tr>\n",
       "      <th>4</th>\n",
       "      <td>1956968416</td>\n",
       "      <td>neutral</td>\n",
       "      <td>xkilljoyx</td>\n",
       "      <td>@dannycastillo We want to trade with someone w...</td>\n",
       "      <td>want trade with someone houston tickets will</td>\n",
       "    </tr>\n",
       "  </tbody>\n",
       "</table>\n",
       "</div>"
      ],
      "text/plain": [
       "     tweet_id   sentiment       author  \\\n",
       "0  1956967341       empty   xoshayzers   \n",
       "1  1956967666     sadness    wannamama   \n",
       "2  1956967696     sadness    coolfunky   \n",
       "3  1956967789  enthusiasm  czareaquino   \n",
       "4  1956968416     neutral    xkilljoyx   \n",
       "\n",
       "                                             content  \\\n",
       "0  @tiffanylue i know  i was listenin to bad habi...   \n",
       "1  Layin n bed with a headache  ughhhh...waitin o...   \n",
       "2                Funeral ceremony...gloomy friday...   \n",
       "3               wants to hang out with friends SOON!   \n",
       "4  @dannycastillo We want to trade with someone w...   \n",
       "\n",
       "                                      content_lower  \n",
       "0  know listenin habit earlier started freakin part  \n",
       "1       layin with headache ughhhh waitin your call  \n",
       "2                    funeral ceremony gloomy friday  \n",
       "3                      wants hang with friends soon  \n",
       "4      want trade with someone houston tickets will  "
      ]
     },
     "execution_count": 24,
     "metadata": {},
     "output_type": "execute_result"
    }
   ],
   "source": [
    "# volvemos a imprimir un encabezado del df para observar los cambios luego del preprocesamiento, los cambios \n",
    "# se incorporan en una nueva columna para fines comparativos, una vez finalizado todo el procesamiento de texto\n",
    "# se eliminara la columna original\n",
    "df.head()"
   ]
  },
  {
   "cell_type": "markdown",
   "metadata": {},
   "source": [
    "* Observamos que el contenido del tweet preprocesado cambia en relación al contenido original, ya no se observan mayusculas, signos ni simbolos"
   ]
  },
  {
   "cell_type": "code",
   "execution_count": 61,
   "metadata": {},
   "outputs": [],
   "source": [
    "lemmatizer = WordNetLemmatizer()\n",
    "def lemmatization(text):\n",
    "    arr_words = text.split(' ')\n",
    "    arr_words_lem = [lemmatizer.lemmatize(x, \"v\") for x in arr_words]\n",
    "    return ' '.join(arr_words_lem)"
   ]
  },
  {
   "cell_type": "code",
   "execution_count": 63,
   "metadata": {},
   "outputs": [],
   "source": [
    "df['content_lower_lem'] = df['content_lower'].apply(lemmatization)"
   ]
  },
  {
   "cell_type": "code",
   "execution_count": 65,
   "metadata": {},
   "outputs": [
    {
     "data": {
      "text/html": [
       "<div>\n",
       "<style scoped>\n",
       "    .dataframe tbody tr th:only-of-type {\n",
       "        vertical-align: middle;\n",
       "    }\n",
       "\n",
       "    .dataframe tbody tr th {\n",
       "        vertical-align: top;\n",
       "    }\n",
       "\n",
       "    .dataframe thead th {\n",
       "        text-align: right;\n",
       "    }\n",
       "</style>\n",
       "<table border=\"1\" class=\"dataframe\">\n",
       "  <thead>\n",
       "    <tr style=\"text-align: right;\">\n",
       "      <th></th>\n",
       "      <th>tweet_id</th>\n",
       "      <th>sentiment</th>\n",
       "      <th>author</th>\n",
       "      <th>content</th>\n",
       "      <th>content_lower</th>\n",
       "      <th>content_lower_lem</th>\n",
       "    </tr>\n",
       "  </thead>\n",
       "  <tbody>\n",
       "    <tr>\n",
       "      <th>0</th>\n",
       "      <td>1956967341</td>\n",
       "      <td>empty</td>\n",
       "      <td>xoshayzers</td>\n",
       "      <td>@tiffanylue i know  i was listenin to bad habi...</td>\n",
       "      <td>know listenin habit earlier started freakin part</td>\n",
       "      <td>know listenin habit earlier start freakin part</td>\n",
       "    </tr>\n",
       "    <tr>\n",
       "      <th>1</th>\n",
       "      <td>1956967666</td>\n",
       "      <td>sadness</td>\n",
       "      <td>wannamama</td>\n",
       "      <td>Layin n bed with a headache  ughhhh...waitin o...</td>\n",
       "      <td>layin with headache ughhhh waitin your call</td>\n",
       "      <td>layin with headache ughhhh waitin your call</td>\n",
       "    </tr>\n",
       "    <tr>\n",
       "      <th>2</th>\n",
       "      <td>1956967696</td>\n",
       "      <td>sadness</td>\n",
       "      <td>coolfunky</td>\n",
       "      <td>Funeral ceremony...gloomy friday...</td>\n",
       "      <td>funeral ceremony gloomy friday</td>\n",
       "      <td>funeral ceremony gloomy friday</td>\n",
       "    </tr>\n",
       "    <tr>\n",
       "      <th>3</th>\n",
       "      <td>1956967789</td>\n",
       "      <td>enthusiasm</td>\n",
       "      <td>czareaquino</td>\n",
       "      <td>wants to hang out with friends SOON!</td>\n",
       "      <td>wants hang with friends soon</td>\n",
       "      <td>want hang with friends soon</td>\n",
       "    </tr>\n",
       "    <tr>\n",
       "      <th>4</th>\n",
       "      <td>1956968416</td>\n",
       "      <td>neutral</td>\n",
       "      <td>xkilljoyx</td>\n",
       "      <td>@dannycastillo We want to trade with someone w...</td>\n",
       "      <td>want trade with someone houston tickets will</td>\n",
       "      <td>want trade with someone houston ticket will</td>\n",
       "    </tr>\n",
       "    <tr>\n",
       "      <th>5</th>\n",
       "      <td>1956968477</td>\n",
       "      <td>worry</td>\n",
       "      <td>xxxPEACHESxxx</td>\n",
       "      <td>Re-pinging @ghostridah14: why didn't you go to...</td>\n",
       "      <td>pinging didn prom didn like friends</td>\n",
       "      <td>ping didn prom didn like friends</td>\n",
       "    </tr>\n",
       "    <tr>\n",
       "      <th>6</th>\n",
       "      <td>1956968487</td>\n",
       "      <td>sadness</td>\n",
       "      <td>ShansBee</td>\n",
       "      <td>I should be sleep, but im not! thinking about ...</td>\n",
       "      <td>should sleep thinking about friend want marrie...</td>\n",
       "      <td>should sleep think about friend want marry dam...</td>\n",
       "    </tr>\n",
       "    <tr>\n",
       "      <th>7</th>\n",
       "      <td>1956968636</td>\n",
       "      <td>worry</td>\n",
       "      <td>mcsleazy</td>\n",
       "      <td>Hmmm. http://www.djhero.com/ is down</td>\n",
       "      <td>hmmm http djhero down</td>\n",
       "      <td>hmmm http djhero down</td>\n",
       "    </tr>\n",
       "    <tr>\n",
       "      <th>8</th>\n",
       "      <td>1956969035</td>\n",
       "      <td>sadness</td>\n",
       "      <td>nic0lepaula</td>\n",
       "      <td>@charviray Charlene my love. I miss you</td>\n",
       "      <td>charlene love miss</td>\n",
       "      <td>charlene love miss</td>\n",
       "    </tr>\n",
       "    <tr>\n",
       "      <th>9</th>\n",
       "      <td>1956969172</td>\n",
       "      <td>sadness</td>\n",
       "      <td>Ingenue_Em</td>\n",
       "      <td>@kelcouch I'm sorry  at least it's Friday?</td>\n",
       "      <td>sorry least friday</td>\n",
       "      <td>sorry least friday</td>\n",
       "    </tr>\n",
       "  </tbody>\n",
       "</table>\n",
       "</div>"
      ],
      "text/plain": [
       "     tweet_id   sentiment         author  \\\n",
       "0  1956967341       empty     xoshayzers   \n",
       "1  1956967666     sadness      wannamama   \n",
       "2  1956967696     sadness      coolfunky   \n",
       "3  1956967789  enthusiasm    czareaquino   \n",
       "4  1956968416     neutral      xkilljoyx   \n",
       "5  1956968477       worry  xxxPEACHESxxx   \n",
       "6  1956968487     sadness       ShansBee   \n",
       "7  1956968636       worry       mcsleazy   \n",
       "8  1956969035     sadness    nic0lepaula   \n",
       "9  1956969172     sadness     Ingenue_Em   \n",
       "\n",
       "                                             content  \\\n",
       "0  @tiffanylue i know  i was listenin to bad habi...   \n",
       "1  Layin n bed with a headache  ughhhh...waitin o...   \n",
       "2                Funeral ceremony...gloomy friday...   \n",
       "3               wants to hang out with friends SOON!   \n",
       "4  @dannycastillo We want to trade with someone w...   \n",
       "5  Re-pinging @ghostridah14: why didn't you go to...   \n",
       "6  I should be sleep, but im not! thinking about ...   \n",
       "7               Hmmm. http://www.djhero.com/ is down   \n",
       "8            @charviray Charlene my love. I miss you   \n",
       "9         @kelcouch I'm sorry  at least it's Friday?   \n",
       "\n",
       "                                       content_lower  \\\n",
       "0   know listenin habit earlier started freakin part   \n",
       "1        layin with headache ughhhh waitin your call   \n",
       "2                     funeral ceremony gloomy friday   \n",
       "3                       wants hang with friends soon   \n",
       "4       want trade with someone houston tickets will   \n",
       "5                pinging didn prom didn like friends   \n",
       "6  should sleep thinking about friend want marrie...   \n",
       "7                              hmmm http djhero down   \n",
       "8                                 charlene love miss   \n",
       "9                                 sorry least friday   \n",
       "\n",
       "                                   content_lower_lem  \n",
       "0     know listenin habit earlier start freakin part  \n",
       "1        layin with headache ughhhh waitin your call  \n",
       "2                     funeral ceremony gloomy friday  \n",
       "3                        want hang with friends soon  \n",
       "4        want trade with someone houston ticket will  \n",
       "5                   ping didn prom didn like friends  \n",
       "6  should sleep think about friend want marry dam...  \n",
       "7                              hmmm http djhero down  \n",
       "8                                 charlene love miss  \n",
       "9                                 sorry least friday  "
      ]
     },
     "execution_count": 65,
     "metadata": {},
     "output_type": "execute_result"
    }
   ],
   "source": [
    "# Revisamos que se haya producido la lemmatization\n",
    "df.head(10)"
   ]
  },
  {
   "cell_type": "code",
   "execution_count": 67,
   "metadata": {},
   "outputs": [],
   "source": [
    "df_encode = df.drop(columns=['content_lower', 'content'])"
   ]
  },
  {
   "cell_type": "code",
   "execution_count": 68,
   "metadata": {},
   "outputs": [],
   "source": [
    "# generamos una recodificación de sentiment y agrupamos según sea positiva o negativa\n",
    "df_encode['sentiment_recod'] = df_encode['sentiment']\n",
    "df_encode['sentiment_recod'] = df_encode['sentiment_recod'].replace(['happiness','love','surprise','fun','relief','enthusiasm'], 'Positiva')\n",
    "df_encode['sentiment_recod'] = df_encode['sentiment_recod'].replace(['worry','sadness','hate','empty','boredom','anger'], 'Negativa')\n",
    "df_encode['sentiment_recod'] = df_encode['sentiment_recod'].replace(['neutral'], np.random.choice(['Negativa', 'Positiva']))"
   ]
  },
  {
   "cell_type": "code",
   "execution_count": 69,
   "metadata": {},
   "outputs": [],
   "source": [
    "# instanciamos un objeto\n",
    "count_vectorizer = CountVectorizer(stop_words='english', max_features = 5000)\n",
    "# implementamos los pasos fit y transform\n",
    "transformed_feats = count_vectorizer.fit_transform(df['content_lower'])\n",
    "# extraemos tokens (palabras)\n",
    "words = count_vectorizer.get_feature_names()\n",
    "# extraemos frecuencia\n",
    "words_count = transformed_feats.toarray().sum(axis=0)\n",
    "# generamos un df con la frecuencia obtenida\n",
    "df_words = pd.DataFrame({'word': words, 'count': words_count})\n",
    "# obtenemos un df con las 100 palabras más repetidas\n",
    "df_words_100 = df_words.sort_values(by='count', ascending=False).head(100)"
   ]
  },
  {
   "cell_type": "code",
   "execution_count": 70,
   "metadata": {},
   "outputs": [
    {
     "data": {
      "text/html": [
       "<div>\n",
       "<style scoped>\n",
       "    .dataframe tbody tr th:only-of-type {\n",
       "        vertical-align: middle;\n",
       "    }\n",
       "\n",
       "    .dataframe tbody tr th {\n",
       "        vertical-align: top;\n",
       "    }\n",
       "\n",
       "    .dataframe thead th {\n",
       "        text-align: right;\n",
       "    }\n",
       "</style>\n",
       "<table border=\"1\" class=\"dataframe\">\n",
       "  <thead>\n",
       "    <tr style=\"text-align: right;\">\n",
       "      <th></th>\n",
       "      <th>2327</th>\n",
       "      <th>1809</th>\n",
       "      <th>2499</th>\n",
       "      <th>3472</th>\n",
       "      <th>2117</th>\n",
       "      <th>4460</th>\n",
       "      <th>4918</th>\n",
       "      <th>2588</th>\n",
       "      <th>1801</th>\n",
       "      <th>1952</th>\n",
       "      <th>4440</th>\n",
       "      <th>2391</th>\n",
       "      <th>3514</th>\n",
       "      <th>2964</th>\n",
       "      <th>2069</th>\n",
       "      <th>4401</th>\n",
       "      <th>4379</th>\n",
       "      <th>4789</th>\n",
       "      <th>2776</th>\n",
       "      <th>1857</th>\n",
       "      <th>2833</th>\n",
       "      <th>2918</th>\n",
       "      <th>2087</th>\n",
       "      <th>1913</th>\n",
       "      <th>4614</th>\n",
       "      <th>1555</th>\n",
       "      <th>4476</th>\n",
       "      <th>4885</th>\n",
       "      <th>4478</th>\n",
       "      <th>4021</th>\n",
       "      <th>3642</th>\n",
       "      <th>2839</th>\n",
       "      <th>2625</th>\n",
       "      <th>2955</th>\n",
       "      <th>406</th>\n",
       "      <th>1808</th>\n",
       "      <th>4961</th>\n",
       "      <th>3945</th>\n",
       "      <th>4829</th>\n",
       "      <th>1763</th>\n",
       "      <th>4830</th>\n",
       "      <th>2840</th>\n",
       "      <th>854</th>\n",
       "      <th>3187</th>\n",
       "      <th>4611</th>\n",
       "      <th>1190</th>\n",
       "      <th>3755</th>\n",
       "      <th>1102</th>\n",
       "      <th>1272</th>\n",
       "      <th>4812</th>\n",
       "      <th>277</th>\n",
       "      <th>4770</th>\n",
       "      <th>1962</th>\n",
       "      <th>401</th>\n",
       "      <th>2527</th>\n",
       "      <th>4376</th>\n",
       "      <th>2561</th>\n",
       "      <th>4012</th>\n",
       "      <th>4397</th>\n",
       "      <th>4922</th>\n",
       "      <th>1971</th>\n",
       "      <th>2492</th>\n",
       "      <th>4242</th>\n",
       "      <th>2564</th>\n",
       "      <th>3889</th>\n",
       "      <th>4450</th>\n",
       "      <th>1261</th>\n",
       "      <th>4788</th>\n",
       "      <th>2853</th>\n",
       "      <th>934</th>\n",
       "      <th>1557</th>\n",
       "      <th>1904</th>\n",
       "      <th>1698</th>\n",
       "      <th>3217</th>\n",
       "      <th>4809</th>\n",
       "      <th>2111</th>\n",
       "      <th>4566</th>\n",
       "      <th>2112</th>\n",
       "      <th>3506</th>\n",
       "      <th>2567</th>\n",
       "      <th>1696</th>\n",
       "      <th>3379</th>\n",
       "      <th>1692</th>\n",
       "      <th>2687</th>\n",
       "      <th>2528</th>\n",
       "      <th>4207</th>\n",
       "      <th>4411</th>\n",
       "      <th>1772</th>\n",
       "      <th>1592</th>\n",
       "      <th>1072</th>\n",
       "      <th>4840</th>\n",
       "      <th>2465</th>\n",
       "      <th>275</th>\n",
       "      <th>1886</th>\n",
       "      <th>1637</th>\n",
       "      <th>108</th>\n",
       "      <th>2815</th>\n",
       "      <th>2568</th>\n",
       "      <th>4964</th>\n",
       "      <th>1254</th>\n",
       "    </tr>\n",
       "  </thead>\n",
       "  <tbody>\n",
       "    <tr>\n",
       "      <th>word</th>\n",
       "      <td>just</td>\n",
       "      <td>good</td>\n",
       "      <td>like</td>\n",
       "      <td>quot</td>\n",
       "      <td>http</td>\n",
       "      <td>today</td>\n",
       "      <td>work</td>\n",
       "      <td>love</td>\n",
       "      <td>going</td>\n",
       "      <td>happy</td>\n",
       "      <td>time</td>\n",
       "      <td>know</td>\n",
       "      <td>really</td>\n",
       "      <td>night</td>\n",
       "      <td>home</td>\n",
       "      <td>think</td>\n",
       "      <td>thanks</td>\n",
       "      <td>want</td>\n",
       "      <td>miss</td>\n",
       "      <td>great</td>\n",
       "      <td>morning</td>\n",
       "      <td>need</td>\n",
       "      <td>hope</td>\n",
       "      <td>haha</td>\n",
       "      <td>twitter</td>\n",
       "      <td>feel</td>\n",
       "      <td>tomorrow</td>\n",
       "      <td>wish</td>\n",
       "      <td>tonight</td>\n",
       "      <td>sorry</td>\n",
       "      <td>right</td>\n",
       "      <td>mother</td>\n",
       "      <td>make</td>\n",
       "      <td>nice</td>\n",
       "      <td>better</td>\n",
       "      <td>gonna</td>\n",
       "      <td>yeah</td>\n",
       "      <td>sleep</td>\n",
       "      <td>week</td>\n",
       "      <td>getting</td>\n",
       "      <td>weekend</td>\n",
       "      <td>mothers</td>\n",
       "      <td>come</td>\n",
       "      <td>people</td>\n",
       "      <td>twitpic</td>\n",
       "      <td>didn</td>\n",
       "      <td>school</td>\n",
       "      <td>days</td>\n",
       "      <td>dont</td>\n",
       "      <td>watching</td>\n",
       "      <td>awesome</td>\n",
       "      <td>wait</td>\n",
       "      <td>hate</td>\n",
       "      <td>best</td>\n",
       "      <td>little</td>\n",
       "      <td>thank</td>\n",
       "      <td>long</td>\n",
       "      <td>soon</td>\n",
       "      <td>thing</td>\n",
       "      <td>working</td>\n",
       "      <td>having</td>\n",
       "      <td>life</td>\n",
       "      <td>sure</td>\n",
       "      <td>look</td>\n",
       "      <td>sick</td>\n",
       "      <td>tired</td>\n",
       "      <td>doing</td>\n",
       "      <td>wanna</td>\n",
       "      <td>movie</td>\n",
       "      <td>cool</td>\n",
       "      <td>feeling</td>\n",
       "      <td>guys</td>\n",
       "      <td>friends</td>\n",
       "      <td>phone</td>\n",
       "      <td>watch</td>\n",
       "      <td>hours</td>\n",
       "      <td>trying</td>\n",
       "      <td>house</td>\n",
       "      <td>ready</td>\n",
       "      <td>looking</td>\n",
       "      <td>friend</td>\n",
       "      <td>pretty</td>\n",
       "      <td>friday</td>\n",
       "      <td>maybe</td>\n",
       "      <td>live</td>\n",
       "      <td>sucks</td>\n",
       "      <td>thought</td>\n",
       "      <td>girl</td>\n",
       "      <td>finally</td>\n",
       "      <td>damn</td>\n",
       "      <td>went</td>\n",
       "      <td>left</td>\n",
       "      <td>away</td>\n",
       "      <td>guess</td>\n",
       "      <td>follow</td>\n",
       "      <td>amazing</td>\n",
       "      <td>monday</td>\n",
       "      <td>looks</td>\n",
       "      <td>year</td>\n",
       "      <td>doesn</td>\n",
       "    </tr>\n",
       "    <tr>\n",
       "      <th>count</th>\n",
       "      <td>3210</td>\n",
       "      <td>2309</td>\n",
       "      <td>1939</td>\n",
       "      <td>1855</td>\n",
       "      <td>1838</td>\n",
       "      <td>1664</td>\n",
       "      <td>1639</td>\n",
       "      <td>1637</td>\n",
       "      <td>1574</td>\n",
       "      <td>1484</td>\n",
       "      <td>1390</td>\n",
       "      <td>1356</td>\n",
       "      <td>1279</td>\n",
       "      <td>1124</td>\n",
       "      <td>1071</td>\n",
       "      <td>1044</td>\n",
       "      <td>1023</td>\n",
       "      <td>1017</td>\n",
       "      <td>890</td>\n",
       "      <td>877</td>\n",
       "      <td>860</td>\n",
       "      <td>856</td>\n",
       "      <td>843</td>\n",
       "      <td>807</td>\n",
       "      <td>803</td>\n",
       "      <td>779</td>\n",
       "      <td>723</td>\n",
       "      <td>720</td>\n",
       "      <td>697</td>\n",
       "      <td>695</td>\n",
       "      <td>663</td>\n",
       "      <td>655</td>\n",
       "      <td>637</td>\n",
       "      <td>624</td>\n",
       "      <td>612</td>\n",
       "      <td>604</td>\n",
       "      <td>602</td>\n",
       "      <td>600</td>\n",
       "      <td>589</td>\n",
       "      <td>579</td>\n",
       "      <td>571</td>\n",
       "      <td>570</td>\n",
       "      <td>554</td>\n",
       "      <td>533</td>\n",
       "      <td>525</td>\n",
       "      <td>517</td>\n",
       "      <td>489</td>\n",
       "      <td>483</td>\n",
       "      <td>482</td>\n",
       "      <td>479</td>\n",
       "      <td>478</td>\n",
       "      <td>473</td>\n",
       "      <td>467</td>\n",
       "      <td>449</td>\n",
       "      <td>441</td>\n",
       "      <td>441</td>\n",
       "      <td>436</td>\n",
       "      <td>432</td>\n",
       "      <td>427</td>\n",
       "      <td>427</td>\n",
       "      <td>414</td>\n",
       "      <td>385</td>\n",
       "      <td>384</td>\n",
       "      <td>377</td>\n",
       "      <td>376</td>\n",
       "      <td>374</td>\n",
       "      <td>371</td>\n",
       "      <td>366</td>\n",
       "      <td>363</td>\n",
       "      <td>361</td>\n",
       "      <td>361</td>\n",
       "      <td>359</td>\n",
       "      <td>356</td>\n",
       "      <td>352</td>\n",
       "      <td>350</td>\n",
       "      <td>349</td>\n",
       "      <td>338</td>\n",
       "      <td>326</td>\n",
       "      <td>322</td>\n",
       "      <td>318</td>\n",
       "      <td>316</td>\n",
       "      <td>313</td>\n",
       "      <td>312</td>\n",
       "      <td>309</td>\n",
       "      <td>307</td>\n",
       "      <td>307</td>\n",
       "      <td>307</td>\n",
       "      <td>306</td>\n",
       "      <td>305</td>\n",
       "      <td>301</td>\n",
       "      <td>300</td>\n",
       "      <td>299</td>\n",
       "      <td>298</td>\n",
       "      <td>297</td>\n",
       "      <td>296</td>\n",
       "      <td>289</td>\n",
       "      <td>286</td>\n",
       "      <td>285</td>\n",
       "      <td>281</td>\n",
       "      <td>278</td>\n",
       "    </tr>\n",
       "  </tbody>\n",
       "</table>\n",
       "</div>"
      ],
      "text/plain": [
       "       2327  1809  2499  3472  2117   4460  4918  2588   1801   1952  4440  \\\n",
       "word   just  good  like  quot  http  today  work  love  going  happy  time   \n",
       "count  3210  2309  1939  1855  1838   1664  1639  1637   1574   1484  1390   \n",
       "\n",
       "       2391    3514   2964  2069   4401    4379  4789  2776   1857     2833  \\\n",
       "word   know  really  night  home  think  thanks  want  miss  great  morning   \n",
       "count  1356    1279   1124  1071   1044    1023  1017   890    877      860   \n",
       "\n",
       "       2918  2087  1913     4614  1555      4476  4885     4478   4021   3642  \\\n",
       "word   need  hope  haha  twitter  feel  tomorrow  wish  tonight  sorry  right   \n",
       "count   856   843   807      803   779       723   720      697    695    663   \n",
       "\n",
       "         2839  2625  2955    406    1808  4961   3945  4829     1763     4830  \\\n",
       "word   mother  make  nice  better  gonna  yeah  sleep  week  getting  weekend   \n",
       "count     655   637   624     612    604   602    600   589      579      571   \n",
       "\n",
       "          2840  854     3187     4611  1190    3755  1102  1272      4812  \\\n",
       "word   mothers  come  people  twitpic  didn  school  days  dont  watching   \n",
       "count      570   554     533      525   517     489   483   482       479   \n",
       "\n",
       "          277   4770  1962  401     2527   4376  2561  4012   4397     4922  \\\n",
       "word   awesome  wait  hate  best  little  thank  long  soon  thing  working   \n",
       "count      478   473   467   449     441    441   436   432    427      427   \n",
       "\n",
       "         1971  2492  4242  2564  3889   4450   1261   4788   2853  934   \\\n",
       "word   having  life  sure  look  sick  tired  doing  wanna  movie  cool   \n",
       "count     414   385   384   377   376    374    371    366    363   361   \n",
       "\n",
       "          1557  1904     1698   3217   4809   2111    4566   2112   3506  \\\n",
       "word   feeling  guys  friends  phone  watch  hours  trying  house  ready   \n",
       "count      361   359      356    352    350    349     338    326    322   \n",
       "\n",
       "          2567    1696    3379    1692   2687  2528   4207     4411  1772  \\\n",
       "word   looking  friend  pretty  friday  maybe  live  sucks  thought  girl   \n",
       "count      318     316     313     312    309   307    307      307   306   \n",
       "\n",
       "          1592  1072  4840  2465  275    1886    1637     108     2815   2568  \\\n",
       "word   finally  damn  went  left  away  guess  follow  amazing  monday  looks   \n",
       "count      305   301   300   299   298    297     296      289     286    285   \n",
       "\n",
       "       4964   1254  \n",
       "word   year  doesn  \n",
       "count   281    278  "
      ]
     },
     "execution_count": 70,
     "metadata": {},
     "output_type": "execute_result"
    }
   ],
   "source": [
    "df_words_100.transpose()"
   ]
  },
  {
   "cell_type": "markdown",
   "metadata": {},
   "source": [
    "## Modelación"
   ]
  },
  {
   "cell_type": "markdown",
   "metadata": {},
   "source": [
    "Una sección llamada Modelación, donde se implementará una solución analítica que aumente\n",
    "las métricas de desempeño. Se solicitan por lo menos 5 modelos predictivos. Cada modelo\n",
    "predictivo debe tener una reseña sobre el por qué se diseño de esa forma."
   ]
  },
  {
   "cell_type": "code",
   "execution_count": null,
   "metadata": {},
   "outputs": [],
   "source": []
  },
  {
   "cell_type": "code",
   "execution_count": null,
   "metadata": {},
   "outputs": [],
   "source": []
  },
  {
   "cell_type": "code",
   "execution_count": null,
   "metadata": {},
   "outputs": [],
   "source": []
  },
  {
   "cell_type": "code",
   "execution_count": null,
   "metadata": {},
   "outputs": [],
   "source": []
  }
 ],
 "metadata": {
  "kernelspec": {
   "display_name": "Python 3",
   "language": "python",
   "name": "python3"
  },
  "language_info": {
   "codemirror_mode": {
    "name": "ipython",
    "version": 3
   },
   "file_extension": ".py",
   "mimetype": "text/x-python",
   "name": "python",
   "nbconvert_exporter": "python",
   "pygments_lexer": "ipython3",
   "version": "3.7.4"
  }
 },
 "nbformat": 4,
 "nbformat_minor": 2
}
