{
 "cells": [
  {
   "cell_type": "markdown",
   "metadata": {},
   "source": [
    "<img src='logo.png' style='display: block;height: 61px;float: left;padding: .75rem 1.25rem;'>"
   ]
  },
  {
   "cell_type": "markdown",
   "metadata": {},
   "source": [
    "# Prueba 1: Análisis de Sentimientos de Twitter"
   ]
  },
  {
   "cell_type": "markdown",
   "metadata": {},
   "source": [
    "A continuación se presenta un problema clásico en el análisis de texto: Extraer el sentimiento\n",
    "asociado a un texto.\n",
    "\n",
    "Para esto, utilizaremos una base de datos provenientes de CrowdFlower.\n",
    "El objetivo general de esta prueba es alcanzar el mejor desempeño posible para clasificar si un\n",
    "tweet es positivo o negativo.\n",
    "\n",
    "Para medir el desempeño, se evaluará con un conjunto de datos del cuál no tendrán acceso. De\n",
    "esta manera evitaremos que los modelos aprendan información sobre el conjunto de validación.\n",
    "* Crea una carpeta de trabajo y guarda todos los archivos correspondientes (notebook, archivos\n",
    "auxiliares y csv).\n",
    "* Una vez terminada la prueba, comprime la carpeta y sube el .zip a la sección\n",
    "correspondiente."
   ]
  },
  {
   "cell_type": "markdown",
   "metadata": {},
   "source": [
    "## Objetivos\n",
    "\n",
    "Para alcanzar el objetivo general, su trabajo se puede desagregar en los siguientes puntos:\n",
    "\n",
    "1. Generar un análisis exploratorio sobre los datos contenidos en el DataFrame, considerando\n",
    "palabras más comunes y distribución de las clases en el vector objetivo.\n",
    "\n",
    "2. Preprocesamiento de Texto:\n",
    "* Para trabajar adecuadamente con texto, debemos preprocesar y posteriormente representar cada oración como un conjunto de características.\n",
    "* Para preprocesar los tweets, debemos transformarlos a lower case. Un problema recurrente en el análisis de texto es la alta ocurrencia de palabras comunes. Se recomienda eliminarlas mediante la declaración de stopwords. Para generar la exclusión de stopwords, podemos utilizar la librería `nltk` (Natural Language ToolKit) y descargar los stopwords con la siguiente instrucción.\n",
    "\n",
    "import nltk\n",
    "\n",
    "nltk.download('stopwords')\n",
    "\n",
    "* Puede refinar los atributos a capturar mediante el proceso de **lemantización** (la reducción de variadas palabras con un tronco léxico común; ejemplo: Organización, Organiza, y Organizado presentan `organi_` como tronco léxico en comúmn) o **Stemming** (la reducción de una palabra a una expresión generalizable). Cabe destacar que ésta última carece de análisis morfológico del lenguaje.\n",
    "\n",
    "* Posterior a la refinación y preprocesamiento de las palabras, podemos representar cada oración en una matriz (o corpus) que permitirá reflejar la cantidad de ocurrencias de w1 palabra en un registro. Para ello, pueden hacer uso de las librerías de preprocesamiento `sklearn.feature_extraction.text.CountVectorizer` o `sklearn.feature_extraction.text.TfidfVectorizer` . De esta manera, tendremos un conjunto de características es mediante la frecuencia de ocurrencia de una palabra o término en el texto."
   ]
  },
  {
   "cell_type": "markdown",
   "metadata": {},
   "source": [
    "## Preliminares"
   ]
  },
  {
   "cell_type": "markdown",
   "metadata": {},
   "source": [
    "Una sección llamada Preliminares donde se realiza la descripción del problema y objetivos, así\n",
    "como explicar cómo implementarán su solución. Debe considerar qué criterios de optimización y\n",
    "métricas de desempeño."
   ]
  },
  {
   "cell_type": "markdown",
   "metadata": {},
   "source": [
    "* En este problema buscaremos clasificar con la mayor certeza posible el sentimiento que presenta un texto escrito mediante la plataforma twitter. Esto lo lograremos mediante el analisis de las palabras más repetidas en las publicaciones y como estas se asocian a un determinado sentimiento. Para esto realizaremos un procesamiento del texto de cada tweet, en donde extraeremos ciertas caracteristicas, como números, simbolos y puntuaciones, para lograr homogeneizar el contenido.\n",
    "* Generaremos división de muestra para comparar los datos predichos con un nuevo conjunto de datos al cual no tendremos acceso. De esta manera no estaremos obteniendo información desde un conjunto de datos de validación.\n",
    "* Nuestro vector objetivo para este problema sera un recodificación del atributo sentiment, el cual esta compuesto por 13 variables. A partir de estas 13 observaciones procederemos a clasificarlas entre Negativas y Positivas. En el caso que el sentimiento sea nutral, procederemos a reliazar una clasificación aleatoria entre Positiva o Negativa.\n",
    "* Cuando se tenga el texto preprocesado y la muestra ya dividida, procederemos a implementar una busqueda de grilla en donde implementaremos distintos modelos con el fin de evaluar cual de ellos sera el que presente la mejor metrica de desempeño, para ellos implementaremos los siguientes modelos:\n",
    "    * Naïve Bayes, `sklearn.naive_bayes.MultinomialNB`, sin modificar hiperparametros.\n",
    "    * un modelo Regresión logística, ` sklearn.linear_model.LogisticRegression`\n",
    "    * un modelo Árboles de decisión, `sklearn.tree.DecisionTreeClassifier`, con los siguientes hiperparametros:\n",
    "        * 'min_samples_split': np.linspace(0.1, 1.0, 10)\n",
    "        * 'criterion': ['gini', 'entropy']\n",
    "        * 'max_depth': np.linspace(1, 32, 32)\n",
    "        * 'min_samples_leaf': np.linspace(0.1, 0.5, 10)\n",
    "        * 5 validaciones cruzdas\n",
    "    * un modelo Clasificador con soporte vectorial con un kernel, `rbf.sklearn.svm.SVC`, con los siguients hiperparametros:\n",
    "         * (kernel='rbf',\n",
    "         * param_grid = {'C': [0.0001, 0.001, 0.01, 0.1, 1, 10, 100, 1000], \n",
    "         * 'gamma': [0.0000001, 0.0001, 0.001, 0.01, 0.1, 1, 10]}\n",
    "         * 2 Validaciones Cruzadas\n",
    "    * un modelo RandomForestClassifier, `RandomForestClassifier`, con los siguientes hiperparametros:\n",
    "        * max_features=None\n",
    "        * n_estimators=100 \n",
    "        * oob_score = True\n",
    "* Las metricas a utilizar para este ejercicio seran: precision, recall, F1-Score, roc_auc_score, roc_curve"
   ]
  },
  {
   "cell_type": "markdown",
   "metadata": {},
   "source": [
    "## Aspectos computacionales"
   ]
  },
  {
   "cell_type": "markdown",
   "metadata": {},
   "source": [
    "> Se utilizan librerías bases para el tratamiento de datos y algunos aspectos básicos de cálculo y gráficos."
   ]
  },
  {
   "cell_type": "code",
   "execution_count": 34,
   "metadata": {},
   "outputs": [],
   "source": [
    "# Se importa libreria para el manejo de bases de datos\n",
    "import pandas as pd\n",
    "# Se importa libreria para el manejo de operaciones de cálculo\n",
    "import numpy as np\n",
    "# Se importa libreria para el manejo de gráficos\n",
    "import matplotlib.pyplot as plt\n",
    "# Se importa libreria para manejo de funciones estadisticas y probabilidades\n",
    "import seaborn as sns\n",
    "# Librería para visualizar patrones de datos perdidos\n",
    "import missingno as msngo\n",
    "# Se importa libreria para el menejo de warning\n",
    "import warnings\n",
    "# Se importa libreria para el trabajo de expresiones reguilares\n",
    "import re\n",
    "# Se importa librería para el trabajo con string\n",
    "import string"
   ]
  },
  {
   "cell_type": "markdown",
   "metadata": {},
   "source": [
    "> Definimos algunos aspectos de ambiente y valores por defecto de visualización."
   ]
  },
  {
   "cell_type": "code",
   "execution_count": 35,
   "metadata": {},
   "outputs": [],
   "source": [
    "# Por defecto, matplotlib crea una figura en una ventana separada.\n",
    "# podemos hacer que las figuras aparezcan en línea dentro del notebook; lo hacemos ejecutando:\n",
    "%matplotlib inline\n",
    "# Se ignoran los warning para evitar suciedad en la ejecución\n",
    "warnings.filterwarnings(action='ignore')\n",
    "# Se define el estilo de gráficos a usar\n",
    "plt.style.use('seaborn-pastel')\n",
    "# Se define el tamaño de los paños de los gráficos por defecto\n",
    "plt.rcParams['figure.figsize'] = (14, 8)\n",
    "# Dado que vamos a supervisar datos no limitaremos la cantidad de columnas a mostrar \n",
    "# en el despliegue del dataframe\n",
    "pd.options.display.max_columns = None"
   ]
  },
  {
   "cell_type": "markdown",
   "metadata": {},
   "source": [
    "> Se utilizan librerías de __sklear__ para resolver el problema desde el enfoque de machine learning"
   ]
  },
  {
   "cell_type": "code",
   "execution_count": 36,
   "metadata": {},
   "outputs": [],
   "source": [
    "# Método para el manejo de ocurrencias de palabras en texxto\n",
    "from sklearn.feature_extraction.text import CountVectorizer, TfidfVectorizer\n",
    "# Método de ensamble arbol de decisión para clasificación \n",
    "from sklearn.tree import DecisionTreeClassifier\n",
    "# Método de clasificación mediante la maximización de margen de clases.\n",
    "from sklearn.svm import SVC\n",
    "# Método que implementa la regresión logistica\n",
    "from sklearn.linear_model import LogisticRegression\n",
    "# Método que implementa Bayes ingenuo para el caso dos clases y multiclase.\n",
    "from sklearn.naive_bayes import MultinomialNB\n",
    "# Método para Asignación Latente de Dirichlet (ALD)\n",
    "from sklearn.decomposition import LatentDirichletAllocation\n",
    "# Método de mezcla de Gaussianas\n",
    "from sklearn.mixture import GaussianMixture\n",
    "# Método de KMeans\n",
    "from sklearn.cluster import KMeans\n",
    "# Método de ensamble\n",
    "from sklearn.ensemble import VotingClassifier, RandomForestClassifier\n",
    "# Métricas para evaluar modelos de clasificación\n",
    "from sklearn.metrics import classification_report, roc_curve, roc_auc_score, confusion_matrix\n",
    "# Métodos de selección de muestras\n",
    "from sklearn.model_selection import GridSearchCV, train_test_split\n",
    "# Metodo para el procesamiento de los datos en una tuberias\n",
    "from sklearn.pipeline import Pipeline\n",
    "from sklearn.preprocessing import StandardScaler"
   ]
  },
  {
   "cell_type": "markdown",
   "metadata": {},
   "source": [
    "> Se utilizan librerias especificas para el procesamiento de texto"
   ]
  },
  {
   "cell_type": "code",
   "execution_count": 37,
   "metadata": {},
   "outputs": [],
   "source": [
    "import nltk\n",
    "from nltk.stem import WordNetLemmatizer"
   ]
  },
  {
   "cell_type": "markdown",
   "metadata": {},
   "source": [
    "> Se utiliza la librería __pickle__ que contiene la función dump, que permite guardar el modelo desarrollado. "
   ]
  },
  {
   "cell_type": "code",
   "execution_count": 38,
   "metadata": {},
   "outputs": [],
   "source": [
    "# Método para hacer dump del modelo y objetos\n",
    "import pickle"
   ]
  },
  {
   "cell_type": "markdown",
   "metadata": {},
   "source": [
    "> Se utiliza <strong>librería propia</strong> que continen funciones auxiliares, necesarias para el desarrollo de desafíos."
   ]
  },
  {
   "cell_type": "code",
   "execution_count": 39,
   "metadata": {},
   "outputs": [],
   "source": [
    "# Se importa libreria con funciones auxiliares\n",
    "import ancilliary_funcs as afx"
   ]
  },
  {
   "cell_type": "markdown",
   "metadata": {},
   "source": [
    "> Se utiliza <strong>librería helpers.py</strong> que continen funciones auxiliares, necesarias para el desarrollo de desafíos."
   ]
  },
  {
   "cell_type": "code",
   "execution_count": 40,
   "metadata": {},
   "outputs": [],
   "source": [
    "import helpers as hlp"
   ]
  },
  {
   "cell_type": "markdown",
   "metadata": {},
   "source": [
    "## Análisis Exploratorio"
   ]
  },
  {
   "cell_type": "markdown",
   "metadata": {},
   "source": [
    "Una sección llamada Análisis Exploratorio donde se generará un análisis descriptivo\n",
    "considerando el tipo de variables (desde el punto de vista estadístico así como computacional).\n",
    "Esta sección debe considerar medidas univariadas/ frecuencias, datos perdidos y gráficos\n",
    "distributivos sobre las variables a analizar. A partir de ésta se debe clarificar la estrategia de\n",
    "preprocesamiento (datos perdidos, recodificaciones)."
   ]
  },
  {
   "cell_type": "code",
   "execution_count": 8,
   "metadata": {},
   "outputs": [],
   "source": [
    "df = pd.read_csv('text_emotion.csv')"
   ]
  },
  {
   "cell_type": "code",
   "execution_count": 9,
   "metadata": {},
   "outputs": [
    {
     "name": "stdout",
     "output_type": "stream",
     "text": [
      "<class 'pandas.core.frame.DataFrame'>\n",
      "RangeIndex: 40000 entries, 0 to 39999\n",
      "Data columns (total 4 columns):\n",
      "tweet_id     40000 non-null int64\n",
      "sentiment    40000 non-null object\n",
      "author       40000 non-null object\n",
      "content      40000 non-null object\n",
      "dtypes: int64(1), object(3)\n",
      "memory usage: 1.2+ MB\n"
     ]
    }
   ],
   "source": [
    "# obtenemos información del df\n",
    "df.info()"
   ]
  },
  {
   "cell_type": "code",
   "execution_count": 10,
   "metadata": {},
   "outputs": [
    {
     "data": {
      "text/plain": [
       "(40000, 4)"
      ]
     },
     "execution_count": 10,
     "metadata": {},
     "output_type": "execute_result"
    }
   ],
   "source": [
    "# preguntamos por las dimensiones del df\n",
    "df.shape"
   ]
  },
  {
   "cell_type": "markdown",
   "metadata": {},
   "source": [
    "* La base cuenta con 40000 registros y 4 atributos"
   ]
  },
  {
   "cell_type": "code",
   "execution_count": 11,
   "metadata": {},
   "outputs": [
    {
     "data": {
      "text/html": [
       "<div>\n",
       "<style scoped>\n",
       "    .dataframe tbody tr th:only-of-type {\n",
       "        vertical-align: middle;\n",
       "    }\n",
       "\n",
       "    .dataframe tbody tr th {\n",
       "        vertical-align: top;\n",
       "    }\n",
       "\n",
       "    .dataframe thead th {\n",
       "        text-align: right;\n",
       "    }\n",
       "</style>\n",
       "<table border=\"1\" class=\"dataframe\">\n",
       "  <thead>\n",
       "    <tr style=\"text-align: right;\">\n",
       "      <th></th>\n",
       "      <th>tweet_id</th>\n",
       "      <th>sentiment</th>\n",
       "      <th>author</th>\n",
       "      <th>content</th>\n",
       "    </tr>\n",
       "  </thead>\n",
       "  <tbody>\n",
       "    <tr>\n",
       "      <th>0</th>\n",
       "      <td>1956967341</td>\n",
       "      <td>empty</td>\n",
       "      <td>xoshayzers</td>\n",
       "      <td>@tiffanylue i know  i was listenin to bad habi...</td>\n",
       "    </tr>\n",
       "    <tr>\n",
       "      <th>1</th>\n",
       "      <td>1956967666</td>\n",
       "      <td>sadness</td>\n",
       "      <td>wannamama</td>\n",
       "      <td>Layin n bed with a headache  ughhhh...waitin o...</td>\n",
       "    </tr>\n",
       "    <tr>\n",
       "      <th>2</th>\n",
       "      <td>1956967696</td>\n",
       "      <td>sadness</td>\n",
       "      <td>coolfunky</td>\n",
       "      <td>Funeral ceremony...gloomy friday...</td>\n",
       "    </tr>\n",
       "    <tr>\n",
       "      <th>3</th>\n",
       "      <td>1956967789</td>\n",
       "      <td>enthusiasm</td>\n",
       "      <td>czareaquino</td>\n",
       "      <td>wants to hang out with friends SOON!</td>\n",
       "    </tr>\n",
       "    <tr>\n",
       "      <th>4</th>\n",
       "      <td>1956968416</td>\n",
       "      <td>neutral</td>\n",
       "      <td>xkilljoyx</td>\n",
       "      <td>@dannycastillo We want to trade with someone w...</td>\n",
       "    </tr>\n",
       "    <tr>\n",
       "      <th>5</th>\n",
       "      <td>1956968477</td>\n",
       "      <td>worry</td>\n",
       "      <td>xxxPEACHESxxx</td>\n",
       "      <td>Re-pinging @ghostridah14: why didn't you go to...</td>\n",
       "    </tr>\n",
       "    <tr>\n",
       "      <th>6</th>\n",
       "      <td>1956968487</td>\n",
       "      <td>sadness</td>\n",
       "      <td>ShansBee</td>\n",
       "      <td>I should be sleep, but im not! thinking about ...</td>\n",
       "    </tr>\n",
       "    <tr>\n",
       "      <th>7</th>\n",
       "      <td>1956968636</td>\n",
       "      <td>worry</td>\n",
       "      <td>mcsleazy</td>\n",
       "      <td>Hmmm. http://www.djhero.com/ is down</td>\n",
       "    </tr>\n",
       "    <tr>\n",
       "      <th>8</th>\n",
       "      <td>1956969035</td>\n",
       "      <td>sadness</td>\n",
       "      <td>nic0lepaula</td>\n",
       "      <td>@charviray Charlene my love. I miss you</td>\n",
       "    </tr>\n",
       "    <tr>\n",
       "      <th>9</th>\n",
       "      <td>1956969172</td>\n",
       "      <td>sadness</td>\n",
       "      <td>Ingenue_Em</td>\n",
       "      <td>@kelcouch I'm sorry  at least it's Friday?</td>\n",
       "    </tr>\n",
       "  </tbody>\n",
       "</table>\n",
       "</div>"
      ],
      "text/plain": [
       "     tweet_id   sentiment         author  \\\n",
       "0  1956967341       empty     xoshayzers   \n",
       "1  1956967666     sadness      wannamama   \n",
       "2  1956967696     sadness      coolfunky   \n",
       "3  1956967789  enthusiasm    czareaquino   \n",
       "4  1956968416     neutral      xkilljoyx   \n",
       "5  1956968477       worry  xxxPEACHESxxx   \n",
       "6  1956968487     sadness       ShansBee   \n",
       "7  1956968636       worry       mcsleazy   \n",
       "8  1956969035     sadness    nic0lepaula   \n",
       "9  1956969172     sadness     Ingenue_Em   \n",
       "\n",
       "                                             content  \n",
       "0  @tiffanylue i know  i was listenin to bad habi...  \n",
       "1  Layin n bed with a headache  ughhhh...waitin o...  \n",
       "2                Funeral ceremony...gloomy friday...  \n",
       "3               wants to hang out with friends SOON!  \n",
       "4  @dannycastillo We want to trade with someone w...  \n",
       "5  Re-pinging @ghostridah14: why didn't you go to...  \n",
       "6  I should be sleep, but im not! thinking about ...  \n",
       "7               Hmmm. http://www.djhero.com/ is down  \n",
       "8            @charviray Charlene my love. I miss you  \n",
       "9         @kelcouch I'm sorry  at least it's Friday?  "
      ]
     },
     "execution_count": 11,
     "metadata": {},
     "output_type": "execute_result"
    }
   ],
   "source": [
    "# inspeccionamos el df\n",
    "df.head(10)"
   ]
  },
  {
   "cell_type": "code",
   "execution_count": 12,
   "metadata": {},
   "outputs": [
    {
     "data": {
      "text/plain": [
       "<matplotlib.axes._subplots.AxesSubplot at 0x1a262ba668>"
      ]
     },
     "execution_count": 12,
     "metadata": {},
     "output_type": "execute_result"
    },
    {
     "data": {
      "image/png": "[encoded data removed]",
      "text/plain": [
       "<Figure size 1800x720 with 2 Axes>"
      ]
     },
     "metadata": {
      "needs_background": "light"
     },
     "output_type": "display_data"
    }
   ],
   "source": [
    "# realizamos un grafico para clarificar si se cuenta con datos perdidos\n",
    "msngo.matrix(df)"
   ]
  },
  {
   "cell_type": "markdown",
   "metadata": {},
   "source": [
    "* Se observa que la base no cuenta con datos perdidos, por lo que no sera necesario realizar alguna accion para mejorar ese aspecto."
   ]
  },
  {
   "cell_type": "markdown",
   "metadata": {},
   "source": [
    "> Realizamos un grafico donde contaremos cuales son los sentimientos ordenados de mayor a menor frecuencia"
   ]
  },
  {
   "cell_type": "code",
   "execution_count": 13,
   "metadata": {},
   "outputs": [
    {
     "data": {
      "text/plain": [
       "<matplotlib.axes._subplots.AxesSubplot at 0x1a255229e8>"
      ]
     },
     "execution_count": 13,
     "metadata": {},
     "output_type": "execute_result"
    },
    {
     "data": {
      "image/png": "[encoded data removed]",
      "text/plain": [
       "<Figure size 1008x576 with 1 Axes>"
      ]
     },
     "metadata": {
      "needs_background": "light"
     },
     "output_type": "display_data"
    }
   ],
   "source": [
    "df['sentiment'].value_counts().plot(kind='bar', title=\"Cuenta de sentimientos\")"
   ]
  },
  {
   "cell_type": "markdown",
   "metadata": {},
   "source": [
    "* Observamos que el atributo sentiment cuenta con 13 categorias diferentes. El sentimiento con mayor cantidad en la muestra es neutral. Procederemos a reclasificar neutral para obtener una clasificación equiprobable tanto positiva como negativa. "
   ]
  },
  {
   "cell_type": "code",
   "execution_count": 14,
   "metadata": {},
   "outputs": [
    {
     "data": {
      "text/plain": [
       "neutral       0.215950\n",
       "worry         0.211475\n",
       "happiness     0.130225\n",
       "sadness       0.129125\n",
       "love          0.096050\n",
       "surprise      0.054675\n",
       "fun           0.044400\n",
       "relief        0.038150\n",
       "hate          0.033075\n",
       "empty         0.020675\n",
       "enthusiasm    0.018975\n",
       "boredom       0.004475\n",
       "anger         0.002750\n",
       "Name: sentiment, dtype: float64"
      ]
     },
     "execution_count": 14,
     "metadata": {},
     "output_type": "execute_result"
    }
   ],
   "source": [
    "df['sentiment'].value_counts('%')"
   ]
  },
  {
   "cell_type": "markdown",
   "metadata": {},
   "source": [
    "* Si obtenemos los porcentajes de la ditribución de sentimientos dentro de sentiment, observamos que neutral corresponde al 22% del total de muestras, Negativa acumula el 40% del total y Positiva se lleva el 38% restante."
   ]
  },
  {
   "cell_type": "markdown",
   "metadata": {},
   "source": [
    "* Como sentiment sera nuestro vector objetivo, más adelante procederemos a reclasificar el vector para lograr trabajar el ejercicio de una mejor manera. Esto lo clasificaremos en 2 grupos: Positiva o Negativa"
   ]
  },
  {
   "cell_type": "code",
   "execution_count": 15,
   "metadata": {},
   "outputs": [
    {
     "data": {
      "text/plain": [
       "MissxMarisa       23\n",
       "ChineseLearn      22\n",
       "erkagarcia        19\n",
       "MiDesfileNegro    19\n",
       "lost_dog          18\n",
       "                  ..\n",
       "thefore            1\n",
       "AngieOzuna         1\n",
       "jun6lee            1\n",
       "Jazzable           1\n",
       "KaliLekkas         1\n",
       "Name: author, Length: 33871, dtype: int64"
      ]
     },
     "execution_count": 15,
     "metadata": {},
     "output_type": "execute_result"
    }
   ],
   "source": [
    "# exploramos sobre los autores de los tweets, para ver si existe alguien que se destaque por sobre manera en las \n",
    "# publicaciones, lo cual no sucede\n",
    "df['author'].value_counts()"
   ]
  },
  {
   "cell_type": "code",
   "execution_count": 16,
   "metadata": {},
   "outputs": [
    {
     "data": {
      "text/plain": [
       "33871"
      ]
     },
     "execution_count": 16,
     "metadata": {},
     "output_type": "execute_result"
    }
   ],
   "source": [
    "len(df['author'].unique())"
   ]
  },
  {
   "cell_type": "markdown",
   "metadata": {},
   "source": [
    "* Vemos que en total existen 33871 diferentes autores de tweets del universo de 40000 a analizar, lo cual nos indica que no existe un solo usuario que este realizando la mayoria de publicaciones. De esta manera podemos descartar la presencia de bots que se dedican a realizar publicaciones de manera sesgada de acuerdo a un interes personal del creador del mismo."
   ]
  },
  {
   "cell_type": "markdown",
   "metadata": {},
   "source": [
    "## Feature Engineering"
   ]
  },
  {
   "cell_type": "markdown",
   "metadata": {},
   "source": [
    "Una sección llamada Feature Engineering donde se declarará todas las recodificaciones y\n",
    "transformaciones a realizar"
   ]
  },
  {
   "cell_type": "code",
   "execution_count": 11,
   "metadata": {},
   "outputs": [],
   "source": [
    "# procedemos a llevar a minuscula todo el texto de la publicación\n",
    "df['content_lower'] = list(map(lambda x: x.lower(), df['content']))"
   ]
  },
  {
   "cell_type": "code",
   "execution_count": 12,
   "metadata": {},
   "outputs": [
    {
     "data": {
      "text/plain": [
       "0    @tiffanylue i know  i was listenin to bad habi...\n",
       "1    layin n bed with a headache  ughhhh...waitin o...\n",
       "2                  funeral ceremony...gloomy friday...\n",
       "3                 wants to hang out with friends soon!\n",
       "4    @dannycastillo we want to trade with someone w...\n",
       "Name: content_lower, dtype: object"
      ]
     },
     "execution_count": 12,
     "metadata": {},
     "output_type": "execute_result"
    }
   ],
   "source": [
    "df['content_lower'].head()"
   ]
  },
  {
   "cell_type": "code",
   "execution_count": 19,
   "metadata": {},
   "outputs": [
    {
     "name": "stderr",
     "output_type": "stream",
     "text": [
      "[nltk_data] Downloading package stopwords to\n",
      "[nltk_data]     /Users/camiloalarcon/nltk_data...\n",
      "[nltk_data]   Package stopwords is already up-to-date!\n",
      "[nltk_data] Downloading package wordnet to\n",
      "[nltk_data]     /Users/camiloalarcon/nltk_data...\n",
      "[nltk_data]   Package wordnet is already up-to-date!\n"
     ]
    },
    {
     "data": {
      "text/plain": [
       "True"
      ]
     },
     "execution_count": 19,
     "metadata": {},
     "output_type": "execute_result"
    }
   ],
   "source": [
    "nltk.download('stopwords')\n",
    "nltk.download('wordnet')"
   ]
  },
  {
   "cell_type": "code",
   "execution_count": 13,
   "metadata": {},
   "outputs": [],
   "source": [
    "# creamos una función que extrae patrones de texto que deseamos quitar de las publicaciones\n",
    "def remove_pattern(input_txt, pattern):\n",
    "    r = re.findall(pattern, input_txt)\n",
    "    for i in r:\n",
    "        input_txt = re.sub(i, '', input_txt)\n",
    "        \n",
    "    return input_txt  "
   ]
  },
  {
   "cell_type": "code",
   "execution_count": 14,
   "metadata": {},
   "outputs": [],
   "source": [
    "# removemos encabezados de twitter (@usuario)\n",
    "df['content_lower'] = np.vectorize(remove_pattern)(df['content_lower'], \"@[\\w]*\")"
   ]
  },
  {
   "cell_type": "code",
   "execution_count": 15,
   "metadata": {},
   "outputs": [],
   "source": [
    "# removemos caracteres especiales, puntuación, números\n",
    "df['content_lower'] = df['content_lower'].str.replace(\"[^a-zA-Z#]\", \" \")"
   ]
  },
  {
   "cell_type": "code",
   "execution_count": 16,
   "metadata": {},
   "outputs": [],
   "source": [
    "# removemos palabras con 3 letras o menos\n",
    "df['content_lower'] = df['content_lower'].apply(lambda x: ' '.join([w for w in x.split() if len(w)>3]))"
   ]
  },
  {
   "cell_type": "code",
   "execution_count": 17,
   "metadata": {},
   "outputs": [
    {
     "data": {
      "text/html": [
       "<div>\n",
       "<style scoped>\n",
       "    .dataframe tbody tr th:only-of-type {\n",
       "        vertical-align: middle;\n",
       "    }\n",
       "\n",
       "    .dataframe tbody tr th {\n",
       "        vertical-align: top;\n",
       "    }\n",
       "\n",
       "    .dataframe thead th {\n",
       "        text-align: right;\n",
       "    }\n",
       "</style>\n",
       "<table border=\"1\" class=\"dataframe\">\n",
       "  <thead>\n",
       "    <tr style=\"text-align: right;\">\n",
       "      <th></th>\n",
       "      <th>tweet_id</th>\n",
       "      <th>sentiment</th>\n",
       "      <th>author</th>\n",
       "      <th>content</th>\n",
       "      <th>content_lower</th>\n",
       "    </tr>\n",
       "  </thead>\n",
       "  <tbody>\n",
       "    <tr>\n",
       "      <th>0</th>\n",
       "      <td>1956967341</td>\n",
       "      <td>empty</td>\n",
       "      <td>xoshayzers</td>\n",
       "      <td>@tiffanylue i know  i was listenin to bad habi...</td>\n",
       "      <td>know listenin habit earlier started freakin part</td>\n",
       "    </tr>\n",
       "    <tr>\n",
       "      <th>1</th>\n",
       "      <td>1956967666</td>\n",
       "      <td>sadness</td>\n",
       "      <td>wannamama</td>\n",
       "      <td>Layin n bed with a headache  ughhhh...waitin o...</td>\n",
       "      <td>layin with headache ughhhh waitin your call</td>\n",
       "    </tr>\n",
       "    <tr>\n",
       "      <th>2</th>\n",
       "      <td>1956967696</td>\n",
       "      <td>sadness</td>\n",
       "      <td>coolfunky</td>\n",
       "      <td>Funeral ceremony...gloomy friday...</td>\n",
       "      <td>funeral ceremony gloomy friday</td>\n",
       "    </tr>\n",
       "    <tr>\n",
       "      <th>3</th>\n",
       "      <td>1956967789</td>\n",
       "      <td>enthusiasm</td>\n",
       "      <td>czareaquino</td>\n",
       "      <td>wants to hang out with friends SOON!</td>\n",
       "      <td>wants hang with friends soon</td>\n",
       "    </tr>\n",
       "    <tr>\n",
       "      <th>4</th>\n",
       "      <td>1956968416</td>\n",
       "      <td>neutral</td>\n",
       "      <td>xkilljoyx</td>\n",
       "      <td>@dannycastillo We want to trade with someone w...</td>\n",
       "      <td>want trade with someone houston tickets will</td>\n",
       "    </tr>\n",
       "  </tbody>\n",
       "</table>\n",
       "</div>"
      ],
      "text/plain": [
       "     tweet_id   sentiment       author  \\\n",
       "0  1956967341       empty   xoshayzers   \n",
       "1  1956967666     sadness    wannamama   \n",
       "2  1956967696     sadness    coolfunky   \n",
       "3  1956967789  enthusiasm  czareaquino   \n",
       "4  1956968416     neutral    xkilljoyx   \n",
       "\n",
       "                                             content  \\\n",
       "0  @tiffanylue i know  i was listenin to bad habi...   \n",
       "1  Layin n bed with a headache  ughhhh...waitin o...   \n",
       "2                Funeral ceremony...gloomy friday...   \n",
       "3               wants to hang out with friends SOON!   \n",
       "4  @dannycastillo We want to trade with someone w...   \n",
       "\n",
       "                                      content_lower  \n",
       "0  know listenin habit earlier started freakin part  \n",
       "1       layin with headache ughhhh waitin your call  \n",
       "2                    funeral ceremony gloomy friday  \n",
       "3                      wants hang with friends soon  \n",
       "4      want trade with someone houston tickets will  "
      ]
     },
     "execution_count": 17,
     "metadata": {},
     "output_type": "execute_result"
    }
   ],
   "source": [
    "# volvemos a imprimir un encabezado del df para observar los cambios luego del preprocesamiento, los cambios \n",
    "# se incorporan en una nueva columna para fines comparativos, una vez finalizado todo el procesamiento de texto\n",
    "# se eliminara la columna original\n",
    "df.head()"
   ]
  },
  {
   "cell_type": "markdown",
   "metadata": {},
   "source": [
    "* Observamos que el contenido del tweet preprocesado cambia en relación al contenido original, ya no se observan mayusculas, signos ni simbolos"
   ]
  },
  {
   "cell_type": "code",
   "execution_count": 18,
   "metadata": {},
   "outputs": [],
   "source": [
    "lemmatizer = WordNetLemmatizer()\n",
    "def lemmatization(text):\n",
    "    arr_words = text.split(' ')\n",
    "    arr_words_lem = [lemmatizer.lemmatize(x, \"v\") for x in arr_words]\n",
    "    return ' '.join(arr_words_lem)"
   ]
  },
  {
   "cell_type": "code",
   "execution_count": 19,
   "metadata": {},
   "outputs": [],
   "source": [
    "df['content_lower_lem'] = df['content_lower'].apply(lemmatization)"
   ]
  },
  {
   "cell_type": "code",
   "execution_count": 20,
   "metadata": {},
   "outputs": [
    {
     "data": {
      "text/html": [
       "<div>\n",
       "<style scoped>\n",
       "    .dataframe tbody tr th:only-of-type {\n",
       "        vertical-align: middle;\n",
       "    }\n",
       "\n",
       "    .dataframe tbody tr th {\n",
       "        vertical-align: top;\n",
       "    }\n",
       "\n",
       "    .dataframe thead th {\n",
       "        text-align: right;\n",
       "    }\n",
       "</style>\n",
       "<table border=\"1\" class=\"dataframe\">\n",
       "  <thead>\n",
       "    <tr style=\"text-align: right;\">\n",
       "      <th></th>\n",
       "      <th>tweet_id</th>\n",
       "      <th>sentiment</th>\n",
       "      <th>author</th>\n",
       "      <th>content</th>\n",
       "      <th>content_lower</th>\n",
       "      <th>content_lower_lem</th>\n",
       "    </tr>\n",
       "  </thead>\n",
       "  <tbody>\n",
       "    <tr>\n",
       "      <th>0</th>\n",
       "      <td>1956967341</td>\n",
       "      <td>empty</td>\n",
       "      <td>xoshayzers</td>\n",
       "      <td>@tiffanylue i know  i was listenin to bad habi...</td>\n",
       "      <td>know listenin habit earlier started freakin part</td>\n",
       "      <td>know listenin habit earlier start freakin part</td>\n",
       "    </tr>\n",
       "    <tr>\n",
       "      <th>1</th>\n",
       "      <td>1956967666</td>\n",
       "      <td>sadness</td>\n",
       "      <td>wannamama</td>\n",
       "      <td>Layin n bed with a headache  ughhhh...waitin o...</td>\n",
       "      <td>layin with headache ughhhh waitin your call</td>\n",
       "      <td>layin with headache ughhhh waitin your call</td>\n",
       "    </tr>\n",
       "    <tr>\n",
       "      <th>2</th>\n",
       "      <td>1956967696</td>\n",
       "      <td>sadness</td>\n",
       "      <td>coolfunky</td>\n",
       "      <td>Funeral ceremony...gloomy friday...</td>\n",
       "      <td>funeral ceremony gloomy friday</td>\n",
       "      <td>funeral ceremony gloomy friday</td>\n",
       "    </tr>\n",
       "    <tr>\n",
       "      <th>3</th>\n",
       "      <td>1956967789</td>\n",
       "      <td>enthusiasm</td>\n",
       "      <td>czareaquino</td>\n",
       "      <td>wants to hang out with friends SOON!</td>\n",
       "      <td>wants hang with friends soon</td>\n",
       "      <td>want hang with friends soon</td>\n",
       "    </tr>\n",
       "    <tr>\n",
       "      <th>4</th>\n",
       "      <td>1956968416</td>\n",
       "      <td>neutral</td>\n",
       "      <td>xkilljoyx</td>\n",
       "      <td>@dannycastillo We want to trade with someone w...</td>\n",
       "      <td>want trade with someone houston tickets will</td>\n",
       "      <td>want trade with someone houston ticket will</td>\n",
       "    </tr>\n",
       "    <tr>\n",
       "      <th>5</th>\n",
       "      <td>1956968477</td>\n",
       "      <td>worry</td>\n",
       "      <td>xxxPEACHESxxx</td>\n",
       "      <td>Re-pinging @ghostridah14: why didn't you go to...</td>\n",
       "      <td>pinging didn prom didn like friends</td>\n",
       "      <td>ping didn prom didn like friends</td>\n",
       "    </tr>\n",
       "    <tr>\n",
       "      <th>6</th>\n",
       "      <td>1956968487</td>\n",
       "      <td>sadness</td>\n",
       "      <td>ShansBee</td>\n",
       "      <td>I should be sleep, but im not! thinking about ...</td>\n",
       "      <td>should sleep thinking about friend want marrie...</td>\n",
       "      <td>should sleep think about friend want marry dam...</td>\n",
       "    </tr>\n",
       "    <tr>\n",
       "      <th>7</th>\n",
       "      <td>1956968636</td>\n",
       "      <td>worry</td>\n",
       "      <td>mcsleazy</td>\n",
       "      <td>Hmmm. http://www.djhero.com/ is down</td>\n",
       "      <td>hmmm http djhero down</td>\n",
       "      <td>hmmm http djhero down</td>\n",
       "    </tr>\n",
       "    <tr>\n",
       "      <th>8</th>\n",
       "      <td>1956969035</td>\n",
       "      <td>sadness</td>\n",
       "      <td>nic0lepaula</td>\n",
       "      <td>@charviray Charlene my love. I miss you</td>\n",
       "      <td>charlene love miss</td>\n",
       "      <td>charlene love miss</td>\n",
       "    </tr>\n",
       "    <tr>\n",
       "      <th>9</th>\n",
       "      <td>1956969172</td>\n",
       "      <td>sadness</td>\n",
       "      <td>Ingenue_Em</td>\n",
       "      <td>@kelcouch I'm sorry  at least it's Friday?</td>\n",
       "      <td>sorry least friday</td>\n",
       "      <td>sorry least friday</td>\n",
       "    </tr>\n",
       "  </tbody>\n",
       "</table>\n",
       "</div>"
      ],
      "text/plain": [
       "     tweet_id   sentiment         author  \\\n",
       "0  1956967341       empty     xoshayzers   \n",
       "1  1956967666     sadness      wannamama   \n",
       "2  1956967696     sadness      coolfunky   \n",
       "3  1956967789  enthusiasm    czareaquino   \n",
       "4  1956968416     neutral      xkilljoyx   \n",
       "5  1956968477       worry  xxxPEACHESxxx   \n",
       "6  1956968487     sadness       ShansBee   \n",
       "7  1956968636       worry       mcsleazy   \n",
       "8  1956969035     sadness    nic0lepaula   \n",
       "9  1956969172     sadness     Ingenue_Em   \n",
       "\n",
       "                                             content  \\\n",
       "0  @tiffanylue i know  i was listenin to bad habi...   \n",
       "1  Layin n bed with a headache  ughhhh...waitin o...   \n",
       "2                Funeral ceremony...gloomy friday...   \n",
       "3               wants to hang out with friends SOON!   \n",
       "4  @dannycastillo We want to trade with someone w...   \n",
       "5  Re-pinging @ghostridah14: why didn't you go to...   \n",
       "6  I should be sleep, but im not! thinking about ...   \n",
       "7               Hmmm. http://www.djhero.com/ is down   \n",
       "8            @charviray Charlene my love. I miss you   \n",
       "9         @kelcouch I'm sorry  at least it's Friday?   \n",
       "\n",
       "                                       content_lower  \\\n",
       "0   know listenin habit earlier started freakin part   \n",
       "1        layin with headache ughhhh waitin your call   \n",
       "2                     funeral ceremony gloomy friday   \n",
       "3                       wants hang with friends soon   \n",
       "4       want trade with someone houston tickets will   \n",
       "5                pinging didn prom didn like friends   \n",
       "6  should sleep thinking about friend want marrie...   \n",
       "7                              hmmm http djhero down   \n",
       "8                                 charlene love miss   \n",
       "9                                 sorry least friday   \n",
       "\n",
       "                                   content_lower_lem  \n",
       "0     know listenin habit earlier start freakin part  \n",
       "1        layin with headache ughhhh waitin your call  \n",
       "2                     funeral ceremony gloomy friday  \n",
       "3                        want hang with friends soon  \n",
       "4        want trade with someone houston ticket will  \n",
       "5                   ping didn prom didn like friends  \n",
       "6  should sleep think about friend want marry dam...  \n",
       "7                              hmmm http djhero down  \n",
       "8                                 charlene love miss  \n",
       "9                                 sorry least friday  "
      ]
     },
     "execution_count": 20,
     "metadata": {},
     "output_type": "execute_result"
    }
   ],
   "source": [
    "# Revisamos que se haya producido la lemmatization\n",
    "df.head(10)"
   ]
  },
  {
   "cell_type": "code",
   "execution_count": 21,
   "metadata": {},
   "outputs": [],
   "source": [
    "df_encode = df.drop(columns=['content_lower', 'content'])"
   ]
  },
  {
   "cell_type": "code",
   "execution_count": 22,
   "metadata": {},
   "outputs": [],
   "source": [
    "# generamos una recodificación de sentiment y agrupamos según sea positiva o negativa\n",
    "df_encode['sentiment_recod'] = df_encode['sentiment']\n",
    "df_encode['sentiment_recod'] = df_encode['sentiment_recod'].replace(['happiness','love','surprise','fun','relief','enthusiasm'], 'Positiva')\n",
    "df_encode['sentiment_recod'] = df_encode['sentiment_recod'].replace(['worry','sadness','hate','empty','boredom','anger'], 'Negativa')\n",
    "df_encode['sentiment_recod'] = df_encode['sentiment_recod'].apply(lambda x: np.random.choice(['Negativa', 'Positiva']) if x=='neutral' else x)"
   ]
  },
  {
   "cell_type": "code",
   "execution_count": 23,
   "metadata": {},
   "outputs": [
    {
     "data": {
      "text/plain": [
       "Negativa    20340\n",
       "Positiva    19660\n",
       "Name: sentiment_recod, dtype: int64"
      ]
     },
     "execution_count": 23,
     "metadata": {},
     "output_type": "execute_result"
    }
   ],
   "source": [
    "# comprobamos que la recodificación del vector objetivo sea correcta\n",
    "df_encode['sentiment_recod'].value_counts()"
   ]
  },
  {
   "cell_type": "markdown",
   "metadata": {},
   "source": [
    "* La suma de observaciones positiva y Negativa nos da 40000 observaciones y se observa que la clase queda balanceada"
   ]
  },
  {
   "cell_type": "code",
   "execution_count": 24,
   "metadata": {},
   "outputs": [],
   "source": [
    "# binarizamos el vector objetivo y lo agregamos a df_encode\n",
    "df_encode['sentiment_recod_bin'] = np.where(df_encode.sentiment_recod == 'Positiva',1,0)"
   ]
  },
  {
   "cell_type": "code",
   "execution_count": 34,
   "metadata": {},
   "outputs": [
    {
     "data": {
      "text/html": [
       "<div>\n",
       "<style scoped>\n",
       "    .dataframe tbody tr th:only-of-type {\n",
       "        vertical-align: middle;\n",
       "    }\n",
       "\n",
       "    .dataframe tbody tr th {\n",
       "        vertical-align: top;\n",
       "    }\n",
       "\n",
       "    .dataframe thead th {\n",
       "        text-align: right;\n",
       "    }\n",
       "</style>\n",
       "<table border=\"1\" class=\"dataframe\">\n",
       "  <thead>\n",
       "    <tr style=\"text-align: right;\">\n",
       "      <th></th>\n",
       "      <th>tweet_id</th>\n",
       "      <th>sentiment</th>\n",
       "      <th>author</th>\n",
       "      <th>content_lower_lem</th>\n",
       "      <th>sentiment_recod</th>\n",
       "      <th>sentiment_recod_bin</th>\n",
       "    </tr>\n",
       "  </thead>\n",
       "  <tbody>\n",
       "    <tr>\n",
       "      <th>0</th>\n",
       "      <td>1956967341</td>\n",
       "      <td>empty</td>\n",
       "      <td>xoshayzers</td>\n",
       "      <td>know listenin habit earlier start freakin part</td>\n",
       "      <td>Negativa</td>\n",
       "      <td>0</td>\n",
       "    </tr>\n",
       "    <tr>\n",
       "      <th>1</th>\n",
       "      <td>1956967666</td>\n",
       "      <td>sadness</td>\n",
       "      <td>wannamama</td>\n",
       "      <td>layin with headache ughhhh waitin your call</td>\n",
       "      <td>Negativa</td>\n",
       "      <td>0</td>\n",
       "    </tr>\n",
       "    <tr>\n",
       "      <th>2</th>\n",
       "      <td>1956967696</td>\n",
       "      <td>sadness</td>\n",
       "      <td>coolfunky</td>\n",
       "      <td>funeral ceremony gloomy friday</td>\n",
       "      <td>Negativa</td>\n",
       "      <td>0</td>\n",
       "    </tr>\n",
       "    <tr>\n",
       "      <th>3</th>\n",
       "      <td>1956967789</td>\n",
       "      <td>enthusiasm</td>\n",
       "      <td>czareaquino</td>\n",
       "      <td>want hang with friends soon</td>\n",
       "      <td>Positiva</td>\n",
       "      <td>1</td>\n",
       "    </tr>\n",
       "    <tr>\n",
       "      <th>4</th>\n",
       "      <td>1956968416</td>\n",
       "      <td>neutral</td>\n",
       "      <td>xkilljoyx</td>\n",
       "      <td>want trade with someone houston ticket will</td>\n",
       "      <td>Positiva</td>\n",
       "      <td>1</td>\n",
       "    </tr>\n",
       "  </tbody>\n",
       "</table>\n",
       "</div>"
      ],
      "text/plain": [
       "     tweet_id   sentiment       author  \\\n",
       "0  1956967341       empty   xoshayzers   \n",
       "1  1956967666     sadness    wannamama   \n",
       "2  1956967696     sadness    coolfunky   \n",
       "3  1956967789  enthusiasm  czareaquino   \n",
       "4  1956968416     neutral    xkilljoyx   \n",
       "\n",
       "                                content_lower_lem sentiment_recod  \\\n",
       "0  know listenin habit earlier start freakin part        Negativa   \n",
       "1     layin with headache ughhhh waitin your call        Negativa   \n",
       "2                  funeral ceremony gloomy friday        Negativa   \n",
       "3                     want hang with friends soon        Positiva   \n",
       "4     want trade with someone houston ticket will        Positiva   \n",
       "\n",
       "   sentiment_recod_bin  \n",
       "0                    0  \n",
       "1                    0  \n",
       "2                    0  \n",
       "3                    1  \n",
       "4                    1  "
      ]
     },
     "execution_count": 34,
     "metadata": {},
     "output_type": "execute_result"
    }
   ],
   "source": [
    "df_encode.head()"
   ]
  },
  {
   "cell_type": "code",
   "execution_count": 25,
   "metadata": {},
   "outputs": [
    {
     "data": {
      "text/plain": [
       "0    0.5085\n",
       "1    0.4915\n",
       "Name: sentiment_recod_bin, dtype: float64"
      ]
     },
     "execution_count": 25,
     "metadata": {},
     "output_type": "execute_result"
    }
   ],
   "source": [
    "df_encode['sentiment_recod_bin'].value_counts('%')"
   ]
  },
  {
   "cell_type": "markdown",
   "metadata": {},
   "source": [
    "* Tenemos 51% de tweets asociados al sentimiento Negativo y un 49% de tweets asociados a un sentimiento Positivo."
   ]
  },
  {
   "cell_type": "code",
   "execution_count": 26,
   "metadata": {},
   "outputs": [],
   "source": [
    "# creacion del bag of words\n",
    "# instanciamos un objeto\n",
    "count_vectorizer = CountVectorizer(stop_words='english', max_features = 180976)\n",
    "# implementamos los pasos fit y transform\n",
    "transformed_feats = count_vectorizer.fit_transform(df_encode['content_lower_lem'])\n",
    "# extraemos tokens (palabras)\n",
    "words = count_vectorizer.get_feature_names()\n",
    "# extraemos frecuencia\n",
    "words_count = transformed_feats.toarray().sum(axis=0)\n",
    "# generamos un df con la frecuencia obtenida\n",
    "df_words = pd.DataFrame({'word': words, 'count': words_count})\n",
    "# obtenemos un df con las 100 palabras más repetidas\n",
    "df_words_100 = df_words.sort_values(by='count', ascending=False).head(100)"
   ]
  },
  {
   "cell_type": "code",
   "execution_count": 42,
   "metadata": {},
   "outputs": [
    {
     "data": {
      "text/html": [
       "<div>\n",
       "<style scoped>\n",
       "    .dataframe tbody tr th:only-of-type {\n",
       "        vertical-align: middle;\n",
       "    }\n",
       "\n",
       "    .dataframe tbody tr th {\n",
       "        vertical-align: top;\n",
       "    }\n",
       "\n",
       "    .dataframe thead th {\n",
       "        text-align: right;\n",
       "    }\n",
       "</style>\n",
       "<table border=\"1\" class=\"dataframe\">\n",
       "  <thead>\n",
       "    <tr style=\"text-align: right;\">\n",
       "      <th></th>\n",
       "      <th>10959</th>\n",
       "      <th>8361</th>\n",
       "      <th>23312</th>\n",
       "      <th>11893</th>\n",
       "      <th>12223</th>\n",
       "      <th>16631</th>\n",
       "      <th>9714</th>\n",
       "      <th>21019</th>\n",
       "      <th>20762</th>\n",
       "      <th>20920</th>\n",
       "      <th>11350</th>\n",
       "      <th>9011</th>\n",
       "      <th>20644</th>\n",
       "      <th>12526</th>\n",
       "      <th>13296</th>\n",
       "      <th>22602</th>\n",
       "      <th>16834</th>\n",
       "      <th>7099</th>\n",
       "      <th>13596</th>\n",
       "      <th>14216</th>\n",
       "      <th>9518</th>\n",
       "      <th>12129</th>\n",
       "      <th>4130</th>\n",
       "      <th>14025</th>\n",
       "      <th>22657</th>\n",
       "      <th>23153</th>\n",
       "      <th>8564</th>\n",
       "      <th>21644</th>\n",
       "      <th>13551</th>\n",
       "      <th>9595</th>\n",
       "      <th>8841</th>\n",
       "      <th>18851</th>\n",
       "      <th>21073</th>\n",
       "      <th>22537</th>\n",
       "      <th>21091</th>\n",
       "      <th>19226</th>\n",
       "      <th>17372</th>\n",
       "      <th>14178</th>\n",
       "      <th>11716</th>\n",
       "      <th>1985</th>\n",
       "      <th>8359</th>\n",
       "      <th>23607</th>\n",
       "      <th>22787</th>\n",
       "      <th>22780</th>\n",
       "      <th>15446</th>\n",
       "      <th>21637</th>\n",
       "      <th>5479</th>\n",
       "      <th>19570</th>\n",
       "      <th>17905</th>\n",
       "      <th>17973</th>\n",
       "      <th>21545</th>\n",
       "      <th>7458</th>\n",
       "      <th>15798</th>\n",
       "      <th>5088</th>\n",
       "      <th>5827</th>\n",
       "      <th>1362</th>\n",
       "      <th>9080</th>\n",
       "      <th>21430</th>\n",
       "      <th>1965</th>\n",
       "      <th>19897</th>\n",
       "      <th>11984</th>\n",
       "      <th>12108</th>\n",
       "      <th>20518</th>\n",
       "      <th>19176</th>\n",
       "      <th>11988</th>\n",
       "      <th>20753</th>\n",
       "      <th>9139</th>\n",
       "      <th>9173</th>\n",
       "      <th>20963</th>\n",
       "      <th>11862</th>\n",
       "      <th>20089</th>\n",
       "      <th>16696</th>\n",
       "      <th>12894</th>\n",
       "      <th>18598</th>\n",
       "      <th>15586</th>\n",
       "      <th>2418</th>\n",
       "      <th>2562</th>\n",
       "      <th>22598</th>\n",
       "      <th>13634</th>\n",
       "      <th>4436</th>\n",
       "      <th>8781</th>\n",
       "      <th>20334</th>\n",
       "      <th>7720</th>\n",
       "      <th>9670</th>\n",
       "      <th>9807</th>\n",
       "      <th>6483</th>\n",
       "      <th>9673</th>\n",
       "      <th>12182</th>\n",
       "      <th>16813</th>\n",
       "      <th>9291</th>\n",
       "      <th>8727</th>\n",
       "      <th>7711</th>\n",
       "      <th>16808</th>\n",
       "      <th>16220</th>\n",
       "      <th>7705</th>\n",
       "      <th>12821</th>\n",
       "      <th>22544</th>\n",
       "      <th>4965</th>\n",
       "      <th>8207</th>\n",
       "      <th>7236</th>\n",
       "    </tr>\n",
       "  </thead>\n",
       "  <tbody>\n",
       "    <tr>\n",
       "      <th>word</th>\n",
       "      <td>just</td>\n",
       "      <td>good</td>\n",
       "      <td>work</td>\n",
       "      <td>like</td>\n",
       "      <td>love</td>\n",
       "      <td>quot</td>\n",
       "      <td>http</td>\n",
       "      <td>today</td>\n",
       "      <td>think</td>\n",
       "      <td>time</td>\n",
       "      <td>know</td>\n",
       "      <td>happy</td>\n",
       "      <td>thank</td>\n",
       "      <td>make</td>\n",
       "      <td>miss</td>\n",
       "      <td>want</td>\n",
       "      <td>really</td>\n",
       "      <td>feel</td>\n",
       "      <td>mother</td>\n",
       "      <td>night</td>\n",
       "      <td>home</td>\n",
       "      <td>look</td>\n",
       "      <td>come</td>\n",
       "      <td>need</td>\n",
       "      <td>watch</td>\n",
       "      <td>wish</td>\n",
       "      <td>great</td>\n",
       "      <td>twitter</td>\n",
       "      <td>morning</td>\n",
       "      <td>hope</td>\n",
       "      <td>haha</td>\n",
       "      <td>sleep</td>\n",
       "      <td>tomorrow</td>\n",
       "      <td>wait</td>\n",
       "      <td>tonight</td>\n",
       "      <td>sorry</td>\n",
       "      <td>right</td>\n",
       "      <td>nice</td>\n",
       "      <td>leave</td>\n",
       "      <td>better</td>\n",
       "      <td>gonna</td>\n",
       "      <td>yeah</td>\n",
       "      <td>weekend</td>\n",
       "      <td>week</td>\n",
       "      <td>people</td>\n",
       "      <td>twitpic</td>\n",
       "      <td>didn</td>\n",
       "      <td>start</td>\n",
       "      <td>say</td>\n",
       "      <td>school</td>\n",
       "      <td>tweet</td>\n",
       "      <td>follow</td>\n",
       "      <td>play</td>\n",
       "      <td>days</td>\n",
       "      <td>dont</td>\n",
       "      <td>awesome</td>\n",
       "      <td>hate</td>\n",
       "      <td>try</td>\n",
       "      <td>best</td>\n",
       "      <td>suck</td>\n",
       "      <td>little</td>\n",
       "      <td>long</td>\n",
       "      <td>tell</td>\n",
       "      <td>soon</td>\n",
       "      <td>live</td>\n",
       "      <td>thing</td>\n",
       "      <td>head</td>\n",
       "      <td>hear</td>\n",
       "      <td>tire</td>\n",
       "      <td>life</td>\n",
       "      <td>sure</td>\n",
       "      <td>rain</td>\n",
       "      <td>mean</td>\n",
       "      <td>sick</td>\n",
       "      <td>phone</td>\n",
       "      <td>bore</td>\n",
       "      <td>break</td>\n",
       "      <td>wanna</td>\n",
       "      <td>movie</td>\n",
       "      <td>cool</td>\n",
       "      <td>guy</td>\n",
       "      <td>talk</td>\n",
       "      <td>friends</td>\n",
       "      <td>hours</td>\n",
       "      <td>hurt</td>\n",
       "      <td>enjoy</td>\n",
       "      <td>house</td>\n",
       "      <td>lose</td>\n",
       "      <td>ready</td>\n",
       "      <td>help</td>\n",
       "      <td>guess</td>\n",
       "      <td>friend</td>\n",
       "      <td>read</td>\n",
       "      <td>pretty</td>\n",
       "      <td>friday</td>\n",
       "      <td>maybe</td>\n",
       "      <td>wake</td>\n",
       "      <td>damn</td>\n",
       "      <td>girl</td>\n",
       "      <td>finally</td>\n",
       "    </tr>\n",
       "    <tr>\n",
       "      <th>count</th>\n",
       "      <td>3210</td>\n",
       "      <td>2309</td>\n",
       "      <td>2208</td>\n",
       "      <td>2071</td>\n",
       "      <td>1952</td>\n",
       "      <td>1855</td>\n",
       "      <td>1838</td>\n",
       "      <td>1664</td>\n",
       "      <td>1601</td>\n",
       "      <td>1582</td>\n",
       "      <td>1507</td>\n",
       "      <td>1484</td>\n",
       "      <td>1472</td>\n",
       "      <td>1448</td>\n",
       "      <td>1392</td>\n",
       "      <td>1387</td>\n",
       "      <td>1279</td>\n",
       "      <td>1273</td>\n",
       "      <td>1227</td>\n",
       "      <td>1124</td>\n",
       "      <td>1077</td>\n",
       "      <td>1046</td>\n",
       "      <td>1044</td>\n",
       "      <td>1019</td>\n",
       "      <td>949</td>\n",
       "      <td>889</td>\n",
       "      <td>877</td>\n",
       "      <td>868</td>\n",
       "      <td>860</td>\n",
       "      <td>843</td>\n",
       "      <td>807</td>\n",
       "      <td>755</td>\n",
       "      <td>723</td>\n",
       "      <td>721</td>\n",
       "      <td>697</td>\n",
       "      <td>695</td>\n",
       "      <td>664</td>\n",
       "      <td>624</td>\n",
       "      <td>621</td>\n",
       "      <td>613</td>\n",
       "      <td>604</td>\n",
       "      <td>602</td>\n",
       "      <td>591</td>\n",
       "      <td>589</td>\n",
       "      <td>544</td>\n",
       "      <td>525</td>\n",
       "      <td>517</td>\n",
       "      <td>514</td>\n",
       "      <td>510</td>\n",
       "      <td>509</td>\n",
       "      <td>497</td>\n",
       "      <td>491</td>\n",
       "      <td>490</td>\n",
       "      <td>483</td>\n",
       "      <td>482</td>\n",
       "      <td>478</td>\n",
       "      <td>467</td>\n",
       "      <td>464</td>\n",
       "      <td>449</td>\n",
       "      <td>447</td>\n",
       "      <td>441</td>\n",
       "      <td>437</td>\n",
       "      <td>435</td>\n",
       "      <td>432</td>\n",
       "      <td>427</td>\n",
       "      <td>427</td>\n",
       "      <td>403</td>\n",
       "      <td>401</td>\n",
       "      <td>398</td>\n",
       "      <td>385</td>\n",
       "      <td>384</td>\n",
       "      <td>383</td>\n",
       "      <td>380</td>\n",
       "      <td>376</td>\n",
       "      <td>371</td>\n",
       "      <td>370</td>\n",
       "      <td>367</td>\n",
       "      <td>366</td>\n",
       "      <td>363</td>\n",
       "      <td>361</td>\n",
       "      <td>359</td>\n",
       "      <td>358</td>\n",
       "      <td>356</td>\n",
       "      <td>349</td>\n",
       "      <td>347</td>\n",
       "      <td>337</td>\n",
       "      <td>330</td>\n",
       "      <td>324</td>\n",
       "      <td>322</td>\n",
       "      <td>320</td>\n",
       "      <td>318</td>\n",
       "      <td>316</td>\n",
       "      <td>315</td>\n",
       "      <td>313</td>\n",
       "      <td>312</td>\n",
       "      <td>309</td>\n",
       "      <td>309</td>\n",
       "      <td>308</td>\n",
       "      <td>306</td>\n",
       "      <td>305</td>\n",
       "    </tr>\n",
       "  </tbody>\n",
       "</table>\n",
       "</div>"
      ],
      "text/plain": [
       "      10959 8361  23312 11893 12223 16631 9714   21019  20762 20920 11350  \\\n",
       "word   just  good  work  like  love  quot  http  today  think  time  know   \n",
       "count  3210  2309  2208  2071  1952  1855  1838   1664   1601  1582  1507   \n",
       "\n",
       "       9011   20644 12526 13296 22602   16834 7099    13596  14216 9518   \\\n",
       "word   happy  thank  make  miss  want  really  feel  mother  night  home   \n",
       "count   1484   1472  1448  1392  1387    1279  1273    1227   1124  1077   \n",
       "\n",
       "      12129 4130  14025  22657 23153  8564     21644    13551 9595  8841   \\\n",
       "word   look  come  need  watch  wish  great  twitter  morning  hope  haha   \n",
       "count  1046  1044  1019    949   889    877      868      860   843   807   \n",
       "\n",
       "       18851     21073 22537    21091  19226  17372 14178  11716   1985   \\\n",
       "word   sleep  tomorrow  wait  tonight  sorry  right  nice  leave  better   \n",
       "count    755       723   721      697    695    664   624    621     613   \n",
       "\n",
       "       8359  23607    22787 22780   15446    21637 5479   19570 17905   17973  \\\n",
       "word   gonna  yeah  weekend  week  people  twitpic  didn  start   say  school   \n",
       "count    604   602      591   589     544      525   517    514   510     509   \n",
       "\n",
       "       21545   7458  15798 5088  5827     1362  9080  21430 1965  19897  \\\n",
       "word   tweet  follow  play  days  dont  awesome  hate   try  best  suck   \n",
       "count    497     491   490   483   482      478   467   464   449   447   \n",
       "\n",
       "        11984 12108 20518 19176 11988  20753 9139  9173  20963 11862 20089  \\\n",
       "word   little  long  tell  soon  live  thing  head  hear  tire  life  sure   \n",
       "count     441   437   435   432   427    427   403   401   398   385   384   \n",
       "\n",
       "      16696 12894 18598  15586 2418   2562   22598  13634 4436  8781  20334  \\\n",
       "word   rain  mean  sick  phone  bore  break  wanna  movie  cool   guy  talk   \n",
       "count   383   380   376    371   370    367    366    363   361   359   358   \n",
       "\n",
       "         7720   9670  9807   6483   9673  12182  16813 9291   8727    7711   \\\n",
       "word   friends  hours  hurt  enjoy  house  lose  ready  help  guess  friend   \n",
       "count      356    349   347    337    330   324    322   320    318     316   \n",
       "\n",
       "      16808   16220   7705   12821 22544 4965  8207     7236   \n",
       "word   read  pretty  friday  maybe  wake  damn  girl  finally  \n",
       "count   315     313     312    309   309   308   306      305  "
      ]
     },
     "execution_count": 42,
     "metadata": {},
     "output_type": "execute_result"
    }
   ],
   "source": [
    "df_words_100.transpose()"
   ]
  },
  {
   "cell_type": "code",
   "execution_count": 43,
   "metadata": {},
   "outputs": [
    {
     "data": {
      "text/plain": [
       "(23928, 2)"
      ]
     },
     "execution_count": 43,
     "metadata": {},
     "output_type": "execute_result"
    }
   ],
   "source": [
    "df_words.shape"
   ]
  },
  {
   "cell_type": "markdown",
   "metadata": {},
   "source": [
    "* Vemos que en total la matriz de words posee 23928 registros, lo cual nos indica el número máximo de diferentes palabras que podremos asociar a un sentimiento en particular, positivo o negativo"
   ]
  },
  {
   "cell_type": "markdown",
   "metadata": {},
   "source": [
    "## Modelación"
   ]
  },
  {
   "cell_type": "markdown",
   "metadata": {},
   "source": [
    "Una sección llamada Modelación, donde se implementará una solución analítica que aumente\n",
    "las métricas de desempeño. Se solicitan por lo menos 5 modelos predictivos. Cada modelo\n",
    "predictivo debe tener una reseña sobre el por qué se diseño de esa forma."
   ]
  },
  {
   "cell_type": "code",
   "execution_count": 44,
   "metadata": {},
   "outputs": [
    {
     "data": {
      "text/html": [
       "<div>\n",
       "<style scoped>\n",
       "    .dataframe tbody tr th:only-of-type {\n",
       "        vertical-align: middle;\n",
       "    }\n",
       "\n",
       "    .dataframe tbody tr th {\n",
       "        vertical-align: top;\n",
       "    }\n",
       "\n",
       "    .dataframe thead th {\n",
       "        text-align: right;\n",
       "    }\n",
       "</style>\n",
       "<table border=\"1\" class=\"dataframe\">\n",
       "  <thead>\n",
       "    <tr style=\"text-align: right;\">\n",
       "      <th></th>\n",
       "      <th>tweet_id</th>\n",
       "      <th>sentiment</th>\n",
       "      <th>author</th>\n",
       "      <th>content_lower_lem</th>\n",
       "      <th>sentiment_recod</th>\n",
       "      <th>sentiment_recod_bin</th>\n",
       "    </tr>\n",
       "  </thead>\n",
       "  <tbody>\n",
       "    <tr>\n",
       "      <th>0</th>\n",
       "      <td>1956967341</td>\n",
       "      <td>empty</td>\n",
       "      <td>xoshayzers</td>\n",
       "      <td>know listenin habit earlier start freakin part</td>\n",
       "      <td>Negativa</td>\n",
       "      <td>0</td>\n",
       "    </tr>\n",
       "    <tr>\n",
       "      <th>1</th>\n",
       "      <td>1956967666</td>\n",
       "      <td>sadness</td>\n",
       "      <td>wannamama</td>\n",
       "      <td>layin with headache ughhhh waitin your call</td>\n",
       "      <td>Negativa</td>\n",
       "      <td>0</td>\n",
       "    </tr>\n",
       "    <tr>\n",
       "      <th>2</th>\n",
       "      <td>1956967696</td>\n",
       "      <td>sadness</td>\n",
       "      <td>coolfunky</td>\n",
       "      <td>funeral ceremony gloomy friday</td>\n",
       "      <td>Negativa</td>\n",
       "      <td>0</td>\n",
       "    </tr>\n",
       "    <tr>\n",
       "      <th>3</th>\n",
       "      <td>1956967789</td>\n",
       "      <td>enthusiasm</td>\n",
       "      <td>czareaquino</td>\n",
       "      <td>want hang with friends soon</td>\n",
       "      <td>Positiva</td>\n",
       "      <td>1</td>\n",
       "    </tr>\n",
       "    <tr>\n",
       "      <th>4</th>\n",
       "      <td>1956968416</td>\n",
       "      <td>neutral</td>\n",
       "      <td>xkilljoyx</td>\n",
       "      <td>want trade with someone houston ticket will</td>\n",
       "      <td>Positiva</td>\n",
       "      <td>1</td>\n",
       "    </tr>\n",
       "  </tbody>\n",
       "</table>\n",
       "</div>"
      ],
      "text/plain": [
       "     tweet_id   sentiment       author  \\\n",
       "0  1956967341       empty   xoshayzers   \n",
       "1  1956967666     sadness    wannamama   \n",
       "2  1956967696     sadness    coolfunky   \n",
       "3  1956967789  enthusiasm  czareaquino   \n",
       "4  1956968416     neutral    xkilljoyx   \n",
       "\n",
       "                                content_lower_lem sentiment_recod  \\\n",
       "0  know listenin habit earlier start freakin part        Negativa   \n",
       "1     layin with headache ughhhh waitin your call        Negativa   \n",
       "2                  funeral ceremony gloomy friday        Negativa   \n",
       "3                     want hang with friends soon        Positiva   \n",
       "4     want trade with someone houston ticket will        Positiva   \n",
       "\n",
       "   sentiment_recod_bin  \n",
       "0                    0  \n",
       "1                    0  \n",
       "2                    0  \n",
       "3                    1  \n",
       "4                    1  "
      ]
     },
     "execution_count": 44,
     "metadata": {},
     "output_type": "execute_result"
    }
   ],
   "source": [
    "df_encode.head()"
   ]
  },
  {
   "cell_type": "code",
   "execution_count": 113,
   "metadata": {},
   "outputs": [],
   "source": [
    "def roc_graph(y_test, y_hat):\n",
    "    false_positive , true_positive , threshold = roc_curve(y_test,y_hat[:,1])\n",
    "    plt.plot(false_positive,true_positive,lw = 1)\n",
    "    plt.plot([0,1], linestyle='--', lw=1, color='tomato')\n",
    "    plt.ylabel('Verdaderos Positivos')\n",
    "    plt.xlabel('Falsos Positivos')\n"
   ]
  },
  {
   "cell_type": "code",
   "execution_count": 27,
   "metadata": {},
   "outputs": [],
   "source": [
    "X = df_encode['content_lower_lem']\n",
    "y = df_encode['sentiment_recod_bin']\n",
    "y2 = df_encode['sentiment_recod']"
   ]
  },
  {
   "cell_type": "code",
   "execution_count": 28,
   "metadata": {},
   "outputs": [],
   "source": [
    "X_train, X_test, y_train, y_test = train_test_split(X, y,\n",
    "                                                    test_size=0.33, random_state=558)"
   ]
  },
  {
   "cell_type": "markdown",
   "metadata": {},
   "source": [
    "> * Generamos nuestro primer modelo **MultinomialNB**, en donde utilizaremos un pipeline para primero generar un objeto countvectorizer y posteriormente implementamos el modelo"
   ]
  },
  {
   "cell_type": "code",
   "execution_count": 29,
   "metadata": {},
   "outputs": [],
   "source": [
    "pipelined_model_nb = Pipeline(\n",
    "    [\n",
    "        ('countvec', CountVectorizer(stop_words='english', max_features = 23928)),\n",
    "        ('multinom_nb', MultinomialNB())\n",
    "    ]\n",
    ")"
   ]
  },
  {
   "cell_type": "code",
   "execution_count": 30,
   "metadata": {},
   "outputs": [],
   "source": [
    "model_nb = pipelined_model_nb.fit(X_train, y_train)"
   ]
  },
  {
   "cell_type": "code",
   "execution_count": 42,
   "metadata": {},
   "outputs": [],
   "source": [
    "# utilizamos nuestros datos de entrenamiento\n",
    "pr_class_nb = model_nb.predict(X_test)\n",
    "pr_class_proba_nb = model_nb.predict_proba(X_test)"
   ]
  },
  {
   "cell_type": "code",
   "execution_count": 43,
   "metadata": {},
   "outputs": [
    {
     "data": {
      "text/plain": [
       "array([[0.35613636, 0.15143939],\n",
       "       [0.18984848, 0.30257576]])"
      ]
     },
     "execution_count": 43,
     "metadata": {},
     "output_type": "execute_result"
    }
   ],
   "source": [
    "# generamos la matrix de confusion\n",
    "confusion_matrix(y_test, pr_class_nb)/len(y_test)"
   ]
  },
  {
   "cell_type": "code",
   "execution_count": 45,
   "metadata": {},
   "outputs": [
    {
     "name": "stdout",
     "output_type": "stream",
     "text": [
      "              precision    recall  f1-score   support\n",
      "\n",
      "           0       0.65      0.70      0.68      6700\n",
      "           1       0.67      0.61      0.64      6500\n",
      "\n",
      "   micro avg       0.66      0.66      0.66     13200\n",
      "   macro avg       0.66      0.66      0.66     13200\n",
      "weighted avg       0.66      0.66      0.66     13200\n",
      "\n"
     ]
    }
   ],
   "source": [
    "# generamos las metricas\n",
    "print(classification_report(y_test, pr_class_nb))"
   ]
  },
  {
   "cell_type": "code",
   "execution_count": 115,
   "metadata": {},
   "outputs": [
    {
     "data": {
      "image/png": "[encoded data removed]",
      "text/plain": [
       "<Figure size 1008x576 with 1 Axes>"
      ]
     },
     "metadata": {
      "needs_background": "light"
     },
     "output_type": "display_data"
    }
   ],
   "source": [
    "roc_graph(y_test, pr_class_proba_nb)"
   ]
  },
  {
   "cell_type": "code",
   "execution_count": 61,
   "metadata": {},
   "outputs": [],
   "source": [
    "pickle.dump(model_nb, open('multinomialnb.sav','wb'))"
   ]
  },
  {
   "cell_type": "markdown",
   "metadata": {},
   "source": [
    "> * Para nuestro primer modelo implementado, vemos que mejora la metrica de desempeño, logrando predecir en un 68% los tweets asociados a un sentimiento negativo y en un 64% los sentimientos asociados como positivos. En general el modelo logra predecir con un 66% de exactitud si un tweet esta asociado a un sentimiento negativo o un sentimiento positivo, lo cual señala que nuestro modelo mejora en un 15% las predicciones correctas respecto a un clasificador aleatorio 0,5%"
   ]
  },
  {
   "cell_type": "code",
   "execution_count": 178,
   "metadata": {},
   "outputs": [
    {
     "name": "stdout",
     "output_type": "stream",
     "text": [
      "CPU times: user 1.8 s, sys: 186 ms, total: 1.98 s\n",
      "Wall time: 2.05 s\n"
     ]
    }
   ],
   "source": [
    "%%time\n",
    "alphas = [0.1, 0.2, 0.3, 0.4, 0.5, 0.6, 0.7, 0.8, 0.9, 1.0]\n",
    "nbgs = GridSearchCV(MultinomialNB(),\n",
    "                         {'alpha': alphas, \n",
    "                          'fit_prior':[True,False], \n",
    "                          'class_prior':[None]},\n",
    "                          cv=5).fit(X_tr_2, y_tr_2)"
   ]
  },
  {
   "cell_type": "code",
   "execution_count": 179,
   "metadata": {},
   "outputs": [],
   "source": [
    "# utilizamos nuestros datos de entrenamiento\n",
    "nbgs_pr_class = nbgs.predict(X_te_2)\n",
    "nbgs_pr_class_proba = nbgs.predict_proba(X_te_2)"
   ]
  },
  {
   "cell_type": "code",
   "execution_count": 180,
   "metadata": {},
   "outputs": [
    {
     "name": "stdout",
     "output_type": "stream",
     "text": [
      "              precision    recall  f1-score   support\n",
      "\n",
      "           0       0.65      0.70      0.68      6700\n",
      "           1       0.67      0.62      0.64      6500\n",
      "\n",
      "   micro avg       0.66      0.66      0.66     13200\n",
      "   macro avg       0.66      0.66      0.66     13200\n",
      "weighted avg       0.66      0.66      0.66     13200\n",
      "\n"
     ]
    }
   ],
   "source": [
    "# generamos las metricas\n",
    "print(classification_report(y_te_2, nbgs_pr_class))"
   ]
  },
  {
   "cell_type": "code",
   "execution_count": 181,
   "metadata": {},
   "outputs": [
    {
     "data": {
      "image/png": "[encoded data removed]",
      "text/plain": [
       "<Figure size 1008x576 with 1 Axes>"
      ]
     },
     "metadata": {
      "needs_background": "light"
     },
     "output_type": "display_data"
    }
   ],
   "source": [
    "roc_graph(y_te_2, nbgs_pr_class_proba)"
   ]
  },
  {
   "cell_type": "code",
   "execution_count": 182,
   "metadata": {},
   "outputs": [],
   "source": [
    "pickle.dump(nbgs, open('nbgs_cv.sav','wb'))"
   ]
  },
  {
   "cell_type": "markdown",
   "metadata": {},
   "source": [
    "> * En el modelo implementado con busqueda de grilla y 5 validaciones cruzadas para MultinomialNB, vemos que el modelo clasifica de manera correcta el 68% de tweets negativos y un 64% los tweets positivos.\n",
    "\n",
    "> * En general el modelo clasifica de manera correcta el 66% de los tweets, lo cual representa una mejora de un 16% con respecto a un clasificador aleatorio.\n",
    "\n",
    "> * En comparación entre los modelos sin busqueda de grilla y sin validaciones cruzadas, vemos que el modelo obtiene las mismas metricas de clasificación, esto puede ser indicio de que los hiparparametros no fueron tuneados de la mejor manera y se podrian mejorar en futuras iteraciones."
   ]
  },
  {
   "cell_type": "markdown",
   "metadata": {},
   "source": [
    "> Generamos nuestro segundo modelo **Regresión Logistica**"
   ]
  },
  {
   "cell_type": "code",
   "execution_count": 62,
   "metadata": {},
   "outputs": [],
   "source": [
    "logreg = LogisticRegression()"
   ]
  },
  {
   "cell_type": "code",
   "execution_count": 63,
   "metadata": {},
   "outputs": [],
   "source": [
    "y2 = df_encode['sentiment_recod']"
   ]
  },
  {
   "cell_type": "code",
   "execution_count": 64,
   "metadata": {},
   "outputs": [],
   "source": [
    "X_tr, X_te, y_tr, y_te = train_test_split(transformed_feats, y2, test_size=0.33, random_state=558)"
   ]
  },
  {
   "cell_type": "code",
   "execution_count": 65,
   "metadata": {},
   "outputs": [
    {
     "data": {
      "text/plain": [
       "LogisticRegression(C=1.0, class_weight=None, dual=False, fit_intercept=True,\n",
       "          intercept_scaling=1, max_iter=100, multi_class='warn',\n",
       "          n_jobs=None, penalty='l2', random_state=None, solver='warn',\n",
       "          tol=0.0001, verbose=0, warm_start=False)"
      ]
     },
     "execution_count": 65,
     "metadata": {},
     "output_type": "execute_result"
    }
   ],
   "source": [
    "logreg.fit(X_tr, y_tr)"
   ]
  },
  {
   "cell_type": "code",
   "execution_count": 66,
   "metadata": {},
   "outputs": [],
   "source": [
    "y_pred = logreg.predict(X_te)"
   ]
  },
  {
   "cell_type": "code",
   "execution_count": 117,
   "metadata": {},
   "outputs": [],
   "source": [
    "y_pred_proba = logreg.predict_proba(X_te)"
   ]
  },
  {
   "cell_type": "code",
   "execution_count": 67,
   "metadata": {},
   "outputs": [
    {
     "data": {
      "text/plain": [
       "array([[0.34924242, 0.15833333],\n",
       "       [0.18636364, 0.30606061]])"
      ]
     },
     "execution_count": 67,
     "metadata": {},
     "output_type": "execute_result"
    }
   ],
   "source": [
    "confusion_matrix(y_te, y_pred)/len(y_te)"
   ]
  },
  {
   "cell_type": "code",
   "execution_count": 68,
   "metadata": {},
   "outputs": [
    {
     "name": "stdout",
     "output_type": "stream",
     "text": [
      "              precision    recall  f1-score   support\n",
      "\n",
      "    Negativa       0.65      0.69      0.67      6700\n",
      "    Positiva       0.66      0.62      0.64      6500\n",
      "\n",
      "   micro avg       0.66      0.66      0.66     13200\n",
      "   macro avg       0.66      0.65      0.65     13200\n",
      "weighted avg       0.66      0.66      0.65     13200\n",
      "\n"
     ]
    }
   ],
   "source": [
    "# generamos las metricas\n",
    "print(classification_report(y_te, y_pred))"
   ]
  },
  {
   "cell_type": "code",
   "execution_count": 70,
   "metadata": {},
   "outputs": [],
   "source": [
    "pickle.dump(logreg, open('logisticregression.sav','wb'))"
   ]
  },
  {
   "cell_type": "markdown",
   "metadata": {},
   "source": [
    "> Vemos que nuestro segundo modelo de regresión logistica logra predecir en un 67% a los tweets negativos y en un 63% a los tweets positivos. El modelo en general logra predecir de manera correcta en un 65%, lo que representa una mejora en la clasificación de un 15% con respecto a nuestro clasificador aleatorio (0,5%)"
   ]
  },
  {
   "cell_type": "code",
   "execution_count": 144,
   "metadata": {},
   "outputs": [
    {
     "name": "stdout",
     "output_type": "stream",
     "text": [
      "CPU times: user 59.1 s, sys: 615 ms, total: 59.7 s\n",
      "Wall time: 34.7 s\n"
     ]
    }
   ],
   "source": [
    "%%time\n",
    "logreg_gscv = GridSearchCV(LogisticRegression(),\n",
    "                           {\"C\":np.logspace(-3,3,7), \n",
    "                            \"penalty\":[\"l1\",\"l2\"]}\n",
    "                           ,cv=5).fit(X_tr, y_tr)"
   ]
  },
  {
   "cell_type": "code",
   "execution_count": 145,
   "metadata": {},
   "outputs": [],
   "source": [
    "y_pred_lrcv = logreg_gscv.predict(X_te)"
   ]
  },
  {
   "cell_type": "code",
   "execution_count": 146,
   "metadata": {},
   "outputs": [],
   "source": [
    "y_pred_proba_lrcv = logreg_gscv.predict_proba(X_te)"
   ]
  },
  {
   "cell_type": "code",
   "execution_count": 147,
   "metadata": {},
   "outputs": [
    {
     "name": "stdout",
     "output_type": "stream",
     "text": [
      "              precision    recall  f1-score   support\n",
      "\n",
      "    Negativa       0.65      0.73      0.69      6700\n",
      "    Positiva       0.69      0.60      0.64      6500\n",
      "\n",
      "   micro avg       0.67      0.67      0.67     13200\n",
      "   macro avg       0.67      0.66      0.66     13200\n",
      "weighted avg       0.67      0.67      0.66     13200\n",
      "\n"
     ]
    }
   ],
   "source": [
    "# generamos las metricas\n",
    "print(classification_report(y_te, y_pred_lrcv))"
   ]
  },
  {
   "cell_type": "code",
   "execution_count": 148,
   "metadata": {},
   "outputs": [],
   "source": [
    "pickle.dump(logreg_gscv, open('logisticregression_gscv.sav','wb'))"
   ]
  },
  {
   "cell_type": "markdown",
   "metadata": {},
   "source": [
    "> Si volvemos a realizar un modelo logisticregression con grid search y 5 validaciones cruzadas y modificamos ciertos hiperparametros, observamos que obtenemos una mejora en el rendimiento general del modelo en un 1% con respecto al modelo sin gridsearch.\n",
    "\n",
    "> El desempeño en la clasificación de tweets negativos mejora en un 2%, pasando de 67% a 69%, mientras que la clasificación para tweets positivos se mantiene igual, en un 64%"
   ]
  },
  {
   "cell_type": "markdown",
   "metadata": {},
   "source": [
    "> Implementamos un tercer modelo: **DecisionTreeClassifier**"
   ]
  },
  {
   "cell_type": "code",
   "execution_count": 76,
   "metadata": {},
   "outputs": [],
   "source": [
    "X_tr_2, X_te_2, y_tr_2, y_te_2 = train_test_split(transformed_feats, y, test_size=0.33, random_state=558)"
   ]
  },
  {
   "cell_type": "code",
   "execution_count": 149,
   "metadata": {},
   "outputs": [],
   "source": [
    "dec_tree = DecisionTreeClassifier()"
   ]
  },
  {
   "cell_type": "code",
   "execution_count": 150,
   "metadata": {},
   "outputs": [
    {
     "data": {
      "text/plain": [
       "DecisionTreeClassifier(class_weight=None, criterion='gini', max_depth=None,\n",
       "            max_features=None, max_leaf_nodes=None,\n",
       "            min_impurity_decrease=0.0, min_impurity_split=None,\n",
       "            min_samples_leaf=1, min_samples_split=2,\n",
       "            min_weight_fraction_leaf=0.0, presort=False, random_state=None,\n",
       "            splitter='best')"
      ]
     },
     "execution_count": 150,
     "metadata": {},
     "output_type": "execute_result"
    }
   ],
   "source": [
    "dec_tree.fit(X_tr_2, y_tr_2)"
   ]
  },
  {
   "cell_type": "code",
   "execution_count": 151,
   "metadata": {},
   "outputs": [],
   "source": [
    "dectree_pred_proba = dec_tree.predict_proba(X_te_2)"
   ]
  },
  {
   "cell_type": "code",
   "execution_count": 153,
   "metadata": {},
   "outputs": [
    {
     "name": "stdout",
     "output_type": "stream",
     "text": [
      "              precision    recall  f1-score   support\n",
      "\n",
      "           0       0.60      0.67      0.63      6700\n",
      "           1       0.61      0.54      0.57      6500\n",
      "\n",
      "   micro avg       0.60      0.60      0.60     13200\n",
      "   macro avg       0.60      0.60      0.60     13200\n",
      "weighted avg       0.60      0.60      0.60     13200\n",
      "\n"
     ]
    }
   ],
   "source": [
    "print(classification_report(y_te_2, dec_tree.predict(X_te_2)))"
   ]
  },
  {
   "cell_type": "code",
   "execution_count": 154,
   "metadata": {},
   "outputs": [
    {
     "data": {
      "image/png": "[encoded data removed]",
      "text/plain": [
       "<Figure size 1008x576 with 1 Axes>"
      ]
     },
     "metadata": {
      "needs_background": "light"
     },
     "output_type": "display_data"
    }
   ],
   "source": [
    "roc_graph(y_te_2, dectree_pred_proba)"
   ]
  },
  {
   "cell_type": "code",
   "execution_count": 155,
   "metadata": {},
   "outputs": [],
   "source": [
    "pickle.dump(dec_tree, open('dec_tree.sav','wb'))"
   ]
  },
  {
   "cell_type": "markdown",
   "metadata": {},
   "source": [
    "> * Si ejectuamos un modelo DecisionTreeClassifier sin realizar busqueda de grilla no modificar hiperparametros, observamos que el modelo logra clasificar de manera correcta en un 63% los tweets negativos y en un 57% los tweets positivos.\n",
    "\n",
    "> * En general el modelo logra clasificar de manera correcta un 60% de las observaciones, lo cual mejora en un 10% el rendimiento si lo comparamos con un clasificador aleatorio."
   ]
  },
  {
   "cell_type": "code",
   "execution_count": 77,
   "metadata": {},
   "outputs": [
    {
     "name": "stdout",
     "output_type": "stream",
     "text": [
      "CPU times: user 6h 2min 20s, sys: 4min 4s, total: 6h 6min 24s\n",
      "Wall time: 6h 19min 28s\n"
     ]
    }
   ],
   "source": [
    "%%time\n",
    "dec_tree_gscv = GridSearchCV(DecisionTreeClassifier(),\n",
    "                               {'min_samples_split': np.linspace(0.1,1.0,10),\n",
    "                               'criterion':['gini','entropy'],\n",
    "                               'max_depth': np.linspace(1,32,32),\n",
    "                               'min_samples_leaf': np.linspace(0.1,0.5,10),\n",
    "                               },cv=5).fit(X_tr_2, y_tr_2)"
   ]
  },
  {
   "cell_type": "code",
   "execution_count": 80,
   "metadata": {},
   "outputs": [
    {
     "data": {
      "text/plain": [
       "{'criterion': 'gini',\n",
       " 'max_depth': 1.0,\n",
       " 'min_samples_leaf': 0.1,\n",
       " 'min_samples_split': 0.1}"
      ]
     },
     "execution_count": 80,
     "metadata": {},
     "output_type": "execute_result"
    }
   ],
   "source": [
    "dec_tree_gscv.best_params_"
   ]
  },
  {
   "cell_type": "code",
   "execution_count": 81,
   "metadata": {},
   "outputs": [
    {
     "data": {
      "text/plain": [
       "0.508955223880597"
      ]
     },
     "execution_count": 81,
     "metadata": {},
     "output_type": "execute_result"
    }
   ],
   "source": [
    "dec_tree_gscv.best_score_"
   ]
  },
  {
   "cell_type": "code",
   "execution_count": 83,
   "metadata": {},
   "outputs": [
    {
     "data": {
      "text/plain": [
       "array([0., 0., 0., ..., 0., 0., 0.])"
      ]
     },
     "execution_count": 83,
     "metadata": {},
     "output_type": "execute_result"
    }
   ],
   "source": [
    "dec_tree_gscv.best_estimator_.feature_importances_"
   ]
  },
  {
   "cell_type": "code",
   "execution_count": 120,
   "metadata": {},
   "outputs": [],
   "source": [
    "dt_pred_proba = dec_tree_gscv.predict_proba(X_te_2)"
   ]
  },
  {
   "cell_type": "code",
   "execution_count": 85,
   "metadata": {},
   "outputs": [
    {
     "name": "stdout",
     "output_type": "stream",
     "text": [
      "              precision    recall  f1-score   support\n",
      "\n",
      "           0       0.51      1.00      0.67      6700\n",
      "           1       0.00      0.00      0.00      6500\n",
      "\n",
      "   micro avg       0.51      0.51      0.51     13200\n",
      "   macro avg       0.25      0.50      0.34     13200\n",
      "weighted avg       0.26      0.51      0.34     13200\n",
      "\n"
     ]
    }
   ],
   "source": [
    "print(classification_report(y_te_2, dec_tree_gscv.best_estimator_.predict(X_te_2)))"
   ]
  },
  {
   "cell_type": "code",
   "execution_count": 121,
   "metadata": {},
   "outputs": [
    {
     "data": {
      "image/png": "[encoded data removed]",
      "text/plain": [
       "<Figure size 1008x576 with 1 Axes>"
      ]
     },
     "metadata": {
      "needs_background": "light"
     },
     "output_type": "display_data"
    }
   ],
   "source": [
    "roc_graph(y_te_2, dt_pred_proba)"
   ]
  },
  {
   "cell_type": "code",
   "execution_count": null,
   "metadata": {},
   "outputs": [],
   "source": [
    "pickle.dump(dec_tree_gscv, open('dec_tree_gscv.sav','wb'))"
   ]
  },
  {
   "cell_type": "markdown",
   "metadata": {},
   "source": [
    "> * Luego de evaluar un tercer modelo con DesicionTreeClassifier con busqueda de grilla y modificando hiperparametros, vemos que el modelo logra evaluar las observaciones negativas con un 67% de efectividad, y vemos que para las observaciones positivas el modelo no logra clasificar ninguna observación y arroja 0%.\n",
    "\n",
    "> * El modelo en general logra predecir de manera correcta en un 34%, lo cual comparado a nuestro clasificador aleatorio 0,5% nos indica que este modelo entrega malos resultados, esto debido a que no logra entregar resultados para la clasificación positiva de los tweets.\n",
    "\n",
    "> * Si comparamos este modelo versus el modelo sin busqueda de grilla, vemos que el rendimiento empeora drasticamente, lo cual es un indicio de que los hiparparametros no fueron tuneados de manera correcta, lo cual produjo un detrioro del rendimiento."
   ]
  },
  {
   "cell_type": "markdown",
   "metadata": {},
   "source": [
    "> Generamos nuestro cuarto modelo **RandomForestClassifier**"
   ]
  },
  {
   "cell_type": "code",
   "execution_count": 156,
   "metadata": {},
   "outputs": [],
   "source": [
    "randforest = RandomForestClassifier()"
   ]
  },
  {
   "cell_type": "code",
   "execution_count": 157,
   "metadata": {},
   "outputs": [
    {
     "data": {
      "text/plain": [
       "RandomForestClassifier(bootstrap=True, class_weight=None, criterion='gini',\n",
       "            max_depth=None, max_features='auto', max_leaf_nodes=None,\n",
       "            min_impurity_decrease=0.0, min_impurity_split=None,\n",
       "            min_samples_leaf=1, min_samples_split=2,\n",
       "            min_weight_fraction_leaf=0.0, n_estimators=10, n_jobs=None,\n",
       "            oob_score=False, random_state=None, verbose=0,\n",
       "            warm_start=False)"
      ]
     },
     "execution_count": 157,
     "metadata": {},
     "output_type": "execute_result"
    }
   ],
   "source": [
    "randforest.fit(X_tr_2, y_tr_2)"
   ]
  },
  {
   "cell_type": "code",
   "execution_count": 158,
   "metadata": {},
   "outputs": [],
   "source": [
    "randforest_predict = randforest.predict(X_te_2)"
   ]
  },
  {
   "cell_type": "code",
   "execution_count": 159,
   "metadata": {},
   "outputs": [],
   "source": [
    "randforest_predict_proba = randforest.predict_proba(X_te_2)"
   ]
  },
  {
   "cell_type": "code",
   "execution_count": 160,
   "metadata": {},
   "outputs": [
    {
     "name": "stdout",
     "output_type": "stream",
     "text": [
      "              precision    recall  f1-score   support\n",
      "\n",
      "           0       0.62      0.67      0.65      6700\n",
      "           1       0.63      0.58      0.61      6500\n",
      "\n",
      "   micro avg       0.63      0.63      0.63     13200\n",
      "   macro avg       0.63      0.63      0.63     13200\n",
      "weighted avg       0.63      0.63      0.63     13200\n",
      "\n"
     ]
    }
   ],
   "source": [
    "print(classification_report(y_te_2, randforest_predict))"
   ]
  },
  {
   "cell_type": "code",
   "execution_count": 161,
   "metadata": {},
   "outputs": [
    {
     "data": {
      "image/png": "[encoded data removed]",
      "text/plain": [
       "<Figure size 1008x576 with 1 Axes>"
      ]
     },
     "metadata": {
      "needs_background": "light"
     },
     "output_type": "display_data"
    }
   ],
   "source": [
    "roc_graph(y_te_2, randforest_predict_proba)"
   ]
  },
  {
   "cell_type": "code",
   "execution_count": 162,
   "metadata": {},
   "outputs": [],
   "source": [
    "pickle.dump(randforest, open('randforest.sav','wb'))"
   ]
  },
  {
   "cell_type": "markdown",
   "metadata": {},
   "source": [
    "> * Si ejecutamos un modelo RandomForestClassifier sin busqueda de grilla y sin modificar hiperparametros, observamos que el modelo logra clasificar de manera correcta en un 65% los tweet negativos y en un 61% los tweets positivos.\n",
    "\n",
    "> * En general el modelo logra predecir en un 63% de manera correcta lo cual indica una mejora de un 13% con respecto a un clasificador aleatorio."
   ]
  },
  {
   "cell_type": "code",
   "execution_count": 169,
   "metadata": {},
   "outputs": [
    {
     "name": "stdout",
     "output_type": "stream",
     "text": [
      "CPU times: user 1h 20min 16s, sys: 48.5 s, total: 1h 21min 4s\n",
      "Wall time: 1h 24min 26s\n"
     ]
    }
   ],
   "source": [
    "%%time\n",
    "model_rf_gscv = GridSearchCV(RandomForestClassifier(),\n",
    "                            {'n_estimators': [200, 400],\n",
    "                             'max_features': ['auto', 'sqrt', 'log2']}\n",
    "                               ,cv=2).fit(X_tr_2, y_tr_2)"
   ]
  },
  {
   "cell_type": "code",
   "execution_count": 172,
   "metadata": {},
   "outputs": [],
   "source": [
    "rf_gscv_predict = model_rf_gscv.predict(X_te_2)"
   ]
  },
  {
   "cell_type": "code",
   "execution_count": 173,
   "metadata": {},
   "outputs": [],
   "source": [
    "rf_gscv_predict_proba = model_rf_gscv.predict_proba(X_te_2)"
   ]
  },
  {
   "cell_type": "code",
   "execution_count": 174,
   "metadata": {},
   "outputs": [
    {
     "name": "stdout",
     "output_type": "stream",
     "text": [
      "              precision    recall  f1-score   support\n",
      "\n",
      "           0       0.64      0.69      0.66      6700\n",
      "           1       0.65      0.60      0.63      6500\n",
      "\n",
      "   micro avg       0.65      0.65      0.65     13200\n",
      "   macro avg       0.65      0.65      0.65     13200\n",
      "weighted avg       0.65      0.65      0.65     13200\n",
      "\n"
     ]
    }
   ],
   "source": [
    "print(classification_report(y_te_2, rf_gscv_predict))"
   ]
  },
  {
   "cell_type": "code",
   "execution_count": 175,
   "metadata": {},
   "outputs": [
    {
     "data": {
      "image/png": "[encoded data removed]",
      "text/plain": [
       "<Figure size 1008x576 with 1 Axes>"
      ]
     },
     "metadata": {
      "needs_background": "light"
     },
     "output_type": "display_data"
    }
   ],
   "source": [
    "roc_graph(y_te_2, rf_gscv_predict_proba)"
   ]
  },
  {
   "cell_type": "code",
   "execution_count": 176,
   "metadata": {},
   "outputs": [],
   "source": [
    "pickle.dump(model_rf_gscv, open('randomforest_gscv.sav','wb'))"
   ]
  },
  {
   "cell_type": "markdown",
   "metadata": {},
   "source": [
    "> * El modelo RandomForestClassifier implementado con busqueda de grilla y con 2 validaciones cruzadas (por temas de costo computacional y limitaciones de hardware se evalua con solo 2 cv), logra clasificar de manera correcta un 66% los tweets negativos y en un 63% los tweets positivos.\n",
    "\n",
    "> * En general este modelo logra clasificar de manera correcta en un 65% los tweets, lo cual es una mejora de un 15% con respecto a un clasificados aleatorio.\n",
    "\n",
    "> * Por último, se observa que hay una mejora en el desempeño global del modelo al realizar una busqueda de grilla y modificando hiperparametros, el modelo mejora en un 2% la clasificación de tweets con respecto al modelo sin grid search y sin cv."
   ]
  },
  {
   "cell_type": "markdown",
   "metadata": {},
   "source": [
    "> Implementamos un quinto modelo **SVC**"
   ]
  },
  {
   "cell_type": "code",
   "execution_count": 187,
   "metadata": {},
   "outputs": [],
   "source": [
    "svc = SVC(probability=True)"
   ]
  },
  {
   "cell_type": "code",
   "execution_count": 188,
   "metadata": {},
   "outputs": [
    {
     "name": "stdout",
     "output_type": "stream",
     "text": [
      "CPU times: user 5min 30s, sys: 3.95 s, total: 5min 34s\n",
      "Wall time: 5min 38s\n"
     ]
    },
    {
     "data": {
      "text/plain": [
       "SVC(C=1.0, cache_size=200, class_weight=None, coef0=0.0,\n",
       "  decision_function_shape='ovr', degree=3, gamma='auto_deprecated',\n",
       "  kernel='rbf', max_iter=-1, probability=True, random_state=None,\n",
       "  shrinking=True, tol=0.001, verbose=False)"
      ]
     },
     "execution_count": 188,
     "metadata": {},
     "output_type": "execute_result"
    }
   ],
   "source": [
    "%%time\n",
    "svc.fit(X_tr_2, y_tr_2)"
   ]
  },
  {
   "cell_type": "code",
   "execution_count": 189,
   "metadata": {},
   "outputs": [],
   "source": [
    "svc_predict = svc.predict(X_te_2)"
   ]
  },
  {
   "cell_type": "code",
   "execution_count": 190,
   "metadata": {},
   "outputs": [],
   "source": [
    "svc_predict_proba = svc.predict_proba(X_te_2)"
   ]
  },
  {
   "cell_type": "code",
   "execution_count": 191,
   "metadata": {},
   "outputs": [
    {
     "name": "stdout",
     "output_type": "stream",
     "text": [
      "              precision    recall  f1-score   support\n",
      "\n",
      "           0       0.51      1.00      0.67      6700\n",
      "           1       0.00      0.00      0.00      6500\n",
      "\n",
      "   micro avg       0.51      0.51      0.51     13200\n",
      "   macro avg       0.25      0.50      0.34     13200\n",
      "weighted avg       0.26      0.51      0.34     13200\n",
      "\n"
     ]
    }
   ],
   "source": [
    "print(classification_report(y_te_2, svc_predict))"
   ]
  },
  {
   "cell_type": "code",
   "execution_count": 192,
   "metadata": {},
   "outputs": [
    {
     "data": {
      "image/png": "[encoded data removed]",
      "text/plain": [
       "<Figure size 1008x576 with 1 Axes>"
      ]
     },
     "metadata": {
      "needs_background": "light"
     },
     "output_type": "display_data"
    }
   ],
   "source": [
    "roc_graph(y_te_2, svc_predict_proba)"
   ]
  },
  {
   "cell_type": "markdown",
   "metadata": {},
   "source": [
    "> * El modelo de SVC sin busqueda de grilla logra clasificar de manera correcta en un 67% los tweets negativos, mientras que para los tweets positivos no los logra clasificar y obtenemos un 0%\n",
    "\n",
    "> * En general el modelo logra clasificar de manera efectiva el 34% de los tweets, lo cual muestra un desempeño aún peor que si lo comparamos con un clasificador aleatorio de 0.5%."
   ]
  },
  {
   "cell_type": "code",
   "execution_count": 193,
   "metadata": {},
   "outputs": [],
   "source": [
    "pickle.dump(svc, open('svc.sav','wb'))"
   ]
  },
  {
   "cell_type": "code",
   "execution_count": 99,
   "metadata": {},
   "outputs": [],
   "source": [
    "c_param_range = [0.0001, 0.001, 0.01, 0.1, 1, 10, 100, 1000]\n",
    "gamma_param_range = [0.0000001, 0.0001, 0.001, 0.01, 0.1, 1, 10]\n",
    "params = {'C': c_param_range, 'gamma': gamma_param_range}"
   ]
  },
  {
   "cell_type": "code",
   "execution_count": 101,
   "metadata": {},
   "outputs": [
    {
     "name": "stdout",
     "output_type": "stream",
     "text": [
      "CPU times: user 4h 1min 57s, sys: 5min 56s, total: 4h 7min 54s\n",
      "Wall time: 4h 17min 39s\n"
     ]
    }
   ],
   "source": [
    "%%time\n",
    "svccv = GridSearchCV(SVC(kernel = 'rbf', probability=True), params, cv=2)\n",
    "svccv.fit(X_tr_2, y_tr_2)"
   ]
  },
  {
   "cell_type": "code",
   "execution_count": 102,
   "metadata": {},
   "outputs": [],
   "source": [
    "svc_pred = svccv.predict(X_te_2)\n",
    "svc_pred_proba = svccv.predict_proba(X_te_2)"
   ]
  },
  {
   "cell_type": "code",
   "execution_count": 103,
   "metadata": {},
   "outputs": [
    {
     "name": "stdout",
     "output_type": "stream",
     "text": [
      "              precision    recall  f1-score   support\n",
      "\n",
      "           0       0.64      0.76      0.69      6700\n",
      "           1       0.69      0.56      0.62      6500\n",
      "\n",
      "   micro avg       0.66      0.66      0.66     13200\n",
      "   macro avg       0.67      0.66      0.66     13200\n",
      "weighted avg       0.67      0.66      0.66     13200\n",
      "\n"
     ]
    }
   ],
   "source": [
    "print(classification_report(y_te_2, svc_pred))"
   ]
  },
  {
   "cell_type": "code",
   "execution_count": 126,
   "metadata": {},
   "outputs": [
    {
     "data": {
      "image/png": "[encoded data removed]",
      "text/plain": [
       "<Figure size 1008x576 with 1 Axes>"
      ]
     },
     "metadata": {
      "needs_background": "light"
     },
     "output_type": "display_data"
    }
   ],
   "source": [
    "roc_graph(y_te_2, svc_pred_proba)"
   ]
  },
  {
   "cell_type": "code",
   "execution_count": 104,
   "metadata": {},
   "outputs": [],
   "source": [
    "pickle.dump(svccv, open('svc_cv.sav','wb'))"
   ]
  },
  {
   "cell_type": "markdown",
   "metadata": {},
   "source": [
    "> * Observamos que el modelo de soporte vectorial logra clasificar de manera adecuada el 69% de las observaciones negativas y en un 62% las observaciones positivas.\n",
    "\n",
    "> * En cuanto al rendimiento general del modelo, este logra clasificar de manera correcta el 66% de las observaciones, lo cual comparado con un clasificador aleatorio mejora el rendimiento en un 16%\n",
    "\n",
    "> * Si comparamos el rendimiento de este modelo versus el rendimiento del modelo sin busqueda de grilla, vemos que este modelo mejora de manera substancial en comparación al otro, logrando clasificar los tweets de clasificación positiva, cosa que el primer modelo no logra, por lo que la implementación de hiperparametros fue efectiva."
   ]
  },
  {
   "cell_type": "markdown",
   "metadata": {},
   "source": [
    "> Finalmente, luego de realizar 5 modelos diferentes para lograr obtener una predicción de los sentimientos asociados a cada tweet, podemos clasificar a los modelos generados según su rendimiento:\n",
    "\n",
    "> Modelos sin modificar busqueda de grilla:\n",
    "\n",
    "> * MultinomialNB con un 66% general\n",
    "> * LogisticRegression con un 65% general\n",
    "> * DecisionTreeClassifier con un 60% general\n",
    "> * RandomForestClassifier con un 63% general\n",
    "> * SVC con un 34% general\n",
    "\n",
    "> Modelos con implementación de busqueda de grilla:\n",
    "\n",
    "> * MultinomialNB con un 66% general\n",
    "> * LogisticRegression con un 66% general\n",
    "> * DecisionTreeClassifier con un 34% general\n",
    "> * RandomForestClassifier con un 63% general\n",
    "> * SVC con un 66% general\n",
    "\n",
    "> Para finalizar se señala que se envian a competencia los modelos MultinomialNB **(nbgs_cv.sav)** y SVC **(svc_cv.sav)**, los cuales presentan el mejor rendimiento entre los 5 modelos ejecutados, ambos con busqueda de grilla."
   ]
  },
  {
   "cell_type": "code",
   "execution_count": null,
   "metadata": {},
   "outputs": [],
   "source": []
  }
 ],
 "metadata": {
  "kernelspec": {
   "display_name": "Python 3",
   "language": "python",
   "name": "python3"
  },
  "language_info": {
   "codemirror_mode": {
    "name": "ipython",
    "version": 3
   },
   "file_extension": ".py",
   "mimetype": "text/x-python",
   "name": "python",
   "nbconvert_exporter": "python",
   "pygments_lexer": "ipython3",
   "version": "3.7.1"
  }
 },
 "nbformat": 4,
 "nbformat_minor": 2
}
