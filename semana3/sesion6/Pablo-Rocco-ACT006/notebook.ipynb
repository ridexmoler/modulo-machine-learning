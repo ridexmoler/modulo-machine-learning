{
 "cells": [
  {
   "cell_type": "markdown",
   "metadata": {},
   "source": [
    "<img src='logo.png' style='display: block;height: 61px;float: left;padding: .75rem 1.25rem;'>"
   ]
  },
  {
   "cell_type": "markdown",
   "metadata": {},
   "source": [
    "# Desafío - Inferencia de tópicos con EM\n",
    "* Para realizar este desafío debes haber revisado la lectura y videos correspondiente a la unidad.\n",
    "* Crea una carpeta de trabajo y guarda todos los archivos correspondientes (notebook y csv).\n",
    "* Una vez terminado el desafío, comprime la carpeta y sube el `.zip` a la seccióncorrespondiente."
   ]
  },
  {
   "cell_type": "markdown",
   "metadata": {},
   "source": [
    "## Descripción\n",
    "\n",
    "* En esta sesión trabajaremos con una serie de base de datos sobre letras musicales de distintos artistas. Cada uno de los `csv` se encuentra en la carpeta `dump`.\n",
    "* Cada `csv` tiene el nombre del artista a analizar. Los archivos contienen el nombre del artista, elgénero musical del artista, el nombre de la canción y las letras.\n",
    "* En base a esta información, el objetivo del ejercicio es generar un modelo probabilístico quepueda identificar el género musical más probable dado la letra de una canción.\n",
    "* Para ello implementaremos un modelo conocido como Latent Dirichlet Allocation que hace uso de una variante del algoritmo EM para inferir clases latentes a partir de una matriz dedocumentos."
   ]
  },
  {
   "cell_type": "markdown",
   "metadata": {},
   "source": [
    "## Ejercicio 1: Preparar el ambiente de trabajo\n",
    "\n",
    "* Importe los módulos `numpy`, `pandas`, `matplotlib`, `seaborn`, `glob` y `os` siguiendo las buenas prácticas. Los últimos dos módulos permitirán realizar la importación de múltiplesarchivos dentro de la carpeta dump.\n",
    "* Para ello genere un objeto que guarde en una lista todos los archivos alojados en dumputilizando `glob.glob` y `os.getcwd()` para extraer las rutas absolutas. Posteriormente genere un objeto `pd.DataFrame` que contenga todos los csv.\n",
    "* Asegúrese de eliminar la columna `Unnamed: 0` que se genera por defecto."
   ]
  },
  {
   "cell_type": "markdown",
   "metadata": {},
   "source": [
    "> Se utilizan librerías bases para el tratamiento de datos y algunos aspectos básicos de cálculo y gráficos."
   ]
  },
  {
   "cell_type": "code",
   "execution_count": 1,
   "metadata": {},
   "outputs": [],
   "source": [
    "# Se importa libreria para el manejo de bases de datos\n",
    "import pandas as pd\n",
    "# Se importa libreria para el manejo de operaciones de cálculo\n",
    "import numpy as np\n",
    "# Se importa libreria para el manejo de gráficos\n",
    "import matplotlib.pyplot as plt\n",
    "# Se importa libreria para manejo de funciones estadisticas y probabilidades\n",
    "import seaborn as sns\n",
    "# Librería para visualizar patrones de datos perdidos\n",
    "import missingno as msngo\n",
    "# Se importa libreria para el menejo de warning\n",
    "import warnings\n",
    "# Se importa libreria para el menejo de expresiones regulares\n",
    "import glob, os"
   ]
  },
  {
   "cell_type": "markdown",
   "metadata": {},
   "source": [
    "> Definimos algunos aspectos de ambiente y valores por defecto."
   ]
  },
  {
   "cell_type": "code",
   "execution_count": 2,
   "metadata": {},
   "outputs": [],
   "source": [
    "# Por defecto, matplotlib crea una figura en una ventana separada.\n",
    "# podemos hacer que las figuras aparezcan en línea dentro del notebook; lo hacemos ejecutando:\n",
    "%matplotlib inline\n",
    "# Se ignoran los warning para evitar suciedad en la ejecución\n",
    "warnings.filterwarnings(action='ignore')\n",
    "# Se define el estilo de gráficos a usar\n",
    "plt.style.use('seaborn-pastel')\n",
    "# Se define el tamaño de los paños de los gráficos por defecto\n",
    "plt.rcParams['figure.figsize'] = (10, 6)\n",
    "# Dado que vamos a supervisar datos no limitaremos la cantidad de columnas a mostrar en \n",
    "# el despliegue del dataframe\n",
    "pd.options.display.max_columns = None"
   ]
  },
  {
   "cell_type": "markdown",
   "metadata": {},
   "source": [
    "> Se utiliza <strong>librería propia</strong> que continen funciones auxiliares, necesarias para el desarrollo de desafíos."
   ]
  },
  {
   "cell_type": "code",
   "execution_count": 3,
   "metadata": {},
   "outputs": [],
   "source": [
    "# Se importa libreria con funciones auxiliares\n",
    "import ancilliary_funcs as afx"
   ]
  },
  {
   "cell_type": "markdown",
   "metadata": {},
   "source": [
    "> Carga de nuestra base de datos"
   ]
  },
  {
   "cell_type": "code",
   "execution_count": 4,
   "metadata": {},
   "outputs": [],
   "source": [
    "# Generamos el listado de archivos con su path con la librería glob y lo\n",
    "# almacenamos en la lista file_list\n",
    "file_list = glob.glob(os.getcwd() + '/dump/*.csv')"
   ]
  },
  {
   "cell_type": "code",
   "execution_count": 5,
   "metadata": {},
   "outputs": [],
   "source": [
    "# Iniciamos una lista vacia para cargar el contenido de cada archivo csv\n",
    "# Recorremos el listado de archivos, lo cargamos en memoria con read_csv y\n",
    "# lo agregamos a la lista appappend_csv\n",
    "append_csv = [pd.read_csv(x, index_col=None, header=0).drop(columns = 'Unnamed: 0') for x in file_list]"
   ]
  },
  {
   "cell_type": "code",
   "execution_count": 6,
   "metadata": {},
   "outputs": [],
   "source": [
    "# Se concatenan todos los objetos DataFrames almacenados en la lista append_csv en 1 solo DataFrame\n",
    "df = pd.concat(append_csv)\n",
    "# Se asigna un nombre a cada columna del DataFrame\n",
    "df.columns = ['Artis', 'Genre', 'Song', 'Lyrics']"
   ]
  },
  {
   "cell_type": "code",
   "execution_count": 7,
   "metadata": {},
   "outputs": [
    {
     "data": {
      "text/html": [
       "<div>\n",
       "<style scoped>\n",
       "    .dataframe tbody tr th:only-of-type {\n",
       "        vertical-align: middle;\n",
       "    }\n",
       "\n",
       "    .dataframe tbody tr th {\n",
       "        vertical-align: top;\n",
       "    }\n",
       "\n",
       "    .dataframe thead th {\n",
       "        text-align: right;\n",
       "    }\n",
       "</style>\n",
       "<table border=\"1\" class=\"dataframe\">\n",
       "  <thead>\n",
       "    <tr style=\"text-align: right;\">\n",
       "      <th></th>\n",
       "      <th>Artis</th>\n",
       "      <th>Genre</th>\n",
       "      <th>Song</th>\n",
       "      <th>Lyrics</th>\n",
       "    </tr>\n",
       "  </thead>\n",
       "  <tbody>\n",
       "    <tr>\n",
       "      <th>20</th>\n",
       "      <td>Mobb Deep</td>\n",
       "      <td>hiphop</td>\n",
       "      <td>Up North Trip</td>\n",
       "      <td>Verse One: Prodigy \\n It all began on the stre...</td>\n",
       "    </tr>\n",
       "    <tr>\n",
       "      <th>33</th>\n",
       "      <td>MF Doom</td>\n",
       "      <td>hiphop</td>\n",
       "      <td>Gazzillion Ear</td>\n",
       "      <td>Villain man never ran with krills in his hand ...</td>\n",
       "    </tr>\n",
       "    <tr>\n",
       "      <th>158</th>\n",
       "      <td>Bob Dylan</td>\n",
       "      <td>rock</td>\n",
       "      <td>You're A Big Girl Now</td>\n",
       "      <td>Our conversation was short and sweet \\n It nea...</td>\n",
       "    </tr>\n",
       "    <tr>\n",
       "      <th>480</th>\n",
       "      <td>Eminem</td>\n",
       "      <td>hiphop</td>\n",
       "      <td>Wee Wee</td>\n",
       "      <td>Put it on my wee wee, banana strawberry, pinea...</td>\n",
       "    </tr>\n",
       "    <tr>\n",
       "      <th>149</th>\n",
       "      <td>Mobb Deep</td>\n",
       "      <td>hiphop</td>\n",
       "      <td>Taking You Off Here</td>\n",
       "      <td>(Verse 1: Havoc) \\n Block the corridor, call t...</td>\n",
       "    </tr>\n",
       "  </tbody>\n",
       "</table>\n",
       "</div>"
      ],
      "text/plain": [
       "         Artis   Genre                   Song  \\\n",
       "20   Mobb Deep  hiphop          Up North Trip   \n",
       "33     MF Doom  hiphop         Gazzillion Ear   \n",
       "158  Bob Dylan    rock  You're A Big Girl Now   \n",
       "480     Eminem  hiphop                Wee Wee   \n",
       "149  Mobb Deep  hiphop    Taking You Off Here   \n",
       "\n",
       "                                                Lyrics  \n",
       "20   Verse One: Prodigy \\n It all began on the stre...  \n",
       "33   Villain man never ran with krills in his hand ...  \n",
       "158  Our conversation was short and sweet \\n It nea...  \n",
       "480  Put it on my wee wee, banana strawberry, pinea...  \n",
       "149  (Verse 1: Havoc) \\n Block the corridor, call t...  "
      ]
     },
     "execution_count": 7,
     "metadata": {},
     "output_type": "execute_result"
    }
   ],
   "source": [
    "# Inspeccionamos los datos\n",
    "df.sample(5)"
   ]
  },
  {
   "cell_type": "code",
   "execution_count": 8,
   "metadata": {},
   "outputs": [
    {
     "data": {
      "text/plain": [
       "(9489, 4)"
      ]
     },
     "execution_count": 8,
     "metadata": {},
     "output_type": "execute_result"
    }
   ],
   "source": [
    "# Revisamos las dimensiones de la base de datos\n",
    "df.shape"
   ]
  },
  {
   "cell_type": "markdown",
   "metadata": {},
   "source": [
    "> La base de datos se compone de 9489 observaciones con 4 atributos. "
   ]
  },
  {
   "cell_type": "markdown",
   "metadata": {},
   "source": [
    "## Ejercicio 2: Matriz de ocurrencias\n",
    "\n",
    "* Importe la clase `CountVectorizer` dentro de los módulos `feature_extraction.text` de lalibrería `sklearn`."
   ]
  },
  {
   "cell_type": "code",
   "execution_count": 9,
   "metadata": {},
   "outputs": [],
   "source": [
    "# Método para contar palabras y vectorizar\n",
    "from sklearn.feature_extraction.text import CountVectorizer"
   ]
  },
  {
   "cell_type": "markdown",
   "metadata": {},
   "source": [
    "> Convertimos los textos en vectores de recuento de palabras."
   ]
  },
  {
   "cell_type": "markdown",
   "metadata": {},
   "source": [
    "* Aplique la clase para extraer las 5000 palabras más repetidas en toda la base de datos."
   ]
  },
  {
   "cell_type": "code",
   "execution_count": 10,
   "metadata": {},
   "outputs": [],
   "source": [
    "count_vectorizer = CountVectorizer(stop_words='english', max_features=5000)"
   ]
  },
  {
   "cell_type": "markdown",
   "metadata": {},
   "source": [
    "* Con la clase inicializada, incorpore las letras con el método `fit_transform` y guarde los resultados en un nuevo objeto"
   ]
  },
  {
   "cell_type": "code",
   "execution_count": 11,
   "metadata": {},
   "outputs": [],
   "source": [
    "count_vectorizer_lyrics = count_vectorizer.fit_transform(df['Lyrics'])"
   ]
  },
  {
   "cell_type": "markdown",
   "metadata": {},
   "source": [
    "## Ejercicio 3: Entrenamiento del Modelo\n",
    "\n",
    "* Importe `sklearn.decomposition.LatentDirichletAllocatin` y `sklearn.model_selection.GridSearchCV`.\n",
    "* Genere una búsqueda de grilla con los siguientes hiperparámetros:\n",
    "  - n_components: [5, 10, 15].\n",
    "  - learning_decay: [0.7, 0.5].\n",
    "* Entrene la búsqueda de grilla con las letras en un formato vectorizado con CountVectorizer.\n",
    "* Reporte brevemente cuál es la mejor combinación de hiperparámetros.\n",
    "\n",
    ">__Digresión: Latent Dirichlet Allocation__\n",
    ">\n",
    ">Latent Dirichlet Allocatio (LDA) es un modelo probabilístico generativo basado en Inferencia Variacional EM. La principal utilidad de éste es la identificación de tópicos en un corpus de texto. El proceso de inferencia se puede resumir en los siguientes pasos:\n",
    ">* Cada documento dentro del corpus se puede entender como una mezcla de tópicos __comunes a nivel de corpus__.\n",
    ">* Esta mezcla de tópicos es latente $\\leadsto$ Sólo observamos los documentos registrados y sus palabras. La API de  `sklearn.decomposition.LatentDirichletAllocation` presenta la misma funcionalidad de todo modelo de sklearn. Algunos puntos a considerar en la inicialización de la clase son:\n",
    ">  * `n_components`: Cantidad de tópicos a inferir en un corpus.\n",
    ">  * `learning_method`: Forma en la que entran los datos en entrenamiento. Cuando es `'batch'` , se ingresa la matriz de entrenamiento completa. Cuando es `'online'` , la matriz de entrenamiento ingresa de manera secuencial en parcelas pequeñas.\n",
    ">  * `learning_decay`: Tasa de aprendizaje en la función de pérdida. Cuando se implementa con `learning_method ? 'online'`, el modelo se entrena con Gradiente Estocástico Descendente.\n",
    ">  * Perplejidad: Busca aproximar el número óptimo de tópicos a inferir. Técnicamente evalúa qué tan bien predice una muestra específica. En función a un número de tópicos, define la distribución teórica de palabras representada por los tópicos y la compara con la ocurrencia empírica de palabras en tópicos."
   ]
  },
  {
   "cell_type": "code",
   "execution_count": 12,
   "metadata": {},
   "outputs": [],
   "source": [
    "from sklearn.decomposition import LatentDirichletAllocation\n",
    "from sklearn.model_selection import GridSearchCV"
   ]
  },
  {
   "cell_type": "code",
   "execution_count": 13,
   "metadata": {},
   "outputs": [],
   "source": [
    "searc_params = {\n",
    "    'n_components': [5, 10, 15],\n",
    "    'learning_decay': [0.7, 0.5]\n",
    "}"
   ]
  },
  {
   "cell_type": "code",
   "execution_count": 14,
   "metadata": {},
   "outputs": [],
   "source": [
    "model_lda_cv = GridSearchCV(\n",
    "    LatentDirichletAllocation(learning_method = 'online', random_state = 14173), \n",
    "    param_grid = searc_params\n",
    ").fit(count_vectorizer_lyrics)"
   ]
  },
  {
   "cell_type": "code",
   "execution_count": 15,
   "metadata": {},
   "outputs": [],
   "source": [
    "best_lda = model_lda_cv.best_estimator_"
   ]
  },
  {
   "cell_type": "code",
   "execution_count": 16,
   "metadata": {},
   "outputs": [
    {
     "data": {
      "text/plain": [
       "{'learning_decay': 0.7, 'n_components': 5}"
      ]
     },
     "execution_count": 16,
     "metadata": {},
     "output_type": "execute_result"
    }
   ],
   "source": [
    "model_lda_cv.best_params_"
   ]
  },
  {
   "cell_type": "markdown",
   "metadata": {},
   "source": [
    "> La mejor combinación de parámetros que optimiza el mejor modelo es __learning_decay: 0.7__ y __n_components: 5__."
   ]
  },
  {
   "cell_type": "markdown",
   "metadata": {},
   "source": [
    "## Ejercicio 4 : Inferencia e Identificación de Tópicos\n",
    "\n",
    "\n",
    "* En base a la mejor combinación de hiperparámetros, entrene el modelo con la matriz de atributos de las letras.\n",
    "* Para identificar de qué se trata cada tópico, necesitamos identificar las principales 15 palabras asociadas con éste. Puede implementar la siguiente línea de código para identificar las principales palabras en un tópico:"
   ]
  },
  {
   "cell_type": "markdown",
   "metadata": {},
   "source": [
    "> Utilizamos toda la base de datos para ajustar el modelo con los hiperparámetros encontrados {'learning_decay': 0.7, 'n_components': 5}."
   ]
  },
  {
   "cell_type": "code",
   "execution_count": 17,
   "metadata": {},
   "outputs": [],
   "source": [
    "count_vectorizer_all = CountVectorizer(stop_words='english')"
   ]
  },
  {
   "cell_type": "code",
   "execution_count": 18,
   "metadata": {},
   "outputs": [],
   "source": [
    "count_vectorizer_lyrics_all = count_vectorizer_all.fit_transform(df['Lyrics'])"
   ]
  },
  {
   "cell_type": "code",
   "execution_count": 19,
   "metadata": {},
   "outputs": [
    {
     "data": {
      "text/plain": [
       "LatentDirichletAllocation(batch_size=128, doc_topic_prior=None,\n",
       "                          evaluate_every=-1, learning_decay=0.7,\n",
       "                          learning_method='online', learning_offset=10.0,\n",
       "                          max_doc_update_iter=100, max_iter=10,\n",
       "                          mean_change_tol=0.001, n_components=5, n_jobs=None,\n",
       "                          perp_tol=0.1, random_state=14173,\n",
       "                          topic_word_prior=None, total_samples=1000000.0,\n",
       "                          verbose=0)"
      ]
     },
     "execution_count": 19,
     "metadata": {},
     "output_type": "execute_result"
    }
   ],
   "source": [
    "best_lda.fit(count_vectorizer_lyrics_all)"
   ]
  },
  {
   "cell_type": "code",
   "execution_count": 20,
   "metadata": {
    "scrolled": true
   },
   "outputs": [
    {
     "name": "stdout",
     "output_type": "stream",
     "text": [
      "Tópico 1:\n",
      "light burn earth eyes darkness shall dark world black rise lord death fear truth sky\n",
      "Tópico 2:\n",
      "don love oh know just ll yeah baby time like ve got let come want\n",
      "Tópico 3:\n",
      "la death blood dead god kill die war life doo hell pain soul end head\n",
      "Tópico 4:\n",
      "like got don shit ain know just cause yeah fuck ya nigga em yo man\n",
      "Tópico 5:\n",
      "like man rock got yo ba come na new big boom da mos ghostface roll\n"
     ]
    }
   ],
   "source": [
    "# mediante .components_ podemos extraer una matriz que entrega la distribución de palabras por cada tópico.\n",
    "for topic_id, topic_name in enumerate(best_lda.components_):\n",
    "    # para cada tópico\n",
    "    print(f\"Tópico {topic_id + 1}:\")\n",
    "    # mediante argsort logramos ordenar los elementos por magnitud\n",
    "    # para los elementos más relevantes ordenados por argsort, buscamos su correlativo\n",
    "    # en la matriz dispersa y devolvemos el nombre.v\n",
    "    concat_words_in_topics = [count_vectorizer_all.get_feature_names()[i] for i in topic_name.argsort()[:-15 -1: -1]]\n",
    "    # finalmente concatenamos las palabras\n",
    "    print(\" \".join(concat_words_in_topics))"
   ]
  },
  {
   "cell_type": "markdown",
   "metadata": {},
   "source": [
    "* Comente a qué tópicos está asociada cada clase inferida."
   ]
  },
  {
   "cell_type": "markdown",
   "metadata": {},
   "source": [
    ">* Tópico 1: Relacionado con temáticas abordadas en el Metal\n",
    ">* Tópico 2: Relacionado con temáticas abordadas en el Pop\n",
    ">* Tópico 3: Relacionado con temáticas abordadas en el Death Metal\n",
    ">* Tópico 4: Relacionado con temáticas abordadas en el HipHop\n",
    ">* Tópico 5: Relacionado con temáticas abordadas en el Rock"
   ]
  },
  {
   "cell_type": "markdown",
   "metadata": {},
   "source": [
    "## Ejercicio 5: Identificación de probabilidades\n",
    "\n",
    "* En base a la información generada, es posible identificar cuales van a ser los géneros más probables de ocurrir para un artista.\n",
    "* Para ello necesitamos guardar la probabilidad de cada canción en nuestra base de datos original. Podemos implementar esto de la siguiente manera:"
   ]
  },
  {
   "cell_type": "code",
   "execution_count": 21,
   "metadata": {},
   "outputs": [],
   "source": [
    "# generamos una transformación de los datos a distribución de tópico por\n",
    "# palabra en el documento\n",
    "fit_best_lda = best_lda.transform(count_vectorizer_lyrics_all)\n",
    "\n",
    "# estra transformación la podemos coercionar a un dataframe de la siguiente manera\n",
    "topic_for_each_doc = pd.DataFrame(\n",
    "    # pasamos esta matriz y la redondeamos en 3 decimales\n",
    "    np.round(fit_best_lda, 3),\n",
    "    # agregamos un índice\n",
    "    index = df.index\n",
    ")"
   ]
  },
  {
   "cell_type": "code",
   "execution_count": 22,
   "metadata": {},
   "outputs": [],
   "source": [
    "#agregamos identificadores de columna\n",
    "topic_for_each_doc.columns = [f\"Topico {x}\" for x in range(1, best_lda.n_components +1)]\n",
    "# concatenamos las probabilidades de tópico por documento a nuestra matriz original\n",
    "df_concat = pd.concat([df, topic_for_each_doc], axis=1)"
   ]
  },
  {
   "cell_type": "code",
   "execution_count": 23,
   "metadata": {},
   "outputs": [],
   "source": [
    "# argmax en la matriz de tópicos\n",
    "df_concat['high_pr'] = np.argmax(topic_for_each_doc.values, axis = 1) + 1"
   ]
  },
  {
   "cell_type": "code",
   "execution_count": 24,
   "metadata": {},
   "outputs": [
    {
     "data": {
      "text/html": [
       "<div>\n",
       "<style scoped>\n",
       "    .dataframe tbody tr th:only-of-type {\n",
       "        vertical-align: middle;\n",
       "    }\n",
       "\n",
       "    .dataframe tbody tr th {\n",
       "        vertical-align: top;\n",
       "    }\n",
       "\n",
       "    .dataframe thead th {\n",
       "        text-align: right;\n",
       "    }\n",
       "</style>\n",
       "<table border=\"1\" class=\"dataframe\">\n",
       "  <thead>\n",
       "    <tr style=\"text-align: right;\">\n",
       "      <th></th>\n",
       "      <th>Artis</th>\n",
       "      <th>Genre</th>\n",
       "      <th>Song</th>\n",
       "      <th>Lyrics</th>\n",
       "      <th>Topico 1</th>\n",
       "      <th>Topico 2</th>\n",
       "      <th>Topico 3</th>\n",
       "      <th>Topico 4</th>\n",
       "      <th>Topico 5</th>\n",
       "      <th>high_pr</th>\n",
       "    </tr>\n",
       "  </thead>\n",
       "  <tbody>\n",
       "    <tr>\n",
       "      <th>103</th>\n",
       "      <td>Mos Def</td>\n",
       "      <td>hiphop</td>\n",
       "      <td>Mos Def Freestyle</td>\n",
       "      <td>(Mos def) \\n Ha ha, said the world world world...</td>\n",
       "      <td>0.001</td>\n",
       "      <td>0.195</td>\n",
       "      <td>0.046</td>\n",
       "      <td>0.353</td>\n",
       "      <td>0.403</td>\n",
       "      <td>5</td>\n",
       "    </tr>\n",
       "  </tbody>\n",
       "</table>\n",
       "</div>"
      ],
      "text/plain": [
       "       Artis   Genre               Song  \\\n",
       "103  Mos Def  hiphop  Mos Def Freestyle   \n",
       "\n",
       "                                                Lyrics  Topico 1  Topico 2  \\\n",
       "103  (Mos def) \\n Ha ha, said the world world world...     0.001     0.195   \n",
       "\n",
       "     Topico 3  Topico 4  Topico 5  high_pr  \n",
       "103     0.046     0.353     0.403        5  "
      ]
     },
     "execution_count": 24,
     "metadata": {},
     "output_type": "execute_result"
    }
   ],
   "source": [
    "df_concat.sample()"
   ]
  },
  {
   "cell_type": "markdown",
   "metadata": {},
   "source": [
    "___\n",
    "* Genere una matriz de correlaciones entre la probabilidad de tópicos inferidos. Comente brevemente cuales son las principales asociaciones existentes."
   ]
  },
  {
   "cell_type": "code",
   "execution_count": 25,
   "metadata": {},
   "outputs": [
    {
     "data": {
      "text/plain": [
       "<matplotlib.axes._subplots.AxesSubplot at 0x125baf3d0>"
      ]
     },
     "execution_count": 25,
     "metadata": {},
     "output_type": "execute_result"
    },
    {
     "data": {
      "image/png": "[encoded data removed]",
      "text/plain": [
       "<Figure size 720x432 with 2 Axes>"
      ]
     },
     "metadata": {
      "needs_background": "light"
     },
     "output_type": "display_data"
    }
   ],
   "source": [
    "sns.heatmap(topic_for_each_doc.corr(), annot=True, cmap='seismic')"
   ]
  },
  {
   "cell_type": "markdown",
   "metadata": {},
   "source": [
    "> De las correlaciones entre las probabilidades de las clases se observa que tanto las tematicas del Pop (Tópico 2) como el HipHop (Tópico 4) tienen una correlación relativamente alta pero de manera inversa, indicándonos que estas clases tienen probabilidades con dirección inversa en los datos. Es decir que cuando hay alta probabilidad de que las letras de una canción aborden temáticas del tópico 2 habrá baja probabilidad de que las mismas letras aborden temáticas del tópico 4."
   ]
  },
  {
   "cell_type": "markdown",
   "metadata": {},
   "source": [
    "___\n",
    "* Con esta nueva base de datos, identifique las probabilidades de pertenencia para un artista específico."
   ]
  },
  {
   "cell_type": "code",
   "execution_count": 27,
   "metadata": {},
   "outputs": [],
   "source": [
    "df_pink_floyd = df_concat[df_concat['Artis']== 'Pink Floyd']"
   ]
  },
  {
   "cell_type": "code",
   "execution_count": 28,
   "metadata": {},
   "outputs": [
    {
     "data": {
      "image/png": "[encoded data removed]",
      "text/plain": [
       "<Figure size 720x432 with 1 Axes>"
      ]
     },
     "metadata": {
      "needs_background": "light"
     },
     "output_type": "display_data"
    }
   ],
   "source": [
    "sns.countplot(df_pink_floyd['high_pr'])\n",
    "plt.title(\"Frecuencia de asignación absoluta de clases / Pink Floyd\");"
   ]
  },
  {
   "cell_type": "code",
   "execution_count": 29,
   "metadata": {
    "scrolled": true
   },
   "outputs": [
    {
     "data": {
      "text/plain": [
       "2    91.85\n",
       "5     3.70\n",
       "1     2.22\n",
       "3     1.48\n",
       "4     0.74\n",
       "Name: high_pr, dtype: float64"
      ]
     },
     "execution_count": 29,
     "metadata": {},
     "output_type": "execute_result"
    }
   ],
   "source": [
    "\n",
    "np.round(df_pink_floyd['high_pr'].value_counts('%')*100, 2)"
   ]
  },
  {
   "cell_type": "markdown",
   "metadata": {},
   "source": [
    ">Para __Pink Floys__, la probabilidad de pertenecer al __Tópico 2__ (temáticas del Pop) es muy alta __(91.85%)__, lo que difiere con el género musical __rock__ y se ratifica que el Rock y el Pop tocan temáticas que se mezclan."
   ]
  },
  {
   "cell_type": "markdown",
   "metadata": {},
   "source": [
    "___\n",
    "* Grafique la distribución de las probabilidades para algún artista en específico."
   ]
  },
  {
   "cell_type": "code",
   "execution_count": 30,
   "metadata": {},
   "outputs": [
    {
     "data": {
      "image/png": "[encoded data removed]",
      "text/plain": [
       "<Figure size 720x432 with 1 Axes>"
      ]
     },
     "metadata": {
      "needs_background": "light"
     },
     "output_type": "display_data"
    }
   ],
   "source": [
    "sns.distplot(df_pink_floyd['Topico 1'], label='Topico 1', axlabel='', hist=False)\n",
    "sns.distplot(df_pink_floyd['Topico 2'], label='Topico 2', axlabel='', hist=False)\n",
    "sns.distplot(df_pink_floyd['Topico 3'], label='Topico 3', axlabel='', hist=False)\n",
    "sns.distplot(df_pink_floyd['Topico 4'], label='Topico 4', axlabel='', hist=False)\n",
    "sns.distplot(df_pink_floyd['Topico 5'], label='Topico 5', axlabel='', hist=False)\n",
    "plt.title(\"Distribución de probabilidad de clases / Pink Floyd\")\n",
    "plt.legend();"
   ]
  },
  {
   "cell_type": "code",
   "execution_count": 31,
   "metadata": {},
   "outputs": [
    {
     "data": {
      "text/html": [
       "<div>\n",
       "<style scoped>\n",
       "    .dataframe tbody tr th:only-of-type {\n",
       "        vertical-align: middle;\n",
       "    }\n",
       "\n",
       "    .dataframe tbody tr th {\n",
       "        vertical-align: top;\n",
       "    }\n",
       "\n",
       "    .dataframe thead th {\n",
       "        text-align: right;\n",
       "    }\n",
       "</style>\n",
       "<table border=\"1\" class=\"dataframe\">\n",
       "  <thead>\n",
       "    <tr style=\"text-align: right;\">\n",
       "      <th></th>\n",
       "      <th>Artis</th>\n",
       "      <th>Genre</th>\n",
       "      <th>Song</th>\n",
       "      <th>Lyrics</th>\n",
       "      <th>Topico 1</th>\n",
       "      <th>Topico 2</th>\n",
       "      <th>Topico 3</th>\n",
       "      <th>Topico 4</th>\n",
       "      <th>Topico 5</th>\n",
       "      <th>high_pr</th>\n",
       "    </tr>\n",
       "  </thead>\n",
       "  <tbody>\n",
       "    <tr>\n",
       "      <th>40</th>\n",
       "      <td>Pink Floyd</td>\n",
       "      <td>rock</td>\n",
       "      <td>A Pillow Of Winds</td>\n",
       "      <td>A cloud of eiderdown draws around me softening...</td>\n",
       "      <td>0.255</td>\n",
       "      <td>0.736</td>\n",
       "      <td>0.003</td>\n",
       "      <td>0.003</td>\n",
       "      <td>0.003</td>\n",
       "      <td>2</td>\n",
       "    </tr>\n",
       "  </tbody>\n",
       "</table>\n",
       "</div>"
      ],
      "text/plain": [
       "         Artis Genre               Song  \\\n",
       "40  Pink Floyd  rock  A Pillow Of Winds   \n",
       "\n",
       "                                               Lyrics  Topico 1  Topico 2  \\\n",
       "40  A cloud of eiderdown draws around me softening...     0.255     0.736   \n",
       "\n",
       "    Topico 3  Topico 4  Topico 5  high_pr  \n",
       "40     0.003     0.003     0.003        2  "
      ]
     },
     "execution_count": 31,
     "metadata": {},
     "output_type": "execute_result"
    }
   ],
   "source": [
    "df_pink_floyd.sample()"
   ]
  },
  {
   "cell_type": "markdown",
   "metadata": {},
   "source": [
    "> Del gráfico de probabilidades y el de frecuencias podemos observar que la música de Pink Floyd cae en el tópico 2, donde se observaron temáticas tocadas en la música POP, no obstante la música de Pink Floyd está claramente enmarcada en el género Rock, lo que nos hace pensar que el Rock y el Pop son la misma cosa, sólo cambia el ritmo, o estamos frente a un modelo que no nos sirve para esta base de datos y debemos avanzar por otras alternativas."
   ]
  }
 ],
 "metadata": {
  "kernelspec": {
   "display_name": "Python 3",
   "language": "python",
   "name": "python3"
  },
  "language_info": {
   "codemirror_mode": {
    "name": "ipython",
    "version": 3
   },
   "file_extension": ".py",
   "mimetype": "text/x-python",
   "name": "python",
   "nbconvert_exporter": "python",
   "pygments_lexer": "ipython3",
   "version": "3.7.4"
  }
 },
 "nbformat": 4,
 "nbformat_minor": 2
}
