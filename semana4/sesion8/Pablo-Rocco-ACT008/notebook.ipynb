{
 "cells": [
  {
   "cell_type": "markdown",
   "metadata": {},
   "source": [
    "<img src='logo.png' style='display: block;height: 61px;float: left;padding: .75rem 1.25rem;'>"
   ]
  },
  {
   "cell_type": "markdown",
   "metadata": {},
   "source": [
    "# Desafío - Random Forest\n",
    "* Para realizar este desafío debes haber revisado la lectura y videos correspondiente a la unidad.\n",
    "* Crea una carpeta de trabajo y guarda todos los archivos correspondientes (notebook y csv).\n",
    "* Una vez terminado el desafío, comprime la carpeta y sube el `.zip` a la seccióncorrespondiente."
   ]
  },
  {
   "cell_type": "markdown",
   "metadata": {},
   "source": [
    "## Descripción\n",
    "\n",
    "* Para esta sesión trabajaremos con una base de datos sobre los precios de inmuebles en la ciudad de Ames, Iowa. La base se compone de 2930 registros y contiene un gran número de atributos.\n",
    "* Nuestro objetivo es generar un modelo que prediga de forma adecuada los precios de inmuebles, medidos con la variable `Sale_Price`.\n",
    "* A diferencia de otras sesiones donde implementábamos el preprocesamiento a mano, ahora haremos uso de los archivos serializados en la sesión pasada."
   ]
  },
  {
   "cell_type": "markdown",
   "metadata": {},
   "source": [
    "## Ejercicio 1: Preparación del ambiente de trabajo\n",
    "\n",
    "* Importe las librerías clásicas a utilizar.\n",
    "* Para este ejercicio Random Forest de Regresión\n",
    "* De manera adicional importe las funciones y clases necesarias para generar un desempeño de métricas en problemas de regresión.\n",
    "* Elimine la columna `'Unnamed: 0'` cuando cargue los datos."
   ]
  },
  {
   "cell_type": "markdown",
   "metadata": {},
   "source": [
    "> Se utilizan librerías bases para el tratamiento de datos y algunos aspectos básicos de cálculo y gráficos."
   ]
  },
  {
   "cell_type": "code",
   "execution_count": 1,
   "metadata": {},
   "outputs": [],
   "source": [
    "# Se importa libreria para el manejo de bases de datos\n",
    "import pandas as pd\n",
    "# Se importa libreria para el manejo de operaciones de cálculo\n",
    "import numpy as np\n",
    "# Se importa libreria para el manejo de gráficos\n",
    "import matplotlib.pyplot as plt\n",
    "# Se importa libreria para manejo de funciones estadisticas y probabilidades\n",
    "import seaborn as sns\n",
    "# Librería para visualizar patrones de datos perdidos\n",
    "import missingno as msngo\n",
    "# Se importa libreria para el menejo de warning\n",
    "import warnings"
   ]
  },
  {
   "cell_type": "markdown",
   "metadata": {},
   "source": [
    "> Definimos algunos aspectos de ambiente y valores por defecto de visualización."
   ]
  },
  {
   "cell_type": "code",
   "execution_count": 2,
   "metadata": {},
   "outputs": [],
   "source": [
    "# Por defecto, matplotlib crea una figura en una ventana separada.\n",
    "# podemos hacer que las figuras aparezcan en línea dentro del notebook; lo hacemos ejecutando:\n",
    "%matplotlib inline\n",
    "# Se ignoran los warning para evitar suciedad en la ejecución\n",
    "warnings.filterwarnings(action='ignore')\n",
    "# Se define el estilo de gráficos a usar\n",
    "plt.style.use('seaborn-pastel')\n",
    "# Se define el tamaño de los paños de los gráficos por defecto\n",
    "plt.rcParams['figure.figsize'] = (14, 8)\n",
    "# Dado que vamos a supervisar datos no limitaremos la cantidad de columnas a mostrar en el despliegue del dataframe\n",
    "pd.options.display.max_columns = None"
   ]
  },
  {
   "cell_type": "markdown",
   "metadata": {},
   "source": [
    "> Se utiliza <strong>librería propia</strong> que continen funciones auxiliares, necesarias para el desarrollo de desafíos."
   ]
  },
  {
   "cell_type": "code",
   "execution_count": 3,
   "metadata": {},
   "outputs": [],
   "source": [
    "# Se importa libreria con funciones auxiliares\n",
    "import ancilliary_funcs as afx"
   ]
  },
  {
   "cell_type": "markdown",
   "metadata": {},
   "source": [
    "> Se utilizan librerías <strong>sklearn</strong> para el modelo, el tratamiento de escala de valores de los atributos y seleccion de set de datos:"
   ]
  },
  {
   "cell_type": "code",
   "execution_count": 8,
   "metadata": {},
   "outputs": [],
   "source": [
    "# Método para escalar datos\n",
    "from sklearn.preprocessing import StandardScaler\n",
    "# Método para la selección de datos entre entrenamiento, test y CV\n",
    "from sklearn.model_selection import train_test_split, GridSearchCV\n",
    "# Método para reportar las métricas de modelos de clasificación\n",
    "from sklearn.metrics import mean_squared_error, median_absolute_error, r2_score\n",
    "# Método para generar un modelo de regresión con arboles de decisión\n",
    "from sklearn.tree import DecisionTreeRegressor\n",
    "from sklearn.ensemble import RandomForestRegressor"
   ]
  },
  {
   "cell_type": "markdown",
   "metadata": {},
   "source": [
    "## Ejercicio 2: Importación de archivos serializados\n",
    "\n",
    "* Importe su modelo entrenado y sus conjuntos de entrenamiento y validación serializados la sesión pasada y evalúe el desempeño del modelo de su compañero con el suyo ¿Cuál es mejor? Si no puede ejecutar el modelo, comente cuáles pueden ser los causantes.\n",
    "* No es necesario que realice diagnósticos gráficos sobre el modelo, sólo reporte sus métricas. \n",
    "* Para importar un archivo serializado, puede ocupar la siguiente línea de código:"
   ]
  },
  {
   "cell_type": "code",
   "execution_count": 18,
   "metadata": {},
   "outputs": [],
   "source": [
    "import pickle"
   ]
  },
  {
   "cell_type": "code",
   "execution_count": 32,
   "metadata": {},
   "outputs": [],
   "source": [
    "# Cargo mi modelo de la sesión anterior\n",
    "file_in_my = open('pablo-rocco-actividad07.sav', 'rb')\n",
    "model_tree_my, X_train_my, X_test_my, y_train_my, y_test_my = pickle.load(file_in_my)"
   ]
  },
  {
   "cell_type": "code",
   "execution_count": 33,
   "metadata": {},
   "outputs": [],
   "source": [
    "# Cargo el modelo de Paulina Ramírez\n",
    "file_in_pr = open('paulina-ramirez-actividad07.sav', 'rb')\n",
    "model_tree_pr, X_train_pr, X_test_pr, y_train_pr, y_test_pr = pickle.load(file_in_pr)\n"
   ]
  },
  {
   "cell_type": "markdown",
   "metadata": {},
   "source": [
    "#### Mi Modelo:"
   ]
  },
  {
   "cell_type": "code",
   "execution_count": 36,
   "metadata": {},
   "outputs": [
    {
     "name": "stdout",
     "output_type": "stream",
     "text": [
      "Error Cuadrático Medio:\n",
      "1254786559.697\n",
      "\n",
      "Error Medio Absoluto:\n",
      "15497.8824\n",
      "\n",
      "R cuadrado:\n",
      "0.81\n"
     ]
    }
   ],
   "source": [
    "yhat_my = model_tree_my.predict(X_test_my)\n",
    "afx.report_scores_regressor(y_test_my, yhat_my)"
   ]
  },
  {
   "cell_type": "markdown",
   "metadata": {},
   "source": [
    "#### Modelo de Paulina Ramírez:"
   ]
  },
  {
   "cell_type": "code",
   "execution_count": 37,
   "metadata": {},
   "outputs": [
    {
     "name": "stdout",
     "output_type": "stream",
     "text": [
      "Error Cuadrático Medio:\n",
      "1153615865.1325\n",
      "\n",
      "Error Medio Absoluto:\n",
      "15640.3208\n",
      "\n",
      "R cuadrado:\n",
      "0.81\n"
     ]
    }
   ],
   "source": [
    "yhat_pr = model_tree_pr.predict(X_test_pr)\n",
    "afx.report_scores_regressor(y_test_pr, yhat_pr)"
   ]
  },
  {
   "cell_type": "markdown",
   "metadata": {},
   "source": [
    "> Podemos observar que tanto el modelo de Paulina como el mio andan empatados en relación al $R^2$, no obstante Paulina obtuvo un ECM más bajo que el mio con los respectivos datos de prueba. Por otro lado el EMA de Paulina resulta ser más alto que el mío. Podemos decir que ambos modelos quedan empatados y felicitaciones a Paulina!."
   ]
  },
  {
   "cell_type": "markdown",
   "metadata": {},
   "source": [
    "## Ejercicio 3: Evaluación Random Forest\n",
    "\n",
    "* En base a los conjuntos de entrenamiento serializados, genere un modelo utilizando `sklearn.ensemble.RandomForest` sin modificar hiperparámetros, sólo declarando la semilla pseudoaleatoria.\n",
    "* Reporte su desempeño y compárelo con su modelo de la sesión pasada, así como con el de su compañero."
   ]
  },
  {
   "cell_type": "code",
   "execution_count": 43,
   "metadata": {},
   "outputs": [],
   "source": [
    "model_rf_my = RandomForestRegressor(random_state=14173).fit(X_train_my, y_train_my)"
   ]
  },
  {
   "cell_type": "code",
   "execution_count": 44,
   "metadata": {},
   "outputs": [],
   "source": [
    "yhat_rf_my = model_rf_my.predict(X_test_my)"
   ]
  },
  {
   "cell_type": "code",
   "execution_count": 45,
   "metadata": {},
   "outputs": [
    {
     "name": "stdout",
     "output_type": "stream",
     "text": [
      "Error Cuadrático Medio:\n",
      "980161496.6709\n",
      "\n",
      "Error Medio Absoluto:\n",
      "13030.0\n",
      "\n",
      "R cuadrado:\n",
      "0.85\n"
     ]
    }
   ],
   "source": [
    "afx.report_scores_regressor(y_test_my, yhat_rf_my)"
   ]
  },
  {
   "cell_type": "markdown",
   "metadata": {},
   "source": [
    "> Podemos observar que todas las metricas son favorables en este nuevo modelo `model_rf_my`, por sobre los dos modelos de la sesión pasada (el de Paulina y el mio)"
   ]
  },
  {
   "cell_type": "markdown",
   "metadata": {},
   "source": [
    "> Dado que los atributos relevantes de Paulina no son los mismos que los mios, vamos a revisar como se comporta ese conjunto de atributos con Random Forest."
   ]
  },
  {
   "cell_type": "code",
   "execution_count": 59,
   "metadata": {},
   "outputs": [],
   "source": [
    "model_rf_pr = RandomForestRegressor(random_state=14173).fit(X_train_pr, y_train_pr)"
   ]
  },
  {
   "cell_type": "code",
   "execution_count": 60,
   "metadata": {},
   "outputs": [],
   "source": [
    "yhat_rf_pr = model_rf_pr.predict(X_test_pr)"
   ]
  },
  {
   "cell_type": "code",
   "execution_count": 61,
   "metadata": {},
   "outputs": [
    {
     "name": "stdout",
     "output_type": "stream",
     "text": [
      "Error Cuadrático Medio:\n",
      "877526570.5964\n",
      "\n",
      "Error Medio Absoluto:\n",
      "13160.0\n",
      "\n",
      "R cuadrado:\n",
      "0.86\n"
     ]
    }
   ],
   "source": [
    "afx.report_scores_regressor(y_test_pr, yhat_rf_pr)"
   ]
  },
  {
   "cell_type": "markdown",
   "metadata": {},
   "source": [
    "> Mis __Felicitaciones a Paulina__, los primeros resultados de la sesión anterior resultaron ser mejores que los mios y esto generó un mejor modelo con el agoritmo de Random Forest. Tanto ECM y $R^2$ son mejores en el nuevo modelo con los atributos relevantes obtenidos por Paulina. "
   ]
  },
  {
   "cell_type": "markdown",
   "metadata": {},
   "source": [
    "## Ejercicio 4: Reporte las métricas de desempeño\n",
    "\n",
    "* Para afinar el comportamiento de nuestro modelo, evalúe su desempeño los siguientes hiperparámetros:\n",
    "  * `max_features`: None, log2, sqrt.\n",
    "  * `n_estimators`: Evaluar entre 20 y 1000 en pasos de 50. \n",
    "* Guarde la tasa de error en la exactitud medida con OOB.\n",
    "* Grafique el comportamiento."
   ]
  },
  {
   "cell_type": "code",
   "execution_count": null,
   "metadata": {},
   "outputs": [],
   "source": []
  }
 ],
 "metadata": {
  "kernelspec": {
   "display_name": "Python 3",
   "language": "python",
   "name": "python3"
  },
  "language_info": {
   "codemirror_mode": {
    "name": "ipython",
    "version": 3
   },
   "file_extension": ".py",
   "mimetype": "text/x-python",
   "name": "python",
   "nbconvert_exporter": "python",
   "pygments_lexer": "ipython3",
   "version": "3.7.4"
  }
 },
 "nbformat": 4,
 "nbformat_minor": 2
}
