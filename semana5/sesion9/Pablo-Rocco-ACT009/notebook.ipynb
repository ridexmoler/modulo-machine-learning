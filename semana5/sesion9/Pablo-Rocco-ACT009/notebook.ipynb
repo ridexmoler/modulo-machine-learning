{
 "cells": [
  {
   "cell_type": "markdown",
   "metadata": {},
   "source": [
    "<img src='logo.png' style='display: block;height: 61px;float: left;padding: .75rem 1.25rem;'>"
   ]
  },
  {
   "cell_type": "markdown",
   "metadata": {},
   "source": [
    "# Desafío - Boosting Classifiers\n",
    "* Para realizar este desafío debes haber revisado la lectura y videos correspondiente a la unidad.\n",
    "* Crea una carpeta de trabajo y guarda todos los archivos correspondientes (notebook y csv).\n",
    "* Una vez terminado el desafío, comprime la carpeta y sube el `.zip` a la seccióncorrespondiente."
   ]
  },
  {
   "cell_type": "markdown",
   "metadata": {},
   "source": [
    "## Descripción\n",
    "\n",
    "Para esta sesión trabajaremos con una base de datos sobre rotación de clientes en una compañia de telecomunicaciones. El archivo contiene 3333 registros y 20 atributos. El vector objetivo a modelar es la tasa de rotación entre los clientes de una compañia de telecomunicaciones churn . Los atributos existentes hacen referencia a características de la cuenta de cada cliente.\n",
    "\n",
    "\n",
    "Lista de atributos:\n",
    "* `State`: Estado de Estados Unidos\n",
    "* `Account Length`: Tiempo en que la cuenta ha sido activada\n",
    "* `Area Code`: código de área.\n",
    "* `international plan`: Plan internacional activiado\n",
    "* `voice mail plan`: Plan de mensajes de voz activado\n",
    "* `number_vmail_messages`: Cantidad de mensajes de voz.\n",
    "* `total_day_minutes`: Cantidad de minutos ocupados en la mañana. \n",
    "* `total_day_calls`: Cantidad de llamadas realizadas en la mañana. \n",
    "* `total_day_charge`: Cobros realizados en la mañana.\n",
    "* `total_eve_minutes`: Cantidad de minutos ocupados en la tarde.\n",
    "* `total_eve_calls`: Cantidad de llamadas realizadas en la tarde. \n",
    "* `total_eve_charge`: Cobros realizados en la tarde.\n",
    "* `total_night_calls`: Cantidad de llamadas realizadas en la noche. \n",
    "* `tota_night_minutes`: Cantidad de minutos ocupados en la noche.\n",
    "* `total_night_charge`: Cobros realizados en la noche.\n",
    "* `total_intl_minutes`: Cantidad de minutos ocupados en llamadas internacionales. \n",
    "* `total_intl_calls`: Cantidad de llamadas internacionales realizadas. \n",
    "* `total_intl_charge`: Cobros realizados por llamadas internacionales.\n",
    "* `churn`: 1 si el cliente se cambió de compañia, 0 de los contrario.\n",
    "\n",
    "Los datos provienen del paquete `AppliedPreditiveModeling` de `R`."
   ]
  },
  {
   "cell_type": "markdown",
   "metadata": {},
   "source": [
    "## Ejercicio 1: Preprocesamiento\n",
    "\n",
    "* Grafique el comportamiento distributivo de los atributos y de la variable dependiente. Reporte brevemente el comportamiento de las variables.\n",
    "* En base al comportamiento de los atributos, considere si es necesario implementar alguna recodificación o transformación de atributo. Algunas normas a seguir:\n",
    "  * Para las variables categóricas, recodifíquelas en variables binarias.\n",
    "  * Para aquellas variables numéricas que presenten alto sesgo, pueden transformarlas con su logaritmo."
   ]
  },
  {
   "cell_type": "markdown",
   "metadata": {},
   "source": [
    "> Se utilizan librerías bases para el tratamiento de datos y algunos aspectos básicos de cálculo y gráficos."
   ]
  },
  {
   "cell_type": "code",
   "execution_count": 1,
   "metadata": {},
   "outputs": [],
   "source": [
    "# Se importa libreria para el manejo de bases de datos\n",
    "import pandas as pd\n",
    "# Se importa libreria para el manejo de operaciones de cálculo\n",
    "import numpy as np\n",
    "# Se importa libreria para el manejo de gráficos\n",
    "import matplotlib.pyplot as plt\n",
    "# Se importa libreria para manejo de funciones estadisticas y probabilidades\n",
    "import seaborn as sns\n",
    "# Librería para visualizar patrones de datos perdidos\n",
    "import missingno as msngo\n",
    "# Se importa libreria para el menejo de warning\n",
    "import warnings"
   ]
  },
  {
   "cell_type": "markdown",
   "metadata": {},
   "source": [
    "> Definimos algunos aspectos de ambiente y valores por defecto de visualización."
   ]
  },
  {
   "cell_type": "code",
   "execution_count": 2,
   "metadata": {},
   "outputs": [],
   "source": [
    "# Por defecto, matplotlib crea una figura en una ventana separada.\n",
    "# podemos hacer que las figuras aparezcan en línea dentro del notebook; lo hacemos ejecutando:\n",
    "%matplotlib inline\n",
    "# Se ignoran los warning para evitar suciedad en la ejecución\n",
    "warnings.filterwarnings(action='ignore')\n",
    "# Se define el estilo de gráficos a usar\n",
    "plt.style.use('seaborn-pastel')\n",
    "# Se define el tamaño de los paños de los gráficos por defecto\n",
    "plt.rcParams['figure.figsize'] = (14, 8)\n",
    "# Dado que vamos a supervisar datos no limitaremos la cantidad de columnas a mostrar en el despliegue del dataframe\n",
    "pd.options.display.max_columns = None"
   ]
  },
  {
   "cell_type": "markdown",
   "metadata": {},
   "source": [
    "> Se utiliza <strong>librería propia</strong> que continen funciones auxiliares, necesarias para el desarrollo de desafíos."
   ]
  },
  {
   "cell_type": "code",
   "execution_count": 3,
   "metadata": {},
   "outputs": [],
   "source": [
    "# Se importa libreria con funciones auxiliares\n",
    "import ancilliary_funcs as afx"
   ]
  },
  {
   "cell_type": "markdown",
   "metadata": {},
   "source": [
    "> Se utilizan librerías <strong>sklearn</strong> para el modelo, el tratamiento de escala de valores de los atributos y seleccion de set de datos:"
   ]
  },
  {
   "cell_type": "code",
   "execution_count": 4,
   "metadata": {},
   "outputs": [],
   "source": [
    "# Método para escalar datos\n",
    "from sklearn.preprocessing import StandardScaler\n",
    "# Método para la selección de datos entre entrenamiento, test y CV\n",
    "from sklearn.model_selection import train_test_split, GridSearchCV\n",
    "# Método para reportar las métricas de modelos de clasificación\n",
    "from sklearn.metrics import mean_squared_error, median_absolute_error, r2_score\n",
    "# Método para generar un modelo de regresión con arboles de decisión\n",
    "from sklearn.tree import DecisionTreeRegressor\n",
    "from sklearn.ensemble import RandomForestRegressor"
   ]
  },
  {
   "cell_type": "markdown",
   "metadata": {},
   "source": [
    "## Ejercicio 2: Comparación de AdaBoost y Gradient Boosting\n",
    "\n",
    "* Entrene los clasificadores AdaBoost y Gradient Boosting para mejorar su capacidad predictiva en la medida de lo posible. Para ello, implemente una búsqueda de grilla con las siguientes especificaciones:\n",
    "\n",
    "\n",
    "|__Modelo__   | __Grilla__  |\n",
    "|---|---| \n",
    "| AdaBoostClassifier| {'learning_rate': [0.01, 0.1, 0.5], 'n_estimators': [50, 100, 500, 1000, 2000]}|\n",
    "| GradientBoostingClassifier |  {'learning_rate': [0.01, 0.1, 0.5],'n_estimators': [50, 100, 500, 1000, 2000], 'subsample': [0.1,0.5,0.9]}|\n",
    "\n",
    "* Si el tiempo de computación es alto, puede implementar la búsqueda con 1 validación cruzada.\n",
    "* Reporte las métricas para los mejores modelos."
   ]
  },
  {
   "cell_type": "markdown",
   "metadata": {},
   "source": [
    "## Ejercicio 3: Principales factores asociados\n",
    "\n",
    "* Con el mejor modelo, reporte la importancia relativa de los atributos y comente cuáles son los que aumentan la probabilidad de fuga en los clientes.\n",
    "* tip: Pueden implementar la función `plot_importance` que se encuentra en la lectura de Bagging y Random Forest."
   ]
  },
  {
   "cell_type": "markdown",
   "metadata": {},
   "source": [
    "## Ejercicio 4: Probabilidad de fuga\n",
    "\n",
    "* El gerente general necesita saber en qué estados hay una mayor probabilidad de fuga de clientes. Para ello, identifique los tres estados con una mayor probabilidad de fuga. \n",
    "* Implemente el modelo predictivo con el archivo `churn_test.csv`.\n",
    "* Recuerde que para obtener la probabilidad de clase, debe utilizar la función `predict_proba` del modelo."
   ]
  },
  {
   "cell_type": "code",
   "execution_count": null,
   "metadata": {},
   "outputs": [],
   "source": []
  }
 ],
 "metadata": {
  "kernelspec": {
   "display_name": "Python 3",
   "language": "python",
   "name": "python3"
  },
  "language_info": {
   "codemirror_mode": {
    "name": "ipython",
    "version": 3
   },
   "file_extension": ".py",
   "mimetype": "text/x-python",
   "name": "python",
   "nbconvert_exporter": "python",
   "pygments_lexer": "ipython3",
   "version": "3.7.4"
  }
 },
 "nbformat": 4,
 "nbformat_minor": 2
}
