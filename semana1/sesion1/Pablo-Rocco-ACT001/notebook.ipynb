{
 "cells": [
  {
   "cell_type": "markdown",
   "metadata": {},
   "source": [
    "<img src='logo.png' style='display: block;height: 61px;float: left;padding: .75rem 1.25rem;'>"
   ]
  },
  {
   "cell_type": "markdown",
   "metadata": {},
   "source": [
    "# Desafío - Regularización\n",
    "\n",
    "* Para realizar este desafío debes haber revisado la lectura y videos correspondiente a la unidad.\n",
    "* Crea una carpeta de trabajo y guarda todos los archivos correspondientes (notebook y csv).\n",
    "* Una vez terminado el desafío, comprime la carpeta y sube el .zip a la sección correspondiente."
   ]
  },
  {
   "cell_type": "markdown",
   "metadata": {},
   "source": [
    "## Descripción\n",
    "\n",
    "* En esta ocasión utilizaremos datos de la composición química de muestras de vino.\n",
    "* Nuestro propósito será tratar de predecir su calidad a partir de su composición química.\n",
    "* Comience su estudio realizando un breve análisis exploratorio y descriptivo:\n",
    "    + Identifique el tipo de datos de cada columna.\n",
    "    + Identifique outliers univariados y multivariados. Los primeros los puede encontrar realizando boxplots de cada atributo, los segundos estudiando los scatterplot entre pares de atributos.\n",
    "    + Encuentre la cantidad de valores faltantes en cada columna.\n",
    "    + Grafique la distribución empírica de cada atributo.\n"
   ]
  },
  {
   "cell_type": "markdown",
   "metadata": {},
   "source": [
    "## Ejercicio 1: Preparación del Ambiente de Trabajo\n",
    "___\n",
    "* Importe las librerías básicas"
   ]
  },
  {
   "cell_type": "markdown",
   "metadata": {},
   "source": [
    "<div style='color: #004085; background-color: #cce5ff;border-color: #b8daff;border-radius: .25rem;padding: .75rem 1.25rem;'>\n",
    "Se utilizan librerías bases para el tratamiento de datos y algunos aspectos básicos de cálculo y gráficos.\n",
    "</div>"
   ]
  },
  {
   "cell_type": "code",
   "execution_count": 1,
   "metadata": {},
   "outputs": [],
   "source": [
    "# Se importa libreria para el manejo de bases de datos\n",
    "import pandas as pd\n",
    "# Se importa libreria para el manejo de operaciones de cálculo\n",
    "import numpy as np\n",
    "# Se importa libreria para el manejo de gráficos\n",
    "import matplotlib.pyplot as plt\n",
    "# Se importa libreria para manejo de funciones estadisticas y probabilidades\n",
    "import seaborn as sns\n",
    "# Librería para visualizar patrones de datos perdidos\n",
    "import missingno as msngo\n",
    "# Se importa libreria para el menejo de warning\n",
    "import warnings"
   ]
  },
  {
   "cell_type": "markdown",
   "metadata": {},
   "source": [
    "<div style='color: #004085; background-color: #cce5ff;border-color: #b8daff;border-radius: .25rem;padding: .75rem 1.25rem;'>\n",
    "Definimos algunos aspectos de ambiente y valores por defecto.\n",
    "</div>"
   ]
  },
  {
   "cell_type": "code",
   "execution_count": 2,
   "metadata": {},
   "outputs": [],
   "source": [
    "# Por defecto, matplotlib crea una figura en una ventana separada.\n",
    "# podemos hacer que las figuras aparezcan en línea dentro del notebook; lo hacemos ejecutando:\n",
    "%matplotlib inline\n",
    "# Se ignoran los warning para evitar suciedad en la ejecución\n",
    "warnings.filterwarnings(action='ignore')\n",
    "# Se define el estilo de gráficos a usar\n",
    "plt.style.use('seaborn')\n",
    "# Se define el tamaño de los paños de los gráficos por defecto\n",
    "plt.rcParams['figure.figsize'] = (10, 6)\n",
    "# Dado que vamos a supervisar datos no limitaremos la cantidad de columnas a mostrar en el despliegue del dataframe\n",
    "pd.options.display.max_columns = None"
   ]
  },
  {
   "cell_type": "markdown",
   "metadata": {},
   "source": [
    "<div style='color: #004085; background-color: #cce5ff;border-color: #b8daff;border-radius: .25rem;padding: .75rem 1.25rem;'>\n",
    "Se utiliza <strong>librería propia</strong> que continen funciones auxiliares, necesarias para el desarrollo de desafíos.\n",
    "</div>"
   ]
  },
  {
   "cell_type": "code",
   "execution_count": 3,
   "metadata": {},
   "outputs": [],
   "source": [
    "# Se importa libreria con funciones auxiliares\n",
    "import ancilliary_funcs as afx"
   ]
  },
  {
   "cell_type": "markdown",
   "metadata": {},
   "source": [
    "___\n",
    "* Importe los métodos asociados a regularización "
   ]
  },
  {
   "cell_type": "markdown",
   "metadata": {},
   "source": [
    "<div style='color: #004085; background-color: #cce5ff;border-color: #b8daff;border-radius: .25rem;padding: .75rem 1.25rem;'>\n",
    "Se utilizan librerías <strong>sklearn</strong> para resolver el problema de regularización de parámetros desde <strong>Machine Learning</strong>, y se usarán los siguientes métodos:\n",
    "</div>"
   ]
  },
  {
   "cell_type": "code",
   "execution_count": 4,
   "metadata": {},
   "outputs": [],
   "source": [
    "# Métodos para generar modelos con regulación de parámetros\n",
    "from sklearn.linear_model import RidgeCV, LassoCV, ElasticNetCV\n",
    "# Método para estandarizar datos\n",
    "from sklearn.preprocessing import StandardScaler\n",
    "# Método para la selección de datos entre entrenamiento y test\n",
    "from sklearn.model_selection import train_test_split"
   ]
  },
  {
   "cell_type": "markdown",
   "metadata": {},
   "source": [
    "<div style='color: #004085; background-color: #cce5ff;border-color: #b8daff;border-radius: .25rem;padding: .75rem 1.25rem;'>\n",
    "Se utilizan los siguientes métodos para evaluar las métricas del modelo desde <strong>Machine Learning</strong>\n",
    "</div>"
   ]
  },
  {
   "cell_type": "code",
   "execution_count": 5,
   "metadata": {},
   "outputs": [],
   "source": [
    "from sklearn.metrics import r2_score, mean_squared_error, median_absolute_error"
   ]
  },
  {
   "cell_type": "markdown",
   "metadata": {},
   "source": [
    "___\n",
    "* Importe la base de datos"
   ]
  },
  {
   "cell_type": "markdown",
   "metadata": {},
   "source": [
    "<div style='color: #004085; background-color: #cce5ff;border-color: #b8daff;border-radius: .25rem;padding: .75rem 1.25rem;'>\n",
    "Leemos el archivo csv y almacenamos los datos en un DataFrame\n",
    "</div>"
   ]
  },
  {
   "cell_type": "code",
   "execution_count": 6,
   "metadata": {},
   "outputs": [],
   "source": [
    "# Leemos el archivo csv y almacenamos los datos en un DataFrame\n",
    "df = pd.read_csv(\"winequality-red.csv\")"
   ]
  },
  {
   "cell_type": "markdown",
   "metadata": {},
   "source": [
    "## Ejercicio 2: Análisis exploratorio\n",
    "___\n",
    "* Identifique el tipo de datos de cada columna."
   ]
  },
  {
   "cell_type": "markdown",
   "metadata": {},
   "source": [
    "<div style='color: #004085; background-color: #cce5ff;border-color: #b8daff;border-radius: .25rem;padding: .75rem 1.25rem;'>\n",
    "Con el método <strong>info</strong> revisamos rápidamente los tipos de datos de cada columna y si soportan valores nulos (nan). En caso de soportar tenemos indicios de que tendríamos valores perdidos.\n",
    "</div>"
   ]
  },
  {
   "cell_type": "code",
   "execution_count": 7,
   "metadata": {},
   "outputs": [
    {
     "name": "stdout",
     "output_type": "stream",
     "text": [
      "<class 'pandas.core.frame.DataFrame'>\n",
      "RangeIndex: 1599 entries, 0 to 1598\n",
      "Data columns (total 12 columns):\n",
      "fixed acidity           1599 non-null float64\n",
      "volatile acidity        1599 non-null float64\n",
      "citric acid             1599 non-null float64\n",
      "residual sugar          1599 non-null float64\n",
      "chlorides               1599 non-null float64\n",
      "free sulfur dioxide     1599 non-null float64\n",
      "total sulfur dioxide    1599 non-null float64\n",
      "density                 1599 non-null float64\n",
      "pH                      1599 non-null float64\n",
      "sulphates               1599 non-null float64\n",
      "alcohol                 1599 non-null float64\n",
      "quality                 1599 non-null int64\n",
      "dtypes: float64(11), int64(1)\n",
      "memory usage: 150.0 KB\n"
     ]
    }
   ],
   "source": [
    "# Con el método info revisamos los tipos de datos de cada columna\n",
    "df.info()"
   ]
  },
  {
   "cell_type": "code",
   "execution_count": 8,
   "metadata": {},
   "outputs": [
    {
     "data": {
      "text/html": [
       "<div>\n",
       "<style scoped>\n",
       "    .dataframe tbody tr th:only-of-type {\n",
       "        vertical-align: middle;\n",
       "    }\n",
       "\n",
       "    .dataframe tbody tr th {\n",
       "        vertical-align: top;\n",
       "    }\n",
       "\n",
       "    .dataframe thead th {\n",
       "        text-align: right;\n",
       "    }\n",
       "</style>\n",
       "<table border=\"1\" class=\"dataframe\">\n",
       "  <thead>\n",
       "    <tr style=\"text-align: right;\">\n",
       "      <th></th>\n",
       "      <th>fixed acidity</th>\n",
       "      <th>volatile acidity</th>\n",
       "      <th>citric acid</th>\n",
       "      <th>residual sugar</th>\n",
       "      <th>chlorides</th>\n",
       "      <th>free sulfur dioxide</th>\n",
       "      <th>total sulfur dioxide</th>\n",
       "      <th>density</th>\n",
       "      <th>pH</th>\n",
       "      <th>sulphates</th>\n",
       "      <th>alcohol</th>\n",
       "      <th>quality</th>\n",
       "    </tr>\n",
       "  </thead>\n",
       "  <tbody>\n",
       "    <tr>\n",
       "      <th>798</th>\n",
       "      <td>9.4</td>\n",
       "      <td>0.50</td>\n",
       "      <td>0.34</td>\n",
       "      <td>3.6</td>\n",
       "      <td>0.082</td>\n",
       "      <td>5.0</td>\n",
       "      <td>14.0</td>\n",
       "      <td>0.99870</td>\n",
       "      <td>3.29</td>\n",
       "      <td>0.52</td>\n",
       "      <td>10.7</td>\n",
       "      <td>6</td>\n",
       "    </tr>\n",
       "    <tr>\n",
       "      <th>688</th>\n",
       "      <td>7.7</td>\n",
       "      <td>0.66</td>\n",
       "      <td>0.04</td>\n",
       "      <td>1.6</td>\n",
       "      <td>0.039</td>\n",
       "      <td>4.0</td>\n",
       "      <td>9.0</td>\n",
       "      <td>0.99620</td>\n",
       "      <td>3.40</td>\n",
       "      <td>0.47</td>\n",
       "      <td>9.4</td>\n",
       "      <td>5</td>\n",
       "    </tr>\n",
       "    <tr>\n",
       "      <th>1361</th>\n",
       "      <td>8.3</td>\n",
       "      <td>0.85</td>\n",
       "      <td>0.14</td>\n",
       "      <td>2.5</td>\n",
       "      <td>0.093</td>\n",
       "      <td>13.0</td>\n",
       "      <td>54.0</td>\n",
       "      <td>0.99724</td>\n",
       "      <td>3.36</td>\n",
       "      <td>0.54</td>\n",
       "      <td>10.1</td>\n",
       "      <td>5</td>\n",
       "    </tr>\n",
       "    <tr>\n",
       "      <th>1389</th>\n",
       "      <td>6.7</td>\n",
       "      <td>0.48</td>\n",
       "      <td>0.02</td>\n",
       "      <td>2.2</td>\n",
       "      <td>0.080</td>\n",
       "      <td>36.0</td>\n",
       "      <td>111.0</td>\n",
       "      <td>0.99524</td>\n",
       "      <td>3.10</td>\n",
       "      <td>0.53</td>\n",
       "      <td>9.7</td>\n",
       "      <td>5</td>\n",
       "    </tr>\n",
       "    <tr>\n",
       "      <th>194</th>\n",
       "      <td>7.6</td>\n",
       "      <td>0.55</td>\n",
       "      <td>0.21</td>\n",
       "      <td>2.2</td>\n",
       "      <td>0.071</td>\n",
       "      <td>7.0</td>\n",
       "      <td>28.0</td>\n",
       "      <td>0.99640</td>\n",
       "      <td>3.28</td>\n",
       "      <td>0.55</td>\n",
       "      <td>9.7</td>\n",
       "      <td>5</td>\n",
       "    </tr>\n",
       "  </tbody>\n",
       "</table>\n",
       "</div>"
      ],
      "text/plain": [
       "      fixed acidity  volatile acidity  citric acid  residual sugar  chlorides  \\\n",
       "798             9.4              0.50         0.34             3.6      0.082   \n",
       "688             7.7              0.66         0.04             1.6      0.039   \n",
       "1361            8.3              0.85         0.14             2.5      0.093   \n",
       "1389            6.7              0.48         0.02             2.2      0.080   \n",
       "194             7.6              0.55         0.21             2.2      0.071   \n",
       "\n",
       "      free sulfur dioxide  total sulfur dioxide  density    pH  sulphates  \\\n",
       "798                   5.0                  14.0  0.99870  3.29       0.52   \n",
       "688                   4.0                   9.0  0.99620  3.40       0.47   \n",
       "1361                 13.0                  54.0  0.99724  3.36       0.54   \n",
       "1389                 36.0                 111.0  0.99524  3.10       0.53   \n",
       "194                   7.0                  28.0  0.99640  3.28       0.55   \n",
       "\n",
       "      alcohol  quality  \n",
       "798      10.7        6  \n",
       "688       9.4        5  \n",
       "1361     10.1        5  \n",
       "1389      9.7        5  \n",
       "194       9.7        5  "
      ]
     },
     "execution_count": 8,
     "metadata": {},
     "output_type": "execute_result"
    }
   ],
   "source": [
    "# Revisamos rápidamente los datos para tener una primera aproximación visual de nuestra base de datos\n",
    "df.sample(5, random_state=14173)"
   ]
  },
  {
   "cell_type": "code",
   "execution_count": 9,
   "metadata": {},
   "outputs": [
    {
     "data": {
      "text/plain": [
       "(1599, 12)"
      ]
     },
     "execution_count": 9,
     "metadata": {},
     "output_type": "execute_result"
    }
   ],
   "source": [
    "# Revisamos las dimensiones de la base de datos\n",
    "df.shape"
   ]
  },
  {
   "cell_type": "markdown",
   "metadata": {},
   "source": [
    "<div style='color: #004085; background-color: #cce5ff;border-color: #b8daff;border-radius: .25rem;padding: .75rem 1.25rem;'>\n",
    "La base de datos se compone de 1599 observaciones con 12 atributos, dentro de los cuales se encuentra nuestra variable objetivo (quality). Mediante df.info() pudimos observar que todas las variables son numéricas y que <strong>no</strong> presentan valores perdidos, por lo tanto podemos comenzar a pensar en aplicar nuestro modelo sin problemas de este tipo.<br><br>\n",
    "De todas manera revisaremos visualmente que no tenemos datos perdidos.\n",
    "</div>"
   ]
  },
  {
   "cell_type": "code",
   "execution_count": 10,
   "metadata": {},
   "outputs": [
    {
     "data": {
      "text/plain": [
       "<matplotlib.axes._subplots.AxesSubplot at 0x123e68910>"
      ]
     },
     "execution_count": 10,
     "metadata": {},
     "output_type": "execute_result"
    },
    {
     "data": {
      "image/png": "[encoded data removed]",
      "text/plain": [
       "<Figure size 1800x720 with 2 Axes>"
      ]
     },
     "metadata": {},
     "output_type": "display_data"
    }
   ],
   "source": [
    "msngo.matrix(df)"
   ]
  },
  {
   "cell_type": "markdown",
   "metadata": {},
   "source": [
    "___\n",
    "* Identifique outliers univariados y multivariados. Los primeros los puede encontrar realizando boxplots de cada atributo, los segundos estudiando los scatterplot entre pares de atributos."
   ]
  },
  {
   "cell_type": "markdown",
   "metadata": {},
   "source": [
    "#### Análisis Univariado:"
   ]
  },
  {
   "cell_type": "code",
   "execution_count": 11,
   "metadata": {},
   "outputs": [
    {
     "data": {
      "text/html": [
       "<div>\n",
       "<style scoped>\n",
       "    .dataframe tbody tr th:only-of-type {\n",
       "        vertical-align: middle;\n",
       "    }\n",
       "\n",
       "    .dataframe tbody tr th {\n",
       "        vertical-align: top;\n",
       "    }\n",
       "\n",
       "    .dataframe thead th {\n",
       "        text-align: right;\n",
       "    }\n",
       "</style>\n",
       "<table border=\"1\" class=\"dataframe\">\n",
       "  <thead>\n",
       "    <tr style=\"text-align: right;\">\n",
       "      <th></th>\n",
       "      <th>fixed acidity</th>\n",
       "      <th>volatile acidity</th>\n",
       "      <th>citric acid</th>\n",
       "      <th>residual sugar</th>\n",
       "      <th>chlorides</th>\n",
       "      <th>free sulfur dioxide</th>\n",
       "      <th>total sulfur dioxide</th>\n",
       "      <th>density</th>\n",
       "      <th>pH</th>\n",
       "      <th>sulphates</th>\n",
       "      <th>alcohol</th>\n",
       "      <th>quality</th>\n",
       "    </tr>\n",
       "  </thead>\n",
       "  <tbody>\n",
       "    <tr>\n",
       "      <th>count</th>\n",
       "      <td>1599.000000</td>\n",
       "      <td>1599.000000</td>\n",
       "      <td>1599.000000</td>\n",
       "      <td>1599.000000</td>\n",
       "      <td>1599.000000</td>\n",
       "      <td>1599.000000</td>\n",
       "      <td>1599.000000</td>\n",
       "      <td>1599.000000</td>\n",
       "      <td>1599.000000</td>\n",
       "      <td>1599.000000</td>\n",
       "      <td>1599.000000</td>\n",
       "      <td>1599.000000</td>\n",
       "    </tr>\n",
       "    <tr>\n",
       "      <th>mean</th>\n",
       "      <td>8.319637</td>\n",
       "      <td>0.527821</td>\n",
       "      <td>0.270976</td>\n",
       "      <td>2.538806</td>\n",
       "      <td>0.087467</td>\n",
       "      <td>15.874922</td>\n",
       "      <td>46.467792</td>\n",
       "      <td>0.996747</td>\n",
       "      <td>3.311113</td>\n",
       "      <td>0.658149</td>\n",
       "      <td>10.422983</td>\n",
       "      <td>5.636023</td>\n",
       "    </tr>\n",
       "    <tr>\n",
       "      <th>std</th>\n",
       "      <td>1.741096</td>\n",
       "      <td>0.179060</td>\n",
       "      <td>0.194801</td>\n",
       "      <td>1.409928</td>\n",
       "      <td>0.047065</td>\n",
       "      <td>10.460157</td>\n",
       "      <td>32.895324</td>\n",
       "      <td>0.001887</td>\n",
       "      <td>0.154386</td>\n",
       "      <td>0.169507</td>\n",
       "      <td>1.065668</td>\n",
       "      <td>0.807569</td>\n",
       "    </tr>\n",
       "    <tr>\n",
       "      <th>min</th>\n",
       "      <td>4.600000</td>\n",
       "      <td>0.120000</td>\n",
       "      <td>0.000000</td>\n",
       "      <td>0.900000</td>\n",
       "      <td>0.012000</td>\n",
       "      <td>1.000000</td>\n",
       "      <td>6.000000</td>\n",
       "      <td>0.990070</td>\n",
       "      <td>2.740000</td>\n",
       "      <td>0.330000</td>\n",
       "      <td>8.400000</td>\n",
       "      <td>3.000000</td>\n",
       "    </tr>\n",
       "    <tr>\n",
       "      <th>25%</th>\n",
       "      <td>7.100000</td>\n",
       "      <td>0.390000</td>\n",
       "      <td>0.090000</td>\n",
       "      <td>1.900000</td>\n",
       "      <td>0.070000</td>\n",
       "      <td>7.000000</td>\n",
       "      <td>22.000000</td>\n",
       "      <td>0.995600</td>\n",
       "      <td>3.210000</td>\n",
       "      <td>0.550000</td>\n",
       "      <td>9.500000</td>\n",
       "      <td>5.000000</td>\n",
       "    </tr>\n",
       "    <tr>\n",
       "      <th>50%</th>\n",
       "      <td>7.900000</td>\n",
       "      <td>0.520000</td>\n",
       "      <td>0.260000</td>\n",
       "      <td>2.200000</td>\n",
       "      <td>0.079000</td>\n",
       "      <td>14.000000</td>\n",
       "      <td>38.000000</td>\n",
       "      <td>0.996750</td>\n",
       "      <td>3.310000</td>\n",
       "      <td>0.620000</td>\n",
       "      <td>10.200000</td>\n",
       "      <td>6.000000</td>\n",
       "    </tr>\n",
       "    <tr>\n",
       "      <th>75%</th>\n",
       "      <td>9.200000</td>\n",
       "      <td>0.640000</td>\n",
       "      <td>0.420000</td>\n",
       "      <td>2.600000</td>\n",
       "      <td>0.090000</td>\n",
       "      <td>21.000000</td>\n",
       "      <td>62.000000</td>\n",
       "      <td>0.997835</td>\n",
       "      <td>3.400000</td>\n",
       "      <td>0.730000</td>\n",
       "      <td>11.100000</td>\n",
       "      <td>6.000000</td>\n",
       "    </tr>\n",
       "    <tr>\n",
       "      <th>max</th>\n",
       "      <td>15.900000</td>\n",
       "      <td>1.580000</td>\n",
       "      <td>1.000000</td>\n",
       "      <td>15.500000</td>\n",
       "      <td>0.611000</td>\n",
       "      <td>72.000000</td>\n",
       "      <td>289.000000</td>\n",
       "      <td>1.003690</td>\n",
       "      <td>4.010000</td>\n",
       "      <td>2.000000</td>\n",
       "      <td>14.900000</td>\n",
       "      <td>8.000000</td>\n",
       "    </tr>\n",
       "  </tbody>\n",
       "</table>\n",
       "</div>"
      ],
      "text/plain": [
       "       fixed acidity  volatile acidity  citric acid  residual sugar  \\\n",
       "count    1599.000000       1599.000000  1599.000000     1599.000000   \n",
       "mean        8.319637          0.527821     0.270976        2.538806   \n",
       "std         1.741096          0.179060     0.194801        1.409928   \n",
       "min         4.600000          0.120000     0.000000        0.900000   \n",
       "25%         7.100000          0.390000     0.090000        1.900000   \n",
       "50%         7.900000          0.520000     0.260000        2.200000   \n",
       "75%         9.200000          0.640000     0.420000        2.600000   \n",
       "max        15.900000          1.580000     1.000000       15.500000   \n",
       "\n",
       "         chlorides  free sulfur dioxide  total sulfur dioxide      density  \\\n",
       "count  1599.000000          1599.000000           1599.000000  1599.000000   \n",
       "mean      0.087467            15.874922             46.467792     0.996747   \n",
       "std       0.047065            10.460157             32.895324     0.001887   \n",
       "min       0.012000             1.000000              6.000000     0.990070   \n",
       "25%       0.070000             7.000000             22.000000     0.995600   \n",
       "50%       0.079000            14.000000             38.000000     0.996750   \n",
       "75%       0.090000            21.000000             62.000000     0.997835   \n",
       "max       0.611000            72.000000            289.000000     1.003690   \n",
       "\n",
       "                pH    sulphates      alcohol      quality  \n",
       "count  1599.000000  1599.000000  1599.000000  1599.000000  \n",
       "mean      3.311113     0.658149    10.422983     5.636023  \n",
       "std       0.154386     0.169507     1.065668     0.807569  \n",
       "min       2.740000     0.330000     8.400000     3.000000  \n",
       "25%       3.210000     0.550000     9.500000     5.000000  \n",
       "50%       3.310000     0.620000    10.200000     6.000000  \n",
       "75%       3.400000     0.730000    11.100000     6.000000  \n",
       "max       4.010000     2.000000    14.900000     8.000000  "
      ]
     },
     "execution_count": 11,
     "metadata": {},
     "output_type": "execute_result"
    }
   ],
   "source": [
    "df.describe()"
   ]
  },
  {
   "cell_type": "markdown",
   "metadata": {},
   "source": [
    "<div style='color: #004085; background-color: #cce5ff;border-color: #b8daff;border-radius: .25rem;padding: .75rem 1.25rem;'>\n",
    "Revisamos valores que se escapan de los límites inferior (Q1-1.5RIC) y superior (Q3+1.5RIC)\n",
    "</div>"
   ]
  },
  {
   "cell_type": "code",
   "execution_count": 12,
   "metadata": {},
   "outputs": [
    {
     "data": {
      "image/png": "[encoded data removed]",
      "text/plain": [
       "<Figure size 1080x720 with 12 Axes>"
      ]
     },
     "metadata": {},
     "output_type": "display_data"
    }
   ],
   "source": [
    "afx.display_boxplot(df, df.columns)"
   ]
  },
  {
   "cell_type": "markdown",
   "metadata": {},
   "source": [
    "<div style='color: #004085; background-color: #cce5ff;border-color: #b8daff;border-radius: .25rem;padding: .75rem 1.25rem;'>\n",
    "    Todos los atributos presentan datos atípicos (outliers), revisaremos el porcentaje de datos atípicos por cada variable con nuestra función disponible en <strong>ancilliary_funcs</strong> y se observa que los atributos <strong>[residual sugar]</strong> y <strong>[chlorides]</strong> son los que presentan mayor porcentaje de datos atípicos.<br><br>\n",
    "</div>"
   ]
  },
  {
   "cell_type": "code",
   "execution_count": 13,
   "metadata": {},
   "outputs": [
    {
     "data": {
      "text/html": [
       "<div>\n",
       "<style scoped>\n",
       "    .dataframe tbody tr th:only-of-type {\n",
       "        vertical-align: middle;\n",
       "    }\n",
       "\n",
       "    .dataframe tbody tr th {\n",
       "        vertical-align: top;\n",
       "    }\n",
       "\n",
       "    .dataframe thead th {\n",
       "        text-align: right;\n",
       "    }\n",
       "</style>\n",
       "<table border=\"1\" class=\"dataframe\">\n",
       "  <thead>\n",
       "    <tr style=\"text-align: right;\">\n",
       "      <th></th>\n",
       "      <th>Variable</th>\n",
       "      <th>count</th>\n",
       "      <th>outliers</th>\n",
       "      <th>outliers %</th>\n",
       "    </tr>\n",
       "  </thead>\n",
       "  <tbody>\n",
       "    <tr>\n",
       "      <th>0</th>\n",
       "      <td>fixed acidity</td>\n",
       "      <td>1599</td>\n",
       "      <td>49</td>\n",
       "      <td>3.06</td>\n",
       "    </tr>\n",
       "    <tr>\n",
       "      <th>1</th>\n",
       "      <td>volatile acidity</td>\n",
       "      <td>1599</td>\n",
       "      <td>19</td>\n",
       "      <td>1.19</td>\n",
       "    </tr>\n",
       "    <tr>\n",
       "      <th>2</th>\n",
       "      <td>citric acid</td>\n",
       "      <td>1599</td>\n",
       "      <td>1</td>\n",
       "      <td>0.06</td>\n",
       "    </tr>\n",
       "    <tr>\n",
       "      <th>3</th>\n",
       "      <td>residual sugar</td>\n",
       "      <td>1599</td>\n",
       "      <td>155</td>\n",
       "      <td>9.69</td>\n",
       "    </tr>\n",
       "    <tr>\n",
       "      <th>4</th>\n",
       "      <td>chlorides</td>\n",
       "      <td>1599</td>\n",
       "      <td>112</td>\n",
       "      <td>7.00</td>\n",
       "    </tr>\n",
       "    <tr>\n",
       "      <th>5</th>\n",
       "      <td>free sulfur dioxide</td>\n",
       "      <td>1599</td>\n",
       "      <td>30</td>\n",
       "      <td>1.88</td>\n",
       "    </tr>\n",
       "    <tr>\n",
       "      <th>6</th>\n",
       "      <td>total sulfur dioxide</td>\n",
       "      <td>1599</td>\n",
       "      <td>55</td>\n",
       "      <td>3.44</td>\n",
       "    </tr>\n",
       "    <tr>\n",
       "      <th>7</th>\n",
       "      <td>density</td>\n",
       "      <td>1599</td>\n",
       "      <td>45</td>\n",
       "      <td>2.81</td>\n",
       "    </tr>\n",
       "    <tr>\n",
       "      <th>8</th>\n",
       "      <td>pH</td>\n",
       "      <td>1599</td>\n",
       "      <td>35</td>\n",
       "      <td>2.19</td>\n",
       "    </tr>\n",
       "    <tr>\n",
       "      <th>9</th>\n",
       "      <td>sulphates</td>\n",
       "      <td>1599</td>\n",
       "      <td>59</td>\n",
       "      <td>3.69</td>\n",
       "    </tr>\n",
       "    <tr>\n",
       "      <th>10</th>\n",
       "      <td>alcohol</td>\n",
       "      <td>1599</td>\n",
       "      <td>13</td>\n",
       "      <td>0.81</td>\n",
       "    </tr>\n",
       "    <tr>\n",
       "      <th>11</th>\n",
       "      <td>quality</td>\n",
       "      <td>1599</td>\n",
       "      <td>28</td>\n",
       "      <td>1.75</td>\n",
       "    </tr>\n",
       "  </tbody>\n",
       "</table>\n",
       "</div>"
      ],
      "text/plain": [
       "                Variable  count  outliers  outliers %\n",
       "0          fixed acidity   1599        49        3.06\n",
       "1       volatile acidity   1599        19        1.19\n",
       "2            citric acid   1599         1        0.06\n",
       "3         residual sugar   1599       155        9.69\n",
       "4              chlorides   1599       112        7.00\n",
       "5    free sulfur dioxide   1599        30        1.88\n",
       "6   total sulfur dioxide   1599        55        3.44\n",
       "7                density   1599        45        2.81\n",
       "8                     pH   1599        35        2.19\n",
       "9              sulphates   1599        59        3.69\n",
       "10               alcohol   1599        13        0.81\n",
       "11               quality   1599        28        1.75"
      ]
     },
     "execution_count": 13,
     "metadata": {},
     "output_type": "execute_result"
    }
   ],
   "source": [
    "afx.display_outliers(df)"
   ]
  },
  {
   "cell_type": "markdown",
   "metadata": {},
   "source": [
    "<div style='color: #854000; background-color: #ffe5e5;border-color: #ffdaff;border-radius: .25rem;padding: .75rem 1.25rem;'>\n",
    "Dado que no hemos abordado en el curso como tratar los datos atípicos, vamos a dejar nuestra base tal como está.\n",
    "</div>"
   ]
  },
  {
   "cell_type": "markdown",
   "metadata": {},
   "source": [
    "#### Análisis Bi-Variado:"
   ]
  },
  {
   "cell_type": "markdown",
   "metadata": {},
   "source": [
    "<div style='color: #004085; background-color: #cce5ff;border-color: #b8daff;border-radius: .25rem;padding: .75rem 1.25rem;'>\n",
    "Revisamos la relación de nuestros atributos con nuestra variable objetivo (quality).\n",
    "</div>"
   ]
  },
  {
   "cell_type": "markdown",
   "metadata": {},
   "source": [
    "<div style='color: #004085; background-color: #cce5ff;border-color: #b8daff;border-radius: .25rem;padding: .75rem 1.25rem;'>\n",
    "Vamos a separar nuestro análisis en dos grupos para poder visualizar mejor los gráficos. Tomaremos los primeros 6 atributos y graficaremos mediante <strong>pairplot</strong> de <strong>seaborn</strong> un diagrama de dispersión para ver como se relacionan los atributos con nuestra variable <strong>quality</strong>.\n",
    "</div>"
   ]
  },
  {
   "cell_type": "code",
   "execution_count": 14,
   "metadata": {
    "scrolled": false
   },
   "outputs": [
    {
     "data": {
      "text/plain": [
       "<seaborn.axisgrid.PairGrid at 0x1237f9c10>"
      ]
     },
     "execution_count": 14,
     "metadata": {},
     "output_type": "execute_result"
    },
    {
     "data": {
      "text/plain": [
       "<Figure size 1080x720 with 0 Axes>"
      ]
     },
     "metadata": {},
     "output_type": "display_data"
    },
    {
     "data": {
      "image/png": "[encoded data removed]",
      "text/plain": [
       "<Figure size 1121.62x180 with 6 Axes>"
      ]
     },
     "metadata": {},
     "output_type": "display_data"
    }
   ],
   "source": [
    "var_gx_1 = [x for i, x in enumerate(df.columns) if i <=5]\n",
    "plt.figure(figsize=(15,10))\n",
    "sns.pairplot(df, y_vars=['quality'], x_vars=var_gx_1, hue='quality')"
   ]
  },
  {
   "cell_type": "markdown",
   "metadata": {},
   "source": [
    "<div style='color: #004085; background-color: #cce5ff;border-color: #b8daff;border-radius: .25rem;padding: .75rem 1.25rem;'>\n",
    "Ahora tomaremos los 5 atributos restantes y graficaremos mediante <strong>pairplot</strong> de <strong>seaborn</strong> un diagrama de dispersión.\n",
    "</div>"
   ]
  },
  {
   "cell_type": "code",
   "execution_count": 15,
   "metadata": {},
   "outputs": [
    {
     "data": {
      "text/plain": [
       "<seaborn.axisgrid.PairGrid at 0x108adba90>"
      ]
     },
     "execution_count": 15,
     "metadata": {},
     "output_type": "execute_result"
    },
    {
     "data": {
      "text/plain": [
       "<Figure size 1080x720 with 0 Axes>"
      ]
     },
     "metadata": {},
     "output_type": "display_data"
    },
    {
     "data": {
      "image/png": "[encoded data removed]",
      "text/plain": [
       "<Figure size 941.625x180 with 5 Axes>"
      ]
     },
     "metadata": {},
     "output_type": "display_data"
    }
   ],
   "source": [
    "var_gx_2 = [x for i, x in enumerate(df.columns) if i > 5 and i < len(df.columns)-1]\n",
    "plt.figure(figsize=(15,10))\n",
    "sns.pairplot(df, y_vars=['quality'], x_vars=var_gx_2, diag_kind='kde', hue='quality')"
   ]
  },
  {
   "cell_type": "markdown",
   "metadata": {},
   "source": [
    "<div style='color: #004085; background-color: #cce5ff;border-color: #b8daff;border-radius: .25rem;padding: .75rem 1.25rem;'>\n",
    "    Visualmente podemos ver que todas las relaciones de atributos/quality presentan datos atípicos (outliers), que se escapan de la concentración de los datos.\n",
    "</div>"
   ]
  },
  {
   "cell_type": "markdown",
   "metadata": {},
   "source": [
    "<div style='color: #854000; background-color: #ffe5e5;border-color: #ffdaff;border-radius: .25rem;padding: .75rem 1.25rem;'>\n",
    "Dado que no hemos abordado en el curso como tratar los datos atípicos, vamos a dejar nuestra base tal como está.\n",
    "</div>"
   ]
  },
  {
   "cell_type": "markdown",
   "metadata": {},
   "source": [
    "## Ejercicio 3: Regularización de modelos\n",
    "\n",
    "* Genere tres modelos, correspondientes a `RidgeCV` , `LassoCV` y `ElasticNetCV` . Para cada uno de ellos implemente los siguientes pasos:\n",
    "\n",
    "* Entrene los modelos con 10 validaciones cruzadas.\n",
    "* Extraiga los coeficientes estimados, el mejor valor alpha, MAE ( median_absolute_error ) y RMSE ( mean_squared_error ) asociado a cada modelo.\n",
    "* En base a la información solicitada, responda lo siguiente:\n",
    "* ¿Qué modelo presenta un mejor desempeño en base a las métricas?\n",
    "* ¿Qué atributos mantienen un comportamiento similar a lo largo de cada modelo?\n",
    "\n",
    "### Sobre los métodos `RidgeCV` , `LassoCV` y `ElasticNetCV`\n",
    "\n",
    "* Para implementar la búsqueda de hiperparámetros con validación cruzada, utilizaremos la clase sklearn.linear_model.{RidgeCV, LassoCV, ElasticNetCV}.\n",
    "* Por defecto, la clase necesita de una lista de valores `alphas` que representa el hiperparámetro de validación. Si no se define la lista, el método incorporará un array con valores por defecto.\n",
    "* Por defecto la clase tendrá una opción scoring que permitirá definir la métrica con la cual se evaluará el mejor hiperparámetro. Para el caso de un problema de regresión, si no se define, la métrica será el error cuadrático promedio negativo (más alto es mejor).\n",
    "* Una vez entrenado el modelo, se puede reportar el mejor alpha con `modelo_entrenado.alpha_`, el valor de los coeficientes con `modelo_entrenado.coef_` y los valores de la métrica de desempeño con `modelo_entrenado.cv_values_` (mse_path_)."
   ]
  },
  {
   "cell_type": "markdown",
   "metadata": {},
   "source": [
    "<div style='color: #004085; background-color: #cce5ff;border-color: #b8daff;border-radius: .25rem;padding: .75rem 1.25rem;'>\n",
    "Cómo ya sabemos, los métodos de regularización son sensibles a las escalas de las variables ingresadas, por lo tanto aplicaremos una estandarización a nuestra base de datos:\n",
    "</div>"
   ]
  },
  {
   "cell_type": "code",
   "execution_count": 16,
   "metadata": {},
   "outputs": [],
   "source": [
    "scaler = StandardScaler()\n",
    "df_scaled = pd.DataFrame(scaler.fit_transform(df), columns=df.columns)"
   ]
  },
  {
   "cell_type": "code",
   "execution_count": 17,
   "metadata": {},
   "outputs": [],
   "source": [
    "# Mantenemos nuestro vector objetivo tal cual viene en nuestra base\n",
    "df_scaled['quality'] = df['quality']"
   ]
  },
  {
   "cell_type": "markdown",
   "metadata": {},
   "source": [
    "<div style='color: #004085; background-color: #cce5ff;border-color: #b8daff;border-radius: .25rem;padding: .75rem 1.25rem;'>\n",
    "Separamos nuestra base en datos para <strong>entrenamiento</strong> y <strong>validación</strong>, utilizaremos un 33% de la data para validar y el resto para el entrenamiento.\n",
    "</div>"
   ]
  },
  {
   "cell_type": "code",
   "execution_count": 18,
   "metadata": {},
   "outputs": [],
   "source": [
    "# Generamos nuestra matriz de atributos (variables independientes)\n",
    "X = df_scaled.drop(columns='quality')\n",
    "# aislamos el vector objetivo\n",
    "y = df_scaled['quality']\n",
    "# Procedemos a separar los datos para test y entrenamiento\n",
    "X_train, X_test, y_train, y_test = train_test_split(X, y, test_size = .33, random_state=14173)"
   ]
  },
  {
   "cell_type": "markdown",
   "metadata": {},
   "source": [
    "___\n",
    "### RidgeCV"
   ]
  },
  {
   "cell_type": "code",
   "execution_count": 19,
   "metadata": {},
   "outputs": [],
   "source": [
    "# Defino los alphas para la regularización\n",
    "alphas_ = np.logspace(0, 7, base = 10, num=4)\n",
    "# Genero un modelo con 10 validaciones cruzadas y los alphas_ generados\n",
    "ridge_cv = RidgeCV(cv = 10, alphas=alphas_)\n",
    "# Entreno el modelo\n",
    "model_ridge = ridge_cv.fit(X_train, y_train)"
   ]
  },
  {
   "cell_type": "code",
   "execution_count": 20,
   "metadata": {},
   "outputs": [
    {
     "name": "stdout",
     "output_type": "stream",
     "text": [
      "Valor del parámetro de regularización: 1.0\n",
      "\n",
      "Coeficientes finales: \n",
      "fixed acidity           0.090145\n",
      "volatile acidity       -0.206678\n",
      "citric acid            -0.063373\n",
      "residual sugar          0.042638\n",
      "chlorides              -0.094362\n",
      "free sulfur dioxide     0.025202\n",
      "total sulfur dioxide   -0.095561\n",
      "density                -0.070666\n",
      "pH                     -0.041966\n",
      "sulphates               0.165201\n",
      "alcohol                 0.275239\n",
      "dtype: float64\n",
      "\n",
      "Error Cuadrático Medio:\n",
      "0.4145\n",
      "\n",
      "Error Medio Absoluto:\n",
      "0.381\n",
      "\n",
      "R cuadrado:\n",
      "0.35\n"
     ]
    }
   ],
   "source": [
    "# Función auxiliar que genera un reporte de regularización\n",
    "afx.report_regularization(model_ridge, X_test, y_test)"
   ]
  },
  {
   "cell_type": "markdown",
   "metadata": {},
   "source": [
    "___\n",
    "### LassoCV"
   ]
  },
  {
   "cell_type": "code",
   "execution_count": 21,
   "metadata": {},
   "outputs": [],
   "source": [
    "# Defino los alphas para la regularización\n",
    "alphas_ = np.logspace(0, -3, base = 10, num=4)\n",
    "# Genero un modelo con 10 validaciones cruzadas y los alphas_ generados\n",
    "lasso_cv = LassoCV(cv = 10, alphas=alphas_)\n",
    "# Entreno el modelo\n",
    "model_lasso = lasso_cv.fit(X_train, y_train)"
   ]
  },
  {
   "cell_type": "code",
   "execution_count": 22,
   "metadata": {},
   "outputs": [
    {
     "name": "stdout",
     "output_type": "stream",
     "text": [
      "Valor del parámetro de regularización: 0.001\n",
      "\n",
      "Coeficientes finales: \n",
      "fixed acidity           0.081318\n",
      "volatile acidity       -0.205551\n",
      "citric acid            -0.058651\n",
      "residual sugar          0.039137\n",
      "chlorides              -0.093825\n",
      "free sulfur dioxide     0.023017\n",
      "total sulfur dioxide   -0.093848\n",
      "density                -0.063238\n",
      "pH                     -0.043058\n",
      "sulphates               0.162923\n",
      "alcohol                 0.278303\n",
      "dtype: float64\n",
      "\n",
      "Valores de la métrica de desempeño (mse) de CV:\n"
     ]
    },
    {
     "data": {
      "text/html": [
       "<div>\n",
       "<style scoped>\n",
       "    .dataframe tbody tr th:only-of-type {\n",
       "        vertical-align: middle;\n",
       "    }\n",
       "\n",
       "    .dataframe tbody tr th {\n",
       "        vertical-align: top;\n",
       "    }\n",
       "\n",
       "    .dataframe thead th {\n",
       "        text-align: right;\n",
       "    }\n",
       "</style>\n",
       "<table border=\"1\" class=\"dataframe\">\n",
       "  <thead>\n",
       "    <tr style=\"text-align: right;\">\n",
       "      <th></th>\n",
       "      <th>cv_1</th>\n",
       "      <th>cv_2</th>\n",
       "      <th>cv_3</th>\n",
       "      <th>cv_4</th>\n",
       "      <th>cv_5</th>\n",
       "      <th>cv_6</th>\n",
       "      <th>cv_7</th>\n",
       "      <th>cv_8</th>\n",
       "      <th>cv_9</th>\n",
       "      <th>cv_10</th>\n",
       "    </tr>\n",
       "  </thead>\n",
       "  <tbody>\n",
       "    <tr>\n",
       "      <th>alpha_1.0</th>\n",
       "      <td>0.675237</td>\n",
       "      <td>0.750982</td>\n",
       "      <td>0.683031</td>\n",
       "      <td>0.595101</td>\n",
       "      <td>0.659540</td>\n",
       "      <td>0.598377</td>\n",
       "      <td>0.682865</td>\n",
       "      <td>0.738677</td>\n",
       "      <td>0.485269</td>\n",
       "      <td>0.747822</td>\n",
       "    </tr>\n",
       "    <tr>\n",
       "      <th>alpha_0.1</th>\n",
       "      <td>0.522709</td>\n",
       "      <td>0.531798</td>\n",
       "      <td>0.526036</td>\n",
       "      <td>0.414153</td>\n",
       "      <td>0.400779</td>\n",
       "      <td>0.421463</td>\n",
       "      <td>0.486668</td>\n",
       "      <td>0.477627</td>\n",
       "      <td>0.306285</td>\n",
       "      <td>0.543165</td>\n",
       "    </tr>\n",
       "    <tr>\n",
       "      <th>alpha_0.01</th>\n",
       "      <td>0.487257</td>\n",
       "      <td>0.473984</td>\n",
       "      <td>0.513429</td>\n",
       "      <td>0.383710</td>\n",
       "      <td>0.357762</td>\n",
       "      <td>0.399856</td>\n",
       "      <td>0.467271</td>\n",
       "      <td>0.417503</td>\n",
       "      <td>0.300069</td>\n",
       "      <td>0.516197</td>\n",
       "    </tr>\n",
       "    <tr>\n",
       "      <th>alpha_0.001</th>\n",
       "      <td>0.484693</td>\n",
       "      <td>0.469767</td>\n",
       "      <td>0.515541</td>\n",
       "      <td>0.387313</td>\n",
       "      <td>0.359407</td>\n",
       "      <td>0.394006</td>\n",
       "      <td>0.466109</td>\n",
       "      <td>0.413706</td>\n",
       "      <td>0.300120</td>\n",
       "      <td>0.512644</td>\n",
       "    </tr>\n",
       "  </tbody>\n",
       "</table>\n",
       "</div>"
      ],
      "text/plain": [
       "                 cv_1      cv_2      cv_3      cv_4      cv_5      cv_6  \\\n",
       "alpha_1.0    0.675237  0.750982  0.683031  0.595101  0.659540  0.598377   \n",
       "alpha_0.1    0.522709  0.531798  0.526036  0.414153  0.400779  0.421463   \n",
       "alpha_0.01   0.487257  0.473984  0.513429  0.383710  0.357762  0.399856   \n",
       "alpha_0.001  0.484693  0.469767  0.515541  0.387313  0.359407  0.394006   \n",
       "\n",
       "                 cv_7      cv_8      cv_9     cv_10  \n",
       "alpha_1.0    0.682865  0.738677  0.485269  0.747822  \n",
       "alpha_0.1    0.486668  0.477627  0.306285  0.543165  \n",
       "alpha_0.01   0.467271  0.417503  0.300069  0.516197  \n",
       "alpha_0.001  0.466109  0.413706  0.300120  0.512644  "
      ]
     },
     "metadata": {},
     "output_type": "display_data"
    },
    {
     "name": "stdout",
     "output_type": "stream",
     "text": [
      "Error Cuadrático Medio:\n",
      "0.414\n",
      "\n",
      "Error Medio Absoluto:\n",
      "0.3816\n",
      "\n",
      "R cuadrado:\n",
      "0.35\n"
     ]
    }
   ],
   "source": [
    "# Función auxiliar que genera un reporte de regularización\n",
    "afx.report_regularization(model_lasso, X_test, y_test, show_mse_cv = True)"
   ]
  },
  {
   "cell_type": "markdown",
   "metadata": {},
   "source": [
    "___\n",
    "### ElasticNetCV"
   ]
  },
  {
   "cell_type": "code",
   "execution_count": 23,
   "metadata": {},
   "outputs": [],
   "source": [
    "# Defino los alphas para la regularización\n",
    "alphas_ = np.logspace(0, -3, base = 10, num=4)\n",
    "# Genero un modelo con 10 validaciones cruzadas y los alphas_ generados\n",
    "elastic_cv = ElasticNetCV(cv = 10, alphas=alphas_)\n",
    "# Entreno el modelo\n",
    "model_elastic = elastic_cv.fit(X_train, y_train)"
   ]
  },
  {
   "cell_type": "code",
   "execution_count": 24,
   "metadata": {},
   "outputs": [
    {
     "name": "stdout",
     "output_type": "stream",
     "text": [
      "Valor del parámetro de regularización: 0.001\n",
      "\n",
      "Coeficientes finales: \n",
      "fixed acidity           0.085766\n",
      "volatile acidity       -0.206104\n",
      "citric acid            -0.060998\n",
      "residual sugar          0.040898\n",
      "chlorides              -0.094090\n",
      "free sulfur dioxide     0.024106\n",
      "total sulfur dioxide   -0.094701\n",
      "density                -0.066992\n",
      "pH                     -0.042486\n",
      "sulphates               0.164061\n",
      "alcohol                 0.276739\n",
      "dtype: float64\n",
      "\n",
      "Valores de la métrica de desempeño (mse) de CV:\n"
     ]
    },
    {
     "data": {
      "text/html": [
       "<div>\n",
       "<style scoped>\n",
       "    .dataframe tbody tr th:only-of-type {\n",
       "        vertical-align: middle;\n",
       "    }\n",
       "\n",
       "    .dataframe tbody tr th {\n",
       "        vertical-align: top;\n",
       "    }\n",
       "\n",
       "    .dataframe thead th {\n",
       "        text-align: right;\n",
       "    }\n",
       "</style>\n",
       "<table border=\"1\" class=\"dataframe\">\n",
       "  <thead>\n",
       "    <tr style=\"text-align: right;\">\n",
       "      <th></th>\n",
       "      <th>cv_1</th>\n",
       "      <th>cv_2</th>\n",
       "      <th>cv_3</th>\n",
       "      <th>cv_4</th>\n",
       "      <th>cv_5</th>\n",
       "      <th>cv_6</th>\n",
       "      <th>cv_7</th>\n",
       "      <th>cv_8</th>\n",
       "      <th>cv_9</th>\n",
       "      <th>cv_10</th>\n",
       "    </tr>\n",
       "  </thead>\n",
       "  <tbody>\n",
       "    <tr>\n",
       "      <th>alpha_1.0</th>\n",
       "      <td>0.675237</td>\n",
       "      <td>0.750982</td>\n",
       "      <td>0.683031</td>\n",
       "      <td>0.595101</td>\n",
       "      <td>0.659540</td>\n",
       "      <td>0.598377</td>\n",
       "      <td>0.682865</td>\n",
       "      <td>0.738677</td>\n",
       "      <td>0.485269</td>\n",
       "      <td>0.747822</td>\n",
       "    </tr>\n",
       "    <tr>\n",
       "      <th>alpha_0.1</th>\n",
       "      <td>0.506272</td>\n",
       "      <td>0.503749</td>\n",
       "      <td>0.503016</td>\n",
       "      <td>0.394606</td>\n",
       "      <td>0.376219</td>\n",
       "      <td>0.407406</td>\n",
       "      <td>0.475903</td>\n",
       "      <td>0.440981</td>\n",
       "      <td>0.296492</td>\n",
       "      <td>0.530057</td>\n",
       "    </tr>\n",
       "    <tr>\n",
       "      <th>alpha_0.01</th>\n",
       "      <td>0.485199</td>\n",
       "      <td>0.471334</td>\n",
       "      <td>0.514526</td>\n",
       "      <td>0.385448</td>\n",
       "      <td>0.358347</td>\n",
       "      <td>0.396209</td>\n",
       "      <td>0.465998</td>\n",
       "      <td>0.416036</td>\n",
       "      <td>0.299907</td>\n",
       "      <td>0.513615</td>\n",
       "    </tr>\n",
       "    <tr>\n",
       "      <th>alpha_0.001</th>\n",
       "      <td>0.484741</td>\n",
       "      <td>0.469622</td>\n",
       "      <td>0.515483</td>\n",
       "      <td>0.387617</td>\n",
       "      <td>0.359536</td>\n",
       "      <td>0.393819</td>\n",
       "      <td>0.466199</td>\n",
       "      <td>0.413356</td>\n",
       "      <td>0.300085</td>\n",
       "      <td>0.512591</td>\n",
       "    </tr>\n",
       "  </tbody>\n",
       "</table>\n",
       "</div>"
      ],
      "text/plain": [
       "                 cv_1      cv_2      cv_3      cv_4      cv_5      cv_6  \\\n",
       "alpha_1.0    0.675237  0.750982  0.683031  0.595101  0.659540  0.598377   \n",
       "alpha_0.1    0.506272  0.503749  0.503016  0.394606  0.376219  0.407406   \n",
       "alpha_0.01   0.485199  0.471334  0.514526  0.385448  0.358347  0.396209   \n",
       "alpha_0.001  0.484741  0.469622  0.515483  0.387617  0.359536  0.393819   \n",
       "\n",
       "                 cv_7      cv_8      cv_9     cv_10  \n",
       "alpha_1.0    0.682865  0.738677  0.485269  0.747822  \n",
       "alpha_0.1    0.475903  0.440981  0.296492  0.530057  \n",
       "alpha_0.01   0.465998  0.416036  0.299907  0.513615  \n",
       "alpha_0.001  0.466199  0.413356  0.300085  0.512591  "
      ]
     },
     "metadata": {},
     "output_type": "display_data"
    },
    {
     "name": "stdout",
     "output_type": "stream",
     "text": [
      "Error Cuadrático Medio:\n",
      "0.4143\n",
      "\n",
      "Error Medio Absoluto:\n",
      "0.3812\n",
      "\n",
      "R cuadrado:\n",
      "0.35\n"
     ]
    }
   ],
   "source": [
    "# Función auxiliar que genera un reporte de regularización\n",
    "afx.report_regularization(model_elastic, X_test, y_test, show_mse_cv = True)"
   ]
  },
  {
   "cell_type": "markdown",
   "metadata": {},
   "source": [
    "___\n",
    "* ¿Qué modelo presenta un mejor desempeño en base a las métricas?"
   ]
  },
  {
   "cell_type": "markdown",
   "metadata": {},
   "source": [
    "<div style='color: #004085; background-color: #cce5ff;border-color: #b8daff;border-radius: .25rem;padding: .75rem 1.25rem;'>\n",
    "Los 3 modelos presentan un $R^2$ igual a $0.35$, los cuales presentan poca explicación de la varianza de la variable dependiente.\n",
    "</div>"
   ]
  },
  {
   "cell_type": "markdown",
   "metadata": {},
   "source": [
    "<div style='color: #004085; background-color: #cce5ff;border-color: #b8daff;border-radius: .25rem;padding: .75rem 1.25rem;'>\n",
    "Los 3 modelos presentan un $MSE$ similar, no obstante el modelo regularizado mediante norma <strong>L1 (LassoCV)</strong> presenta el valor más bajo $0.414$, diferenciándose en las milésimas con los otros dos modelos (RidgeCV: 0.4145, ElasticNetCV: 0.4143).\n",
    "</div>"
   ]
  },
  {
   "cell_type": "markdown",
   "metadata": {},
   "source": [
    "<div style='color: #004085; background-color: #cce5ff;border-color: #b8daff;border-radius: .25rem;padding: .75rem 1.25rem;'>\n",
    "Los 3 modelos presentan un $MAE$ similar, no obstante el modelo regularizado mediante norma <strong>L2 (RidgeCV)</strong> presenta el valor más bajo $0.381$, diferenciándose en las milésimas con los otros dos modelos (LassoCV: 0.3816 y ElasticNetCV: 0.3812).\n",
    "</div>"
   ]
  },
  {
   "cell_type": "markdown",
   "metadata": {},
   "source": [
    "<div style='color: #854000; background-color: #ffe5e5;border-color: #ffdaff;border-radius: .25rem;padding: .75rem 1.25rem;'>\n",
    "Dado que no se logró encontrar un modelo sustancialmente mejor que otro, me veo en la necesidad de comparar las métricas con un modelo de Regresión Lineal estándar.\n",
    "</div>"
   ]
  },
  {
   "cell_type": "markdown",
   "metadata": {},
   "source": [
    "___\n",
    "### Regresión Lineal"
   ]
  },
  {
   "cell_type": "code",
   "execution_count": 25,
   "metadata": {},
   "outputs": [],
   "source": [
    "# Se importa libreria para modelo de regression Lineal (sin regularización)\n",
    "from sklearn.linear_model import LinearRegression"
   ]
  },
  {
   "cell_type": "code",
   "execution_count": 26,
   "metadata": {},
   "outputs": [],
   "source": [
    "model_lineal = LinearRegression().fit(X_train, y_train)"
   ]
  },
  {
   "cell_type": "code",
   "execution_count": 27,
   "metadata": {},
   "outputs": [],
   "source": [
    "yhat = model_lineal.predict(X_test)"
   ]
  },
  {
   "cell_type": "code",
   "execution_count": 28,
   "metadata": {},
   "outputs": [
    {
     "name": "stdout",
     "output_type": "stream",
     "text": [
      "Error Cuadrático Medio:\n",
      "0.4145\n",
      "\n",
      "Error Medio Absoluto:\n",
      "0.381\n",
      "\n",
      "R cuadrado:\n",
      "0.35\n"
     ]
    }
   ],
   "source": [
    "afx.report_scores_lineal(y_test, yhat)"
   ]
  },
  {
   "cell_type": "code",
   "execution_count": 29,
   "metadata": {},
   "outputs": [
    {
     "name": "stdout",
     "output_type": "stream",
     "text": [
      "Coeficientes finales:\n",
      "fixed acidity           0.090476\n",
      "volatile acidity       -0.207011\n",
      "citric acid            -0.063974\n",
      "residual sugar          0.042698\n",
      "chlorides              -0.094357\n",
      "free sulfur dioxide     0.025246\n",
      "total sulfur dioxide   -0.095558\n",
      "density                -0.070640\n",
      "pH                     -0.042055\n",
      "sulphates               0.165356\n",
      "alcohol                 0.275533\n",
      "dtype: float64\n"
     ]
    }
   ],
   "source": [
    "print(f\"Coeficientes finales:\\n{pd.Series(model_lineal.coef_, X_test.columns)}\")\n"
   ]
  },
  {
   "cell_type": "markdown",
   "metadata": {},
   "source": [
    "<div style='color: #004085; background-color: #cce5ff;border-color: #b8daff;border-radius: .25rem;padding: .75rem 1.25rem;'>\n",
    "Podemos observar que el modelo de Regresión Lineal sin regularización de parámetros tiene el mismo desempeño respecto a $R^2 = 0.35$.<br><br>\n",
    "Para el caso de $MSE = 0.4145$ y $MAE = 0.381$ se obtienen los mismos resultados que el modelo regularizado mediante norma <strong>L2 (RidgeCV)</strong>\n",
    "</div>"
   ]
  },
  {
   "cell_type": "markdown",
   "metadata": {},
   "source": [
    "___\n",
    "* ¿Qué atributos mantienen un comportamiento similar a lo largo de cada modelo?"
   ]
  },
  {
   "cell_type": "code",
   "execution_count": 30,
   "metadata": {},
   "outputs": [
    {
     "data": {
      "text/plain": [
       "<matplotlib.legend.Legend at 0x107cd6b10>"
      ]
     },
     "execution_count": 30,
     "metadata": {},
     "output_type": "execute_result"
    },
    {
     "data": {
      "image/png": "[encoded data removed]",
      "text/plain": [
       "<Figure size 720x432 with 1 Axes>"
      ]
     },
     "metadata": {},
     "output_type": "display_data"
    }
   ],
   "source": [
    "plt.plot(X_train.columns,model_ridge.coef_, 'go', label='RidgeCV')\n",
    "plt.tick_params(axis='x', rotation=30)\n",
    "plt.plot(model_lasso.coef_, 'bo', label='LassoCV')\n",
    "plt.plot(model_elastic.coef_, 'r--', label='ElasticNetCV')\n",
    "plt.plot(model_lineal.coef_, 'c--', label='Linear R')\n",
    "plt.legend(loc='lower right')"
   ]
  },
  {
   "cell_type": "markdown",
   "metadata": {},
   "source": [
    "<div style='color: #004085; background-color: #cce5ff;border-color: #b8daff;border-radius: .25rem;padding: .75rem 1.25rem;'>\n",
    "Podemos observar que los 4 modelos (incluímos el modelo de regresión lineal sin regularizar parámetros) presentan una estabilidad en los atributos, no obstante hay una mayor similitud en el comportamiento de los modelos RidgeCV y LinearRegression, como tambien entre el modelo LassoCV y ElasticNetCV.\n",
    "</div>"
   ]
  },
  {
   "cell_type": "code",
   "execution_count": 31,
   "metadata": {},
   "outputs": [
    {
     "data": {
      "text/plain": [
       "0.014302896494137527"
      ]
     },
     "execution_count": 31,
     "metadata": {},
     "output_type": "execute_result"
    }
   ],
   "source": [
    "# Distancia entre los coeficientes de modelo lasso y lineal\n",
    "np.sqrt(sum((model_lasso.coef_ - model_lineal.coef_)**2))"
   ]
  },
  {
   "cell_type": "code",
   "execution_count": 32,
   "metadata": {},
   "outputs": [
    {
     "data": {
      "text/plain": [
       "0.013880365350685571"
      ]
     },
     "execution_count": 32,
     "metadata": {},
     "output_type": "execute_result"
    }
   ],
   "source": [
    "# Distancia entre los coeficientes de modelo lasso y ridge\n",
    "np.sqrt(sum((model_lasso.coef_ - model_ridge.coef_)**2))"
   ]
  },
  {
   "cell_type": "code",
   "execution_count": 33,
   "metadata": {},
   "outputs": [
    {
     "data": {
      "text/plain": [
       "0.007337093834565567"
      ]
     },
     "execution_count": 33,
     "metadata": {},
     "output_type": "execute_result"
    }
   ],
   "source": [
    "# Distancia entre los coeficientes de modelo elastic y lineal\n",
    "np.sqrt(sum((model_elastic.coef_ - model_lineal.coef_)**2))"
   ]
  },
  {
   "cell_type": "code",
   "execution_count": 34,
   "metadata": {},
   "outputs": [
    {
     "data": {
      "text/plain": [
       "0.00698869945654568"
      ]
     },
     "execution_count": 34,
     "metadata": {},
     "output_type": "execute_result"
    }
   ],
   "source": [
    "# Distancia entre los coeficientes de modelo lasso y elastic\n",
    "np.sqrt(sum((model_lasso.coef_ - model_elastic.coef_)**2))"
   ]
  },
  {
   "cell_type": "code",
   "execution_count": 35,
   "metadata": {},
   "outputs": [
    {
     "data": {
      "text/plain": [
       "0.006892036058028167"
      ]
     },
     "execution_count": 35,
     "metadata": {},
     "output_type": "execute_result"
    }
   ],
   "source": [
    "# Distancia entre los coeficientes de modelo ridge y elastic\n",
    "np.sqrt(sum((model_ridge.coef_ - model_elastic.coef_)**2))"
   ]
  },
  {
   "cell_type": "code",
   "execution_count": 36,
   "metadata": {},
   "outputs": [
    {
     "data": {
      "text/plain": [
       "0.0008408073498503649"
      ]
     },
     "execution_count": 36,
     "metadata": {},
     "output_type": "execute_result"
    }
   ],
   "source": [
    "# Distancia entre los coeficientes de modelo ridge y lineal\n",
    "np.sqrt(sum((model_ridge.coef_ - model_lineal.coef_)**2))"
   ]
  },
  {
   "cell_type": "markdown",
   "metadata": {},
   "source": [
    "<div style='color: #004085; background-color: #cce5ff;border-color: #b8daff;border-radius: .25rem;padding: .75rem 1.25rem;'>\n",
    "Producto que en el gráfico no se logra identificar con claridad la similitud de los modelos se representó mediante una suma de distancias entre los coeficientes de cada modelo y se logró determinar que los RidgeCV y LinearRegression son los mas similares.\n",
    "</div>"
   ]
  }
 ],
 "metadata": {
  "kernelspec": {
   "display_name": "Python 3",
   "language": "python",
   "name": "python3"
  },
  "language_info": {
   "codemirror_mode": {
    "name": "ipython",
    "version": 3
   },
   "file_extension": ".py",
   "mimetype": "text/x-python",
   "name": "python",
   "nbconvert_exporter": "python",
   "pygments_lexer": "ipython3",
   "version": "3.7.4"
  }
 },
 "nbformat": 4,
 "nbformat_minor": 2
}
